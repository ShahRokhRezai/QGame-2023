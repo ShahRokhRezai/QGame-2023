{
 "cells": [
  {
   "cell_type": "code",
   "execution_count": 98,
   "id": "d75fcefc-eac2-4947-8d07-b5ea2f4d4682",
   "metadata": {
    "tags": []
   },
   "outputs": [],
   "source": [
    "exec(\"\\nfrom ipywidgets import widgets \\nfrom ipywidgets import Layout, HBox, VBox\\nfrom IPython.display import display\\n\\nclass Pixel():\\n    \\n    def __init__(self, layout):\\n        self._button = widgets.ToggleButton(description='',button_style='',layout=layout,disabled=True)\\n        \\n    def set_color(self,color):\\n        if color in ['grey','gray']:\\n            self._button.button_style = ''\\n        elif color=='green':\\n            self._button.button_style = 'success'\\n        elif color=='blue':\\n            self._button.button_style = 'info'\\n        elif color=='orange':\\n            self._button.button_style = 'warning'\\n        elif color=='red':\\n            self._button.button_style = 'danger'\\n            \\n    def set_brightness(self,bright):\\n        self._button.value = not bright\\n        \\n    def set_text(self,text):\\n        self._button.description = text\\n        \\n\\nclass JupyterWidgetEngine():\\n    \\n    def __init__(self,start,next_frame,L=8):\\n        \\n        self.next_frame = next_frame\\n        self.L = L\\n        \\n        width = int(50*8/L)\\n        wide = str(7*width+24)+'px'\\n        wider = str(L*width+(L-1)*4)+'px'\\n        width = str(width)+'px'\\n        height = width\\n        width = str(int(50*8/L))+'px'\\n\\n        layout = Layout(width=width, height=height)\\n\\n        screen = {}\\n        for x in range(L):\\n            for y in range(L):\\n                screen[x,y] = Pixel(layout)\\n        screen['text'] = Pixel(Layout(width=wider, height=height))\\n\\n        controller = {}\\n        controller['blank'] = widgets.ToggleButton(description='',button_style='',layout=layout)\\n        controller['up'] = widgets.ToggleButton(description='▲',button_style='',layout=layout)\\n        controller['down'] = widgets.ToggleButton(description='▼',button_style='',layout=layout)\\n        controller['left'] = widgets.ToggleButton(description='◀︎',button_style='',layout=layout)\\n        controller['right'] = widgets.ToggleButton(description='►',button_style='',layout=layout)\\n        controller['A'] = widgets.ToggleButton(description='A',button_style='',layout=layout)\\n        controller['B'] = widgets.ToggleButton(description='B',button_style='',layout=layout)\\n        controller['X'] = widgets.ToggleButton(description='X',button_style='',layout=layout)\\n        controller['Y'] = widgets.ToggleButton(description='Y',button_style='',layout=layout)\\n        controller['next'] = widgets.ToggleButton(description='Next',button_style='',layout=Layout(width=wide, height=height))\\n\\n        [b,u,d,l,r,A,B,X,Y,c] = [controller['blank'],\\n                             controller['up'],\\n                             controller['down'],\\n                             controller['left'],\\n                             controller['right'],\\n                             controller['A'],\\n                             controller['B'],\\n                             controller['X'],\\n                             controller['Y'],\\n                             controller['next']]\\n\\n\\n        interface = []\\n        interface.append( widgets.HBox([screen[x,0]._button for x in range(L)]+[b,u,b,b,b,X,b]) )\\n        interface.append( widgets.HBox([screen[x,1]._button for x in range(L)]+[l,b,r,b,Y,b,A]) )\\n        interface.append( widgets.HBox([screen[x,2]._button for x in range(L)]+[b,d,b,b,b,B,b]) )\\n        interface.append( widgets.HBox([screen[x,3]._button for x in range(L)]+[c]) )\\n        for y in range(4,L):\\n            interface.append( widgets.HBox([screen[x,y]._button for x in range(L)]) )\\n        interface.append( screen['text']._button )\\n            \\n        self.screen = screen\\n        self.controller = controller\\n            \\n        start(self)\\n            \\n        display(widgets.VBox(interface))\\n        \\n        b.observe(self.given_blank)\\n        \\n        for button in self.controller:\\n            if button!='blank':\\n                self.controller[button].observe(self.given_button)\\n        \\n        \\n\\n    def given_blank(self,obs_b):\\n        if self.controller['blank'].value:\\n            self.controller['blank'].value = False\\n    \\n\\n\\n    def given_button(self,obs_n):\\n\\n        for button in self.controller:\\n            if self.controller[button].value is True:\\n                self.next_frame(self)\\n\\n        for button in self.controller.values():\\n            button.value = False\\n            \\n\")"
   ]
  },
  {
   "cell_type": "code",
   "execution_count": 91,
   "id": "3d7ccbd2-ec1f-41a7-995c-f89d5823097a",
   "metadata": {
    "tags": []
   },
   "outputs": [
    {
     "data": {
      "application/vnd.jupyter.widget-view+json": {
       "model_id": "ea473d33969344428313bdcb47bcad36",
       "version_major": 2,
       "version_minor": 0
      },
      "text/plain": [
       "VBox(children=(HBox(children=(ToggleButton(value=False, button_style='success', disabled=True, layout=Layout(h…"
      ]
     },
     "metadata": {},
     "output_type": "display_data"
    }
   ],
   "source": [
    "# function called when setting up\n",
    "def start(engine):\n",
    "    # just move on to the first frame\n",
    "    next_frame(engine)\n",
    "\n",
    "# this is the function that does everything\n",
    "def next_frame (engine):\n",
    "    \n",
    "    # set all pixels to green\n",
    "    for x in range(engine.L):\n",
    "        for y in range(engine.L):\n",
    "            engine.screen[x,y].set_color('green')\n",
    "    \n",
    "# run the game for an 8x8 screen\n",
    "engine = JupyterWidgetEngine(start,next_frame,L=8)"
   ]
  },
  {
   "cell_type": "code",
   "execution_count": 92,
   "id": "152ce64a-e5bc-4d18-80f0-2d475a736711",
   "metadata": {
    "tags": []
   },
   "outputs": [
    {
     "data": {
      "application/vnd.jupyter.widget-view+json": {
       "model_id": "8045f2732207487aa518ea14023b6a33",
       "version_major": 2,
       "version_minor": 0
      },
      "text/plain": [
       "VBox(children=(HBox(children=(ToggleButton(value=False, button_style='success', disabled=True, layout=Layout(h…"
      ]
     },
     "metadata": {},
     "output_type": "display_data"
    }
   ],
   "source": [
    "# function called when setting up\n",
    "def start(engine):\n",
    "    \n",
    "    # set a parameter to keep track of the player pixel\n",
    "    engine.X = 1\n",
    "    engine.Y = 2\n",
    "    \n",
    "    # then move on to the first frame\n",
    "    next_frame(engine)\n",
    "\n",
    "# this is the function that does everything\n",
    "def next_frame (engine):\n",
    "    \n",
    "    # set all pixels to green\n",
    "    for x in range(engine.L):\n",
    "        for y in range(engine.L):\n",
    "            engine.screen[x,y].set_color('green')\n",
    "            \n",
    "    # draw the player pixel\n",
    "    engine.screen[engine.X,engine.Y].set_color('red')\n",
    "    \n",
    "# run the game\n",
    "engine = JupyterWidgetEngine(start,next_frame,L=8)"
   ]
  },
  {
   "cell_type": "code",
   "execution_count": 93,
   "id": "92d9f5f5-8a04-4f17-baa0-35d691e91344",
   "metadata": {
    "tags": []
   },
   "outputs": [
    {
     "data": {
      "application/vnd.jupyter.widget-view+json": {
       "model_id": "3cff42990cba426b8cbf70bdb204a8be",
       "version_major": 2,
       "version_minor": 0
      },
      "text/plain": [
       "VBox(children=(HBox(children=(ToggleButton(value=False, button_style='success', disabled=True, layout=Layout(h…"
      ]
     },
     "metadata": {},
     "output_type": "display_data"
    }
   ],
   "source": [
    "# this is the function that does everything\n",
    "def next_frame (engine):\n",
    "    \n",
    "    # change player position\n",
    "    if engine.controller['up'].value:\n",
    "        engine.Y -= 1\n",
    "    if engine.controller['down'].value:\n",
    "        engine.Y += 1\n",
    "    if engine.controller['right'].value:\n",
    "        engine.X += 1\n",
    "    if engine.controller['left'].value:\n",
    "        engine.X -= 1\n",
    "    \n",
    "    # set all pixels to green\n",
    "    for x in range(engine.L):\n",
    "        for y in range(engine.L):\n",
    "            engine.screen[x,y].set_color('green')\n",
    "            \n",
    "    # draw the player pixel\n",
    "    engine.screen[engine.X,engine.Y].set_color('red')\n",
    "    \n",
    "# run the game\n",
    "engine = JupyterWidgetEngine(start,next_frame,L=8)"
   ]
  },
  {
   "cell_type": "code",
   "execution_count": 94,
   "id": "ab604f3e-19b9-4a42-9e48-cc2ef5bc9d4c",
   "metadata": {
    "tags": []
   },
   "outputs": [
    {
     "data": {
      "application/vnd.jupyter.widget-view+json": {
       "model_id": "b4b452448d504699923a33a99d312bc7",
       "version_major": 2,
       "version_minor": 0
      },
      "text/plain": [
       "VBox(children=(HBox(children=(ToggleButton(value=False, button_style='success', disabled=True, layout=Layout(h…"
      ]
     },
     "metadata": {},
     "output_type": "display_data"
    }
   ],
   "source": [
    "# this is the function that does everything\n",
    "def next_frame (engine):\n",
    "    \n",
    "    # remove initial text\n",
    "    if engine.controller['A'].value:\n",
    "        engine.screen['text'].set_text('')\n",
    "    \n",
    "    # change player position\n",
    "    if engine.controller['up'].value:\n",
    "        engine.Y -= 1\n",
    "    if engine.controller['down'].value:\n",
    "        engine.Y += 1\n",
    "    if engine.controller['right'].value:\n",
    "        engine.X += 1\n",
    "    if engine.controller['left'].value:\n",
    "        engine.X -= 1\n",
    "    \n",
    "    # set all pixels to green\n",
    "    for x in range(engine.L):\n",
    "        for y in range(engine.L):\n",
    "            engine.screen[x,y].set_color('green')\n",
    "            \n",
    "    # draw the player pixel\n",
    "    Xs = engine.X%engine.L\n",
    "    Ys = engine.Y%engine.L\n",
    "    engine.screen[Xs,Ys].set_color('red')\n",
    "    \n",
    "# run the game\n",
    "engine = JupyterWidgetEngine(start,next_frame,L=8)"
   ]
  },
  {
   "cell_type": "code",
   "execution_count": 95,
   "id": "58e7d149-6416-42db-ac50-998e6ae84641",
   "metadata": {
    "tags": []
   },
   "outputs": [
    {
     "data": {
      "application/vnd.jupyter.widget-view+json": {
       "model_id": "a85aaf181a704541a932fc5bf5ed438f",
       "version_major": 2,
       "version_minor": 0
      },
      "text/plain": [
       "VBox(children=(HBox(children=(ToggleButton(value=False, button_style='success', disabled=True, layout=Layout(h…"
      ]
     },
     "metadata": {},
     "output_type": "display_data"
    }
   ],
   "source": [
    "import numpy as np\n",
    "\n",
    "def get_color(X,Y):\n",
    "    return 'green'\n",
    "\n",
    "# this is the function that does everything\n",
    "def next_frame (engine):\n",
    "    \n",
    "    # remove initial text\n",
    "    if engine.controller['A'].value:\n",
    "        engine.screen['text'].set_text('')\n",
    "    \n",
    "    # change player position\n",
    "    if engine.controller['up'].value:\n",
    "        engine.Y -= 1\n",
    "    if engine.controller['down'].value:\n",
    "        engine.Y += 1\n",
    "    if engine.controller['right'].value:\n",
    "        engine.X += 1\n",
    "    if engine.controller['left'].value:\n",
    "        engine.X -= 1\n",
    "    \n",
    "    # set all pixels to green\n",
    "    for x in range(engine.L):\n",
    "        for y in range(engine.L):\n",
    "            # get the 'world' coordinates X,Y from the onscreen coordinates x,y\n",
    "            X = np.floor(engine.X/engine.L)*engine.L+x\n",
    "            Y = np.floor(engine.Y/engine.L)*engine.L+y\n",
    "            # set it to whatever colour it should be\n",
    "            engine.screen[x,y].set_color(get_color(X,Y))\n",
    "            \n",
    "    # draw the player pixel\n",
    "    Xs = engine.X%engine.L\n",
    "    Ys = engine.Y%engine.L\n",
    "    engine.screen[Xs,Ys].set_color('red')\n",
    "    \n",
    "# run the game\n",
    "engine = JupyterWidgetEngine(start,next_frame,L=8)"
   ]
  },
  {
   "cell_type": "code",
   "execution_count": 96,
   "id": "856abcb1-6be2-4bd8-8a12-756ac4e78632",
   "metadata": {
    "tags": []
   },
   "outputs": [
    {
     "data": {
      "application/vnd.jupyter.widget-view+json": {
       "model_id": "02808816d83648c2ba20ef9ac3f006f5",
       "version_major": 2,
       "version_minor": 0
      },
      "text/plain": [
       "VBox(children=(HBox(children=(ToggleButton(value=False, button_style='success', disabled=True, layout=Layout(h…"
      ]
     },
     "metadata": {},
     "output_type": "display_data"
    }
   ],
   "source": [
    "def get_color(X,Y):\n",
    "    if X<12:\n",
    "        color = 'green'\n",
    "    else:\n",
    "        color = 'orange'\n",
    "    return color\n",
    "    \n",
    "# run the game\n",
    "engine = JupyterWidgetEngine(start,next_frame,L=8)"
   ]
  },
  {
   "cell_type": "code",
   "execution_count": 97,
   "id": "8fd0d1b9-7d6a-4759-80fb-84b86b2f22dd",
   "metadata": {
    "tags": []
   },
   "outputs": [],
   "source": [
    "from qiskit import QuantumCircuit\n",
    "from qiskit.quantum_info import Statevector"
   ]
  },
  {
   "cell_type": "code",
   "execution_count": 10,
   "id": "218db5dc-6688-49de-89e1-99f5d54393ed",
   "metadata": {
    "tags": []
   },
   "outputs": [
    {
     "name": "stdout",
     "output_type": "stream",
     "text": [
      "{'0': 0.5000000000000001, '1': 0.4999999999999999}\n"
     ]
    }
   ],
   "source": [
    "theta = np.pi/2\n",
    "\n",
    "qc = QuantumCircuit(1)\n",
    "qc.ry(theta,0)\n",
    "\n",
    "state = Statevector.from_instruction(qc)\n",
    "probs = state.probabilities_dict()\n",
    "\n",
    "print(probs)"
   ]
  },
  {
   "cell_type": "code",
   "execution_count": 11,
   "id": "c54e2550-64a0-4055-b47c-73a512e5f7b2",
   "metadata": {
    "tags": []
   },
   "outputs": [
    {
     "data": {
      "application/vnd.jupyter.widget-view+json": {
       "model_id": "054cae38811d4dfbba72c353e8d9e107",
       "version_major": 2,
       "version_minor": 0
      },
      "text/plain": [
       "VBox(children=(HBox(children=(ToggleButton(value=False, button_style='success', disabled=True, layout=Layout(h…"
      ]
     },
     "metadata": {},
     "output_type": "display_data"
    }
   ],
   "source": [
    "def get_color(X,Y):\n",
    "    \n",
    "    # set an angle for ry based on the coordinate\n",
    "    thet = X*(np.pi/16)\n",
    "    \n",
    "    # create and simulate the circuit\n",
    "    qc = QuantumCircuit(1)\n",
    "    qc.ry(theta,0)\n",
    "    state = Statevector.from_instruction(qc)\n",
    "    probs = state.probabilities_dict()\n",
    "    \n",
    "    # get the prob of '1'\n",
    "    if '1' in probs:\n",
    "        height = probs['1']\n",
    "    else:\n",
    "        height = 0\n",
    "    \n",
    "    # set colour accordingly\n",
    "    if height<0.1: # sea/river\n",
    "        color = 'blue'\n",
    "    elif height<0.3: # beach\n",
    "        color = 'orange'\n",
    "    elif height<0.9: # grass\n",
    "        color = 'green'\n",
    "    else: # mountain\n",
    "        color = 'grey'\n",
    "        \n",
    "    return color\n",
    "    \n",
    "# run the game\n",
    "engine = JupyterWidgetEngine(start,next_frame,L=8)"
   ]
  },
  {
   "cell_type": "code",
   "execution_count": 12,
   "id": "2857c40f-b202-4bee-b674-4527ccd1b223",
   "metadata": {
    "tags": []
   },
   "outputs": [
    {
     "data": {
      "application/vnd.jupyter.widget-view+json": {
       "model_id": "d2d273c91f804121b340603e1eedbbed",
       "version_major": 2,
       "version_minor": 0
      },
      "text/plain": [
       "VBox(children=(HBox(children=(ToggleButton(value=False, button_style='success', disabled=True, layout=Layout(h…"
      ]
     },
     "metadata": {},
     "output_type": "display_data"
    }
   ],
   "source": [
    "import random\n",
    "\n",
    "seed = [random.random() for _ in range(4)]\n",
    "\n",
    "def get_color(X,Y):\n",
    "    \n",
    "    qc = QuantumCircuit(1)\n",
    "\n",
    "    theta1 = (seed[0]*X+seed[1]*Y)*np.pi/16\n",
    "    theta2 = (seed[2]*X-seed[3]*Y)*np.pi/16\n",
    "    qc.ry(theta1,0)\n",
    "    qc.rx(theta2,0)\n",
    "\n",
    "    state = Statevector.from_instruction(qc)\n",
    "    probs = state.probabilities_dict()\n",
    "    \n",
    "    try:\n",
    "        height = probs['1']\n",
    "    except:\n",
    "        height = 0\n",
    "        \n",
    "    # set colour accordingly\n",
    "    if height<0.1: # sea/river\n",
    "        color = 'blue'\n",
    "    elif height<0.3: # beach\n",
    "        color = 'orange'\n",
    "    elif height<0.9: # grass\n",
    "        color = 'green'\n",
    "    else: # mountain\n",
    "        color = 'grey'\n",
    "        \n",
    "    return color\n",
    "\n",
    "# run the game\n",
    "engine = JupyterWidgetEngine(start,next_frame,L=8)"
   ]
  },
  {
   "cell_type": "code",
   "execution_count": 4,
   "id": "fd087f75-6e25-498d-ab53-5132af31369f",
   "metadata": {
    "tags": []
   },
   "outputs": [
    {
     "ename": "ModuleNotFoundError",
     "evalue": "No module named 'ibm_quantum_widgets'",
     "output_type": "error",
     "traceback": [
      "\u001b[0;31m---------------------------------------------------------------------------\u001b[0m",
      "\u001b[0;31mModuleNotFoundError\u001b[0m                       Traceback (most recent call last)",
      "\u001b[0;32m<ipython-input-4-7eb9ee370af2>\u001b[0m in \u001b[0;36m<module>\u001b[0;34m\u001b[0m\n\u001b[1;32m    104\u001b[0m \u001b[0mresult\u001b[0m \u001b[0;34m=\u001b[0m \u001b[0maer_simulator\u001b[0m\u001b[0;34m.\u001b[0m\u001b[0mrun\u001b[0m\u001b[0;34m(\u001b[0m\u001b[0mtranspiled_qc\u001b[0m\u001b[0;34m)\u001b[0m\u001b[0;34m.\u001b[0m\u001b[0mresult\u001b[0m\u001b[0;34m(\u001b[0m\u001b[0;34m)\u001b[0m\u001b[0;34m\u001b[0m\u001b[0;34m\u001b[0m\u001b[0m\n\u001b[1;32m    105\u001b[0m \u001b[0mplot_histogram\u001b[0m\u001b[0;34m(\u001b[0m\u001b[0mresult\u001b[0m\u001b[0;34m.\u001b[0m\u001b[0mget_counts\u001b[0m\u001b[0;34m(\u001b[0m\u001b[0;34m)\u001b[0m\u001b[0;34m)\u001b[0m\u001b[0;34m\u001b[0m\u001b[0;34m\u001b[0m\u001b[0m\n\u001b[0;32m--> 106\u001b[0;31m \u001b[0;32mfrom\u001b[0m \u001b[0mibm_quantum_widgets\u001b[0m \u001b[0;32mimport\u001b[0m \u001b[0mCircuitComposer\u001b[0m\u001b[0;34m\u001b[0m\u001b[0;34m\u001b[0m\u001b[0m\n\u001b[0m\u001b[1;32m    107\u001b[0m \u001b[0;32mimport\u001b[0m \u001b[0mnumpy\u001b[0m \u001b[0;32mas\u001b[0m \u001b[0mnp\u001b[0m\u001b[0;34m\u001b[0m\u001b[0;34m\u001b[0m\u001b[0m\n\u001b[1;32m    108\u001b[0m \u001b[0;32mfrom\u001b[0m \u001b[0mnumpy\u001b[0m \u001b[0;32mimport\u001b[0m \u001b[0mpi\u001b[0m\u001b[0;34m\u001b[0m\u001b[0;34m\u001b[0m\u001b[0m\n",
      "\u001b[0;31mModuleNotFoundError\u001b[0m: No module named 'ibm_quantum_widgets'"
     ]
    }
   ],
   "source": [
    "from qiskit import QuantumRegister, ClassicalRegister\n",
    "from qiskit import Aer, transpile, assemble\n",
    "from qiskit.visualization import plot_histogram\n",
    "import numpy as np\n",
    "from qiskit.visualization import circuit_drawer\n",
    "\n",
    "# Define Quantum and Classical Registers\n",
    "\n",
    "var_qubits = QuantumRegister(4, name='v')\n",
    "clause_qubits = QuantumRegister(4, name='c')\n",
    "output_qubit = QuantumRegister(1, name='out')\n",
    "cbits = ClassicalRegister(4, name='cbits')\n",
    "qc = QuantumCircuit(var_qubits, clause_qubits, output_qubit, cbits)\n",
    "# Known qubits\n",
    "# Case 1: no knwon values => 2 possible solutions: 0110 and 1001\n",
    "known_qubits = {}\n",
    "# Case 2: v₃ = 1 => only one solution 0110\n",
    "known_qubits = {3: True}\n",
    "\n",
    "# List of quibits which values are being calculated\n",
    "unknown_qubits = [x for x in range(len(var_qubits)) if x not in known_qubits]\n",
    "# Initialize 'out0' in state |->\n",
    "qc.initialize([1, -1]/np.sqrt(2), output_qubit)\n",
    "\n",
    "# Initialize qubits in state |s>\n",
    "for index, var_qubit in enumerate(var_qubits):\n",
    "    if index in known_qubits:\n",
    "        # qubits are in |0> state by dafault\n",
    "        # if known_qubits[index] = 1, we switch qubit to |1>\n",
    "        # using a not gate (qc.x)\n",
    "        if known_qubits[index]:\n",
    "            qc.x(index)\n",
    "    if index in unknown_qubits:\n",
    "        # qubit initialized in the |+> state with an Hadamard gate (qc.h)\n",
    "        qc.h(var_qubit)\n",
    "def XOR(qc, a, b, output):\n",
    "    qc.cx(a, output)\n",
    "    qc.cx(b, output)\n",
    "    clause_list = [(0, 1), (0, 2), (1, 3), (2, 3)]\n",
    "\n",
    "def sudoku_oracle(qc, clause_list, clause_qubits):\n",
    "    # Compute clauses\n",
    "    i = 0\n",
    "    for clause in clause_list:\n",
    "        XOR(qc, clause[0], clause[1], clause_qubits[i])\n",
    "        i += 1\n",
    "\n",
    "    # Flip 'output' bit if all clauses are satisfied\n",
    "    qc.mct(clause_qubits, output_qubit)\n",
    "\n",
    "    # Uncompute clauses to reset clause-checking bits to 0\n",
    "    i = 0\n",
    "    for clause in clause_list:\n",
    "        XOR(qc, clause[0], clause[1], clause_qubits[i])\n",
    "        i += 1\n",
    "def diffuser(value_qubits_number, unknown_qubits):\n",
    "    qc = QuantumCircuit(value_qubits_number)\n",
    "    # Apply transformation |s> -> |00..0> (H-gates)\n",
    "    for qubit in unknown_qubits:\n",
    "        qc.h(qubit)\n",
    "\n",
    "    # Apply transformation |00..0> -> |11..1> (X-gates)\n",
    "    for qubit in unknown_qubits:\n",
    "        qc.x(qubit)\n",
    "\n",
    "    # Do multi-controlled-Z gate\n",
    "    qc.h(value_qubits_number - 1)\n",
    "    qc.mct(unknown_qubits[:-1], value_qubits_number - 1)  # multi-controlled-toffoli\n",
    "    qc.h(value_qubits_number - 1)\n",
    "\n",
    "    # Apply transformation |11..1> -> |00..0>\n",
    "    for qubit in unknown_qubits:\n",
    "        qc.x(qubit)\n",
    "\n",
    "    # Apply transformation |00..0> -> |s>\n",
    "    for qubit in unknown_qubits:\n",
    "        qc.h(qubit)\n",
    "\n",
    "    # We will return the diffuser as a gate\n",
    "    U_s = qc.to_gate()\n",
    "    U_s.name = \"U$_s$\"\n",
    "    return U_s\n",
    "    ## First Iteration\n",
    "# Apply our oracle\n",
    "clause_list = [(0, 1), (0, 2), (1, 3), (2, 3)]\n",
    "sudoku_oracle(qc, clause_list, clause_qubits)\n",
    "qc.barrier()  # for visual separation\n",
    "# Apply our diffuser\n",
    "qc.append(diffuser(len(var_qubits), unknown_qubits), [0,1,2,3])\n",
    "\n",
    "## Second Iteration\n",
    "sudoku_oracle(qc, clause_list, clause_qubits)\n",
    "qc.barrier()  # for visual separation\n",
    "# Apply our diffuser\n",
    "qc.append(diffuser(len(var_qubits), unknown_qubits), [0,1,2,3])\n",
    "\n",
    "# Measure the variable qubits\n",
    "qc.measure(var_qubits, cbits)\n",
    "\n",
    "qc.draw(fold=-1)\n",
    "# Simulate and plot results\n",
    "aer_simulator = Aer.get_backend('aer_simulator')\n",
    "transpiled_qc = transpile(qc, aer_simulator)\n",
    "result = aer_simulator.run(transpiled_qc).result()\n",
    "plot_histogram(result.get_counts())\n",
    "from ibm_quantum_widgets import CircuitComposer\n",
    "import numpy as np\n",
    "from numpy import pi\n",
    "from qiskit import Aer, ClassicalRegister, QuantumCircuit, QuantumRegister, assemble, transpile\n",
    "from qiskit.visualization import plot_histogram\n",
    "\n",
    "def sudoku_oracle(qc, clause_list, clause_qubits):\n",
    "    # Compute clauses\n",
    "    i = 0\n",
    "    for clause in clause_list:\n",
    "        XOR(qc, clause[0], clause[1], clause_qubits[i])\n",
    "        i += 1\n",
    "\n",
    "    # Flip 'output' bit if all clauses are satisfied\n",
    "    qc.mct(clause_qubits, output_qubit)\n",
    "\n",
    "    # Uncompute clauses to reset clause-checking bits to 0\n",
    "    i = 0\n",
    "    for clause in clause_list:\n",
    "        XOR(qc, clause[0], clause[1], clause_qubits[i])\n",
    "        i += 1\n",
    "\n",
    "clause_list = [[0,1],\n",
    "               [0,2],\n",
    "               [1,3],\n",
    "               [2,3]]\n",
    "\n",
    "def XOR(qc, a, b, output):\n",
    "    qc.cx(a, output)\n",
    "    qc.cx(b, output)\n",
    "\n",
    "def diffuser(value_qubits, qubits):\n",
    "    qc = QuantumCircuit(value_qubits)\n",
    "    # Apply transformation |s> -> |00..0> (H-gates)\n",
    "    for qubit in qubits:\n",
    "        qc.h(qubit)\n",
    "    # Apply transformation |00..0> -> |11..1> (X-gates)\n",
    "    for qubit in qubits:\n",
    "        qc.x(qubit)\n",
    "    # Do multi-controlled-Z gate\n",
    "    qc.h(value_qubits - 1)\n",
    "    qc.mct(qubits[:-1], value_qubits - 1)  # multi-controlled-toffoli\n",
    "    qc.h(value_qubits - 1)\n",
    "    # Apply transformation |11..1> -> |00..0>\n",
    "    for qubit in qubits:\n",
    "        qc.x(qubit)\n",
    "    # Apply transformation |00..0> -> |s>\n",
    "    for qubit in qubits:\n",
    "        qc.h(qubit)\n",
    "    # We will return the diffuser as a gate\n",
    "    U_s = qc.to_gate()\n",
    "    U_s.name = \"U$_s$\"\n",
    "    return U_s\n",
    "\n",
    "value_qubits = 4\n",
    "clause_number = len(clause_list)\n",
    "var_qubits = QuantumRegister(value_qubits, name='v')\n",
    "clause_qubits = QuantumRegister(clause_number, name='c')\n",
    "output_qubit = QuantumRegister(1, name='out')\n",
    "cbits = ClassicalRegister(value_qubits, name='cbits')\n",
    "qc = QuantumCircuit(var_qubits, clause_qubits, output_qubit, cbits)\n",
    "\n",
    "# Known qubits\n",
    "# Case 1: no knwon values\n",
    "known_qubits = {}\n",
    "# Case 2: v₂ = 1\n",
    "known_qubits = {2: True}\n",
    "\n",
    "# List of quibits whose values we are calculating\n",
    "unknown_qubits = [x for x in range(value_qubits) if x not in known_qubits]\n",
    "\n",
    "# Initialize 'out0' in state |->\n",
    "qc.initialize([1, -1]/np.sqrt(2), output_qubit)\n",
    "\n",
    "# Initialize qubits in state |s>\n",
    "for index, var_qubit in enumerate(var_qubits):\n",
    "    if index in known_qubits:\n",
    "        if known_qubits[index]:\n",
    "            qc.x(index)\n",
    "    if index in unknown_qubits:\n",
    "        qc.h(var_qubit)\n",
    "\n",
    "qc.barrier()  # for visual separation\n",
    "\n",
    "## First Iteration\n",
    "# Apply our oracle\n",
    "sudoku_oracle(qc, clause_list, clause_qubits)\n",
    "qc.barrier()  # for visual separation\n",
    "# Apply our diffuser\n",
    "qc.append(diffuser(value_qubits, unknown_qubits), [0,1,2,3])\n",
    "\n",
    "## Second Iteration\n",
    "sudoku_oracle(qc, clause_list, clause_qubits)\n",
    "qc.barrier()  # for visual separation\n",
    "# Apply our diffuser\n",
    "qc.append(diffuser(value_qubits, unknown_qubits), [0,1,2,3])\n",
    "\n",
    "# Measure the variable qubits\n",
    "qc.measure(var_qubits, cbits)\n",
    "\n",
    "# Simulate and plot results\n",
    "aer_simulator = Aer.get_backend('aer_simulator')\n",
    "transpiled_qc = transpile(qc, aer_simulator)\n",
    "result = aer_simulator.run(transpiled_qc).result()\n",
    "plot_histogram(result.get_counts())"
   ]
  },
  {
   "cell_type": "markdown",
   "id": "845f8f46",
   "metadata": {},
   "source": [
    "## Updated code"
   ]
  },
  {
   "cell_type": "code",
   "execution_count": 1,
   "id": "1eca2361",
   "metadata": {},
   "outputs": [
    {
     "data": {
      "image/png": "[encoded data removed]",
      "text/plain": [
       "<Figure size 504x360 with 1 Axes>"
      ]
     },
     "execution_count": 1,
     "metadata": {},
     "output_type": "execute_result"
    }
   ],
   "source": [
    "from qiskit import QuantumCircuit, QuantumRegister, ClassicalRegister, execute, Aer, transpile\n",
    "from qiskit.providers.aer.noise import NoiseModel, pauli_error\n",
    "from qiskit.visualization import plot_histogram\n",
    "import numpy as np\n",
    "\n",
    "# Define Quantum and Classical Registers\n",
    "var_qubits = QuantumRegister(4, name='v')\n",
    "clause_qubits = QuantumRegister(4, name='c')\n",
    "output_qubit = QuantumRegister(1, name='out')\n",
    "ancilla = QuantumRegister(2, 'ancilla')  # Added ancilla for error correction\n",
    "creg = ClassicalRegister(4, name='cbits')\n",
    "qc = QuantumCircuit(var_qubits, clause_qubits, output_qubit, ancilla, creg)\n",
    "\n",
    "# Model noise using Qiskit's NoiseModel\n",
    "noise_model = NoiseModel()\n",
    "one_qubit_error = pauli_error([('X', 0.02), ('I', 0.98)])\n",
    "two_qubit_error = pauli_error([('X', 0.02), ('I', 0.98)]).tensor(pauli_error([('X', 0.02), ('I', 0.98)]))\n",
    "\n",
    "noise_model.add_all_qubit_quantum_error(one_qubit_error, ['h', 'rz'])\n",
    "noise_model.add_all_qubit_quantum_error(two_qubit_error, ['cx', 'cz'])\n",
    "\n",
    "# Initialization and known qubits\n",
    "known_qubits = {}  # Example case: no known values\n",
    "unknown_qubits = [i for i in range(4) if i not in known_qubits]\n",
    "\n",
    "# Initialize 'out' qubit\n",
    "qc.initialize([1, -1]/np.sqrt(2), output_qubit)\n",
    "\n",
    "# Initialize variable qubits and apply entanglement\n",
    "for index, var_qubit in enumerate(var_qubits):\n",
    "    if index in known_qubits:\n",
    "        if known_qubits[index]:\n",
    "            qc.x(index)\n",
    "    if index in unknown_qubits:\n",
    "        qc.h(var_qubit)\n",
    "        if index < 3:\n",
    "            qc.cx(var_qubit, var_qubits[index + 1])\n",
    "            qc.rz(np.pi / 4, var_qubit)\n",
    "            qc.rz(np.pi / 4, var_qubits[index + 1])\n",
    "            qc.cz(var_qubit, var_qubits[index + 1])\n",
    "\n",
    "# Error Correction: Applying CX gates\n",
    "for i in range(0, 4, 2):\n",
    "    qc.cx(var_qubits[i], ancilla[0])\n",
    "    qc.cx(var_qubits[i + 1], ancilla[0])\n",
    "\n",
    "    qc.cx(var_qubits[i], ancilla[1])\n",
    "    qc.cx(var_qubits[i + 1], ancilla[1])\n",
    "\n",
    "    qc.ccx(ancilla[0], ancilla[1], var_qubits[i])\n",
    "    qc.ccx(ancilla[0], ancilla[1], var_qubits[i + 1])\n",
    "\n",
    "# Define XOR function to check each clause\n",
    "def xor(qc, q1, q2, output):\n",
    "    qc.cx(q1, output)\n",
    "    qc.cx(q2, output)\n",
    "\n",
    "# Define the Sudoku Oracle\n",
    "def sudoku_oracle(qc, clause_list, clause_qubits):\n",
    "    for clause in clause_list:\n",
    "        xor(qc, *clause[:-1], clause[-1])\n",
    "        \n",
    "    # Flip the 'out' qubit if all clauses are satisfied\n",
    "    qc.mct(clause_qubits, output_qubit)\n",
    "\n",
    "    # Uncompute clause checks to reset clause-checking qubits to 0\n",
    "    for clause in reversed(clause_list):\n",
    "        xor(qc, *clause[:-1], clause[-1])\n",
    "\n",
    "# Define a diffuser for n qubits\n",
    "def diffuser(n, unknown_qubits):\n",
    "    qc = QuantumCircuit(n)\n",
    "    for qubit in unknown_qubits:\n",
    "        qc.h(qubit)\n",
    "        qc.x(qubit)\n",
    "    qc.h(unknown_qubits[-1])\n",
    "    qc.mct(unknown_qubits[:-1], unknown_qubits[-1])\n",
    "    qc.h(unknown_qubits[-1])\n",
    "    for qubit in unknown_qubits:\n",
    "        qc.x(qubit)\n",
    "        qc.h(qubit)\n",
    "    U_s = qc.to_gate()\n",
    "    U_s.name = \"Diffuser\"\n",
    "    return U_s\n",
    "\n",
    "# Example clause list: 0 and 1 should not be the same, 2 and 3 should not be the same\n",
    "clause_list = [(var_qubits[0], var_qubits[1], clause_qubits[0]), \n",
    "               (var_qubits[2], var_qubits[3], clause_qubits[1])]\n",
    "\n",
    "# Example usage of oracle and other components\n",
    "sudoku_oracle(qc, clause_list, clause_qubits)\n",
    "qc.barrier()  # for visual separation\n",
    "# Apply the diffuser\n",
    "qc.append(diffuser(4, unknown_qubits), [0, 1, 2, 3])\n",
    "\n",
    "# Final measurement\n",
    "qc.measure(var_qubits, creg)\n",
    "\n",
    "# Simulation with noise\n",
    "backend = Aer.get_backend('qasm_simulator')\n",
    "transpiled_qc = transpile(qc, backend)\n",
    "result = backend.run(transpiled_qc, noise_model=noise_model).result()\n",
    "counts = result.get_counts()\n",
    "plot_histogram(counts)"
   ]
  },
  {
   "cell_type": "code",
   "execution_count": null,
   "id": "ab4f5d91",
   "metadata": {},
   "outputs": [],
   "source": []
  }
 ],
 "metadata": {
  "kernelspec": {
   "display_name": "Python 3",
   "language": "python",
   "name": "python3"
  },
  "language_info": {
   "codemirror_mode": {
    "name": "ipython",
    "version": 3
   },
   "file_extension": ".py",
   "mimetype": "text/x-python",
   "name": "python",
   "nbconvert_exporter": "python",
   "pygments_lexer": "ipython3",
   "version": "3.8.8"
  },
  "widgets": {
   "application/vnd.jupyter.widget-state+json": {
    "state": {
     "00076996f6e240af8c4056e97256f241": {
      "model_module": "@jupyter-widgets/controls",
      "model_module_version": "2.0.0",
      "model_name": "ToggleButtonStyleModel",
      "state": {
       "description_width": "",
       "font_family": null,
       "font_size": null,
       "font_style": null,
       "font_variant": null,
       "font_weight": null,
       "text_color": null,
       "text_decoration": null
      }
     },
     "000b368d778847dbac86278a595f7244": {
      "model_module": "@jupyter-widgets/controls",
      "model_module_version": "2.0.0",
      "model_name": "ToggleButtonStyleModel",
      "state": {
       "description_width": "",
       "font_family": null,
       "font_size": null,
       "font_style": null,
       "font_variant": null,
       "font_weight": null,
       "text_color": null,
       "text_decoration": null
      }
     },
     "00178308ec674f099354a92adfa95ea0": {
      "model_module": "@jupyter-widgets/controls",
      "model_module_version": "2.0.0",
      "model_name": "ToggleButtonStyleModel",
      "state": {
       "description_width": "",
       "font_family": null,
       "font_size": null,
       "font_style": null,
       "font_variant": null,
       "font_weight": null,
       "text_color": null,
       "text_decoration": null
      }
     },
     "008d14f44f5948cc9dfeaa98112af31f": {
      "model_module": "@jupyter-widgets/controls",
      "model_module_version": "2.0.0",
      "model_name": "ToggleButtonModel",
      "state": {
       "button_style": "success",
       "disabled": true,
       "layout": "IPY_MODEL_3831200db05b4a7986a2bfa009c0e327",
       "style": "IPY_MODEL_f88eefbc6f8e448cb96b07e886ae690d",
       "tooltip": null
      }
     },
     "0090e56f415f415ebfc2711b2158466d": {
      "model_module": "@jupyter-widgets/controls",
      "model_module_version": "2.0.0",
      "model_name": "ToggleButtonModel",
      "state": {
       "button_style": "success",
       "disabled": true,
       "layout": "IPY_MODEL_58452c5b934e45b59b40dbda05b4d47c",
       "style": "IPY_MODEL_79496b0d30e547868a085578d7fff3b9",
       "tooltip": null
      }
     },
     "00bcc06b11b449c8a306dffbe2e99ea9": {
      "model_module": "@jupyter-widgets/controls",
      "model_module_version": "2.0.0",
      "model_name": "ToggleButtonStyleModel",
      "state": {
       "description_width": "",
       "font_family": null,
       "font_size": null,
       "font_style": null,
       "font_variant": null,
       "font_weight": null,
       "text_color": null,
       "text_decoration": null
      }
     },
     "00f010ce06ed45809f273aa7d0ef64e6": {
      "model_module": "@jupyter-widgets/controls",
      "model_module_version": "2.0.0",
      "model_name": "ToggleButtonModel",
      "state": {
       "button_style": "success",
       "disabled": true,
       "layout": "IPY_MODEL_2d2b7c3a0e0b4e2ea0528a045ba78de4",
       "style": "IPY_MODEL_de690d75a58549e597f120afe3d4337c",
       "tooltip": null
      }
     },
     "012fe46d56ad48fb918193367e0e4cd6": {
      "model_module": "@jupyter-widgets/base",
      "model_module_version": "2.0.0",
      "model_name": "LayoutModel",
      "state": {}
     },
     "0183291e7dfc425db5706c286a395f3f": {
      "model_module": "@jupyter-widgets/controls",
      "model_module_version": "2.0.0",
      "model_name": "ToggleButtonStyleModel",
      "state": {
       "description_width": "",
       "font_family": null,
       "font_size": null,
       "font_style": null,
       "font_variant": null,
       "font_weight": null,
       "text_color": null,
       "text_decoration": null
      }
     },
     "01c872a792b34700a76870fda7241e51": {
      "model_module": "@jupyter-widgets/controls",
      "model_module_version": "2.0.0",
      "model_name": "ToggleButtonModel",
      "state": {
       "button_style": "warning",
       "disabled": true,
       "layout": "IPY_MODEL_9c61bb957f7c4a25976dcbd6e83798b8",
       "style": "IPY_MODEL_38caf63cc1e245599b9f9f9b829e1762",
       "tooltip": null
      }
     },
     "01dabca4ea614d9f8cb76f07955fd7f7": {
      "model_module": "@jupyter-widgets/controls",
      "model_module_version": "2.0.0",
      "model_name": "ToggleButtonStyleModel",
      "state": {
       "description_width": "",
       "font_family": null,
       "font_size": null,
       "font_style": null,
       "font_variant": null,
       "font_weight": null,
       "text_color": null,
       "text_decoration": null
      }
     },
     "02b9544af6ca4119bcd165e64d5acf3a": {
      "model_module": "@jupyter-widgets/controls",
      "model_module_version": "2.0.0",
      "model_name": "ToggleButtonModel",
      "state": {
       "description": "Y",
       "layout": "IPY_MODEL_cbb007f4b9644615acf96a9592fe5eea",
       "style": "IPY_MODEL_a1e5dfea56774c89ba7d4ab5d9565f48",
       "tooltip": null
      }
     },
     "02f97a3f2ca549a9b6365b45bdf733a7": {
      "model_module": "@jupyter-widgets/controls",
      "model_module_version": "2.0.0",
      "model_name": "ToggleButtonModel",
      "state": {
       "button_style": "success",
       "disabled": true,
       "layout": "IPY_MODEL_58452c5b934e45b59b40dbda05b4d47c",
       "style": "IPY_MODEL_9f5f6bb5826b495f8e923917d772f34a",
       "tooltip": null
      }
     },
     "0326e52507724f16bc92d698b12cfb44": {
      "model_module": "@jupyter-widgets/controls",
      "model_module_version": "2.0.0",
      "model_name": "ToggleButtonStyleModel",
      "state": {
       "description_width": "",
       "font_family": null,
       "font_size": null,
       "font_style": null,
       "font_variant": null,
       "font_weight": null,
       "text_color": null,
       "text_decoration": null
      }
     },
     "0372b8a52c7443a091f7444445bc4e77": {
      "model_module": "@jupyter-widgets/controls",
      "model_module_version": "2.0.0",
      "model_name": "ToggleButtonStyleModel",
      "state": {
       "description_width": "",
       "font_family": null,
       "font_size": null,
       "font_style": null,
       "font_variant": null,
       "font_weight": null,
       "text_color": null,
       "text_decoration": null
      }
     },
     "03d760219daf4bc1b9d0c6323c61157d": {
      "model_module": "@jupyter-widgets/controls",
      "model_module_version": "2.0.0",
      "model_name": "ToggleButtonStyleModel",
      "state": {
       "description_width": "",
       "font_family": null,
       "font_size": null,
       "font_style": null,
       "font_variant": null,
       "font_weight": null,
       "text_color": null,
       "text_decoration": null
      }
     },
     "03e6e3d15803425a87f479c46474e535": {
      "model_module": "@jupyter-widgets/controls",
      "model_module_version": "2.0.0",
      "model_name": "ToggleButtonModel",
      "state": {
       "button_style": "success",
       "disabled": true,
       "layout": "IPY_MODEL_2d2b7c3a0e0b4e2ea0528a045ba78de4",
       "style": "IPY_MODEL_e958c684a96744fa82ec5d38a80aa8da",
       "tooltip": null
      }
     },
     "03fe5efca2c9466ba043f655d3388606": {
      "model_module": "@jupyter-widgets/controls",
      "model_module_version": "2.0.0",
      "model_name": "HBoxModel",
      "state": {
       "children": [
        "IPY_MODEL_a3db130afbc945a08190a33f492f7741",
        "IPY_MODEL_667d1b635b084fd8a9c62a68fae7c9f2",
        "IPY_MODEL_c1da18131a094fb3af3c197cbe95fce7",
        "IPY_MODEL_5af94e2658784ac1aa4c3e92581f5806",
        "IPY_MODEL_5c493f6d105d4d589468786ec2db941d",
        "IPY_MODEL_64e1bbbd2e1643f89540bd5b10208b81",
        "IPY_MODEL_8892e3823bd6413e92c2a70fffe1046f",
        "IPY_MODEL_1dd78c9987354a90b90ab14648b21288",
        "IPY_MODEL_b77349f0371f4f2e8301a02bf4e22d50"
       ],
       "layout": "IPY_MODEL_769db8ccf99c480c81e192ed4518ccb0"
      }
     },
     "04176c10ac104ae6b56fa761cbb8e9b8": {
      "model_module": "@jupyter-widgets/controls",
      "model_module_version": "2.0.0",
      "model_name": "ToggleButtonStyleModel",
      "state": {
       "description_width": "",
       "font_family": null,
       "font_size": null,
       "font_style": null,
       "font_variant": null,
       "font_weight": null,
       "text_color": null,
       "text_decoration": null
      }
     },
     "0462ab173edb46699e216091942ff905": {
      "model_module": "@jupyter-widgets/base",
      "model_module_version": "2.0.0",
      "model_name": "LayoutModel",
      "state": {}
     },
     "046d181eba384b9fa9dff4c461044b0a": {
      "model_module": "@jupyter-widgets/controls",
      "model_module_version": "2.0.0",
      "model_name": "ToggleButtonStyleModel",
      "state": {
       "description_width": "",
       "font_family": null,
       "font_size": null,
       "font_style": null,
       "font_variant": null,
       "font_weight": null,
       "text_color": null,
       "text_decoration": null
      }
     },
     "0471c9a43a2548a495006bf783dcb1b9": {
      "model_module": "@jupyter-widgets/controls",
      "model_module_version": "2.0.0",
      "model_name": "ToggleButtonModel",
      "state": {
       "button_style": "success",
       "disabled": true,
       "layout": "IPY_MODEL_58452c5b934e45b59b40dbda05b4d47c",
       "style": "IPY_MODEL_ee069df586954004ac2be22d29f982ea",
       "tooltip": null
      }
     },
     "0489fd45333447d18d59c6aa2facf4dd": {
      "model_module": "@jupyter-widgets/controls",
      "model_module_version": "2.0.0",
      "model_name": "ToggleButtonStyleModel",
      "state": {
       "description_width": "",
       "font_family": null,
       "font_size": null,
       "font_style": null,
       "font_variant": null,
       "font_weight": null,
       "text_color": null,
       "text_decoration": null
      }
     },
     "04954aa3c218478ca35d4e565a9fa9d8": {
      "model_module": "@jupyter-widgets/controls",
      "model_module_version": "2.0.0",
      "model_name": "ToggleButtonStyleModel",
      "state": {
       "description_width": "",
       "font_family": null,
       "font_size": null,
       "font_style": null,
       "font_variant": null,
       "font_weight": null,
       "text_color": null,
       "text_decoration": null
      }
     },
     "04f3ba096a8e4af689aa469def13e2e9": {
      "model_module": "@jupyter-widgets/controls",
      "model_module_version": "2.0.0",
      "model_name": "ToggleButtonStyleModel",
      "state": {
       "description_width": "",
       "font_family": null,
       "font_size": null,
       "font_style": null,
       "font_variant": null,
       "font_weight": null,
       "text_color": null,
       "text_decoration": null
      }
     },
     "054ca6c16ebe4ec39db10eef96d21a3b": {
      "model_module": "@jupyter-widgets/controls",
      "model_module_version": "2.0.0",
      "model_name": "ToggleButtonStyleModel",
      "state": {
       "description_width": "",
       "font_family": null,
       "font_size": null,
       "font_style": null,
       "font_variant": null,
       "font_weight": null,
       "text_color": null,
       "text_decoration": null
      }
     },
     "0563703503aa4348809151f7ee430790": {
      "model_module": "@jupyter-widgets/base",
      "model_module_version": "2.0.0",
      "model_name": "LayoutModel",
      "state": {}
     },
     "05c55905e9e8440e9dcefced8bcb112e": {
      "model_module": "@jupyter-widgets/controls",
      "model_module_version": "2.0.0",
      "model_name": "ToggleButtonModel",
      "state": {
       "description": "X",
       "layout": "IPY_MODEL_3831200db05b4a7986a2bfa009c0e327",
       "style": "IPY_MODEL_fd8a8bda4fe44f19a8b82f4f7a8290c9",
       "tooltip": null
      }
     },
     "060f1837b786483facac64288ba74adb": {
      "model_module": "@jupyter-widgets/controls",
      "model_module_version": "2.0.0",
      "model_name": "ToggleButtonModel",
      "state": {
       "button_style": "success",
       "disabled": true,
       "layout": "IPY_MODEL_9aa0b8d99486437599924f0fdf1f9e8b",
       "style": "IPY_MODEL_0b7f0de7d9804ca484a07ce81659d468",
       "tooltip": null
      }
     },
     "063eb47ed7d9485c825e4524c2067f76": {
      "model_module": "@jupyter-widgets/controls",
      "model_module_version": "2.0.0",
      "model_name": "ToggleButtonStyleModel",
      "state": {
       "description_width": "",
       "font_family": null,
       "font_size": null,
       "font_style": null,
       "font_variant": null,
       "font_weight": null,
       "text_color": null,
       "text_decoration": null
      }
     },
     "0655aab814824f0a86968f885d9e075e": {
      "model_module": "@jupyter-widgets/controls",
      "model_module_version": "2.0.0",
      "model_name": "ToggleButtonModel",
      "state": {
       "button_style": "success",
       "disabled": true,
       "layout": "IPY_MODEL_8d696421995345d1b22a15e63c05a8e0",
       "style": "IPY_MODEL_2769f90003fc4e5fa825517c0d647705",
       "tooltip": null
      }
     },
     "0702a46f3c1341768e9ebd7a01dcd6a2": {
      "model_module": "@jupyter-widgets/controls",
      "model_module_version": "2.0.0",
      "model_name": "ToggleButtonStyleModel",
      "state": {
       "description_width": "",
       "font_family": null,
       "font_size": null,
       "font_style": null,
       "font_variant": null,
       "font_weight": null,
       "text_color": null,
       "text_decoration": null
      }
     },
     "070f6fd3c0f94b68a3bfd17910a7adcf": {
      "model_module": "@jupyter-widgets/controls",
      "model_module_version": "2.0.0",
      "model_name": "ToggleButtonModel",
      "state": {
       "button_style": "success",
       "disabled": true,
       "layout": "IPY_MODEL_1984f7edee3c4b9ebcaaf4fd4d1bd535",
       "style": "IPY_MODEL_c560b6443beb484eb7a5fe8ee4952d1e",
       "tooltip": null
      }
     },
     "07160e49666e4496b6ca071f50cda9de": {
      "model_module": "@jupyter-widgets/controls",
      "model_module_version": "2.0.0",
      "model_name": "ToggleButtonModel",
      "state": {
       "description": "B",
       "layout": "IPY_MODEL_9c61bb957f7c4a25976dcbd6e83798b8",
       "style": "IPY_MODEL_a1f605f69af64faa9897ba3ba897fb4a",
       "tooltip": null
      }
     },
     "0744aac889a54d14a75494fedd662295": {
      "model_module": "@jupyter-widgets/controls",
      "model_module_version": "2.0.0",
      "model_name": "ToggleButtonModel",
      "state": {
       "description": "▲",
       "layout": "IPY_MODEL_3831200db05b4a7986a2bfa009c0e327",
       "style": "IPY_MODEL_98721fd62d064eb19a689d11847c6572",
       "tooltip": null
      }
     },
     "0763252bee5c474f970c0089bf576b76": {
      "model_module": "@jupyter-widgets/controls",
      "model_module_version": "2.0.0",
      "model_name": "ToggleButtonStyleModel",
      "state": {
       "description_width": "",
       "font_family": null,
       "font_size": null,
       "font_style": null,
       "font_variant": null,
       "font_weight": null,
       "text_color": null,
       "text_decoration": null
      }
     },
     "077c4a3d99634538ab0f3c5f2465168e": {
      "model_module": "@jupyter-widgets/controls",
      "model_module_version": "2.0.0",
      "model_name": "ToggleButtonModel",
      "state": {
       "description": "►",
       "layout": "IPY_MODEL_9c61bb957f7c4a25976dcbd6e83798b8",
       "style": "IPY_MODEL_43f19bac46b44a7c8063950ef6adcd7f",
       "tooltip": null
      }
     },
     "078febfa15bc4f0cb1212dad9432beb0": {
      "model_module": "@jupyter-widgets/controls",
      "model_module_version": "2.0.0",
      "model_name": "HBoxModel",
      "state": {
       "children": [
        "IPY_MODEL_13c00913538d4e179b018a8d29d2b2d7",
        "IPY_MODEL_81ecefce37b34ccdbc927d5f5e0650dc",
        "IPY_MODEL_8d53963fb0e843b6a9e1ebd6b6c5a475",
        "IPY_MODEL_7f267ab4c68f4698b47886f52cfbc72c",
        "IPY_MODEL_ddcc22fa53a34174b961c0076edafeed",
        "IPY_MODEL_a465ed9fc71a4809b94ed623c1f05541",
        "IPY_MODEL_92298324907545a38f1e0ac56854d0b8",
        "IPY_MODEL_65d072c7ddf64a75bb15b099aa9b1df7",
        "IPY_MODEL_5018d82643984f26ae8fa9691be1910c"
       ],
       "layout": "IPY_MODEL_4bc02b37c6bf40788c688b29a71151c5"
      }
     },
     "07a1bc3b057e40298c0fda9ef26ecf66": {
      "model_module": "@jupyter-widgets/controls",
      "model_module_version": "2.0.0",
      "model_name": "ToggleButtonStyleModel",
      "state": {
       "description_width": "",
       "font_family": null,
       "font_size": null,
       "font_style": null,
       "font_variant": null,
       "font_weight": null,
       "text_color": null,
       "text_decoration": null
      }
     },
     "07bf17c3ef3c4e8db9a9b78548bfbd42": {
      "model_module": "@jupyter-widgets/controls",
      "model_module_version": "2.0.0",
      "model_name": "ToggleButtonModel",
      "state": {
       "button_style": "success",
       "disabled": true,
       "layout": "IPY_MODEL_cbb007f4b9644615acf96a9592fe5eea",
       "style": "IPY_MODEL_d02a246292fa4303b550e9d557d4188c",
       "tooltip": null
      }
     },
     "07c7022de85d4ed4abc8e9497c03b425": {
      "model_module": "@jupyter-widgets/controls",
      "model_module_version": "2.0.0",
      "model_name": "ToggleButtonStyleModel",
      "state": {
       "description_width": "",
       "font_family": null,
       "font_size": null,
       "font_style": null,
       "font_variant": null,
       "font_weight": null,
       "text_color": null,
       "text_decoration": null
      }
     },
     "07e2e819a6aa42bf935bc9ceef3345fb": {
      "model_module": "@jupyter-widgets/controls",
      "model_module_version": "2.0.0",
      "model_name": "ToggleButtonModel",
      "state": {
       "button_style": "info",
       "disabled": true,
       "layout": "IPY_MODEL_9c61bb957f7c4a25976dcbd6e83798b8",
       "style": "IPY_MODEL_3b6ebefebd3846cbae89b05d5f1a5d7f",
       "tooltip": null
      }
     },
     "0805b7cef75445019bd078546f892c9f": {
      "model_module": "@jupyter-widgets/controls",
      "model_module_version": "2.0.0",
      "model_name": "ToggleButtonStyleModel",
      "state": {
       "description_width": "",
       "font_family": null,
       "font_size": null,
       "font_style": null,
       "font_variant": null,
       "font_weight": null,
       "text_color": null,
       "text_decoration": null
      }
     },
     "0820fe0ececc4afdac356bf380c4496b": {
      "model_module": "@jupyter-widgets/controls",
      "model_module_version": "2.0.0",
      "model_name": "ToggleButtonStyleModel",
      "state": {
       "description_width": "",
       "font_family": null,
       "font_size": null,
       "font_style": null,
       "font_variant": null,
       "font_weight": null,
       "text_color": null,
       "text_decoration": null
      }
     },
     "08356b335ebb437e9e599bb9c140c4a8": {
      "model_module": "@jupyter-widgets/controls",
      "model_module_version": "2.0.0",
      "model_name": "ToggleButtonStyleModel",
      "state": {
       "description_width": "",
       "font_family": null,
       "font_size": null,
       "font_style": null,
       "font_variant": null,
       "font_weight": null,
       "text_color": null,
       "text_decoration": null
      }
     },
     "08501431495b4fdcb81026b3da2b0651": {
      "model_module": "@jupyter-widgets/controls",
      "model_module_version": "2.0.0",
      "model_name": "ToggleButtonStyleModel",
      "state": {
       "description_width": "",
       "font_family": null,
       "font_size": null,
       "font_style": null,
       "font_variant": null,
       "font_weight": null,
       "text_color": null,
       "text_decoration": null
      }
     },
     "08503a8c94d84e639ba776da2f02d465": {
      "model_module": "@jupyter-widgets/controls",
      "model_module_version": "2.0.0",
      "model_name": "ToggleButtonModel",
      "state": {
       "button_style": "success",
       "disabled": true,
       "layout": "IPY_MODEL_8d696421995345d1b22a15e63c05a8e0",
       "style": "IPY_MODEL_ce7359283b774f79a9b82a2c543521f6",
       "tooltip": null
      }
     },
     "08dda2c7438144cfa2cc4c90adf5bbf8": {
      "model_module": "@jupyter-widgets/controls",
      "model_module_version": "2.0.0",
      "model_name": "ToggleButtonStyleModel",
      "state": {
       "description_width": "",
       "font_family": null,
       "font_size": null,
       "font_style": null,
       "font_variant": null,
       "font_weight": null,
       "text_color": null,
       "text_decoration": null
      }
     },
     "08f8dd32c3d24de299dddff6bb14ff49": {
      "model_module": "@jupyter-widgets/controls",
      "model_module_version": "2.0.0",
      "model_name": "ToggleButtonModel",
      "state": {
       "button_style": "info",
       "disabled": true,
       "layout": "IPY_MODEL_9c61bb957f7c4a25976dcbd6e83798b8",
       "style": "IPY_MODEL_a4f375e2044849d38ab974c8687c168f",
       "tooltip": null
      }
     },
     "0925b4b3480d4bbfb975570eca7e6bf6": {
      "model_module": "@jupyter-widgets/controls",
      "model_module_version": "2.0.0",
      "model_name": "ToggleButtonStyleModel",
      "state": {
       "description_width": "",
       "font_family": null,
       "font_size": null,
       "font_style": null,
       "font_variant": null,
       "font_weight": null,
       "text_color": null,
       "text_decoration": null
      }
     },
     "093fa4443eea43f0bb2e8c01b1c683ce": {
      "model_module": "@jupyter-widgets/controls",
      "model_module_version": "2.0.0",
      "model_name": "ToggleButtonStyleModel",
      "state": {
       "description_width": "",
       "font_family": null,
       "font_size": null,
       "font_style": null,
       "font_variant": null,
       "font_weight": null,
       "text_color": null,
       "text_decoration": null
      }
     },
     "097d26fe0f324fc09f9046a00f386086": {
      "model_module": "@jupyter-widgets/controls",
      "model_module_version": "2.0.0",
      "model_name": "ToggleButtonStyleModel",
      "state": {
       "description_width": "",
       "font_family": null,
       "font_size": null,
       "font_style": null,
       "font_variant": null,
       "font_weight": null,
       "text_color": null,
       "text_decoration": null
      }
     },
     "09956d9ffaeb403aadad667d1915eb3a": {
      "model_module": "@jupyter-widgets/controls",
      "model_module_version": "2.0.0",
      "model_name": "ToggleButtonModel",
      "state": {
       "button_style": "success",
       "disabled": true,
       "layout": "IPY_MODEL_cbb007f4b9644615acf96a9592fe5eea",
       "style": "IPY_MODEL_c13187f46bbb405aa241a379a09023de",
       "tooltip": null
      }
     },
     "099f1a15dcbd4c9e89c9da21839b726f": {
      "model_module": "@jupyter-widgets/controls",
      "model_module_version": "2.0.0",
      "model_name": "ToggleButtonModel",
      "state": {
       "layout": "IPY_MODEL_9c61bb957f7c4a25976dcbd6e83798b8",
       "style": "IPY_MODEL_7177bbae24ee4be98ece74069ad2e05c",
       "tooltip": null
      }
     },
     "09e6701479814481824482331043cee6": {
      "model_module": "@jupyter-widgets/controls",
      "model_module_version": "2.0.0",
      "model_name": "VBoxModel",
      "state": {
       "children": [
        "IPY_MODEL_b55456d5a8324a6588cb28ef59790b35",
        "IPY_MODEL_618be8fe037d448e9c25dc24e0d7427e",
        "IPY_MODEL_d3ad5688b14c469fac9d4d201123eccc",
        "IPY_MODEL_ca65b3b244bc47a5a0ea4db5f4d127d6",
        "IPY_MODEL_f2c489affacd40eaa360379c3602182f",
        "IPY_MODEL_582a996834794711af3e7ffe01e2b574",
        "IPY_MODEL_c8f58130227b49ebb1f29fab3deee9ba",
        "IPY_MODEL_816856984afb4089bbb5b2d61338c759",
        "IPY_MODEL_1f05b63426a640938653e5a1213d0a87"
       ],
       "layout": "IPY_MODEL_29d0adb64b784eb1a7a922945cc5347a"
      }
     },
     "0a29863ccb5a477ab9247945056e520f": {
      "model_module": "@jupyter-widgets/controls",
      "model_module_version": "2.0.0",
      "model_name": "ToggleButtonStyleModel",
      "state": {
       "description_width": "",
       "font_family": null,
       "font_size": null,
       "font_style": null,
       "font_variant": null,
       "font_weight": null,
       "text_color": null,
       "text_decoration": null
      }
     },
     "0a53fefd2e024430b4a52a26e0fbe55e": {
      "model_module": "@jupyter-widgets/controls",
      "model_module_version": "2.0.0",
      "model_name": "ToggleButtonStyleModel",
      "state": {
       "description_width": "",
       "font_family": null,
       "font_size": null,
       "font_style": null,
       "font_variant": null,
       "font_weight": null,
       "text_color": null,
       "text_decoration": null
      }
     },
     "0a5854ede4e24cc58ee072f8613c2067": {
      "model_module": "@jupyter-widgets/controls",
      "model_module_version": "2.0.0",
      "model_name": "ToggleButtonModel",
      "state": {
       "button_style": "success",
       "disabled": true,
       "layout": "IPY_MODEL_3831200db05b4a7986a2bfa009c0e327",
       "style": "IPY_MODEL_0f57ac5a461247449b876b108ab3988f",
       "tooltip": null
      }
     },
     "0a73f084771443918894f0be57042f3e": {
      "model_module": "@jupyter-widgets/base",
      "model_module_version": "2.0.0",
      "model_name": "LayoutModel",
      "state": {
       "grid_template_areas": "\n                                       \". . . . right \"\n                                        ",
       "grid_template_columns": "20% 20% 20% 20% 20%",
       "width": "100%"
      }
     },
     "0ac44979c4a94570af41cf1bda8f9d58": {
      "model_module": "@jupyter-widgets/controls",
      "model_module_version": "2.0.0",
      "model_name": "ToggleButtonStyleModel",
      "state": {
       "description_width": "",
       "font_family": null,
       "font_size": null,
       "font_style": null,
       "font_variant": null,
       "font_weight": null,
       "text_color": null,
       "text_decoration": null
      }
     },
     "0adf239be1b440ac8ba92ce7328828ce": {
      "model_module": "@jupyter-widgets/controls",
      "model_module_version": "2.0.0",
      "model_name": "ToggleButtonModel",
      "state": {
       "button_style": "success",
       "disabled": true,
       "layout": "IPY_MODEL_9aa0b8d99486437599924f0fdf1f9e8b",
       "style": "IPY_MODEL_0820fe0ececc4afdac356bf380c4496b",
       "tooltip": null
      }
     },
     "0b1a7d4293a441e0956c04f7d618302a": {
      "model_module": "@jupyter-widgets/controls",
      "model_module_version": "2.0.0",
      "model_name": "ToggleButtonStyleModel",
      "state": {
       "description_width": "",
       "font_family": null,
       "font_size": null,
       "font_style": null,
       "font_variant": null,
       "font_weight": null,
       "text_color": null,
       "text_decoration": null
      }
     },
     "0b4e5cacff334c89855990353a5af363": {
      "model_module": "@jupyter-widgets/controls",
      "model_module_version": "2.0.0",
      "model_name": "HBoxModel",
      "state": {
       "children": [
        "IPY_MODEL_03e6e3d15803425a87f479c46474e535",
        "IPY_MODEL_ea7c6fe0906e4a129fc3d740512f7d78",
        "IPY_MODEL_9c7c43fbc95743558967fa9d6a54b620",
        "IPY_MODEL_662d8b16201e44c2b13f6940db3e505d",
        "IPY_MODEL_9365d93e8df1499da4330a2575d79e66",
        "IPY_MODEL_2b58a987cf8744d396f4cb8462b72f94",
        "IPY_MODEL_0e071a359a8c484e80ae8368edf61a16",
        "IPY_MODEL_d9ece244afa04d0cb205d3f8dca84f7c",
        "IPY_MODEL_f189c957f1bd4c0ab7c2a08d8e03d23b"
       ],
       "layout": "IPY_MODEL_605ddac26c46414d887e5358960c5f4c"
      }
     },
     "0b59546282e3488ca4406760e96963ee": {
      "model_module": "@jupyter-widgets/controls",
      "model_module_version": "2.0.0",
      "model_name": "ToggleButtonStyleModel",
      "state": {
       "description_width": "",
       "font_family": null,
       "font_size": null,
       "font_style": null,
       "font_variant": null,
       "font_weight": null,
       "text_color": null,
       "text_decoration": null
      }
     },
     "0b7f0de7d9804ca484a07ce81659d468": {
      "model_module": "@jupyter-widgets/controls",
      "model_module_version": "2.0.0",
      "model_name": "ToggleButtonStyleModel",
      "state": {
       "description_width": "",
       "font_family": null,
       "font_size": null,
       "font_style": null,
       "font_variant": null,
       "font_weight": null,
       "text_color": null,
       "text_decoration": null
      }
     },
     "0bc67e85a28d4a5d9591940e854d1eaa": {
      "model_module": "@jupyter-widgets/controls",
      "model_module_version": "2.0.0",
      "model_name": "ToggleButtonModel",
      "state": {
       "button_style": "success",
       "disabled": true,
       "layout": "IPY_MODEL_58452c5b934e45b59b40dbda05b4d47c",
       "style": "IPY_MODEL_ae3e3e8186794f5490838ffdfdfee6a2",
       "tooltip": null
      }
     },
     "0beadacb89cc4fa2ba0b1a7c8b653efc": {
      "model_module": "@jupyter-widgets/base",
      "model_module_version": "2.0.0",
      "model_name": "LayoutModel",
      "state": {
       "width": "70px"
      }
     },
     "0c127b405e504b4db970e18aa5823541": {
      "model_module": "@jupyter-widgets/controls",
      "model_module_version": "2.0.0",
      "model_name": "ToggleButtonModel",
      "state": {
       "button_style": "success",
       "disabled": true,
       "layout": "IPY_MODEL_1984f7edee3c4b9ebcaaf4fd4d1bd535",
       "style": "IPY_MODEL_a00cfeeb735940b18eec53cd63e9c2fe",
       "tooltip": null
      }
     },
     "0c1aed6864004694812452e37bf8ae3c": {
      "model_module": "@jupyter-widgets/controls",
      "model_module_version": "2.0.0",
      "model_name": "ToggleButtonStyleModel",
      "state": {
       "description_width": "",
       "font_family": null,
       "font_size": null,
       "font_style": null,
       "font_variant": null,
       "font_weight": null,
       "text_color": null,
       "text_decoration": null
      }
     },
     "0cb8bb7f322d451786ca627898161fee": {
      "model_module": "@jupyter-widgets/controls",
      "model_module_version": "2.0.0",
      "model_name": "ToggleButtonModel",
      "state": {
       "button_style": "success",
       "disabled": true,
       "layout": "IPY_MODEL_cbb007f4b9644615acf96a9592fe5eea",
       "style": "IPY_MODEL_3686c53fede04847b3aa95ebf978ced4",
       "tooltip": null
      }
     },
     "0cd3448ada2b41ac9e45488644267798": {
      "model_module": "@jupyter-widgets/controls",
      "model_module_version": "2.0.0",
      "model_name": "ToggleButtonStyleModel",
      "state": {
       "description_width": "",
       "font_family": null,
       "font_size": null,
       "font_style": null,
       "font_variant": null,
       "font_weight": null,
       "text_color": null,
       "text_decoration": null
      }
     },
     "0d2bf6266dd648bd92f59e126a06dca3": {
      "model_module": "@jupyter-widgets/controls",
      "model_module_version": "2.0.0",
      "model_name": "ToggleButtonModel",
      "state": {
       "button_style": "success",
       "disabled": true,
       "layout": "IPY_MODEL_3831200db05b4a7986a2bfa009c0e327",
       "style": "IPY_MODEL_e23f4d6f8a0e4971b2472d0be72765c1",
       "tooltip": null
      }
     },
     "0d6959b82ec34098b87218b58a5ec3c6": {
      "model_module": "@jupyter-widgets/controls",
      "model_module_version": "2.0.0",
      "model_name": "ToggleButtonModel",
      "state": {
       "button_style": "success",
       "disabled": true,
       "layout": "IPY_MODEL_8d696421995345d1b22a15e63c05a8e0",
       "style": "IPY_MODEL_a95f7b3a2ee745dda36255058c7f38bd",
       "tooltip": null
      }
     },
     "0d79c3617ccc4d86b0d4e1c14805763b": {
      "model_module": "@jupyter-widgets/controls",
      "model_module_version": "2.0.0",
      "model_name": "ToggleButtonStyleModel",
      "state": {
       "description_width": "",
       "font_family": null,
       "font_size": null,
       "font_style": null,
       "font_variant": null,
       "font_weight": null,
       "text_color": null,
       "text_decoration": null
      }
     },
     "0d9dfaa7fb6b4697b1ba252f925a84c9": {
      "model_module": "@jupyter-widgets/base",
      "model_module_version": "2.0.0",
      "model_name": "LayoutModel",
      "state": {
       "height": "50px",
       "width": "374px"
      }
     },
     "0ddfc9cf29f44e89828cbcbad855ea26": {
      "model_module": "@jupyter-widgets/controls",
      "model_module_version": "2.0.0",
      "model_name": "ToggleButtonStyleModel",
      "state": {
       "description_width": "",
       "font_family": null,
       "font_size": null,
       "font_style": null,
       "font_variant": null,
       "font_weight": null,
       "text_color": null,
       "text_decoration": null
      }
     },
     "0de384fd837744c3a20f5b6ff1177d71": {
      "model_module": "@jupyter-widgets/controls",
      "model_module_version": "2.0.0",
      "model_name": "ToggleButtonStyleModel",
      "state": {
       "description_width": "",
       "font_family": null,
       "font_size": null,
       "font_style": null,
       "font_variant": null,
       "font_weight": null,
       "text_color": null,
       "text_decoration": null
      }
     },
     "0de539b246d04ae5983e375fa392e2e7": {
      "model_module": "@jupyter-widgets/controls",
      "model_module_version": "2.0.0",
      "model_name": "ToggleButtonStyleModel",
      "state": {
       "description_width": "",
       "font_family": null,
       "font_size": null,
       "font_style": null,
       "font_variant": null,
       "font_weight": null,
       "text_color": null,
       "text_decoration": null
      }
     },
     "0e071a359a8c484e80ae8368edf61a16": {
      "model_module": "@jupyter-widgets/controls",
      "model_module_version": "2.0.0",
      "model_name": "ToggleButtonModel",
      "state": {
       "button_style": "success",
       "disabled": true,
       "layout": "IPY_MODEL_2d2b7c3a0e0b4e2ea0528a045ba78de4",
       "style": "IPY_MODEL_e8b9123be91b4d6c897999a103d307ed",
       "tooltip": null
      }
     },
     "0e2b7e0bfe8d429ab4af976f6892d855": {
      "model_module": "@jupyter-widgets/controls",
      "model_module_version": "2.0.0",
      "model_name": "ToggleButtonStyleModel",
      "state": {
       "description_width": "",
       "font_family": null,
       "font_size": null,
       "font_style": null,
       "font_variant": null,
       "font_weight": null,
       "text_color": null,
       "text_decoration": null
      }
     },
     "0e57a4a24e114ca1baa7de7f050eeb47": {
      "model_module": "@jupyter-widgets/controls",
      "model_module_version": "2.0.0",
      "model_name": "ToggleButtonModel",
      "state": {
       "layout": "IPY_MODEL_9aa0b8d99486437599924f0fdf1f9e8b",
       "style": "IPY_MODEL_ee0582178e654bab8aa5868cadec2e5f",
       "tooltip": null
      }
     },
     "0ea5e4cc76da4e4cab90cdfb33944b26": {
      "model_module": "@jupyter-widgets/controls",
      "model_module_version": "2.0.0",
      "model_name": "ToggleButtonStyleModel",
      "state": {
       "description_width": "",
       "font_family": null,
       "font_size": null,
       "font_style": null,
       "font_variant": null,
       "font_weight": null,
       "text_color": null,
       "text_decoration": null
      }
     },
     "0f1dfe26b6a34562b429cc8cd8c7f2e4": {
      "model_module": "@jupyter-widgets/controls",
      "model_module_version": "2.0.0",
      "model_name": "ToggleButtonStyleModel",
      "state": {
       "description_width": "",
       "font_family": null,
       "font_size": null,
       "font_style": null,
       "font_variant": null,
       "font_weight": null,
       "text_color": null,
       "text_decoration": null
      }
     },
     "0f57ac5a461247449b876b108ab3988f": {
      "model_module": "@jupyter-widgets/controls",
      "model_module_version": "2.0.0",
      "model_name": "ToggleButtonStyleModel",
      "state": {
       "description_width": "",
       "font_family": null,
       "font_size": null,
       "font_style": null,
       "font_variant": null,
       "font_weight": null,
       "text_color": null,
       "text_decoration": null
      }
     },
     "0f75bc3c0d254c8c8df957c64855f36e": {
      "model_module": "@jupyter-widgets/controls",
      "model_module_version": "2.0.0",
      "model_name": "ToggleButtonModel",
      "state": {
       "button_style": "success",
       "disabled": true,
       "layout": "IPY_MODEL_8d696421995345d1b22a15e63c05a8e0",
       "style": "IPY_MODEL_818749e663e140799723b0581e6ed633",
       "tooltip": null
      }
     },
     "0fc412c36957435fa37c3ec9edfcfbf3": {
      "model_module": "@jupyter-widgets/controls",
      "model_module_version": "2.0.0",
      "model_name": "ToggleButtonModel",
      "state": {
       "button_style": "success",
       "disabled": true,
       "layout": "IPY_MODEL_8d696421995345d1b22a15e63c05a8e0",
       "style": "IPY_MODEL_65733fa4df314bc8b1f25ae1f5d8d593",
       "tooltip": null
      }
     },
     "0ff25443e0294e57a473fa0e5e301fa7": {
      "model_module": "@jupyter-widgets/controls",
      "model_module_version": "2.0.0",
      "model_name": "ToggleButtonStyleModel",
      "state": {
       "description_width": "",
       "font_family": null,
       "font_size": null,
       "font_style": null,
       "font_variant": null,
       "font_weight": null,
       "text_color": null,
       "text_decoration": null
      }
     },
     "0ffa420edaa4432bbaf43a4c2307076c": {
      "model_module": "@jupyter-widgets/controls",
      "model_module_version": "2.0.0",
      "model_name": "HBoxModel",
      "state": {
       "children": [
        "IPY_MODEL_f0f9282280cd45829a221f650c419a3d",
        "IPY_MODEL_69beb878ae3944d0b02ebee3d1d79a77",
        "IPY_MODEL_2cfc5842b52e4ad88369d5e97c786a93",
        "IPY_MODEL_114fd3ca018d4417ab61021e98102f2d",
        "IPY_MODEL_1ecc8bdf41dd49f9b90f46f6b20f5717",
        "IPY_MODEL_e902d8445ecc4373b59017e291ebc273",
        "IPY_MODEL_25a3e602d93c44fab11f98e7b7f87afc",
        "IPY_MODEL_b6b846b5c9ad4d839013bfa91c9d15a5",
        "IPY_MODEL_89b292bed0a24f7ab0939246bd9d508d"
       ],
       "layout": "IPY_MODEL_012fe46d56ad48fb918193367e0e4cd6"
      }
     },
     "0ffec71f7ffd4357b47dafd0d05081e5": {
      "model_module": "@jupyter-widgets/controls",
      "model_module_version": "2.0.0",
      "model_name": "ToggleButtonStyleModel",
      "state": {
       "description_width": "",
       "font_family": null,
       "font_size": null,
       "font_style": null,
       "font_variant": null,
       "font_weight": null,
       "text_color": null,
       "text_decoration": null
      }
     },
     "100f121d517f4df29d01bdff85a44564": {
      "model_module": "@jupyter-widgets/controls",
      "model_module_version": "2.0.0",
      "model_name": "ToggleButtonStyleModel",
      "state": {
       "description_width": "",
       "font_family": null,
       "font_size": null,
       "font_style": null,
       "font_variant": null,
       "font_weight": null,
       "text_color": null,
       "text_decoration": null
      }
     },
     "101ef56ee96147c78dbd8ca89e11b983": {
      "model_module": "@jupyter-widgets/controls",
      "model_module_version": "2.0.0",
      "model_name": "ToggleButtonModel",
      "state": {
       "button_style": "success",
       "disabled": true,
       "layout": "IPY_MODEL_cbb007f4b9644615acf96a9592fe5eea",
       "style": "IPY_MODEL_4fc7d4924b1f4acaa8f807233eb9d66f",
       "tooltip": null
      }
     },
     "1032a4f063f944fca1f5a92b914ed325": {
      "model_module": "@jupyter-widgets/controls",
      "model_module_version": "2.0.0",
      "model_name": "ToggleButtonStyleModel",
      "state": {
       "description_width": "",
       "font_family": null,
       "font_size": null,
       "font_style": null,
       "font_variant": null,
       "font_weight": null,
       "text_color": null,
       "text_decoration": null
      }
     },
     "10c431cb353441c299cc0d05b8d630cf": {
      "model_module": "@jupyter-widgets/controls",
      "model_module_version": "2.0.0",
      "model_name": "ToggleButtonModel",
      "state": {
       "description": "B",
       "layout": "IPY_MODEL_1984f7edee3c4b9ebcaaf4fd4d1bd535",
       "style": "IPY_MODEL_90f75e8642044a98b3364596b04fc2a9",
       "tooltip": null
      }
     },
     "10fa648a6b544ec0bdb6260c316028a0": {
      "model_module": "@jupyter-widgets/controls",
      "model_module_version": "2.0.0",
      "model_name": "ToggleButtonModel",
      "state": {
       "description": "A",
       "layout": "IPY_MODEL_cbb007f4b9644615acf96a9592fe5eea",
       "style": "IPY_MODEL_902924f418ca49e0a56521e0edd0efe4",
       "tooltip": null
      }
     },
     "1118cdee2e994b8a80d5a4e9cd50a8cb": {
      "model_module": "@jupyter-widgets/base",
      "model_module_version": "2.0.0",
      "model_name": "LayoutModel",
      "state": {}
     },
     "112a7be1e79243d3b1cea849b93facc6": {
      "model_module": "@jupyter-widgets/controls",
      "model_module_version": "2.0.0",
      "model_name": "ToggleButtonModel",
      "state": {
       "button_style": "warning",
       "disabled": true,
       "layout": "IPY_MODEL_9c61bb957f7c4a25976dcbd6e83798b8",
       "style": "IPY_MODEL_5ec5e25e9ab8477d826a7a4931b26c31",
       "tooltip": null
      }
     },
     "114fd3ca018d4417ab61021e98102f2d": {
      "model_module": "@jupyter-widgets/controls",
      "model_module_version": "2.0.0",
      "model_name": "ToggleButtonModel",
      "state": {
       "button_style": "success",
       "disabled": true,
       "layout": "IPY_MODEL_9aa0b8d99486437599924f0fdf1f9e8b",
       "style": "IPY_MODEL_1640b4fbd2504a7f86c1b19a0f72acf4",
       "tooltip": null
      }
     },
     "118a4e75a1ee4cf4ac45c159edeb3d36": {
      "model_module": "@jupyter-widgets/controls",
      "model_module_version": "2.0.0",
      "model_name": "ToggleButtonStyleModel",
      "state": {
       "description_width": "",
       "font_family": null,
       "font_size": null,
       "font_style": null,
       "font_variant": null,
       "font_weight": null,
       "text_color": null,
       "text_decoration": null
      }
     },
     "1201c6cf8d414b14a4e87876b63bb47e": {
      "model_module": "@jupyter-widgets/controls",
      "model_module_version": "2.0.0",
      "model_name": "ToggleButtonStyleModel",
      "state": {
       "description_width": "",
       "font_family": null,
       "font_size": null,
       "font_style": null,
       "font_variant": null,
       "font_weight": null,
       "text_color": null,
       "text_decoration": null
      }
     },
     "1210ae375f074505a061ddb6398b7060": {
      "model_module": "@jupyter-widgets/controls",
      "model_module_version": "2.0.0",
      "model_name": "ToggleButtonModel",
      "state": {
       "button_style": "success",
       "disabled": true,
       "layout": "IPY_MODEL_3831200db05b4a7986a2bfa009c0e327",
       "style": "IPY_MODEL_a37fe84fec58481186b87c2be82e69d9",
       "tooltip": null
      }
     },
     "126a4d22028f4b30b102904c81e3aab1": {
      "model_module": "@jupyter-widgets/controls",
      "model_module_version": "2.0.0",
      "model_name": "HBoxModel",
      "state": {
       "children": [
        "IPY_MODEL_9496e7ac43d343949f27dd67c0996894",
        "IPY_MODEL_c648fa74def64a43a29d29c8347c3f08",
        "IPY_MODEL_5afd13110bed41a2b0958355fdb9b4bc",
        "IPY_MODEL_e4617b8c35374a3aa9a6f187e06d55d7",
        "IPY_MODEL_30f43e51d3d04933941e8bb2af2acd36",
        "IPY_MODEL_f2025c6b35e84a16976a313ed993a45c",
        "IPY_MODEL_64dd1b1db92448a7b865472b44ccd31b",
        "IPY_MODEL_f78001c0caaa465b86db30602ee58cda",
        "IPY_MODEL_0e57a4a24e114ca1baa7de7f050eeb47",
        "IPY_MODEL_9095ea405f6f4eb9a8e4d620e7117230",
        "IPY_MODEL_0e57a4a24e114ca1baa7de7f050eeb47",
        "IPY_MODEL_0e57a4a24e114ca1baa7de7f050eeb47",
        "IPY_MODEL_0e57a4a24e114ca1baa7de7f050eeb47",
        "IPY_MODEL_a41f101db58546a4a164fff9ab350dfc",
        "IPY_MODEL_0e57a4a24e114ca1baa7de7f050eeb47"
       ],
       "layout": "IPY_MODEL_e3ebd23e215c4449a9cc72da68682679"
      }
     },
     "12b43897b5854f9fb3fca51338c5cce4": {
      "model_module": "@jupyter-widgets/controls",
      "model_module_version": "2.0.0",
      "model_name": "ToggleButtonStyleModel",
      "state": {
       "description_width": "",
       "font_family": null,
       "font_size": null,
       "font_style": null,
       "font_variant": null,
       "font_weight": null,
       "text_color": null,
       "text_decoration": null
      }
     },
     "12b470709b7442e7aed9aad9f73a3471": {
      "model_module": "@jupyter-widgets/controls",
      "model_module_version": "2.0.0",
      "model_name": "ToggleButtonModel",
      "state": {
       "button_style": "success",
       "disabled": true,
       "layout": "IPY_MODEL_2d2b7c3a0e0b4e2ea0528a045ba78de4",
       "style": "IPY_MODEL_b611403544f24da982fe22d12682de32",
       "tooltip": null
      }
     },
     "12c86cb9dea444cab401342f3739227f": {
      "model_module": "@jupyter-widgets/controls",
      "model_module_version": "2.0.0",
      "model_name": "ToggleButtonStyleModel",
      "state": {
       "description_width": "",
       "font_family": null,
       "font_size": null,
       "font_style": null,
       "font_variant": null,
       "font_weight": null,
       "text_color": null,
       "text_decoration": null
      }
     },
     "12d8fb87ab844085a922586150fb5856": {
      "model_module": "@jupyter-widgets/controls",
      "model_module_version": "2.0.0",
      "model_name": "ToggleButtonStyleModel",
      "state": {
       "description_width": "",
       "font_family": null,
       "font_size": null,
       "font_style": null,
       "font_variant": null,
       "font_weight": null,
       "text_color": null,
       "text_decoration": null
      }
     },
     "13075200013b4a0ba2e2143cf2b18f80": {
      "model_module": "@jupyter-widgets/controls",
      "model_module_version": "2.0.0",
      "model_name": "ToggleButtonStyleModel",
      "state": {
       "description_width": "",
       "font_family": null,
       "font_size": null,
       "font_style": null,
       "font_variant": null,
       "font_weight": null,
       "text_color": null,
       "text_decoration": null
      }
     },
     "1314b524c4ad41d1b2edaa663d205e63": {
      "model_module": "@jupyter-widgets/controls",
      "model_module_version": "2.0.0",
      "model_name": "ToggleButtonStyleModel",
      "state": {
       "description_width": "",
       "font_family": null,
       "font_size": null,
       "font_style": null,
       "font_variant": null,
       "font_weight": null,
       "text_color": null,
       "text_decoration": null
      }
     },
     "131942e1fd44415a86f28d3133b57885": {
      "model_module": "@jupyter-widgets/controls",
      "model_module_version": "2.0.0",
      "model_name": "ToggleButtonStyleModel",
      "state": {
       "description_width": "",
       "font_family": null,
       "font_size": null,
       "font_style": null,
       "font_variant": null,
       "font_weight": null,
       "text_color": null,
       "text_decoration": null
      }
     },
     "1378dc642b0b4476bbb4b10079b71560": {
      "model_module": "@jupyter-widgets/controls",
      "model_module_version": "2.0.0",
      "model_name": "ToggleButtonStyleModel",
      "state": {
       "description_width": "",
       "font_family": null,
       "font_size": null,
       "font_style": null,
       "font_variant": null,
       "font_weight": null,
       "text_color": null,
       "text_decoration": null
      }
     },
     "13c00913538d4e179b018a8d29d2b2d7": {
      "model_module": "@jupyter-widgets/controls",
      "model_module_version": "2.0.0",
      "model_name": "ToggleButtonModel",
      "state": {
       "button_style": "success",
       "disabled": true,
       "layout": "IPY_MODEL_cbb007f4b9644615acf96a9592fe5eea",
       "style": "IPY_MODEL_a0a038fd34ea466ab62ba2c1cc2be69d",
       "tooltip": null
      }
     },
     "13f29d6200a54d97b399d504e59e261b": {
      "model_module": "@jupyter-widgets/base",
      "model_module_version": "2.0.0",
      "model_name": "LayoutModel",
      "state": {
       "height": "50px",
       "width": "428px"
      }
     },
     "14954e2b6ffc4d3db0cd91391f98eeff": {
      "model_module": "@jupyter-widgets/controls",
      "model_module_version": "2.0.0",
      "model_name": "ToggleButtonModel",
      "state": {
       "button_style": "info",
       "disabled": true,
       "layout": "IPY_MODEL_9c61bb957f7c4a25976dcbd6e83798b8",
       "style": "IPY_MODEL_3704abf3433c4de6ad654aee74a9be95",
       "tooltip": null
      }
     },
     "14a9d23fffa44f81a4210cbd194650f2": {
      "model_module": "@jupyter-widgets/controls",
      "model_module_version": "2.0.0",
      "model_name": "VBoxModel",
      "state": {
       "children": [
        "IPY_MODEL_126a4d22028f4b30b102904c81e3aab1",
        "IPY_MODEL_819492b4a79d4bf68e3759afd0d44943",
        "IPY_MODEL_eb6c55ea524a4530b5a79654c655ad9b",
        "IPY_MODEL_0ffa420edaa4432bbaf43a4c2307076c",
        "IPY_MODEL_ba3aa6dcff764b9d8b651c084bd14652",
        "IPY_MODEL_c922666bd8274cf087dbb2920c573f75",
        "IPY_MODEL_6c2a44e9715f46a1bdb496f35ef06719",
        "IPY_MODEL_b9b140cedcc847f9a90e151b2f057990",
        "IPY_MODEL_30efee3bb0d6489d86acec1411dc4360"
       ],
       "layout": "IPY_MODEL_d6a32568663e466da148a1b5949d083b"
      }
     },
     "14c5a2eeaa7c4efeb39aa012cbb78155": {
      "model_module": "@jupyter-widgets/controls",
      "model_module_version": "2.0.0",
      "model_name": "ToggleButtonStyleModel",
      "state": {
       "description_width": "",
       "font_family": null,
       "font_size": null,
       "font_style": null,
       "font_variant": null,
       "font_weight": null,
       "text_color": null,
       "text_decoration": null
      }
     },
     "151d55e902b54c43a5216df890e7ce46": {
      "model_module": "@jupyter-widgets/controls",
      "model_module_version": "2.0.0",
      "model_name": "ToggleButtonModel",
      "state": {
       "description": "▲",
       "layout": "IPY_MODEL_2d2b7c3a0e0b4e2ea0528a045ba78de4",
       "style": "IPY_MODEL_976d398f0e52400b8aaef42936ca3522",
       "tooltip": null
      }
     },
     "15456246453148ac910ff71453a7c7dd": {
      "model_module": "@jupyter-widgets/controls",
      "model_module_version": "2.0.0",
      "model_name": "ToggleButtonModel",
      "state": {
       "button_style": "success",
       "disabled": true,
       "layout": "IPY_MODEL_8d696421995345d1b22a15e63c05a8e0",
       "style": "IPY_MODEL_0183291e7dfc425db5706c286a395f3f",
       "tooltip": null
      }
     },
     "15e0a32bb2654cacaa55f3e656858589": {
      "model_module": "@jupyter-widgets/controls",
      "model_module_version": "2.0.0",
      "model_name": "HTMLStyleModel",
      "state": {
       "description_width": "",
       "font_size": null,
       "text_color": null
      }
     },
     "1640b4fbd2504a7f86c1b19a0f72acf4": {
      "model_module": "@jupyter-widgets/controls",
      "model_module_version": "2.0.0",
      "model_name": "ToggleButtonStyleModel",
      "state": {
       "description_width": "",
       "font_family": null,
       "font_size": null,
       "font_style": null,
       "font_variant": null,
       "font_weight": null,
       "text_color": null,
       "text_decoration": null
      }
     },
     "16471bbb88ae4ab9af628f980477a85a": {
      "model_module": "@jupyter-widgets/controls",
      "model_module_version": "2.0.0",
      "model_name": "ToggleButtonModel",
      "state": {
       "description": "▲",
       "layout": "IPY_MODEL_58452c5b934e45b59b40dbda05b4d47c",
       "style": "IPY_MODEL_7e12048e676f40d9974267e0666357b4",
       "tooltip": null
      }
     },
     "169078845c0a4e96a34d438ec10a2e27": {
      "model_module": "@jupyter-widgets/controls",
      "model_module_version": "2.0.0",
      "model_name": "ToggleButtonModel",
      "state": {
       "button_style": "success",
       "disabled": true,
       "layout": "IPY_MODEL_1984f7edee3c4b9ebcaaf4fd4d1bd535",
       "style": "IPY_MODEL_cdc69b3216104576a22af5e47ca592b0",
       "tooltip": null
      }
     },
     "16e446ef99024bf4a1c4d025297fda00": {
      "model_module": "@jupyter-widgets/controls",
      "model_module_version": "2.0.0",
      "model_name": "ToggleButtonStyleModel",
      "state": {
       "description_width": "",
       "font_family": null,
       "font_size": null,
       "font_style": null,
       "font_variant": null,
       "font_weight": null,
       "text_color": null,
       "text_decoration": null
      }
     },
     "17409368447e4628a68e3fda8167f497": {
      "model_module": "@jupyter-widgets/controls",
      "model_module_version": "2.0.0",
      "model_name": "ToggleButtonStyleModel",
      "state": {
       "description_width": "",
       "font_family": null,
       "font_size": null,
       "font_style": null,
       "font_variant": null,
       "font_weight": null,
       "text_color": null,
       "text_decoration": null
      }
     },
     "1799b382fbea49b1be084499c3b1899d": {
      "model_module": "@jupyter-widgets/controls",
      "model_module_version": "2.0.0",
      "model_name": "ToggleButtonModel",
      "state": {
       "button_style": "success",
       "disabled": true,
       "layout": "IPY_MODEL_3831200db05b4a7986a2bfa009c0e327",
       "style": "IPY_MODEL_74f8459462064822bc46df88c037dba9",
       "tooltip": null
      }
     },
     "17b677735326402d8c0f7634447aecc1": {
      "model_module": "@jupyter-widgets/controls",
      "model_module_version": "2.0.0",
      "model_name": "ToggleButtonModel",
      "state": {
       "button_style": "success",
       "disabled": true,
       "layout": "IPY_MODEL_9c61bb957f7c4a25976dcbd6e83798b8",
       "style": "IPY_MODEL_99c5ca8246d248d79bbf61c5b9e9b191",
       "tooltip": null
      }
     },
     "17bc493aa65540ed98d25fee710ce8a9": {
      "model_module": "@jupyter-widgets/controls",
      "model_module_version": "2.0.0",
      "model_name": "ToggleButtonStyleModel",
      "state": {
       "description_width": "",
       "font_family": null,
       "font_size": null,
       "font_style": null,
       "font_variant": null,
       "font_weight": null,
       "text_color": null,
       "text_decoration": null
      }
     },
     "1823126845d14ae68613fb4a05fcd75d": {
      "model_module": "@jupyter-widgets/controls",
      "model_module_version": "2.0.0",
      "model_name": "ToggleButtonModel",
      "state": {
       "button_style": "success",
       "disabled": true,
       "layout": "IPY_MODEL_2d2b7c3a0e0b4e2ea0528a045ba78de4",
       "style": "IPY_MODEL_f797867d15da46e39acbee9b8eb18d86",
       "tooltip": null
      }
     },
     "18429a5bcad04028861717159d55aa55": {
      "model_module": "@jupyter-widgets/controls",
      "model_module_version": "2.0.0",
      "model_name": "ToggleButtonStyleModel",
      "state": {
       "description_width": "",
       "font_family": null,
       "font_size": null,
       "font_style": null,
       "font_variant": null,
       "font_weight": null,
       "text_color": null,
       "text_decoration": null
      }
     },
     "18499c1e6e43481fa9ef66544421feca": {
      "model_module": "@jupyter-widgets/controls",
      "model_module_version": "2.0.0",
      "model_name": "ToggleButtonModel",
      "state": {
       "disabled": true,
       "layout": "IPY_MODEL_13f29d6200a54d97b399d504e59e261b",
       "style": "IPY_MODEL_76c6965be55a4e34886b18de09516760",
       "tooltip": null
      }
     },
     "189a7f1fabcb45c18b90f4fc1abed2d1": {
      "model_module": "@jupyter-widgets/controls",
      "model_module_version": "2.0.0",
      "model_name": "ToggleButtonStyleModel",
      "state": {
       "description_width": "",
       "font_family": null,
       "font_size": null,
       "font_style": null,
       "font_variant": null,
       "font_weight": null,
       "text_color": null,
       "text_decoration": null
      }
     },
     "18c787b34f8849af8f4c3c6e62517ca1": {
      "model_module": "@jupyter-widgets/controls",
      "model_module_version": "2.0.0",
      "model_name": "ToggleButtonModel",
      "state": {
       "button_style": "info",
       "disabled": true,
       "layout": "IPY_MODEL_9c61bb957f7c4a25976dcbd6e83798b8",
       "style": "IPY_MODEL_0c1aed6864004694812452e37bf8ae3c",
       "tooltip": null
      }
     },
     "18c99617992040f3bad6a7f48e41bf2f": {
      "model_module": "@jupyter-widgets/controls",
      "model_module_version": "2.0.0",
      "model_name": "ToggleButtonModel",
      "state": {
       "button_style": "success",
       "disabled": true,
       "layout": "IPY_MODEL_2d2b7c3a0e0b4e2ea0528a045ba78de4",
       "style": "IPY_MODEL_51910faec9444361803c12989b3b6caa",
       "tooltip": null
      }
     },
     "18f1822bd6c243309e59085845521786": {
      "model_module": "@jupyter-widgets/controls",
      "model_module_version": "2.0.0",
      "model_name": "ToggleButtonModel",
      "state": {
       "button_style": "success",
       "disabled": true,
       "layout": "IPY_MODEL_1984f7edee3c4b9ebcaaf4fd4d1bd535",
       "style": "IPY_MODEL_01dabca4ea614d9f8cb76f07955fd7f7",
       "tooltip": null
      }
     },
     "194fe3f2a1c8420e84c533738cf265bf": {
      "model_module": "@jupyter-widgets/controls",
      "model_module_version": "2.0.0",
      "model_name": "HBoxModel",
      "state": {
       "children": [
        "IPY_MODEL_8fb3d39fe1ab41d7a3ff1882ac22ecdf",
        "IPY_MODEL_53307f6fb9c4479d9d0c4266c128814d",
        "IPY_MODEL_d61be207c52d44da8633733f5199a651",
        "IPY_MODEL_a5357cec65a2460294c2f17431525b76",
        "IPY_MODEL_7780ee96abdc4df49385ab5948e009d4",
        "IPY_MODEL_1210ae375f074505a061ddb6398b7060",
        "IPY_MODEL_e6ab5d7fa6a64d0898a9a95990beded8",
        "IPY_MODEL_79d691fc272e4a8baea72c19378f65c8"
       ],
       "layout": "IPY_MODEL_b3c6d3095c1340599658f88b6aac4396"
      }
     },
     "19743d380f884770a372da81ea07f270": {
      "model_module": "@jupyter-widgets/controls",
      "model_module_version": "2.0.0",
      "model_name": "HBoxModel",
      "state": {
       "children": [
        "IPY_MODEL_17b677735326402d8c0f7634447aecc1",
        "IPY_MODEL_51e5e4c0b9ed4a499dc02e3f572e6898",
        "IPY_MODEL_4325b91f0ab943b5a0a6a364631fdfaf",
        "IPY_MODEL_8907925c84904fd4a5fd007e261f3e95",
        "IPY_MODEL_67dfd0eccfff423591844c71c232f203",
        "IPY_MODEL_c8fc389b704549d89ec0a0e4430b0f45",
        "IPY_MODEL_4f63a8604b2c4b80bd08ecb115f0b4cf",
        "IPY_MODEL_ea2d050c4e534b11a69542e18c63effb",
        "IPY_MODEL_099f1a15dcbd4c9e89c9da21839b726f",
        "IPY_MODEL_94ab7a963e214f359ecd76513dfec07c",
        "IPY_MODEL_099f1a15dcbd4c9e89c9da21839b726f",
        "IPY_MODEL_099f1a15dcbd4c9e89c9da21839b726f",
        "IPY_MODEL_099f1a15dcbd4c9e89c9da21839b726f",
        "IPY_MODEL_26fb8233e46548d1a6fdc81922a3a69a",
        "IPY_MODEL_099f1a15dcbd4c9e89c9da21839b726f"
       ],
       "layout": "IPY_MODEL_71038cce6e324a8aa580cc56d23967e1"
      }
     },
     "1984f7edee3c4b9ebcaaf4fd4d1bd535": {
      "model_module": "@jupyter-widgets/base",
      "model_module_version": "2.0.0",
      "model_name": "LayoutModel",
      "state": {
       "height": "50px",
       "width": "50px"
      }
     },
     "19b038a29d2a47e1a7dc56a7157d70e0": {
      "model_module": "@jupyter-widgets/controls",
      "model_module_version": "2.0.0",
      "model_name": "ToggleButtonStyleModel",
      "state": {
       "description_width": "",
       "font_family": null,
       "font_size": null,
       "font_style": null,
       "font_variant": null,
       "font_weight": null,
       "text_color": null,
       "text_decoration": null
      }
     },
     "19bda2eac29641f8aa8e6d52e88d13bf": {
      "model_module": "@jupyter-widgets/controls",
      "model_module_version": "2.0.0",
      "model_name": "ToggleButtonStyleModel",
      "state": {
       "description_width": "",
       "font_family": null,
       "font_size": null,
       "font_style": null,
       "font_variant": null,
       "font_weight": null,
       "text_color": null,
       "text_decoration": null
      }
     },
     "19d852347ca744ada88698cb37bd9017": {
      "model_module": "@jupyter-widgets/controls",
      "model_module_version": "2.0.0",
      "model_name": "ToggleButtonModel",
      "state": {
       "button_style": "success",
       "disabled": true,
       "layout": "IPY_MODEL_9aa0b8d99486437599924f0fdf1f9e8b",
       "style": "IPY_MODEL_0372b8a52c7443a091f7444445bc4e77",
       "tooltip": null
      }
     },
     "19efb7d0b92e4c64b0838e2bb829cb52": {
      "model_module": "@jupyter-widgets/controls",
      "model_module_version": "2.0.0",
      "model_name": "ToggleButtonStyleModel",
      "state": {
       "description_width": "",
       "font_family": null,
       "font_size": null,
       "font_style": null,
       "font_variant": null,
       "font_weight": null,
       "text_color": null,
       "text_decoration": null
      }
     },
     "1a3b2219f0cc4c4d8701cdac49f8726d": {
      "model_module": "@jupyter-widgets/controls",
      "model_module_version": "2.0.0",
      "model_name": "ToggleButtonStyleModel",
      "state": {
       "description_width": "",
       "font_family": null,
       "font_size": null,
       "font_style": null,
       "font_variant": null,
       "font_weight": null,
       "text_color": null,
       "text_decoration": null
      }
     },
     "1a9dcd61ae37435c8565485c01ad04eb": {
      "model_module": "@jupyter-widgets/controls",
      "model_module_version": "2.0.0",
      "model_name": "ToggleButtonModel",
      "state": {
       "button_style": "success",
       "disabled": true,
       "layout": "IPY_MODEL_3831200db05b4a7986a2bfa009c0e327",
       "style": "IPY_MODEL_558d0269b24749389cdb87be19e75fd4",
       "tooltip": null
      }
     },
     "1aa3c54b256645aea5b397cf0cacc648": {
      "model_module": "@jupyter-widgets/controls",
      "model_module_version": "2.0.0",
      "model_name": "ToggleButtonModel",
      "state": {
       "button_style": "success",
       "disabled": true,
       "layout": "IPY_MODEL_2d2b7c3a0e0b4e2ea0528a045ba78de4",
       "style": "IPY_MODEL_8da47cbdb4204c1fb4e35ff1779c79e4",
       "tooltip": null
      }
     },
     "1b7eea38beff4a49b73b7407583e9fcd": {
      "model_module": "@jupyter-widgets/base",
      "model_module_version": "2.0.0",
      "model_name": "LayoutModel",
      "state": {
       "height": "50px",
       "width": "374px"
      }
     },
     "1b9253babf084ab7908df0918843e0db": {
      "model_module": "@jupyter-widgets/controls",
      "model_module_version": "2.0.0",
      "model_name": "ToggleButtonStyleModel",
      "state": {
       "description_width": "",
       "font_family": null,
       "font_size": null,
       "font_style": null,
       "font_variant": null,
       "font_weight": null,
       "text_color": null,
       "text_decoration": null
      }
     },
     "1bd70dc62d2b41218fb28407c32f290f": {
      "model_module": "@jupyter-widgets/controls",
      "model_module_version": "2.0.0",
      "model_name": "ToggleButtonStyleModel",
      "state": {
       "description_width": "",
       "font_family": null,
       "font_size": null,
       "font_style": null,
       "font_variant": null,
       "font_weight": null,
       "text_color": null,
       "text_decoration": null
      }
     },
     "1bfbf6e9c3454ff49f06fc3a27ee7a08": {
      "model_module": "@jupyter-widgets/controls",
      "model_module_version": "2.0.0",
      "model_name": "ToggleButtonStyleModel",
      "state": {
       "description_width": "",
       "font_family": null,
       "font_size": null,
       "font_style": null,
       "font_variant": null,
       "font_weight": null,
       "text_color": null,
       "text_decoration": null
      }
     },
     "1c373861b7b94a0380f5b7c6f28dc8ad": {
      "model_module": "@jupyter-widgets/controls",
      "model_module_version": "2.0.0",
      "model_name": "ToggleButtonModel",
      "state": {
       "button_style": "success",
       "disabled": true,
       "layout": "IPY_MODEL_8d696421995345d1b22a15e63c05a8e0",
       "style": "IPY_MODEL_67a7a7edb55b4695abf130c3529adf23",
       "tooltip": null
      }
     },
     "1c66bb31acd74b3a956f1b504993c9aa": {
      "model_module": "@jupyter-widgets/controls",
      "model_module_version": "2.0.0",
      "model_name": "ToggleButtonStyleModel",
      "state": {
       "description_width": "",
       "font_family": null,
       "font_size": null,
       "font_style": null,
       "font_variant": null,
       "font_weight": null,
       "text_color": null,
       "text_decoration": null
      }
     },
     "1dd78c9987354a90b90ab14648b21288": {
      "model_module": "@jupyter-widgets/controls",
      "model_module_version": "2.0.0",
      "model_name": "ToggleButtonModel",
      "state": {
       "button_style": "info",
       "disabled": true,
       "layout": "IPY_MODEL_9c61bb957f7c4a25976dcbd6e83798b8",
       "style": "IPY_MODEL_d739e2eb5e03485484202eb8c79345b8",
       "tooltip": null
      }
     },
     "1dd85a27f31a4a2cab5e8fcc316d450a": {
      "model_module": "@jupyter-widgets/base",
      "model_module_version": "2.0.0",
      "model_name": "LayoutModel",
      "state": {}
     },
     "1e5db5ba926840e5825975afbe804b5c": {
      "model_module": "@jupyter-widgets/base",
      "model_module_version": "2.0.0",
      "model_name": "LayoutModel",
      "state": {}
     },
     "1e72cadab97045af93b121255029c582": {
      "model_module": "@jupyter-widgets/controls",
      "model_module_version": "2.0.0",
      "model_name": "ToggleButtonModel",
      "state": {
       "button_style": "success",
       "disabled": true,
       "layout": "IPY_MODEL_2d2b7c3a0e0b4e2ea0528a045ba78de4",
       "style": "IPY_MODEL_2c23f33b04d94434a2d72c499e2d6e12",
       "tooltip": null
      }
     },
     "1e8df5e7c85f4359a32aed2b36dd455e": {
      "model_module": "@jupyter-widgets/controls",
      "model_module_version": "2.0.0",
      "model_name": "ToggleButtonModel",
      "state": {
       "button_style": "success",
       "disabled": true,
       "layout": "IPY_MODEL_9aa0b8d99486437599924f0fdf1f9e8b",
       "style": "IPY_MODEL_512f9c4c147f45e4998a22c22a999aeb",
       "tooltip": null
      }
     },
     "1e954c071e2e4350965151dda7d04200": {
      "model_module": "@jupyter-widgets/controls",
      "model_module_version": "2.0.0",
      "model_name": "ToggleButtonStyleModel",
      "state": {
       "description_width": "",
       "font_family": null,
       "font_size": null,
       "font_style": null,
       "font_variant": null,
       "font_weight": null,
       "text_color": null,
       "text_decoration": null
      }
     },
     "1e98a0cf13384299ad73f388de53a78b": {
      "model_module": "@jupyter-widgets/controls",
      "model_module_version": "2.0.0",
      "model_name": "ToggleButtonModel",
      "state": {
       "button_style": "success",
       "disabled": true,
       "layout": "IPY_MODEL_1984f7edee3c4b9ebcaaf4fd4d1bd535",
       "style": "IPY_MODEL_389ae3dff5e84bbbb319193a159c3a4f",
       "tooltip": null
      }
     },
     "1ecc8bdf41dd49f9b90f46f6b20f5717": {
      "model_module": "@jupyter-widgets/controls",
      "model_module_version": "2.0.0",
      "model_name": "ToggleButtonModel",
      "state": {
       "button_style": "success",
       "disabled": true,
       "layout": "IPY_MODEL_9aa0b8d99486437599924f0fdf1f9e8b",
       "style": "IPY_MODEL_98460003dda142da9e539dc8030172d6",
       "tooltip": null
      }
     },
     "1f05b63426a640938653e5a1213d0a87": {
      "model_module": "@jupyter-widgets/controls",
      "model_module_version": "2.0.0",
      "model_name": "ToggleButtonModel",
      "state": {
       "disabled": true,
       "layout": "IPY_MODEL_dd9f69a1ad7547f7b660fab1c2f5273c",
       "style": "IPY_MODEL_ade9d78eb0974f42b29294e00e2aa353",
       "tooltip": null
      }
     },
     "1f16d0c322f44be78ada7e7c51595d11": {
      "model_module": "@jupyter-widgets/controls",
      "model_module_version": "2.0.0",
      "model_name": "ToggleButtonStyleModel",
      "state": {
       "description_width": "",
       "font_family": null,
       "font_size": null,
       "font_style": null,
       "font_variant": null,
       "font_weight": null,
       "text_color": null,
       "text_decoration": null
      }
     },
     "1f260c1f27de4e8e8e3c38dc641c4545": {
      "model_module": "@jupyter-widgets/controls",
      "model_module_version": "2.0.0",
      "model_name": "ToggleButtonStyleModel",
      "state": {
       "description_width": "",
       "font_family": null,
       "font_size": null,
       "font_style": null,
       "font_variant": null,
       "font_weight": null,
       "text_color": null,
       "text_decoration": null
      }
     },
     "1fc92e2642bc48f38e3859cc9a13eabd": {
      "model_module": "@jupyter-widgets/controls",
      "model_module_version": "2.0.0",
      "model_name": "ToggleButtonStyleModel",
      "state": {
       "description_width": "",
       "font_family": null,
       "font_size": null,
       "font_style": null,
       "font_variant": null,
       "font_weight": null,
       "text_color": null,
       "text_decoration": null
      }
     },
     "2003cf927b5e43bf875e881f075f6172": {
      "model_module": "@jupyter-widgets/controls",
      "model_module_version": "2.0.0",
      "model_name": "ToggleButtonModel",
      "state": {
       "button_style": "success",
       "disabled": true,
       "layout": "IPY_MODEL_cbb007f4b9644615acf96a9592fe5eea",
       "style": "IPY_MODEL_0f1dfe26b6a34562b429cc8cd8c7f2e4",
       "tooltip": null
      }
     },
     "201eea08c15f4cc0a96f52004f8c2d66": {
      "model_module": "@jupyter-widgets/controls",
      "model_module_version": "2.0.0",
      "model_name": "ToggleButtonModel",
      "state": {
       "button_style": "success",
       "disabled": true,
       "layout": "IPY_MODEL_8d696421995345d1b22a15e63c05a8e0",
       "style": "IPY_MODEL_894331e60e98418aaf0db3f0353f5fff",
       "tooltip": null
      }
     },
     "20788b3d6cc743d59b84cdc8cea83326": {
      "model_module": "@jupyter-widgets/controls",
      "model_module_version": "2.0.0",
      "model_name": "ToggleButtonModel",
      "state": {
       "button_style": "success",
       "disabled": true,
       "layout": "IPY_MODEL_58452c5b934e45b59b40dbda05b4d47c",
       "style": "IPY_MODEL_3fcf25077e4e4c9ca1a179f804f1be94",
       "tooltip": null
      }
     },
     "2082710b03ea4967a6d3a26ba0b98026": {
      "model_module": "@jupyter-widgets/controls",
      "model_module_version": "2.0.0",
      "model_name": "ToggleButtonModel",
      "state": {
       "button_style": "success",
       "disabled": true,
       "layout": "IPY_MODEL_cbb007f4b9644615acf96a9592fe5eea",
       "style": "IPY_MODEL_59499b91447a45c69e1478fb02d114b1",
       "tooltip": null
      }
     },
     "20ea062b73a14afea5d6edfdc85e298b": {
      "model_module": "@jupyter-widgets/controls",
      "model_module_version": "2.0.0",
      "model_name": "ToggleButtonModel",
      "state": {
       "button_style": "success",
       "disabled": true,
       "layout": "IPY_MODEL_9aa0b8d99486437599924f0fdf1f9e8b",
       "style": "IPY_MODEL_69eba31de28b4382ba9b9b9f93b00222",
       "tooltip": null
      }
     },
     "2167418724ce4497b3578ac58a4e0361": {
      "model_module": "@jupyter-widgets/controls",
      "model_module_version": "2.0.0",
      "model_name": "ToggleButtonModel",
      "state": {
       "layout": "IPY_MODEL_8d696421995345d1b22a15e63c05a8e0",
       "style": "IPY_MODEL_d37302602aea4d4c9aeedbce6794f418",
       "tooltip": null
      }
     },
     "2179de3c7b204ef3a8804de48797070b": {
      "model_module": "@jupyter-widgets/controls",
      "model_module_version": "2.0.0",
      "model_name": "ToggleButtonStyleModel",
      "state": {
       "description_width": "",
       "font_family": null,
       "font_size": null,
       "font_style": null,
       "font_variant": null,
       "font_weight": null,
       "text_color": null,
       "text_decoration": null
      }
     },
     "21843aaf85e34f4580b83db9f56f8cd8": {
      "model_module": "@jupyter-widgets/base",
      "model_module_version": "2.0.0",
      "model_name": "LayoutModel",
      "state": {}
     },
     "2223285a51f44c6b9864d117d6f289e8": {
      "model_module": "@jupyter-widgets/controls",
      "model_module_version": "2.0.0",
      "model_name": "ToggleButtonStyleModel",
      "state": {
       "description_width": "",
       "font_family": null,
       "font_size": null,
       "font_style": null,
       "font_variant": null,
       "font_weight": null,
       "text_color": null,
       "text_decoration": null
      }
     },
     "22701cd6214b40f490a6acf174e323ef": {
      "model_module": "@jupyter-widgets/controls",
      "model_module_version": "2.0.0",
      "model_name": "ToggleButtonStyleModel",
      "state": {
       "description_width": "",
       "font_family": null,
       "font_size": null,
       "font_style": null,
       "font_variant": null,
       "font_weight": null,
       "text_color": null,
       "text_decoration": null
      }
     },
     "22b2e12dd8f64b208be900339372a0d8": {
      "model_module": "@jupyter-widgets/controls",
      "model_module_version": "2.0.0",
      "model_name": "ToggleButtonStyleModel",
      "state": {
       "description_width": "",
       "font_family": null,
       "font_size": null,
       "font_style": null,
       "font_variant": null,
       "font_weight": null,
       "text_color": null,
       "text_decoration": null
      }
     },
     "22bbc1e904f749aeb60dfe9ed31a3ced": {
      "model_module": "@jupyter-widgets/controls",
      "model_module_version": "2.0.0",
      "model_name": "ToggleButtonStyleModel",
      "state": {
       "description_width": "",
       "font_family": null,
       "font_size": null,
       "font_style": null,
       "font_variant": null,
       "font_weight": null,
       "text_color": null,
       "text_decoration": null
      }
     },
     "22bc2557d3ed4b5bab4832987779651d": {
      "model_module": "@jupyter-widgets/base",
      "model_module_version": "2.0.0",
      "model_name": "LayoutModel",
      "state": {
       "height": "50px",
       "width": "374px"
      }
     },
     "22ee93b35ddc4cca9013ae6ea563d521": {
      "model_module": "@jupyter-widgets/controls",
      "model_module_version": "2.0.0",
      "model_name": "ToggleButtonStyleModel",
      "state": {
       "description_width": "",
       "font_family": null,
       "font_size": null,
       "font_style": null,
       "font_variant": null,
       "font_weight": null,
       "text_color": null,
       "text_decoration": null
      }
     },
     "2304c802ee25439488a27c15ee8eed01": {
      "model_module": "@jupyter-widgets/controls",
      "model_module_version": "2.0.0",
      "model_name": "ToggleButtonModel",
      "state": {
       "button_style": "success",
       "disabled": true,
       "layout": "IPY_MODEL_3831200db05b4a7986a2bfa009c0e327",
       "style": "IPY_MODEL_40d5ae3198ab4b9a8ebddd472a9639bc",
       "tooltip": null
      }
     },
     "23211c08d83145ee948b2cb76e324da3": {
      "model_module": "@jupyter-widgets/controls",
      "model_module_version": "2.0.0",
      "model_name": "ToggleButtonModel",
      "state": {
       "button_style": "success",
       "disabled": true,
       "layout": "IPY_MODEL_1984f7edee3c4b9ebcaaf4fd4d1bd535",
       "style": "IPY_MODEL_0d79c3617ccc4d86b0d4e1c14805763b",
       "tooltip": null
      }
     },
     "23c0d5083c424d28923bbc6a50703ece": {
      "model_module": "@jupyter-widgets/controls",
      "model_module_version": "2.0.0",
      "model_name": "HBoxModel",
      "state": {
       "children": [
        "IPY_MODEL_2ab405667c9a4d6a8afbd6d1109e16d4",
        "IPY_MODEL_942fca0338584037a73469f44ff5f052",
        "IPY_MODEL_74cb89b1deab4ebb9bd6e9ed1b62312b",
        "IPY_MODEL_0cb8bb7f322d451786ca627898161fee",
        "IPY_MODEL_5dc192c643d14a489e621982715ce688",
        "IPY_MODEL_4cd037b748e74148b0c9a2371c5039e6",
        "IPY_MODEL_edef17ae333c4b2ea16dea139fe6123b",
        "IPY_MODEL_e8a1dd4d18e7481a89413633546e6b25"
       ],
       "layout": "IPY_MODEL_619df89b5f784b828804677c3ba2d725"
      }
     },
     "23ebe57c3f6b40c980b148bfc257d831": {
      "model_module": "@jupyter-widgets/controls",
      "model_module_version": "2.0.0",
      "model_name": "ToggleButtonModel",
      "state": {
       "description": "◀︎",
       "layout": "IPY_MODEL_1984f7edee3c4b9ebcaaf4fd4d1bd535",
       "style": "IPY_MODEL_77716026dfbd4078a0f9b31d4ea9258a",
       "tooltip": null
      }
     },
     "244e3cdfd9c7454ab44cfe3bb44fbcf9": {
      "model_module": "@jupyter-widgets/controls",
      "model_module_version": "2.0.0",
      "model_name": "ToggleButtonStyleModel",
      "state": {
       "description_width": "",
       "font_family": null,
       "font_size": null,
       "font_style": null,
       "font_variant": null,
       "font_weight": null,
       "text_color": null,
       "text_decoration": null
      }
     },
     "249473e45e724b588fa4ba946073dcf8": {
      "model_module": "@jupyter-widgets/controls",
      "model_module_version": "2.0.0",
      "model_name": "ToggleButtonStyleModel",
      "state": {
       "description_width": "",
       "font_family": null,
       "font_size": null,
       "font_style": null,
       "font_variant": null,
       "font_weight": null,
       "text_color": null,
       "text_decoration": null
      }
     },
     "24c917c38deb4937a443f3803721a256": {
      "model_module": "@jupyter-widgets/controls",
      "model_module_version": "2.0.0",
      "model_name": "ToggleButtonStyleModel",
      "state": {
       "description_width": "",
       "font_family": null,
       "font_size": null,
       "font_style": null,
       "font_variant": null,
       "font_weight": null,
       "text_color": null,
       "text_decoration": null
      }
     },
     "24dcb00eeb914d2f9782eaac785d8f78": {
      "model_module": "@jupyter-widgets/controls",
      "model_module_version": "2.0.0",
      "model_name": "ToggleButtonStyleModel",
      "state": {
       "description_width": "",
       "font_family": null,
       "font_size": null,
       "font_style": null,
       "font_variant": null,
       "font_weight": null,
       "text_color": null,
       "text_decoration": null
      }
     },
     "252a6b33bf184be9a18b91daf0a9cf30": {
      "model_module": "@jupyter-widgets/controls",
      "model_module_version": "2.0.0",
      "model_name": "ToggleButtonModel",
      "state": {
       "description": "Y",
       "layout": "IPY_MODEL_8d696421995345d1b22a15e63c05a8e0",
       "style": "IPY_MODEL_8cdf6a536661495b91208af95cbecda1",
       "tooltip": null
      }
     },
     "2539f113973c420ea8d516093582caae": {
      "model_module": "@jupyter-widgets/controls",
      "model_module_version": "2.0.0",
      "model_name": "ToggleButtonModel",
      "state": {
       "button_style": "success",
       "disabled": true,
       "layout": "IPY_MODEL_8d696421995345d1b22a15e63c05a8e0",
       "style": "IPY_MODEL_e361966074204796a3313abc6715efe2",
       "tooltip": null
      }
     },
     "254f67e86c6840698381edc4912cd613": {
      "model_module": "@jupyter-widgets/controls",
      "model_module_version": "2.0.0",
      "model_name": "ToggleButtonStyleModel",
      "state": {
       "description_width": "",
       "font_family": null,
       "font_size": null,
       "font_style": null,
       "font_variant": null,
       "font_weight": null,
       "text_color": null,
       "text_decoration": null
      }
     },
     "2568a5479cfd4008ba14526f1e5c4595": {
      "model_module": "@jupyter-widgets/controls",
      "model_module_version": "2.0.0",
      "model_name": "ToggleButtonModel",
      "state": {
       "button_style": "success",
       "disabled": true,
       "layout": "IPY_MODEL_3831200db05b4a7986a2bfa009c0e327",
       "style": "IPY_MODEL_f3711bff82944ae5a78b4e27c2f2bfcb",
       "tooltip": null
      }
     },
     "257802daab344d098c37c0273a49c938": {
      "model_module": "@jupyter-widgets/controls",
      "model_module_version": "2.0.0",
      "model_name": "ToggleButtonModel",
      "state": {
       "button_style": "success",
       "disabled": true,
       "layout": "IPY_MODEL_8d696421995345d1b22a15e63c05a8e0",
       "style": "IPY_MODEL_9698c56bc16e4faa8753cc776269ab00",
       "tooltip": null
      }
     },
     "257892cee5e74a1b8d6494629c395ed7": {
      "model_module": "@jupyter-widgets/controls",
      "model_module_version": "2.0.0",
      "model_name": "ToggleButtonModel",
      "state": {
       "button_style": "success",
       "disabled": true,
       "layout": "IPY_MODEL_58452c5b934e45b59b40dbda05b4d47c",
       "style": "IPY_MODEL_6e869a29979e4ef98570eecbf5bb1af9",
       "tooltip": null
      }
     },
     "25a3e602d93c44fab11f98e7b7f87afc": {
      "model_module": "@jupyter-widgets/controls",
      "model_module_version": "2.0.0",
      "model_name": "ToggleButtonModel",
      "state": {
       "button_style": "success",
       "disabled": true,
       "layout": "IPY_MODEL_9aa0b8d99486437599924f0fdf1f9e8b",
       "style": "IPY_MODEL_6ece28cb90f04e1b8d9e4e223527c4e4",
       "tooltip": null
      }
     },
     "260867cb62664fe69c9e1c28e5dc73c5": {
      "model_module": "@jupyter-widgets/base",
      "model_module_version": "2.0.0",
      "model_name": "LayoutModel",
      "state": {}
     },
     "261645839d5c450b80982a8028d2d9fa": {
      "model_module": "@jupyter-widgets/controls",
      "model_module_version": "2.0.0",
      "model_name": "ToggleButtonModel",
      "state": {
       "button_style": "success",
       "disabled": true,
       "layout": "IPY_MODEL_2d2b7c3a0e0b4e2ea0528a045ba78de4",
       "style": "IPY_MODEL_96d74aaa8348423fa4a7c438ff26b43d",
       "tooltip": null
      }
     },
     "26245d67f8814b94bb9d5c33501d902d": {
      "model_module": "@jupyter-widgets/controls",
      "model_module_version": "2.0.0",
      "model_name": "ToggleButtonStyleModel",
      "state": {
       "description_width": "",
       "font_family": null,
       "font_size": null,
       "font_style": null,
       "font_variant": null,
       "font_weight": null,
       "text_color": null,
       "text_decoration": null
      }
     },
     "26dfb50a5bf545ed8b8bfd3136bec195": {
      "model_module": "@jupyter-widgets/controls",
      "model_module_version": "2.0.0",
      "model_name": "ToggleButtonModel",
      "state": {
       "button_style": "success",
       "disabled": true,
       "layout": "IPY_MODEL_2d2b7c3a0e0b4e2ea0528a045ba78de4",
       "style": "IPY_MODEL_bec9cb7ca6e245df920fc9ad0a391be2",
       "tooltip": null
      }
     },
     "26fb8233e46548d1a6fdc81922a3a69a": {
      "model_module": "@jupyter-widgets/controls",
      "model_module_version": "2.0.0",
      "model_name": "ToggleButtonModel",
      "state": {
       "description": "X",
       "layout": "IPY_MODEL_9c61bb957f7c4a25976dcbd6e83798b8",
       "style": "IPY_MODEL_5f45ac05a5f7414f950dab9158f4a277",
       "tooltip": null
      }
     },
     "272656529cf9453fba3de160a7954221": {
      "model_module": "@jupyter-widgets/controls",
      "model_module_version": "2.0.0",
      "model_name": "ToggleButtonStyleModel",
      "state": {
       "description_width": "",
       "font_family": null,
       "font_size": null,
       "font_style": null,
       "font_variant": null,
       "font_weight": null,
       "text_color": null,
       "text_decoration": null
      }
     },
     "274283140e33483f94160ae2f9140117": {
      "model_module": "@jupyter-widgets/controls",
      "model_module_version": "2.0.0",
      "model_name": "ToggleButtonStyleModel",
      "state": {
       "description_width": "",
       "font_family": null,
       "font_size": null,
       "font_style": null,
       "font_variant": null,
       "font_weight": null,
       "text_color": null,
       "text_decoration": null
      }
     },
     "2759b5296fd34158b9b24ab74d9ffee4": {
      "model_module": "@jupyter-widgets/controls",
      "model_module_version": "2.0.0",
      "model_name": "ToggleButtonStyleModel",
      "state": {
       "description_width": "",
       "font_family": null,
       "font_size": null,
       "font_style": null,
       "font_variant": null,
       "font_weight": null,
       "text_color": null,
       "text_decoration": null
      }
     },
     "275df68d6ffe443bb671fbcc3ff909da": {
      "model_module": "@jupyter-widgets/controls",
      "model_module_version": "2.0.0",
      "model_name": "ToggleButtonStyleModel",
      "state": {
       "description_width": "",
       "font_family": null,
       "font_size": null,
       "font_style": null,
       "font_variant": null,
       "font_weight": null,
       "text_color": null,
       "text_decoration": null
      }
     },
     "2769f90003fc4e5fa825517c0d647705": {
      "model_module": "@jupyter-widgets/controls",
      "model_module_version": "2.0.0",
      "model_name": "ToggleButtonStyleModel",
      "state": {
       "description_width": "",
       "font_family": null,
       "font_size": null,
       "font_style": null,
       "font_variant": null,
       "font_weight": null,
       "text_color": null,
       "text_decoration": null
      }
     },
     "2780be73440345ef8538a52540f303e9": {
      "model_module": "@jupyter-widgets/controls",
      "model_module_version": "2.0.0",
      "model_name": "ToggleButtonStyleModel",
      "state": {
       "description_width": "",
       "font_family": null,
       "font_size": null,
       "font_style": null,
       "font_variant": null,
       "font_weight": null,
       "text_color": null,
       "text_decoration": null
      }
     },
     "27c82df8d1b544af8bec28c02a63d732": {
      "model_module": "@jupyter-widgets/controls",
      "model_module_version": "2.0.0",
      "model_name": "ToggleButtonModel",
      "state": {
       "button_style": "success",
       "disabled": true,
       "layout": "IPY_MODEL_2d2b7c3a0e0b4e2ea0528a045ba78de4",
       "style": "IPY_MODEL_6ec45803325942cb87386aa3827c4cfe",
       "tooltip": null
      }
     },
     "285aeb93f88247d693103dba80c9c7d7": {
      "model_module": "@jupyter-widgets/controls",
      "model_module_version": "2.0.0",
      "model_name": "ToggleButtonModel",
      "state": {
       "button_style": "success",
       "disabled": true,
       "layout": "IPY_MODEL_1984f7edee3c4b9ebcaaf4fd4d1bd535",
       "style": "IPY_MODEL_291b1830f3214d8eb9b9f7cc9fdf71d6",
       "tooltip": null
      }
     },
     "285c2e5f1a1d4e0ca6e07a4b481df44c": {
      "model_module": "@jupyter-widgets/controls",
      "model_module_version": "2.0.0",
      "model_name": "ToggleButtonStyleModel",
      "state": {
       "description_width": "",
       "font_family": null,
       "font_size": null,
       "font_style": null,
       "font_variant": null,
       "font_weight": null,
       "text_color": null,
       "text_decoration": null
      }
     },
     "28907290394749518a55f6a60ff4750c": {
      "model_module": "@jupyter-widgets/controls",
      "model_module_version": "2.0.0",
      "model_name": "ToggleButtonStyleModel",
      "state": {
       "description_width": "",
       "font_family": null,
       "font_size": null,
       "font_style": null,
       "font_variant": null,
       "font_weight": null,
       "text_color": null,
       "text_decoration": null
      }
     },
     "289d3c28a8cb44ad8aa3682126918670": {
      "model_module": "@jupyter-widgets/controls",
      "model_module_version": "2.0.0",
      "model_name": "ToggleButtonStyleModel",
      "state": {
       "description_width": "",
       "font_family": null,
       "font_size": null,
       "font_style": null,
       "font_variant": null,
       "font_weight": null,
       "text_color": null,
       "text_decoration": null
      }
     },
     "28b9b4e8a06b443690a70d028521817c": {
      "model_module": "@jupyter-widgets/controls",
      "model_module_version": "2.0.0",
      "model_name": "ToggleButtonStyleModel",
      "state": {
       "description_width": "",
       "font_family": null,
       "font_size": null,
       "font_style": null,
       "font_variant": null,
       "font_weight": null,
       "text_color": null,
       "text_decoration": null
      }
     },
     "291b1830f3214d8eb9b9f7cc9fdf71d6": {
      "model_module": "@jupyter-widgets/controls",
      "model_module_version": "2.0.0",
      "model_name": "ToggleButtonStyleModel",
      "state": {
       "description_width": "",
       "font_family": null,
       "font_size": null,
       "font_style": null,
       "font_variant": null,
       "font_weight": null,
       "text_color": null,
       "text_decoration": null
      }
     },
     "297383aab02b4defa09a679933abab3a": {
      "model_module": "@jupyter-widgets/controls",
      "model_module_version": "2.0.0",
      "model_name": "ToggleButtonModel",
      "state": {
       "layout": "IPY_MODEL_1984f7edee3c4b9ebcaaf4fd4d1bd535",
       "style": "IPY_MODEL_6e1c91b0980a49f0b84439c67d7c2ddb",
       "tooltip": null
      }
     },
     "29af8ef7e8354ed5967dcbe0bbd8a2fa": {
      "model_module": "@jupyter-widgets/controls",
      "model_module_version": "2.0.0",
      "model_name": "ToggleButtonModel",
      "state": {
       "button_style": "success",
       "disabled": true,
       "layout": "IPY_MODEL_cbb007f4b9644615acf96a9592fe5eea",
       "style": "IPY_MODEL_6c720606b2664459bde93a89358b6135",
       "tooltip": null
      }
     },
     "29b958ba9cd14598b6a4b32c9c8f4a8c": {
      "model_module": "@jupyter-widgets/controls",
      "model_module_version": "2.0.0",
      "model_name": "ToggleButtonModel",
      "state": {
       "button_style": "success",
       "disabled": true,
       "layout": "IPY_MODEL_3831200db05b4a7986a2bfa009c0e327",
       "style": "IPY_MODEL_454451cf869843ce8018e4b36f226a3a",
       "tooltip": null
      }
     },
     "29bc4c42069c422f8cde55c30f6a5ade": {
      "model_module": "@jupyter-widgets/controls",
      "model_module_version": "2.0.0",
      "model_name": "ToggleButtonStyleModel",
      "state": {
       "description_width": "",
       "font_family": null,
       "font_size": null,
       "font_style": null,
       "font_variant": null,
       "font_weight": null,
       "text_color": null,
       "text_decoration": null
      }
     },
     "29c0108025c54ac1bca7d298d4510ed7": {
      "model_module": "@jupyter-widgets/controls",
      "model_module_version": "2.0.0",
      "model_name": "ToggleButtonStyleModel",
      "state": {
       "description_width": "",
       "font_family": null,
       "font_size": null,
       "font_style": null,
       "font_variant": null,
       "font_weight": null,
       "text_color": null,
       "text_decoration": null
      }
     },
     "29d0adb64b784eb1a7a922945cc5347a": {
      "model_module": "@jupyter-widgets/base",
      "model_module_version": "2.0.0",
      "model_name": "LayoutModel",
      "state": {}
     },
     "2a106094509242909573d79b4ee8d69c": {
      "model_module": "@jupyter-widgets/controls",
      "model_module_version": "2.0.0",
      "model_name": "ToggleButtonStyleModel",
      "state": {
       "description_width": "",
       "font_family": null,
       "font_size": null,
       "font_style": null,
       "font_variant": null,
       "font_weight": null,
       "text_color": null,
       "text_decoration": null
      }
     },
     "2a16e0edc5384a969faf94b6d03763f4": {
      "model_module": "@jupyter-widgets/controls",
      "model_module_version": "2.0.0",
      "model_name": "ToggleButtonModel",
      "state": {
       "button_style": "success",
       "disabled": true,
       "layout": "IPY_MODEL_8d696421995345d1b22a15e63c05a8e0",
       "style": "IPY_MODEL_842662112b844d209123a6e26c0e1580",
       "tooltip": null
      }
     },
     "2a180d734ca74664bd9b427647a6e0e3": {
      "model_module": "@jupyter-widgets/controls",
      "model_module_version": "2.0.0",
      "model_name": "ToggleButtonModel",
      "state": {
       "button_style": "success",
       "disabled": true,
       "layout": "IPY_MODEL_1984f7edee3c4b9ebcaaf4fd4d1bd535",
       "style": "IPY_MODEL_f51f8b6967a242c2a3debdaf46380a83",
       "tooltip": null
      }
     },
     "2a4316cbfe294871aebb730d8c96f9e1": {
      "model_module": "@jupyter-widgets/controls",
      "model_module_version": "2.0.0",
      "model_name": "ToggleButtonStyleModel",
      "state": {
       "description_width": "",
       "font_family": null,
       "font_size": null,
       "font_style": null,
       "font_variant": null,
       "font_weight": null,
       "text_color": null,
       "text_decoration": null
      }
     },
     "2a667880bb8b49499e56c640b92d8644": {
      "model_module": "@jupyter-widgets/base",
      "model_module_version": "2.0.0",
      "model_name": "LayoutModel",
      "state": {
       "width": "190px"
      }
     },
     "2a8dc47a077340709c7573b4c7f2a9d9": {
      "model_module": "@jupyter-widgets/controls",
      "model_module_version": "2.0.0",
      "model_name": "ToggleButtonStyleModel",
      "state": {
       "description_width": "",
       "font_family": null,
       "font_size": null,
       "font_style": null,
       "font_variant": null,
       "font_weight": null,
       "text_color": null,
       "text_decoration": null
      }
     },
     "2ab405667c9a4d6a8afbd6d1109e16d4": {
      "model_module": "@jupyter-widgets/controls",
      "model_module_version": "2.0.0",
      "model_name": "ToggleButtonModel",
      "state": {
       "button_style": "success",
       "disabled": true,
       "layout": "IPY_MODEL_cbb007f4b9644615acf96a9592fe5eea",
       "style": "IPY_MODEL_ac1d0915df0f4159a9a2ec0b7917c9f6",
       "tooltip": null
      }
     },
     "2ad429d7e5bf4ff3a741ca2de527ecea": {
      "model_module": "@jupyter-widgets/controls",
      "model_module_version": "2.0.0",
      "model_name": "ToggleButtonModel",
      "state": {
       "button_style": "success",
       "disabled": true,
       "layout": "IPY_MODEL_cbb007f4b9644615acf96a9592fe5eea",
       "style": "IPY_MODEL_3b1cdf9398334c749dad0ad7c5de5618",
       "tooltip": null
      }
     },
     "2ad7d4756207465188b212f47c709300": {
      "model_module": "@jupyter-widgets/controls",
      "model_module_version": "2.0.0",
      "model_name": "HTMLStyleModel",
      "state": {
       "description_width": "",
       "font_size": null,
       "text_color": null
      }
     },
     "2afeeb9a679845729db7318bd1900f47": {
      "model_module": "@jupyter-widgets/controls",
      "model_module_version": "2.0.0",
      "model_name": "ToggleButtonStyleModel",
      "state": {
       "description_width": "",
       "font_family": null,
       "font_size": null,
       "font_style": null,
       "font_variant": null,
       "font_weight": null,
       "text_color": null,
       "text_decoration": null
      }
     },
     "2b3c642e250f400290a94b8359b6a14d": {
      "model_module": "@jupyter-widgets/controls",
      "model_module_version": "2.0.0",
      "model_name": "ToggleButtonModel",
      "state": {
       "button_style": "info",
       "disabled": true,
       "layout": "IPY_MODEL_9c61bb957f7c4a25976dcbd6e83798b8",
       "style": "IPY_MODEL_5d65e796d46f482ab70c478c6ec214ba",
       "tooltip": null
      }
     },
     "2b58a987cf8744d396f4cb8462b72f94": {
      "model_module": "@jupyter-widgets/controls",
      "model_module_version": "2.0.0",
      "model_name": "ToggleButtonModel",
      "state": {
       "button_style": "success",
       "disabled": true,
       "layout": "IPY_MODEL_2d2b7c3a0e0b4e2ea0528a045ba78de4",
       "style": "IPY_MODEL_03d760219daf4bc1b9d0c6323c61157d",
       "tooltip": null
      }
     },
     "2be557bcaa04417c97851def5d6034a5": {
      "model_module": "@jupyter-widgets/base",
      "model_module_version": "2.0.0",
      "model_name": "LayoutModel",
      "state": {}
     },
     "2bfae61ac49441bcac83ab745c0c2c5f": {
      "model_module": "@jupyter-widgets/controls",
      "model_module_version": "2.0.0",
      "model_name": "ToggleButtonModel",
      "state": {
       "button_style": "success",
       "disabled": true,
       "layout": "IPY_MODEL_3831200db05b4a7986a2bfa009c0e327",
       "style": "IPY_MODEL_98a6942e308c43dfafe0f073eae5d635",
       "tooltip": null
      }
     },
     "2c0e91d30f84428c864449d624732ee4": {
      "model_module": "@jupyter-widgets/controls",
      "model_module_version": "2.0.0",
      "model_name": "ToggleButtonModel",
      "state": {
       "button_style": "danger",
       "disabled": true,
       "layout": "IPY_MODEL_cbb007f4b9644615acf96a9592fe5eea",
       "style": "IPY_MODEL_ae898498c51140c3936e064bc2d12921",
       "tooltip": null
      }
     },
     "2c23f33b04d94434a2d72c499e2d6e12": {
      "model_module": "@jupyter-widgets/controls",
      "model_module_version": "2.0.0",
      "model_name": "ToggleButtonStyleModel",
      "state": {
       "description_width": "",
       "font_family": null,
       "font_size": null,
       "font_style": null,
       "font_variant": null,
       "font_weight": null,
       "text_color": null,
       "text_decoration": null
      }
     },
     "2cfc5842b52e4ad88369d5e97c786a93": {
      "model_module": "@jupyter-widgets/controls",
      "model_module_version": "2.0.0",
      "model_name": "ToggleButtonModel",
      "state": {
       "button_style": "success",
       "disabled": true,
       "layout": "IPY_MODEL_9aa0b8d99486437599924f0fdf1f9e8b",
       "style": "IPY_MODEL_7b14263518c34019b7ff1e41a56f5aca",
       "tooltip": null
      }
     },
     "2d2b7c3a0e0b4e2ea0528a045ba78de4": {
      "model_module": "@jupyter-widgets/base",
      "model_module_version": "2.0.0",
      "model_name": "LayoutModel",
      "state": {
       "height": "50px",
       "width": "50px"
      }
     },
     "2d46a41f699840dcb1ae1ca0b236279b": {
      "model_module": "@jupyter-widgets/controls",
      "model_module_version": "2.0.0",
      "model_name": "HBoxModel",
      "state": {
       "children": [
        "IPY_MODEL_7f11c047ebce42e0abaf2b848a4c20a6",
        "IPY_MODEL_9dff27c30f71478d84f06cadcc43e25e",
        "IPY_MODEL_75b227cdc6794fea812c4870c2d6eff9",
        "IPY_MODEL_008d14f44f5948cc9dfeaa98112af31f",
        "IPY_MODEL_6f0e99ed951d4be9bf6512ffebb98f43",
        "IPY_MODEL_379c4c6c51074fbeb78e5a9439abfeba",
        "IPY_MODEL_3e8182afd22245d18969885d3c1f48c3",
        "IPY_MODEL_ab05e193312d4f478b3a4735d780dfa5"
       ],
       "layout": "IPY_MODEL_50838f1062ff4508a29cb6b49cb2a358"
      }
     },
     "2db5ec6636b34d1fb3dbfbcbe50cdbc7": {
      "model_module": "@jupyter-widgets/controls",
      "model_module_version": "2.0.0",
      "model_name": "ToggleButtonModel",
      "state": {
       "button_style": "success",
       "disabled": true,
       "layout": "IPY_MODEL_9aa0b8d99486437599924f0fdf1f9e8b",
       "style": "IPY_MODEL_bce6453d15d54e2ba8ce68ec68685579",
       "tooltip": null
      }
     },
     "2db89c11f90b4b55893fe3eacbc8794f": {
      "model_module": "@jupyter-widgets/controls",
      "model_module_version": "2.0.0",
      "model_name": "HBoxModel",
      "state": {
       "children": [
        "IPY_MODEL_88f846fb0cc243bfa62a78325ae87127",
        "IPY_MODEL_7fb19dd5493741889e4a07f48ed3368a",
        "IPY_MODEL_93158dbf3af94083a7be427bdfbf5546",
        "IPY_MODEL_b3446b4ddd424fc3b367dffe1f40ddb6",
        "IPY_MODEL_0a5854ede4e24cc58ee072f8613c2067",
        "IPY_MODEL_b3eac07c40c44483a3b3f4af0eee0e09",
        "IPY_MODEL_813ab98718c340b5b604bd1e1e47f821",
        "IPY_MODEL_6f4bdd60caf24b909bf3b913efa32fae"
       ],
       "layout": "IPY_MODEL_3b593ace4d0049bd935ebebd7aabe3b7"
      }
     },
     "2dd3d4c08a4f42d380d76c2c8b10ee05": {
      "model_module": "@jupyter-widgets/controls",
      "model_module_version": "2.0.0",
      "model_name": "ToggleButtonStyleModel",
      "state": {
       "description_width": "",
       "font_family": null,
       "font_size": null,
       "font_style": null,
       "font_variant": null,
       "font_weight": null,
       "text_color": null,
       "text_decoration": null
      }
     },
     "2ddea5cb554f4abfb555e02c9dffb759": {
      "model_module": "@jupyter-widgets/controls",
      "model_module_version": "2.0.0",
      "model_name": "ToggleButtonModel",
      "state": {
       "button_style": "info",
       "disabled": true,
       "layout": "IPY_MODEL_9c61bb957f7c4a25976dcbd6e83798b8",
       "style": "IPY_MODEL_ca9ed599ef264c3aaeeab7a26c032f29",
       "tooltip": null
      }
     },
     "2de379fd3e4b491086b7801ce18cbf93": {
      "model_module": "@jupyter-widgets/controls",
      "model_module_version": "2.0.0",
      "model_name": "ToggleButtonModel",
      "state": {
       "button_style": "success",
       "disabled": true,
       "layout": "IPY_MODEL_3831200db05b4a7986a2bfa009c0e327",
       "style": "IPY_MODEL_7683e6049252439098e933ce1182da5e",
       "tooltip": null
      }
     },
     "2e2b8bf05bd64ebc9c2e64060835b357": {
      "model_module": "@jupyter-widgets/controls",
      "model_module_version": "2.0.0",
      "model_name": "ToggleButtonModel",
      "state": {
       "button_style": "success",
       "disabled": true,
       "layout": "IPY_MODEL_3831200db05b4a7986a2bfa009c0e327",
       "style": "IPY_MODEL_3a5e95fe825443caa970993115657e2b",
       "tooltip": null
      }
     },
     "2ea84502fab3430c97820abbce74c466": {
      "model_module": "@jupyter-widgets/base",
      "model_module_version": "2.0.0",
      "model_name": "LayoutModel",
      "state": {}
     },
     "2ec9c109b1354774b29b264d1cacb49c": {
      "model_module": "@jupyter-widgets/controls",
      "model_module_version": "2.0.0",
      "model_name": "ToggleButtonStyleModel",
      "state": {
       "description_width": "",
       "font_family": null,
       "font_size": null,
       "font_style": null,
       "font_variant": null,
       "font_weight": null,
       "text_color": null,
       "text_decoration": null
      }
     },
     "2ed6406c653247969db3b8a8627035e2": {
      "model_module": "@jupyter-widgets/controls",
      "model_module_version": "2.0.0",
      "model_name": "ToggleButtonStyleModel",
      "state": {
       "description_width": "",
       "font_family": null,
       "font_size": null,
       "font_style": null,
       "font_variant": null,
       "font_weight": null,
       "text_color": null,
       "text_decoration": null
      }
     },
     "2edb47914384498497036ad11e47c4d2": {
      "model_module": "@jupyter-widgets/controls",
      "model_module_version": "2.0.0",
      "model_name": "ToggleButtonModel",
      "state": {
       "button_style": "success",
       "disabled": true,
       "layout": "IPY_MODEL_2d2b7c3a0e0b4e2ea0528a045ba78de4",
       "style": "IPY_MODEL_1bfbf6e9c3454ff49f06fc3a27ee7a08",
       "tooltip": null
      }
     },
     "2ef87493a2b54a4ca6918b2c47bc9986": {
      "model_module": "@jupyter-widgets/base",
      "model_module_version": "2.0.0",
      "model_name": "LayoutModel",
      "state": {
       "height": "50px",
       "width": "428px"
      }
     },
     "2f1c1f8d1708401286adc2724d71e368": {
      "model_module": "@jupyter-widgets/controls",
      "model_module_version": "2.0.0",
      "model_name": "ToggleButtonModel",
      "state": {
       "button_style": "info",
       "disabled": true,
       "layout": "IPY_MODEL_9c61bb957f7c4a25976dcbd6e83798b8",
       "style": "IPY_MODEL_70b2090bf5054eb9aeb9ee9ff5dee2e2",
       "tooltip": null
      }
     },
     "2f1e79dd29c64041a2c10a625ab00aae": {
      "model_module": "@jupyter-widgets/controls",
      "model_module_version": "2.0.0",
      "model_name": "HBoxModel",
      "state": {
       "children": [
        "IPY_MODEL_604270b7dc80414bbdda0c3ad22051db",
        "IPY_MODEL_d5b5a566de57444a8820dd9aa4c9ec5c",
        "IPY_MODEL_9dea512c3bb1442d9266f2786ca0fda2",
        "IPY_MODEL_81358702ef354b42b3b6e63cb4bd89dc",
        "IPY_MODEL_9a5121cbc9974a78971b59c84991663e",
        "IPY_MODEL_e835c0c3224b4f27bd8d4a2052b5ce2b",
        "IPY_MODEL_07e2e819a6aa42bf935bc9ceef3345fb",
        "IPY_MODEL_e939f51ade394459b9496fcef3f7276d"
       ],
       "layout": "IPY_MODEL_724cbc685ac64809923101c12e118ffc"
      }
     },
     "301dafcb641f469183670af8573e9e94": {
      "model_module": "@jupyter-widgets/base",
      "model_module_version": "2.0.0",
      "model_name": "LayoutModel",
      "state": {}
     },
     "30ac8a104bff478eae2d1dc46fbf92b1": {
      "model_module": "@jupyter-widgets/controls",
      "model_module_version": "2.0.0",
      "model_name": "ToggleButtonStyleModel",
      "state": {
       "description_width": "",
       "font_family": null,
       "font_size": null,
       "font_style": null,
       "font_variant": null,
       "font_weight": null,
       "text_color": null,
       "text_decoration": null
      }
     },
     "30beac7e4b5a484c9ce1aa11b9c2959b": {
      "model_module": "@jupyter-widgets/controls",
      "model_module_version": "2.0.0",
      "model_name": "ToggleButtonStyleModel",
      "state": {
       "description_width": "",
       "font_family": null,
       "font_size": null,
       "font_style": null,
       "font_variant": null,
       "font_weight": null,
       "text_color": null,
       "text_decoration": null
      }
     },
     "30dface7cf9a47e798a51b90be24de7c": {
      "model_module": "@jupyter-widgets/controls",
      "model_module_version": "2.0.0",
      "model_name": "ToggleButtonModel",
      "state": {
       "button_style": "success",
       "disabled": true,
       "layout": "IPY_MODEL_3831200db05b4a7986a2bfa009c0e327",
       "style": "IPY_MODEL_d3ae82d970704fcfb6c4015ff1a74572",
       "tooltip": null
      }
     },
     "30efee3bb0d6489d86acec1411dc4360": {
      "model_module": "@jupyter-widgets/controls",
      "model_module_version": "2.0.0",
      "model_name": "ToggleButtonModel",
      "state": {
       "disabled": true,
       "layout": "IPY_MODEL_d06925a69afa44a9a26e90b64e4b216f",
       "style": "IPY_MODEL_605ddbb44c204150ad2b9dfa8f10d317",
       "tooltip": null
      }
     },
     "30f43e51d3d04933941e8bb2af2acd36": {
      "model_module": "@jupyter-widgets/controls",
      "model_module_version": "2.0.0",
      "model_name": "ToggleButtonModel",
      "state": {
       "button_style": "success",
       "disabled": true,
       "layout": "IPY_MODEL_9aa0b8d99486437599924f0fdf1f9e8b",
       "style": "IPY_MODEL_e7d4fdbd77704572b9bbbba9e296ab94",
       "tooltip": null
      }
     },
     "30f81428726a436685e251554bcccefa": {
      "model_module": "@jupyter-widgets/controls",
      "model_module_version": "2.0.0",
      "model_name": "ToggleButtonModel",
      "state": {
       "button_style": "success",
       "disabled": true,
       "layout": "IPY_MODEL_58452c5b934e45b59b40dbda05b4d47c",
       "style": "IPY_MODEL_7c2d1bda4edd41779c91e0676f7ffbf4",
       "tooltip": null
      }
     },
     "31155639a7d9454db710a256e872779b": {
      "model_module": "@jupyter-widgets/controls",
      "model_module_version": "2.0.0",
      "model_name": "ToggleButtonStyleModel",
      "state": {
       "description_width": "",
       "font_family": null,
       "font_size": null,
       "font_style": null,
       "font_variant": null,
       "font_weight": null,
       "text_color": null,
       "text_decoration": null
      }
     },
     "311d0779df9b4d1997b4e1e81ed7f0dd": {
      "model_module": "@jupyter-widgets/controls",
      "model_module_version": "2.0.0",
      "model_name": "ToggleButtonModel",
      "state": {
       "button_style": "success",
       "disabled": true,
       "layout": "IPY_MODEL_cbb007f4b9644615acf96a9592fe5eea",
       "style": "IPY_MODEL_c7ce599b6e1f4ad0a2e575f75107bef8",
       "tooltip": null
      }
     },
     "315ca50704de46828329a04fb687e9aa": {
      "model_module": "@jupyter-widgets/controls",
      "model_module_version": "2.0.0",
      "model_name": "ToggleButtonModel",
      "state": {
       "button_style": "success",
       "disabled": true,
       "layout": "IPY_MODEL_1984f7edee3c4b9ebcaaf4fd4d1bd535",
       "style": "IPY_MODEL_37a6bae5eb5b4d0698a93102807d01ca",
       "tooltip": null
      }
     },
     "3189f347852647cfacd36f895f316932": {
      "model_module": "@jupyter-widgets/controls",
      "model_module_version": "2.0.0",
      "model_name": "ToggleButtonStyleModel",
      "state": {
       "description_width": "",
       "font_family": null,
       "font_size": null,
       "font_style": null,
       "font_variant": null,
       "font_weight": null,
       "text_color": null,
       "text_decoration": null
      }
     },
     "31cadee61cb246d48447cccd32b35926": {
      "model_module": "@jupyter-widgets/controls",
      "model_module_version": "2.0.0",
      "model_name": "ToggleButtonModel",
      "state": {
       "button_style": "success",
       "disabled": true,
       "layout": "IPY_MODEL_cbb007f4b9644615acf96a9592fe5eea",
       "style": "IPY_MODEL_80477c02b87148f796bcbd44068da014",
       "tooltip": null
      }
     },
     "31d0fcc70a434d49b4ac81b4fc2fe607": {
      "model_module": "@jupyter-widgets/controls",
      "model_module_version": "2.0.0",
      "model_name": "HBoxModel",
      "state": {
       "children": [
        "IPY_MODEL_b5bff90e7edc4c91aeeca111b879bc27",
        "IPY_MODEL_9901a13ac5ea4e0bac3d779eec8b78fa",
        "IPY_MODEL_a507d70adee24536a28590773ff91f7b",
        "IPY_MODEL_9ece98cc01234f62947b8f58b9c3ecb9",
        "IPY_MODEL_74c83dce58354911904d8c098e60edff",
        "IPY_MODEL_a575c8d5530c4b6f8d8750270852996d",
        "IPY_MODEL_9287875fe3da46148f011cc79aaa1388",
        "IPY_MODEL_ac4bd52a06e44622878461a76a98a81f",
        "IPY_MODEL_b0c45804905e4dd6aad52e6cc7350412",
        "IPY_MODEL_16471bbb88ae4ab9af628f980477a85a",
        "IPY_MODEL_b0c45804905e4dd6aad52e6cc7350412",
        "IPY_MODEL_b0c45804905e4dd6aad52e6cc7350412",
        "IPY_MODEL_b0c45804905e4dd6aad52e6cc7350412",
        "IPY_MODEL_ab2799ce138640a0baf13d7ea8514acc",
        "IPY_MODEL_b0c45804905e4dd6aad52e6cc7350412"
       ],
       "layout": "IPY_MODEL_b7e954db3ca24ea3bf8fed3e933840e6"
      }
     },
     "31e88e3384fb4c929c10502d6e28043a": {
      "model_module": "@jupyter-widgets/base",
      "model_module_version": "2.0.0",
      "model_name": "LayoutModel",
      "state": {}
     },
     "321b5677000647528efb731ca522569b": {
      "model_module": "@jupyter-widgets/controls",
      "model_module_version": "2.0.0",
      "model_name": "ToggleButtonModel",
      "state": {
       "button_style": "success",
       "disabled": true,
       "layout": "IPY_MODEL_3831200db05b4a7986a2bfa009c0e327",
       "style": "IPY_MODEL_e25626f7d2314c20a38fa6a17aa5af41",
       "tooltip": null
      }
     },
     "3253f19795154da4b7d4a846d811087a": {
      "model_module": "@jupyter-widgets/controls",
      "model_module_version": "2.0.0",
      "model_name": "HTMLStyleModel",
      "state": {
       "description_width": "",
       "font_size": null,
       "text_color": null
      }
     },
     "3273dce846c24328b5ac2702376dec90": {
      "model_module": "@jupyter-widgets/controls",
      "model_module_version": "2.0.0",
      "model_name": "ToggleButtonStyleModel",
      "state": {
       "description_width": "",
       "font_family": null,
       "font_size": null,
       "font_style": null,
       "font_variant": null,
       "font_weight": null,
       "text_color": null,
       "text_decoration": null
      }
     },
     "327e61e8ebc04016b2c5a0bd8f352adf": {
      "model_module": "@jupyter-widgets/controls",
      "model_module_version": "2.0.0",
      "model_name": "ToggleButtonStyleModel",
      "state": {
       "description_width": "",
       "font_family": null,
       "font_size": null,
       "font_style": null,
       "font_variant": null,
       "font_weight": null,
       "text_color": null,
       "text_decoration": null
      }
     },
     "3315c7eaa2824f36b8ecf2a227e8d532": {
      "model_module": "@jupyter-widgets/controls",
      "model_module_version": "2.0.0",
      "model_name": "ToggleButtonModel",
      "state": {
       "button_style": "success",
       "disabled": true,
       "layout": "IPY_MODEL_3831200db05b4a7986a2bfa009c0e327",
       "style": "IPY_MODEL_b33fc8ce4ce344a0b2be640dafbf69da",
       "tooltip": null
      }
     },
     "3349dc4705634231bff0cf8ceef918d2": {
      "model_module": "@jupyter-widgets/controls",
      "model_module_version": "2.0.0",
      "model_name": "ToggleButtonModel",
      "state": {
       "button_style": "info",
       "disabled": true,
       "layout": "IPY_MODEL_9c61bb957f7c4a25976dcbd6e83798b8",
       "style": "IPY_MODEL_1f16d0c322f44be78ada7e7c51595d11",
       "tooltip": null
      }
     },
     "33726cbd9e0445d8a3d4adf3794e0b6d": {
      "model_module": "@jupyter-widgets/controls",
      "model_module_version": "2.0.0",
      "model_name": "ToggleButtonStyleModel",
      "state": {
       "description_width": "",
       "font_family": null,
       "font_size": null,
       "font_style": null,
       "font_variant": null,
       "font_weight": null,
       "text_color": null,
       "text_decoration": null
      }
     },
     "33815b358e5543b693c0268fa1b30d3e": {
      "model_module": "@jupyter-widgets/base",
      "model_module_version": "2.0.0",
      "model_name": "LayoutModel",
      "state": {}
     },
     "33e4fb37b3a240868ac5562b5940b33a": {
      "model_module": "@jupyter-widgets/controls",
      "model_module_version": "2.0.0",
      "model_name": "ToggleButtonStyleModel",
      "state": {
       "description_width": "",
       "font_family": null,
       "font_size": null,
       "font_style": null,
       "font_variant": null,
       "font_weight": null,
       "text_color": null,
       "text_decoration": null
      }
     },
     "342a8decc8594adaa2ff98941ebf6f2f": {
      "model_module": "@jupyter-widgets/controls",
      "model_module_version": "2.0.0",
      "model_name": "ToggleButtonModel",
      "state": {
       "button_style": "success",
       "disabled": true,
       "layout": "IPY_MODEL_cbb007f4b9644615acf96a9592fe5eea",
       "style": "IPY_MODEL_ff4dfa8d0d83410d8ae3730f2cc33aa5",
       "tooltip": null
      }
     },
     "3499903758cd434c87858e7231c1054e": {
      "model_module": "@jupyter-widgets/controls",
      "model_module_version": "2.0.0",
      "model_name": "ToggleButtonStyleModel",
      "state": {
       "description_width": "",
       "font_family": null,
       "font_size": null,
       "font_style": null,
       "font_variant": null,
       "font_weight": null,
       "text_color": null,
       "text_decoration": null
      }
     },
     "34f9bfd458d74757b74a5da754d25e5c": {
      "model_module": "@jupyter-widgets/controls",
      "model_module_version": "2.0.0",
      "model_name": "ToggleButtonStyleModel",
      "state": {
       "description_width": "",
       "font_family": null,
       "font_size": null,
       "font_style": null,
       "font_variant": null,
       "font_weight": null,
       "text_color": null,
       "text_decoration": null
      }
     },
     "34fa545439eb4bfd8e9beb8b457cf783": {
      "model_module": "@jupyter-widgets/controls",
      "model_module_version": "2.0.0",
      "model_name": "ToggleButtonModel",
      "state": {
       "button_style": "success",
       "disabled": true,
       "layout": "IPY_MODEL_2d2b7c3a0e0b4e2ea0528a045ba78de4",
       "style": "IPY_MODEL_e505facd0be7478a84b07aae049156b6",
       "tooltip": null
      }
     },
     "355eaae43cd14754a9c8892ed13ab06f": {
      "model_module": "@jupyter-widgets/controls",
      "model_module_version": "2.0.0",
      "model_name": "ToggleButtonStyleModel",
      "state": {
       "description_width": "",
       "font_family": null,
       "font_size": null,
       "font_style": null,
       "font_variant": null,
       "font_weight": null,
       "text_color": null,
       "text_decoration": null
      }
     },
     "3596dba17ef9429d88b6abea6022b3f9": {
      "model_module": "@jupyter-widgets/controls",
      "model_module_version": "2.0.0",
      "model_name": "HBoxModel",
      "state": {
       "children": [
        "IPY_MODEL_3f2d8013eb4444e1a5ff02f167b650c2",
        "IPY_MODEL_b6617e7a8cef4295bba8318290dd6b7e",
        "IPY_MODEL_601ca475daca402e8987c91c89213c45",
        "IPY_MODEL_c6f301825066416e85bec575dfb066af",
        "IPY_MODEL_d70eafb46f1540c5b8b48dc1491c70cb",
        "IPY_MODEL_58ca5638eb474e76909f9ed23c3f0699",
        "IPY_MODEL_3fc803facd4c478bb9faadce34c50e22",
        "IPY_MODEL_3349dc4705634231bff0cf8ceef918d2"
       ],
       "layout": "IPY_MODEL_6e60236e3e3e41e7b2350f1ceb5927f0"
      }
     },
     "360f46c0d06a48f591c1e7d8dd8794e3": {
      "model_module": "@jupyter-widgets/controls",
      "model_module_version": "2.0.0",
      "model_name": "ToggleButtonStyleModel",
      "state": {
       "description_width": "",
       "font_family": null,
       "font_size": null,
       "font_style": null,
       "font_variant": null,
       "font_weight": null,
       "text_color": null,
       "text_decoration": null
      }
     },
     "36267206d1c942d09e8e838deb404abf": {
      "model_module": "@jupyter-widgets/controls",
      "model_module_version": "2.0.0",
      "model_name": "ToggleButtonStyleModel",
      "state": {
       "description_width": "",
       "font_family": null,
       "font_size": null,
       "font_style": null,
       "font_variant": null,
       "font_weight": null,
       "text_color": null,
       "text_decoration": null
      }
     },
     "362caf20c3774c62ae0ecfe216ee4e73": {
      "model_module": "@jupyter-widgets/controls",
      "model_module_version": "2.0.0",
      "model_name": "ToggleButtonStyleModel",
      "state": {
       "description_width": "",
       "font_family": null,
       "font_size": null,
       "font_style": null,
       "font_variant": null,
       "font_weight": null,
       "text_color": null,
       "text_decoration": null
      }
     },
     "3669111448ee416aa9b0032a87f67332": {
      "model_module": "@jupyter-widgets/controls",
      "model_module_version": "2.0.0",
      "model_name": "ToggleButtonStyleModel",
      "state": {
       "description_width": "",
       "font_family": null,
       "font_size": null,
       "font_style": null,
       "font_variant": null,
       "font_weight": null,
       "text_color": null,
       "text_decoration": null
      }
     },
     "36849c98dd5f48998c0f4ce3628e6a4e": {
      "model_module": "@jupyter-widgets/controls",
      "model_module_version": "2.0.0",
      "model_name": "ToggleButtonModel",
      "state": {
       "button_style": "success",
       "disabled": true,
       "layout": "IPY_MODEL_3831200db05b4a7986a2bfa009c0e327",
       "style": "IPY_MODEL_4007efed5c6d42ab96ca43faab8e4cf9",
       "tooltip": null
      }
     },
     "3686c53fede04847b3aa95ebf978ced4": {
      "model_module": "@jupyter-widgets/controls",
      "model_module_version": "2.0.0",
      "model_name": "ToggleButtonStyleModel",
      "state": {
       "description_width": "",
       "font_family": null,
       "font_size": null,
       "font_style": null,
       "font_variant": null,
       "font_weight": null,
       "text_color": null,
       "text_decoration": null
      }
     },
     "36e30408273d43f381c8b3d1dd8b7a87": {
      "model_module": "@jupyter-widgets/controls",
      "model_module_version": "2.0.0",
      "model_name": "ToggleButtonModel",
      "state": {
       "button_style": "success",
       "disabled": true,
       "layout": "IPY_MODEL_1984f7edee3c4b9ebcaaf4fd4d1bd535",
       "style": "IPY_MODEL_9d7f91fc82ac4f1492eb3b2b46bfccdb",
       "tooltip": null
      }
     },
     "3704abf3433c4de6ad654aee74a9be95": {
      "model_module": "@jupyter-widgets/controls",
      "model_module_version": "2.0.0",
      "model_name": "ToggleButtonStyleModel",
      "state": {
       "description_width": "",
       "font_family": null,
       "font_size": null,
       "font_style": null,
       "font_variant": null,
       "font_weight": null,
       "text_color": null,
       "text_decoration": null
      }
     },
     "370ce6e948e341618b6b15449d88713b": {
      "model_module": "@jupyter-widgets/controls",
      "model_module_version": "2.0.0",
      "model_name": "ToggleButtonModel",
      "state": {
       "button_style": "success",
       "disabled": true,
       "layout": "IPY_MODEL_9aa0b8d99486437599924f0fdf1f9e8b",
       "style": "IPY_MODEL_3e29690f9625481e86662866f98880ab",
       "tooltip": null
      }
     },
     "3724cf84fd7b45af8e52bb48e87424bf": {
      "model_module": "@jupyter-widgets/controls",
      "model_module_version": "2.0.0",
      "model_name": "ToggleButtonModel",
      "state": {
       "button_style": "success",
       "disabled": true,
       "layout": "IPY_MODEL_58452c5b934e45b59b40dbda05b4d47c",
       "style": "IPY_MODEL_61d6465a9e3b4aafbb60aa64a38c73e1",
       "tooltip": null
      }
     },
     "372ea085839545e886be0a35056e0872": {
      "model_module": "@jupyter-widgets/controls",
      "model_module_version": "2.0.0",
      "model_name": "ToggleButtonStyleModel",
      "state": {
       "description_width": "",
       "font_family": null,
       "font_size": null,
       "font_style": null,
       "font_variant": null,
       "font_weight": null,
       "text_color": null,
       "text_decoration": null
      }
     },
     "3782395a56a14b60a5073385b1af9777": {
      "model_module": "@jupyter-widgets/controls",
      "model_module_version": "2.0.0",
      "model_name": "ToggleButtonStyleModel",
      "state": {
       "description_width": "",
       "font_family": null,
       "font_size": null,
       "font_style": null,
       "font_variant": null,
       "font_weight": null,
       "text_color": null,
       "text_decoration": null
      }
     },
     "379c4c6c51074fbeb78e5a9439abfeba": {
      "model_module": "@jupyter-widgets/controls",
      "model_module_version": "2.0.0",
      "model_name": "ToggleButtonModel",
      "state": {
       "button_style": "success",
       "disabled": true,
       "layout": "IPY_MODEL_3831200db05b4a7986a2bfa009c0e327",
       "style": "IPY_MODEL_c51c893214e84b8aaa92770113ef9d95",
       "tooltip": null
      }
     },
     "37a6bae5eb5b4d0698a93102807d01ca": {
      "model_module": "@jupyter-widgets/controls",
      "model_module_version": "2.0.0",
      "model_name": "ToggleButtonStyleModel",
      "state": {
       "description_width": "",
       "font_family": null,
       "font_size": null,
       "font_style": null,
       "font_variant": null,
       "font_weight": null,
       "text_color": null,
       "text_decoration": null
      }
     },
     "37f85f4a43de4dba8f0d51b3cbb07224": {
      "model_module": "@jupyter-widgets/controls",
      "model_module_version": "2.0.0",
      "model_name": "ToggleButtonModel",
      "state": {
       "description": "B",
       "layout": "IPY_MODEL_cbb007f4b9644615acf96a9592fe5eea",
       "style": "IPY_MODEL_4a644f4ddd194ba0bfba439f97cce8cf",
       "tooltip": null
      }
     },
     "37fdda6f7c5e40b498feac8ae8bcf914": {
      "model_module": "@jupyter-widgets/controls",
      "model_module_version": "2.0.0",
      "model_name": "ToggleButtonStyleModel",
      "state": {
       "description_width": "",
       "font_family": null,
       "font_size": null,
       "font_style": null,
       "font_variant": null,
       "font_weight": null,
       "text_color": null,
       "text_decoration": null
      }
     },
     "3831200db05b4a7986a2bfa009c0e327": {
      "model_module": "@jupyter-widgets/base",
      "model_module_version": "2.0.0",
      "model_name": "LayoutModel",
      "state": {
       "height": "50px",
       "width": "50px"
      }
     },
     "389a7d955cc245268ab23a86f139c46b": {
      "model_module": "@jupyter-widgets/controls",
      "model_module_version": "2.0.0",
      "model_name": "ToggleButtonModel",
      "state": {
       "button_style": "success",
       "disabled": true,
       "layout": "IPY_MODEL_2d2b7c3a0e0b4e2ea0528a045ba78de4",
       "style": "IPY_MODEL_29c0108025c54ac1bca7d298d4510ed7",
       "tooltip": null
      }
     },
     "389ae3dff5e84bbbb319193a159c3a4f": {
      "model_module": "@jupyter-widgets/controls",
      "model_module_version": "2.0.0",
      "model_name": "ToggleButtonStyleModel",
      "state": {
       "description_width": "",
       "font_family": null,
       "font_size": null,
       "font_style": null,
       "font_variant": null,
       "font_weight": null,
       "text_color": null,
       "text_decoration": null
      }
     },
     "38caf63cc1e245599b9f9f9b829e1762": {
      "model_module": "@jupyter-widgets/controls",
      "model_module_version": "2.0.0",
      "model_name": "ToggleButtonStyleModel",
      "state": {
       "description_width": "",
       "font_family": null,
       "font_size": null,
       "font_style": null,
       "font_variant": null,
       "font_weight": null,
       "text_color": null,
       "text_decoration": null
      }
     },
     "38e3b2a539384cf7aeeff020811baf3d": {
      "model_module": "@jupyter-widgets/controls",
      "model_module_version": "2.0.0",
      "model_name": "ToggleButtonStyleModel",
      "state": {
       "description_width": "",
       "font_family": null,
       "font_size": null,
       "font_style": null,
       "font_variant": null,
       "font_weight": null,
       "text_color": null,
       "text_decoration": null
      }
     },
     "38e96d53825f49a69d8cbaf43a8c1fa5": {
      "model_module": "@jupyter-widgets/controls",
      "model_module_version": "2.0.0",
      "model_name": "ToggleButtonStyleModel",
      "state": {
       "description_width": "",
       "font_family": null,
       "font_size": null,
       "font_style": null,
       "font_variant": null,
       "font_weight": null,
       "text_color": null,
       "text_decoration": null
      }
     },
     "3934f2bde4774eed9520dfd9be93cbd5": {
      "model_module": "@jupyter-widgets/controls",
      "model_module_version": "2.0.0",
      "model_name": "ToggleButtonModel",
      "state": {
       "button_style": "success",
       "disabled": true,
       "layout": "IPY_MODEL_1984f7edee3c4b9ebcaaf4fd4d1bd535",
       "style": "IPY_MODEL_0ac44979c4a94570af41cf1bda8f9d58",
       "tooltip": null
      }
     },
     "395b51a32d90434098d44db80fcc69db": {
      "model_module": "@jupyter-widgets/controls",
      "model_module_version": "2.0.0",
      "model_name": "ButtonStyleModel",
      "state": {
       "font_family": null,
       "font_size": null,
       "font_style": null,
       "font_variant": null,
       "font_weight": null,
       "text_color": null,
       "text_decoration": null
      }
     },
     "39cbc3005cf74fc8b0514a05adf4c559": {
      "model_module": "@jupyter-widgets/controls",
      "model_module_version": "2.0.0",
      "model_name": "ToggleButtonModel",
      "state": {
       "button_style": "success",
       "disabled": true,
       "layout": "IPY_MODEL_8d696421995345d1b22a15e63c05a8e0",
       "style": "IPY_MODEL_26245d67f8814b94bb9d5c33501d902d",
       "tooltip": null
      }
     },
     "39d5441f940946f5bc243f6d9e368b42": {
      "model_module": "@jupyter-widgets/controls",
      "model_module_version": "2.0.0",
      "model_name": "ToggleButtonModel",
      "state": {
       "button_style": "success",
       "disabled": true,
       "layout": "IPY_MODEL_cbb007f4b9644615acf96a9592fe5eea",
       "style": "IPY_MODEL_6d9aed9cde50455b8ddfcd5a4c4bfed6",
       "tooltip": null
      }
     },
     "39f8d5ad71d7435fa06288c50fa5627b": {
      "model_module": "@jupyter-widgets/controls",
      "model_module_version": "2.0.0",
      "model_name": "ToggleButtonModel",
      "state": {
       "description": "B",
       "layout": "IPY_MODEL_58452c5b934e45b59b40dbda05b4d47c",
       "style": "IPY_MODEL_e719e38396e94791907cf8d0cbcae7a8",
       "tooltip": null
      }
     },
     "3a099fbd240244e59d20a39f6fd6568e": {
      "model_module": "@jupyter-widgets/controls",
      "model_module_version": "2.0.0",
      "model_name": "ToggleButtonModel",
      "state": {
       "button_style": "success",
       "disabled": true,
       "layout": "IPY_MODEL_1984f7edee3c4b9ebcaaf4fd4d1bd535",
       "style": "IPY_MODEL_8db29678a95f45dab40a7d6fca270592",
       "tooltip": null
      }
     },
     "3a24ae58cce14482a9a4835e510c7903": {
      "model_module": "@jupyter-widgets/controls",
      "model_module_version": "2.0.0",
      "model_name": "ToggleButtonModel",
      "state": {
       "button_style": "success",
       "disabled": true,
       "layout": "IPY_MODEL_3831200db05b4a7986a2bfa009c0e327",
       "style": "IPY_MODEL_12d8fb87ab844085a922586150fb5856",
       "tooltip": null
      }
     },
     "3a3a28025fcc460997c066f130fe029a": {
      "model_module": "@jupyter-widgets/controls",
      "model_module_version": "2.0.0",
      "model_name": "ToggleButtonModel",
      "state": {
       "button_style": "success",
       "disabled": true,
       "layout": "IPY_MODEL_58452c5b934e45b59b40dbda05b4d47c",
       "style": "IPY_MODEL_e5f5005ee18b4a709edff6f6b7cd5060",
       "tooltip": null
      }
     },
     "3a55a5021d524c359ce9058d6d808970": {
      "model_module": "@jupyter-widgets/controls",
      "model_module_version": "2.0.0",
      "model_name": "ToggleButtonModel",
      "state": {
       "button_style": "success",
       "disabled": true,
       "layout": "IPY_MODEL_3831200db05b4a7986a2bfa009c0e327",
       "style": "IPY_MODEL_70c296970d1b496c8f18899d060ef07b",
       "tooltip": null
      }
     },
     "3a5e95fe825443caa970993115657e2b": {
      "model_module": "@jupyter-widgets/controls",
      "model_module_version": "2.0.0",
      "model_name": "ToggleButtonStyleModel",
      "state": {
       "description_width": "",
       "font_family": null,
       "font_size": null,
       "font_style": null,
       "font_variant": null,
       "font_weight": null,
       "text_color": null,
       "text_decoration": null
      }
     },
     "3a62194ee87842ad8d539f77cdf67192": {
      "model_module": "@jupyter-widgets/base",
      "model_module_version": "2.0.0",
      "model_name": "LayoutModel",
      "state": {}
     },
     "3a72b5ea7661411194097e72fcd7db6d": {
      "model_module": "@jupyter-widgets/controls",
      "model_module_version": "2.0.0",
      "model_name": "ToggleButtonModel",
      "state": {
       "button_style": "success",
       "disabled": true,
       "layout": "IPY_MODEL_9aa0b8d99486437599924f0fdf1f9e8b",
       "style": "IPY_MODEL_22b2e12dd8f64b208be900339372a0d8",
       "tooltip": null
      }
     },
     "3a7bf9cb7ece4d8ea3774fba6b895a8b": {
      "model_module": "@jupyter-widgets/base",
      "model_module_version": "2.0.0",
      "model_name": "LayoutModel",
      "state": {}
     },
     "3a92520f9c984bc8afa596a87c393956": {
      "model_module": "@jupyter-widgets/controls",
      "model_module_version": "2.0.0",
      "model_name": "ToggleButtonStyleModel",
      "state": {
       "description_width": "",
       "font_family": null,
       "font_size": null,
       "font_style": null,
       "font_variant": null,
       "font_weight": null,
       "text_color": null,
       "text_decoration": null
      }
     },
     "3ada8f796cd84e1fbc26d26ed1c17c4b": {
      "model_module": "@jupyter-widgets/controls",
      "model_module_version": "2.0.0",
      "model_name": "ToggleButtonStyleModel",
      "state": {
       "description_width": "",
       "font_family": null,
       "font_size": null,
       "font_style": null,
       "font_variant": null,
       "font_weight": null,
       "text_color": null,
       "text_decoration": null
      }
     },
     "3b0f7746d292464082528a3d1bacfc56": {
      "model_module": "@jupyter-widgets/controls",
      "model_module_version": "2.0.0",
      "model_name": "ToggleButtonStyleModel",
      "state": {
       "description_width": "",
       "font_family": null,
       "font_size": null,
       "font_style": null,
       "font_variant": null,
       "font_weight": null,
       "text_color": null,
       "text_decoration": null
      }
     },
     "3b1cdf9398334c749dad0ad7c5de5618": {
      "model_module": "@jupyter-widgets/controls",
      "model_module_version": "2.0.0",
      "model_name": "ToggleButtonStyleModel",
      "state": {
       "description_width": "",
       "font_family": null,
       "font_size": null,
       "font_style": null,
       "font_variant": null,
       "font_weight": null,
       "text_color": null,
       "text_decoration": null
      }
     },
     "3b21504aba0a4c278996ae2c16387c35": {
      "model_module": "@jupyter-widgets/controls",
      "model_module_version": "2.0.0",
      "model_name": "ToggleButtonModel",
      "state": {
       "button_style": "success",
       "disabled": true,
       "layout": "IPY_MODEL_1984f7edee3c4b9ebcaaf4fd4d1bd535",
       "style": "IPY_MODEL_9189f11478fd4dfea3b9613a40b02caa",
       "tooltip": null
      }
     },
     "3b2f988081bf45f9b2d414a449f98186": {
      "model_module": "@jupyter-widgets/controls",
      "model_module_version": "2.0.0",
      "model_name": "ToggleButtonStyleModel",
      "state": {
       "description_width": "",
       "font_family": null,
       "font_size": null,
       "font_style": null,
       "font_variant": null,
       "font_weight": null,
       "text_color": null,
       "text_decoration": null
      }
     },
     "3b43ff4564a3475c9f23b77e2f6d5257": {
      "model_module": "@jupyter-widgets/controls",
      "model_module_version": "2.0.0",
      "model_name": "ToggleButtonModel",
      "state": {
       "button_style": "success",
       "disabled": true,
       "layout": "IPY_MODEL_58452c5b934e45b59b40dbda05b4d47c",
       "style": "IPY_MODEL_45fb04f8174f4ccf9c55f0a8f2fc7409",
       "tooltip": null
      }
     },
     "3b593ace4d0049bd935ebebd7aabe3b7": {
      "model_module": "@jupyter-widgets/base",
      "model_module_version": "2.0.0",
      "model_name": "LayoutModel",
      "state": {}
     },
     "3b6bc8ee3cfb4f8b9f36df2325f9fc2b": {
      "model_module": "@jupyter-widgets/controls",
      "model_module_version": "2.0.0",
      "model_name": "ToggleButtonModel",
      "state": {
       "button_style": "warning",
       "disabled": true,
       "layout": "IPY_MODEL_9c61bb957f7c4a25976dcbd6e83798b8",
       "style": "IPY_MODEL_59661fa63c4a48c1a9569afd2f89c785",
       "tooltip": null
      }
     },
     "3b6ebefebd3846cbae89b05d5f1a5d7f": {
      "model_module": "@jupyter-widgets/controls",
      "model_module_version": "2.0.0",
      "model_name": "ToggleButtonStyleModel",
      "state": {
       "description_width": "",
       "font_family": null,
       "font_size": null,
       "font_style": null,
       "font_variant": null,
       "font_weight": null,
       "text_color": null,
       "text_decoration": null
      }
     },
     "3b900d9deb0d4103b8d486a693c339a7": {
      "model_module": "@jupyter-widgets/controls",
      "model_module_version": "2.0.0",
      "model_name": "ToggleButtonStyleModel",
      "state": {
       "description_width": "",
       "font_family": null,
       "font_size": null,
       "font_style": null,
       "font_variant": null,
       "font_weight": null,
       "text_color": null,
       "text_decoration": null
      }
     },
     "3bc585d85f8a4a018a667590957e9e6d": {
      "model_module": "@jupyter-widgets/controls",
      "model_module_version": "2.0.0",
      "model_name": "ToggleButtonModel",
      "state": {
       "button_style": "warning",
       "disabled": true,
       "layout": "IPY_MODEL_9c61bb957f7c4a25976dcbd6e83798b8",
       "style": "IPY_MODEL_9126bde8c770439490f3bfc98150bb79",
       "tooltip": null
      }
     },
     "3be213ae6501428ba8dcc020ae95ab3a": {
      "model_module": "@jupyter-widgets/controls",
      "model_module_version": "2.0.0",
      "model_name": "ToggleButtonStyleModel",
      "state": {
       "description_width": "",
       "font_family": null,
       "font_size": null,
       "font_style": null,
       "font_variant": null,
       "font_weight": null,
       "text_color": null,
       "text_decoration": null
      }
     },
     "3bfee30d8f854448bcd456634483af08": {
      "model_module": "@jupyter-widgets/base",
      "model_module_version": "2.0.0",
      "model_name": "LayoutModel",
      "state": {}
     },
     "3c07e802525349aeb65ea8e42e5aaacc": {
      "model_module": "@jupyter-widgets/controls",
      "model_module_version": "2.0.0",
      "model_name": "ToggleButtonStyleModel",
      "state": {
       "description_width": "",
       "font_family": null,
       "font_size": null,
       "font_style": null,
       "font_variant": null,
       "font_weight": null,
       "text_color": null,
       "text_decoration": null
      }
     },
     "3c472d18d3de468cb7c204786baa0465": {
      "model_module": "@jupyter-widgets/controls",
      "model_module_version": "2.0.0",
      "model_name": "ToggleButtonStyleModel",
      "state": {
       "description_width": "",
       "font_family": null,
       "font_size": null,
       "font_style": null,
       "font_variant": null,
       "font_weight": null,
       "text_color": null,
       "text_decoration": null
      }
     },
     "3cd0b500e8714d0d9395b6375e658460": {
      "model_module": "@jupyter-widgets/controls",
      "model_module_version": "2.0.0",
      "model_name": "ToggleButtonStyleModel",
      "state": {
       "description_width": "",
       "font_family": null,
       "font_size": null,
       "font_style": null,
       "font_variant": null,
       "font_weight": null,
       "text_color": null,
       "text_decoration": null
      }
     },
     "3cd188dd4c6c4a67a43c775ebc92e04d": {
      "model_module": "@jupyter-widgets/controls",
      "model_module_version": "2.0.0",
      "model_name": "ToggleButtonStyleModel",
      "state": {
       "description_width": "",
       "font_family": null,
       "font_size": null,
       "font_style": null,
       "font_variant": null,
       "font_weight": null,
       "text_color": null,
       "text_decoration": null
      }
     },
     "3d7fdd4b4fdc43da9c78eb5745190749": {
      "model_module": "@jupyter-widgets/controls",
      "model_module_version": "2.0.0",
      "model_name": "ToggleButtonModel",
      "state": {
       "disabled": true,
       "layout": "IPY_MODEL_59c9602a64ad42d3a3e556e1fe081b0e",
       "style": "IPY_MODEL_0805b7cef75445019bd078546f892c9f",
       "tooltip": null
      }
     },
     "3d92e67672c944d9b0993f1e66cc5847": {
      "model_module": "@jupyter-widgets/controls",
      "model_module_version": "2.0.0",
      "model_name": "ToggleButtonStyleModel",
      "state": {
       "description_width": "",
       "font_family": null,
       "font_size": null,
       "font_style": null,
       "font_variant": null,
       "font_weight": null,
       "text_color": null,
       "text_decoration": null
      }
     },
     "3e29690f9625481e86662866f98880ab": {
      "model_module": "@jupyter-widgets/controls",
      "model_module_version": "2.0.0",
      "model_name": "ToggleButtonStyleModel",
      "state": {
       "description_width": "",
       "font_family": null,
       "font_size": null,
       "font_style": null,
       "font_variant": null,
       "font_weight": null,
       "text_color": null,
       "text_decoration": null
      }
     },
     "3e8182afd22245d18969885d3c1f48c3": {
      "model_module": "@jupyter-widgets/controls",
      "model_module_version": "2.0.0",
      "model_name": "ToggleButtonModel",
      "state": {
       "button_style": "success",
       "disabled": true,
       "layout": "IPY_MODEL_3831200db05b4a7986a2bfa009c0e327",
       "style": "IPY_MODEL_6eeabf545b194da794a98b31eb7fa4f6",
       "tooltip": null
      }
     },
     "3e9a7f1245e348c8bf4359b3feb960d0": {
      "model_module": "@jupyter-widgets/controls",
      "model_module_version": "2.0.0",
      "model_name": "ToggleButtonModel",
      "state": {
       "button_style": "success",
       "disabled": true,
       "layout": "IPY_MODEL_2d2b7c3a0e0b4e2ea0528a045ba78de4",
       "style": "IPY_MODEL_5d8050220b6546259e9e37bf25e63414",
       "tooltip": null
      }
     },
     "3ec78bc678684567a24b68f345d2433e": {
      "model_module": "@jupyter-widgets/controls",
      "model_module_version": "2.0.0",
      "model_name": "ToggleButtonStyleModel",
      "state": {
       "description_width": "",
       "font_family": null,
       "font_size": null,
       "font_style": null,
       "font_variant": null,
       "font_weight": null,
       "text_color": null,
       "text_decoration": null
      }
     },
     "3ecb9a316df04886a1d548e1d87670ed": {
      "model_module": "@jupyter-widgets/controls",
      "model_module_version": "2.0.0",
      "model_name": "ToggleButtonStyleModel",
      "state": {
       "description_width": "",
       "font_family": null,
       "font_size": null,
       "font_style": null,
       "font_variant": null,
       "font_weight": null,
       "text_color": null,
       "text_decoration": null
      }
     },
     "3edf2cde991a4e9794d9485122597d9f": {
      "model_module": "@jupyter-widgets/controls",
      "model_module_version": "2.0.0",
      "model_name": "ToggleButtonModel",
      "state": {
       "button_style": "success",
       "disabled": true,
       "layout": "IPY_MODEL_1984f7edee3c4b9ebcaaf4fd4d1bd535",
       "style": "IPY_MODEL_3c472d18d3de468cb7c204786baa0465",
       "tooltip": null
      }
     },
     "3eefab787f8249f3ba88a8ebc80abeb3": {
      "model_module": "@jupyter-widgets/controls",
      "model_module_version": "2.0.0",
      "model_name": "ToggleButtonModel",
      "state": {
       "button_style": "success",
       "disabled": true,
       "layout": "IPY_MODEL_2d2b7c3a0e0b4e2ea0528a045ba78de4",
       "style": "IPY_MODEL_694c97103f884e51acd80ab9d55e951d",
       "tooltip": null
      }
     },
     "3f2d8013eb4444e1a5ff02f167b650c2": {
      "model_module": "@jupyter-widgets/controls",
      "model_module_version": "2.0.0",
      "model_name": "ToggleButtonModel",
      "state": {
       "button_style": "warning",
       "disabled": true,
       "layout": "IPY_MODEL_9c61bb957f7c4a25976dcbd6e83798b8",
       "style": "IPY_MODEL_9b4529ef2a1743c698ae237ad7cd4719",
       "tooltip": null
      }
     },
     "3f49f5483d8446c19f561ec6f1958eb5": {
      "model_module": "@jupyter-widgets/controls",
      "model_module_version": "2.0.0",
      "model_name": "ToggleButtonStyleModel",
      "state": {
       "description_width": "",
       "font_family": null,
       "font_size": null,
       "font_style": null,
       "font_variant": null,
       "font_weight": null,
       "text_color": null,
       "text_decoration": null
      }
     },
     "3fb0dd1c8f654f3b86888f33753419a0": {
      "model_module": "@jupyter-widgets/controls",
      "model_module_version": "2.0.0",
      "model_name": "HBoxModel",
      "state": {
       "children": [
        "IPY_MODEL_27c82df8d1b544af8bec28c02a63d732",
        "IPY_MODEL_c13173b55e304900a2f31cbff5f60d02",
        "IPY_MODEL_468ed2fa12dd47a682011418187bce0a",
        "IPY_MODEL_2edb47914384498497036ad11e47c4d2",
        "IPY_MODEL_b821aff7b64140ff82de7b0a4a77feac",
        "IPY_MODEL_f282ed32261e412ab5d5fd186fff82e9",
        "IPY_MODEL_e28e9c1398c94d5aa9ce752584b571db",
        "IPY_MODEL_48c006125d1645b69e5b5ebee1bb863a"
       ],
       "layout": "IPY_MODEL_5ef60559cb8d4aec8e9997960e9abbe6"
      }
     },
     "3fc803facd4c478bb9faadce34c50e22": {
      "model_module": "@jupyter-widgets/controls",
      "model_module_version": "2.0.0",
      "model_name": "ToggleButtonModel",
      "state": {
       "button_style": "info",
       "disabled": true,
       "layout": "IPY_MODEL_9c61bb957f7c4a25976dcbd6e83798b8",
       "style": "IPY_MODEL_272656529cf9453fba3de160a7954221",
       "tooltip": null
      }
     },
     "3fcf25077e4e4c9ca1a179f804f1be94": {
      "model_module": "@jupyter-widgets/controls",
      "model_module_version": "2.0.0",
      "model_name": "ToggleButtonStyleModel",
      "state": {
       "description_width": "",
       "font_family": null,
       "font_size": null,
       "font_style": null,
       "font_variant": null,
       "font_weight": null,
       "text_color": null,
       "text_decoration": null
      }
     },
     "3ff78cb9cd6546b2ac02addcb4f09f59": {
      "model_module": "@jupyter-widgets/controls",
      "model_module_version": "2.0.0",
      "model_name": "ToggleButtonModel",
      "state": {
       "button_style": "warning",
       "disabled": true,
       "layout": "IPY_MODEL_9c61bb957f7c4a25976dcbd6e83798b8",
       "style": "IPY_MODEL_046d181eba384b9fa9dff4c461044b0a",
       "tooltip": null
      }
     },
     "4007efed5c6d42ab96ca43faab8e4cf9": {
      "model_module": "@jupyter-widgets/controls",
      "model_module_version": "2.0.0",
      "model_name": "ToggleButtonStyleModel",
      "state": {
       "description_width": "",
       "font_family": null,
       "font_size": null,
       "font_style": null,
       "font_variant": null,
       "font_weight": null,
       "text_color": null,
       "text_decoration": null
      }
     },
     "400c1df5b141469db3d7e811b1c6797a": {
      "model_module": "@jupyter-widgets/controls",
      "model_module_version": "2.0.0",
      "model_name": "ToggleButtonModel",
      "state": {
       "button_style": "success",
       "disabled": true,
       "layout": "IPY_MODEL_2d2b7c3a0e0b4e2ea0528a045ba78de4",
       "style": "IPY_MODEL_92787c8e62114f4680f9aef23fdbe54f",
       "tooltip": null
      }
     },
     "401049b3fef245d78eeeefce63901294": {
      "model_module": "@jupyter-widgets/base",
      "model_module_version": "2.0.0",
      "model_name": "LayoutModel",
      "state": {}
     },
     "402382a161a34729ba8d8b225499b02d": {
      "model_module": "@jupyter-widgets/controls",
      "model_module_version": "2.0.0",
      "model_name": "HBoxModel",
      "state": {
       "children": [
        "IPY_MODEL_d38187e8bd6a4faf9622624db314667d",
        "IPY_MODEL_5ab927e0a4a74ec2af4aa888c5988842",
        "IPY_MODEL_31cadee61cb246d48447cccd32b35926",
        "IPY_MODEL_8bbbf0235481493789de0a51125de90a",
        "IPY_MODEL_fb0a7754353e43f3b925282a9914eb4c",
        "IPY_MODEL_cc5a188773614b2db8163323d80b4ca5",
        "IPY_MODEL_f797326134074eaf8253b90f1ee72cc6",
        "IPY_MODEL_95677297511e409db964658dd466cf5f"
       ],
       "layout": "IPY_MODEL_7f390f3538484c949bfda190a5f2841e"
      }
     },
     "409da643e6b84f4fa3ce57c9184a2e2e": {
      "model_module": "@jupyter-widgets/controls",
      "model_module_version": "2.0.0",
      "model_name": "ToggleButtonStyleModel",
      "state": {
       "description_width": "",
       "font_family": null,
       "font_size": null,
       "font_style": null,
       "font_variant": null,
       "font_weight": null,
       "text_color": null,
       "text_decoration": null
      }
     },
     "40a1d85759b14c86a432b400be11415b": {
      "model_module": "@jupyter-widgets/controls",
      "model_module_version": "2.0.0",
      "model_name": "ToggleButtonStyleModel",
      "state": {
       "description_width": "",
       "font_family": null,
       "font_size": null,
       "font_style": null,
       "font_variant": null,
       "font_weight": null,
       "text_color": null,
       "text_decoration": null
      }
     },
     "40a1da92fdb246a7bf31fbf79f2572d2": {
      "model_module": "@jupyter-widgets/base",
      "model_module_version": "2.0.0",
      "model_name": "LayoutModel",
      "state": {}
     },
     "40d5ae3198ab4b9a8ebddd472a9639bc": {
      "model_module": "@jupyter-widgets/controls",
      "model_module_version": "2.0.0",
      "model_name": "ToggleButtonStyleModel",
      "state": {
       "description_width": "",
       "font_family": null,
       "font_size": null,
       "font_style": null,
       "font_variant": null,
       "font_weight": null,
       "text_color": null,
       "text_decoration": null
      }
     },
     "41962664bf8d4994968e9264819b96fb": {
      "model_module": "@jupyter-widgets/controls",
      "model_module_version": "2.0.0",
      "model_name": "ToggleButtonStyleModel",
      "state": {
       "description_width": "",
       "font_family": null,
       "font_size": null,
       "font_style": null,
       "font_variant": null,
       "font_weight": null,
       "text_color": null,
       "text_decoration": null
      }
     },
     "41ced880653b42b39c1bf305aa1fbe86": {
      "model_module": "@jupyter-widgets/controls",
      "model_module_version": "2.0.0",
      "model_name": "ToggleButtonModel",
      "state": {
       "button_style": "success",
       "disabled": true,
       "layout": "IPY_MODEL_2d2b7c3a0e0b4e2ea0528a045ba78de4",
       "style": "IPY_MODEL_0cd3448ada2b41ac9e45488644267798",
       "tooltip": null
      }
     },
     "421378a390394adcb82a9d538a745217": {
      "model_module": "@jupyter-widgets/controls",
      "model_module_version": "2.0.0",
      "model_name": "ToggleButtonStyleModel",
      "state": {
       "description_width": "",
       "font_family": null,
       "font_size": null,
       "font_style": null,
       "font_variant": null,
       "font_weight": null,
       "text_color": null,
       "text_decoration": null
      }
     },
     "4226e3da0d10495f8490d1fee5bde397": {
      "model_module": "@jupyter-widgets/controls",
      "model_module_version": "2.0.0",
      "model_name": "ToggleButtonModel",
      "state": {
       "button_style": "success",
       "disabled": true,
       "layout": "IPY_MODEL_2d2b7c3a0e0b4e2ea0528a045ba78de4",
       "style": "IPY_MODEL_362caf20c3774c62ae0ecfe216ee4e73",
       "tooltip": null
      }
     },
     "4241589aef2747c18c45c7826d9b5118": {
      "model_module": "@jupyter-widgets/controls",
      "model_module_version": "2.0.0",
      "model_name": "ToggleButtonStyleModel",
      "state": {
       "description_width": "",
       "font_family": null,
       "font_size": null,
       "font_style": null,
       "font_variant": null,
       "font_weight": null,
       "text_color": null,
       "text_decoration": null
      }
     },
     "42c8a610ba5c42ab8863eb788b8e645a": {
      "model_module": "@jupyter-widgets/controls",
      "model_module_version": "2.0.0",
      "model_name": "ToggleButtonModel",
      "state": {
       "button_style": "success",
       "disabled": true,
       "layout": "IPY_MODEL_8d696421995345d1b22a15e63c05a8e0",
       "style": "IPY_MODEL_a068b1ee76ea490983b2eeeeb9276417",
       "tooltip": null
      }
     },
     "42cdb871d80542a99533c0e190a18dee": {
      "model_module": "@jupyter-widgets/base",
      "model_module_version": "2.0.0",
      "model_name": "LayoutModel",
      "state": {}
     },
     "42eef6a4c4f04ad08c88d216b6f7c5a1": {
      "model_module": "@jupyter-widgets/controls",
      "model_module_version": "2.0.0",
      "model_name": "ToggleButtonStyleModel",
      "state": {
       "description_width": "",
       "font_family": null,
       "font_size": null,
       "font_style": null,
       "font_variant": null,
       "font_weight": null,
       "text_color": null,
       "text_decoration": null
      }
     },
     "431e811fb4b44e9aacf0599b5079aa22": {
      "model_module": "@jupyter-widgets/controls",
      "model_module_version": "2.0.0",
      "model_name": "ToggleButtonStyleModel",
      "state": {
       "description_width": "",
       "font_family": null,
       "font_size": null,
       "font_style": null,
       "font_variant": null,
       "font_weight": null,
       "text_color": null,
       "text_decoration": null
      }
     },
     "4325b91f0ab943b5a0a6a364631fdfaf": {
      "model_module": "@jupyter-widgets/controls",
      "model_module_version": "2.0.0",
      "model_name": "ToggleButtonModel",
      "state": {
       "button_style": "warning",
       "disabled": true,
       "layout": "IPY_MODEL_9c61bb957f7c4a25976dcbd6e83798b8",
       "style": "IPY_MODEL_96144b023cf1461980eba4bb7ed74f23",
       "tooltip": null
      }
     },
     "435f6a6271014241b3e62145f274c980": {
      "model_module": "@jupyter-widgets/controls",
      "model_module_version": "2.0.0",
      "model_name": "ToggleButtonStyleModel",
      "state": {
       "description_width": "",
       "font_family": null,
       "font_size": null,
       "font_style": null,
       "font_variant": null,
       "font_weight": null,
       "text_color": null,
       "text_decoration": null
      }
     },
     "43ab2b8d3ed14ca8be96ff814d4344b3": {
      "model_module": "@jupyter-widgets/controls",
      "model_module_version": "2.0.0",
      "model_name": "ToggleButtonStyleModel",
      "state": {
       "description_width": "",
       "font_family": null,
       "font_size": null,
       "font_style": null,
       "font_variant": null,
       "font_weight": null,
       "text_color": null,
       "text_decoration": null
      }
     },
     "43c35470f5614756991770f55ac3cae0": {
      "model_module": "@jupyter-widgets/controls",
      "model_module_version": "2.0.0",
      "model_name": "ToggleButtonModel",
      "state": {
       "description": "▼",
       "layout": "IPY_MODEL_cbb007f4b9644615acf96a9592fe5eea",
       "style": "IPY_MODEL_a9b9d6a9c86b4b89af8256fc4eeb8d17",
       "tooltip": null
      }
     },
     "43e17810302548078e2ff50ac2c91c65": {
      "model_module": "@jupyter-widgets/controls",
      "model_module_version": "2.0.0",
      "model_name": "ToggleButtonModel",
      "state": {
       "button_style": "success",
       "disabled": true,
       "layout": "IPY_MODEL_58452c5b934e45b59b40dbda05b4d47c",
       "style": "IPY_MODEL_08501431495b4fdcb81026b3da2b0651",
       "tooltip": null
      }
     },
     "43f19bac46b44a7c8063950ef6adcd7f": {
      "model_module": "@jupyter-widgets/controls",
      "model_module_version": "2.0.0",
      "model_name": "ToggleButtonStyleModel",
      "state": {
       "description_width": "",
       "font_family": null,
       "font_size": null,
       "font_style": null,
       "font_variant": null,
       "font_weight": null,
       "text_color": null,
       "text_decoration": null
      }
     },
     "43fa673f59bb4a449f03dd80ccda0666": {
      "model_module": "@jupyter-widgets/controls",
      "model_module_version": "2.0.0",
      "model_name": "ToggleButtonStyleModel",
      "state": {
       "description_width": "",
       "font_family": null,
       "font_size": null,
       "font_style": null,
       "font_variant": null,
       "font_weight": null,
       "text_color": null,
       "text_decoration": null
      }
     },
     "44093116289d40029766e3308f665341": {
      "model_module": "@jupyter-widgets/controls",
      "model_module_version": "2.0.0",
      "model_name": "ToggleButtonStyleModel",
      "state": {
       "description_width": "",
       "font_family": null,
       "font_size": null,
       "font_style": null,
       "font_variant": null,
       "font_weight": null,
       "text_color": null,
       "text_decoration": null
      }
     },
     "441799f58c7840589ca14c242d62ea9e": {
      "model_module": "@jupyter-widgets/controls",
      "model_module_version": "2.0.0",
      "model_name": "ToggleButtonStyleModel",
      "state": {
       "description_width": "",
       "font_family": null,
       "font_size": null,
       "font_style": null,
       "font_variant": null,
       "font_weight": null,
       "text_color": null,
       "text_decoration": null
      }
     },
     "449de879fd6646af9d43afe92c214d82": {
      "model_module": "@jupyter-widgets/controls",
      "model_module_version": "2.0.0",
      "model_name": "ToggleButtonModel",
      "state": {
       "button_style": "success",
       "disabled": true,
       "layout": "IPY_MODEL_cbb007f4b9644615acf96a9592fe5eea",
       "style": "IPY_MODEL_c9afcb7ae46d4ebbbc60312a635e00f9",
       "tooltip": null
      }
     },
     "44aec42f87a343cb8835e4f23d5bbc20": {
      "model_module": "@jupyter-widgets/controls",
      "model_module_version": "2.0.0",
      "model_name": "ToggleButtonStyleModel",
      "state": {
       "description_width": "",
       "font_family": null,
       "font_size": null,
       "font_style": null,
       "font_variant": null,
       "font_weight": null,
       "text_color": null,
       "text_decoration": null
      }
     },
     "44c10bab5bd34a2ca2b5d0f5b8d459e5": {
      "model_module": "@jupyter-widgets/controls",
      "model_module_version": "2.0.0",
      "model_name": "ToggleButtonModel",
      "state": {
       "button_style": "success",
       "disabled": true,
       "layout": "IPY_MODEL_1984f7edee3c4b9ebcaaf4fd4d1bd535",
       "style": "IPY_MODEL_b724b774e52a4811a25c309f663f9e1d",
       "tooltip": null
      }
     },
     "44e30179fc9045b797dedc02804a7132": {
      "model_module": "@jupyter-widgets/controls",
      "model_module_version": "2.0.0",
      "model_name": "ToggleButtonStyleModel",
      "state": {
       "description_width": "",
       "font_family": null,
       "font_size": null,
       "font_style": null,
       "font_variant": null,
       "font_weight": null,
       "text_color": null,
       "text_decoration": null
      }
     },
     "4509e8f754d94e5ba72447a3845d4eba": {
      "model_module": "@jupyter-widgets/controls",
      "model_module_version": "2.0.0",
      "model_name": "ToggleButtonModel",
      "state": {
       "button_style": "success",
       "disabled": true,
       "layout": "IPY_MODEL_cbb007f4b9644615acf96a9592fe5eea",
       "style": "IPY_MODEL_08dda2c7438144cfa2cc4c90adf5bbf8",
       "tooltip": null
      }
     },
     "450eb5742dce403fa13e32fe666aa9c6": {
      "model_module": "@jupyter-widgets/controls",
      "model_module_version": "2.0.0",
      "model_name": "ToggleButtonModel",
      "state": {
       "button_style": "success",
       "disabled": true,
       "layout": "IPY_MODEL_1984f7edee3c4b9ebcaaf4fd4d1bd535",
       "style": "IPY_MODEL_097d26fe0f324fc09f9046a00f386086",
       "tooltip": null
      }
     },
     "454451cf869843ce8018e4b36f226a3a": {
      "model_module": "@jupyter-widgets/controls",
      "model_module_version": "2.0.0",
      "model_name": "ToggleButtonStyleModel",
      "state": {
       "description_width": "",
       "font_family": null,
       "font_size": null,
       "font_style": null,
       "font_variant": null,
       "font_weight": null,
       "text_color": null,
       "text_decoration": null
      }
     },
     "455f9b5144824eb69f45eceb0ed22dcb": {
      "model_module": "@jupyter-widgets/controls",
      "model_module_version": "2.0.0",
      "model_name": "ToggleButtonStyleModel",
      "state": {
       "description_width": "",
       "font_family": null,
       "font_size": null,
       "font_style": null,
       "font_variant": null,
       "font_weight": null,
       "text_color": null,
       "text_decoration": null
      }
     },
     "4565a341ccdd474fad1bea189b81bd0b": {
      "model_module": "@jupyter-widgets/controls",
      "model_module_version": "2.0.0",
      "model_name": "ToggleButtonModel",
      "state": {
       "description": "X",
       "layout": "IPY_MODEL_cbb007f4b9644615acf96a9592fe5eea",
       "style": "IPY_MODEL_5d53eda4ba204c44a133049c87fcaffb",
       "tooltip": null
      }
     },
     "457b2839b25d49b4b244803db165571d": {
      "model_module": "@jupyter-widgets/controls",
      "model_module_version": "2.0.0",
      "model_name": "HBoxModel",
      "state": {
       "children": [
        "IPY_MODEL_e96035d3517b489caca6207531d66736",
        "IPY_MODEL_81d0eb3097d1481eaf7c8b1ab288e094",
        "IPY_MODEL_57cdcc46981e46c48821c1e4138a6f35",
        "IPY_MODEL_fd1dfb0107cc472a9b5b5c41bc268018",
        "IPY_MODEL_f1b13411cf074fdaa831c68d78989df4",
        "IPY_MODEL_524b3280bee44f768a0e2f161cea8072",
        "IPY_MODEL_bbfe55f1a5524bf28a249f10e156e631",
        "IPY_MODEL_f1645fac60554e63aab8b76e9a8e9aa4",
        "IPY_MODEL_7a35dfec99d3468bb9d947b7bcea480f"
       ],
       "layout": "IPY_MODEL_ef19620255aa4085bf56761d3db7544e"
      }
     },
     "459b4d3611f44c1ab76c81d031b6074d": {
      "model_module": "@jupyter-widgets/controls",
      "model_module_version": "2.0.0",
      "model_name": "ToggleButtonStyleModel",
      "state": {
       "description_width": "",
       "font_family": null,
       "font_size": null,
       "font_style": null,
       "font_variant": null,
       "font_weight": null,
       "text_color": null,
       "text_decoration": null
      }
     },
     "45dea969a96140669defad1186a9fba1": {
      "model_module": "@jupyter-widgets/controls",
      "model_module_version": "2.0.0",
      "model_name": "ToggleButtonModel",
      "state": {
       "button_style": "success",
       "disabled": true,
       "layout": "IPY_MODEL_2d2b7c3a0e0b4e2ea0528a045ba78de4",
       "style": "IPY_MODEL_5ad54e073e864955a74c2d91cdfa38fe",
       "tooltip": null
      }
     },
     "45f81ec0e5b44dc5966aedccc0a4403c": {
      "model_module": "@jupyter-widgets/controls",
      "model_module_version": "2.0.0",
      "model_name": "ToggleButtonStyleModel",
      "state": {
       "description_width": "",
       "font_family": null,
       "font_size": null,
       "font_style": null,
       "font_variant": null,
       "font_weight": null,
       "text_color": null,
       "text_decoration": null
      }
     },
     "45fb04f8174f4ccf9c55f0a8f2fc7409": {
      "model_module": "@jupyter-widgets/controls",
      "model_module_version": "2.0.0",
      "model_name": "ToggleButtonStyleModel",
      "state": {
       "description_width": "",
       "font_family": null,
       "font_size": null,
       "font_style": null,
       "font_variant": null,
       "font_weight": null,
       "text_color": null,
       "text_decoration": null
      }
     },
     "468ed2fa12dd47a682011418187bce0a": {
      "model_module": "@jupyter-widgets/controls",
      "model_module_version": "2.0.0",
      "model_name": "ToggleButtonModel",
      "state": {
       "button_style": "success",
       "disabled": true,
       "layout": "IPY_MODEL_2d2b7c3a0e0b4e2ea0528a045ba78de4",
       "style": "IPY_MODEL_244e3cdfd9c7454ab44cfe3bb44fbcf9",
       "tooltip": null
      }
     },
     "46afb614ab5642e0a446347c9ca5e279": {
      "model_module": "@jupyter-widgets/controls",
      "model_module_version": "2.0.0",
      "model_name": "ToggleButtonStyleModel",
      "state": {
       "description_width": "",
       "font_family": null,
       "font_size": null,
       "font_style": null,
       "font_variant": null,
       "font_weight": null,
       "text_color": null,
       "text_decoration": null
      }
     },
     "46b20eef9bc74a45a2ba72fee221c1df": {
      "model_module": "@jupyter-widgets/controls",
      "model_module_version": "2.0.0",
      "model_name": "ToggleButtonStyleModel",
      "state": {
       "description_width": "",
       "font_family": null,
       "font_size": null,
       "font_style": null,
       "font_variant": null,
       "font_weight": null,
       "text_color": null,
       "text_decoration": null
      }
     },
     "46fa0fcb325f4be694eedf2876403cbe": {
      "model_module": "@jupyter-widgets/controls",
      "model_module_version": "2.0.0",
      "model_name": "ToggleButtonModel",
      "state": {
       "button_style": "info",
       "disabled": true,
       "layout": "IPY_MODEL_9c61bb957f7c4a25976dcbd6e83798b8",
       "style": "IPY_MODEL_40a1d85759b14c86a432b400be11415b",
       "tooltip": null
      }
     },
     "4754c0a129bd45c2a5911c3c8580d3c9": {
      "model_module": "@jupyter-widgets/controls",
      "model_module_version": "2.0.0",
      "model_name": "ToggleButtonStyleModel",
      "state": {
       "description_width": "",
       "font_family": null,
       "font_size": null,
       "font_style": null,
       "font_variant": null,
       "font_weight": null,
       "text_color": null,
       "text_decoration": null
      }
     },
     "47608faeccac459ea5d2a712c17d2bd2": {
      "model_module": "@jupyter-widgets/controls",
      "model_module_version": "2.0.0",
      "model_name": "ToggleButtonModel",
      "state": {
       "description": "►",
       "layout": "IPY_MODEL_cbb007f4b9644615acf96a9592fe5eea",
       "style": "IPY_MODEL_8ab57b7d3a324e97b5b9dbc073707b51",
       "tooltip": null
      }
     },
     "47980670ec7a456ab1b4168cc24d18a1": {
      "model_module": "@jupyter-widgets/controls",
      "model_module_version": "2.0.0",
      "model_name": "ToggleButtonStyleModel",
      "state": {
       "description_width": "",
       "font_family": null,
       "font_size": null,
       "font_style": null,
       "font_variant": null,
       "font_weight": null,
       "text_color": null,
       "text_decoration": null
      }
     },
     "479c8134250a4843854ef56b1f4a88cd": {
      "model_module": "@jupyter-widgets/controls",
      "model_module_version": "2.0.0",
      "model_name": "ToggleButtonModel",
      "state": {
       "button_style": "success",
       "disabled": true,
       "layout": "IPY_MODEL_9aa0b8d99486437599924f0fdf1f9e8b",
       "style": "IPY_MODEL_76594c00a62d401ca2f8af32fc53577d",
       "tooltip": null
      }
     },
     "487e45c294e844b2b296dc734cbbd33c": {
      "model_module": "@jupyter-widgets/controls",
      "model_module_version": "2.0.0",
      "model_name": "ToggleButtonModel",
      "state": {
       "button_style": "success",
       "disabled": true,
       "layout": "IPY_MODEL_58452c5b934e45b59b40dbda05b4d47c",
       "style": "IPY_MODEL_b5a5a296fb6c4909bf8d3d37b41b3422",
       "tooltip": null
      }
     },
     "48922e7a670f47ae8acdd5d5a5ac9739": {
      "model_module": "@jupyter-widgets/controls",
      "model_module_version": "2.0.0",
      "model_name": "ToggleButtonModel",
      "state": {
       "button_style": "success",
       "disabled": true,
       "layout": "IPY_MODEL_1984f7edee3c4b9ebcaaf4fd4d1bd535",
       "style": "IPY_MODEL_95beb37847d84d83ad7aa8320d2ba271",
       "tooltip": null
      }
     },
     "48c006125d1645b69e5b5ebee1bb863a": {
      "model_module": "@jupyter-widgets/controls",
      "model_module_version": "2.0.0",
      "model_name": "ToggleButtonModel",
      "state": {
       "button_style": "success",
       "disabled": true,
       "layout": "IPY_MODEL_2d2b7c3a0e0b4e2ea0528a045ba78de4",
       "style": "IPY_MODEL_7c13f41cae5e4ba681549d3c0b99ec6b",
       "tooltip": null
      }
     },
     "48cd71a2776540f2bd6e412715528a47": {
      "model_module": "@jupyter-widgets/controls",
      "model_module_version": "2.0.0",
      "model_name": "HBoxModel",
      "state": {
       "children": [
        "IPY_MODEL_a2a3db2ee77e415ca5eb06d47fa900bf",
        "IPY_MODEL_90f1ff15c9284bc3b8f23efab9dbee29",
        "IPY_MODEL_abb34de0f1d9420597f48ee64e1d63be",
        "IPY_MODEL_642e545224714e78a6ccd30dab10dfbb",
        "IPY_MODEL_2003cf927b5e43bf875e881f075f6172",
        "IPY_MODEL_b14b01f24fc445f3b05b2bf0c564456c",
        "IPY_MODEL_c2ac2c2d89e345a5bf4a3318bac58e81",
        "IPY_MODEL_c096959e949340ea8be666fa4a516167",
        "IPY_MODEL_94cc6767a7e8447e885f233f3e4b71ae",
        "IPY_MODEL_666db75639d64290ba5efd9dc788ae1e",
        "IPY_MODEL_94cc6767a7e8447e885f233f3e4b71ae",
        "IPY_MODEL_94cc6767a7e8447e885f233f3e4b71ae",
        "IPY_MODEL_94cc6767a7e8447e885f233f3e4b71ae",
        "IPY_MODEL_4565a341ccdd474fad1bea189b81bd0b",
        "IPY_MODEL_94cc6767a7e8447e885f233f3e4b71ae"
       ],
       "layout": "IPY_MODEL_801adf3baa7443a681ae16a1230f1936"
      }
     },
     "48f1a2afdea24e4f822aa871845a01df": {
      "model_module": "@jupyter-widgets/controls",
      "model_module_version": "2.0.0",
      "model_name": "ToggleButtonStyleModel",
      "state": {
       "description_width": "",
       "font_family": null,
       "font_size": null,
       "font_style": null,
       "font_variant": null,
       "font_weight": null,
       "text_color": null,
       "text_decoration": null
      }
     },
     "495d734c067f436cbf8ffaf83205e3a3": {
      "model_module": "@jupyter-widgets/controls",
      "model_module_version": "2.0.0",
      "model_name": "ToggleButtonStyleModel",
      "state": {
       "description_width": "",
       "font_family": null,
       "font_size": null,
       "font_style": null,
       "font_variant": null,
       "font_weight": null,
       "text_color": null,
       "text_decoration": null
      }
     },
     "4975b2fb0c0c41c9bc316861fafe3580": {
      "model_module": "@jupyter-widgets/controls",
      "model_module_version": "2.0.0",
      "model_name": "ToggleButtonModel",
      "state": {
       "description": "▲",
       "layout": "IPY_MODEL_1984f7edee3c4b9ebcaaf4fd4d1bd535",
       "style": "IPY_MODEL_99865b0d58e942e8a0adc1daf1c431db",
       "tooltip": null
      }
     },
     "4987ad8e8c3c4163a761f00b0f3d9ac6": {
      "model_module": "@jupyter-widgets/controls",
      "model_module_version": "2.0.0",
      "model_name": "ToggleButtonModel",
      "state": {
       "button_style": "success",
       "disabled": true,
       "layout": "IPY_MODEL_8d696421995345d1b22a15e63c05a8e0",
       "style": "IPY_MODEL_00bcc06b11b449c8a306dffbe2e99ea9",
       "tooltip": null
      }
     },
     "4995e0c575534762a5d32dd19216383e": {
      "model_module": "@jupyter-widgets/controls",
      "model_module_version": "2.0.0",
      "model_name": "ToggleButtonModel",
      "state": {
       "button_style": "success",
       "disabled": true,
       "layout": "IPY_MODEL_8d696421995345d1b22a15e63c05a8e0",
       "style": "IPY_MODEL_9443d4369e59472aa560f26f29342c14",
       "tooltip": null
      }
     },
     "49ad5df1da78403395f96423196095cb": {
      "model_module": "@jupyter-widgets/controls",
      "model_module_version": "2.0.0",
      "model_name": "ToggleButtonModel",
      "state": {
       "button_style": "success",
       "disabled": true,
       "layout": "IPY_MODEL_1984f7edee3c4b9ebcaaf4fd4d1bd535",
       "style": "IPY_MODEL_7697f35cbf56480e93311cbb06e2a87f",
       "tooltip": null
      }
     },
     "49f0804d07c746ee93bbb1f7548b9401": {
      "model_module": "@jupyter-widgets/controls",
      "model_module_version": "2.0.0",
      "model_name": "ButtonModel",
      "state": {
       "button_style": "primary",
       "description": "Clear",
       "layout": "IPY_MODEL_f30880f22edd4e159736c42b507c070c",
       "style": "IPY_MODEL_395b51a32d90434098d44db80fcc69db",
       "tooltip": null
      }
     },
     "4a644f4ddd194ba0bfba439f97cce8cf": {
      "model_module": "@jupyter-widgets/controls",
      "model_module_version": "2.0.0",
      "model_name": "ToggleButtonStyleModel",
      "state": {
       "description_width": "",
       "font_family": null,
       "font_size": null,
       "font_style": null,
       "font_variant": null,
       "font_weight": null,
       "text_color": null,
       "text_decoration": null
      }
     },
     "4a7c988806e34e3cb788a17980527a52": {
      "model_module": "@jupyter-widgets/controls",
      "model_module_version": "2.0.0",
      "model_name": "ToggleButtonStyleModel",
      "state": {
       "description_width": "",
       "font_family": null,
       "font_size": null,
       "font_style": null,
       "font_variant": null,
       "font_weight": null,
       "text_color": null,
       "text_decoration": null
      }
     },
     "4b5ec1ec9f1048ab8b3cc494e354898f": {
      "model_module": "@jupyter-widgets/controls",
      "model_module_version": "2.0.0",
      "model_name": "ToggleButtonStyleModel",
      "state": {
       "description_width": "",
       "font_family": null,
       "font_size": null,
       "font_style": null,
       "font_variant": null,
       "font_weight": null,
       "text_color": null,
       "text_decoration": null
      }
     },
     "4b91aab471c54cbd8714880ca9f93365": {
      "model_module": "@jupyter-widgets/controls",
      "model_module_version": "2.0.0",
      "model_name": "ToggleButtonStyleModel",
      "state": {
       "description_width": "",
       "font_family": null,
       "font_size": null,
       "font_style": null,
       "font_variant": null,
       "font_weight": null,
       "text_color": null,
       "text_decoration": null
      }
     },
     "4bc02b37c6bf40788c688b29a71151c5": {
      "model_module": "@jupyter-widgets/base",
      "model_module_version": "2.0.0",
      "model_name": "LayoutModel",
      "state": {}
     },
     "4c83f7c6fa6c494f95d729675133b826": {
      "model_module": "@jupyter-widgets/controls",
      "model_module_version": "2.0.0",
      "model_name": "ToggleButtonModel",
      "state": {
       "button_style": "warning",
       "disabled": true,
       "layout": "IPY_MODEL_9c61bb957f7c4a25976dcbd6e83798b8",
       "style": "IPY_MODEL_3cd188dd4c6c4a67a43c775ebc92e04d",
       "tooltip": null
      }
     },
     "4cd037b748e74148b0c9a2371c5039e6": {
      "model_module": "@jupyter-widgets/controls",
      "model_module_version": "2.0.0",
      "model_name": "ToggleButtonModel",
      "state": {
       "button_style": "success",
       "disabled": true,
       "layout": "IPY_MODEL_cbb007f4b9644615acf96a9592fe5eea",
       "style": "IPY_MODEL_6ec5d1428e5e43f0afac1a4fbbb27d0f",
       "tooltip": null
      }
     },
     "4ce9a8b575ef4f5194af1b6b0975ee2e": {
      "model_module": "@jupyter-widgets/controls",
      "model_module_version": "2.0.0",
      "model_name": "HBoxModel",
      "state": {
       "children": [
        "IPY_MODEL_2e2b8bf05bd64ebc9c2e64060835b357",
        "IPY_MODEL_f1d1309e75764dc3a099e7128d6f58f8",
        "IPY_MODEL_bf58c7ed828443a6832d8c8804300950",
        "IPY_MODEL_f824edf896df4211a7f194729f7b143d",
        "IPY_MODEL_2de379fd3e4b491086b7801ce18cbf93",
        "IPY_MODEL_e29704a3560f4e05a0692be068df489a",
        "IPY_MODEL_84e6f01bf1a44464821eceba0acfa322",
        "IPY_MODEL_fb9baa4b82d947f29357173f12b35ad3",
        "IPY_MODEL_97164b7ceb524bae9b460dd0ee9c58bb",
        "IPY_MODEL_872dc5af1fce439d8f3bd2d6cb1f2021",
        "IPY_MODEL_97164b7ceb524bae9b460dd0ee9c58bb",
        "IPY_MODEL_97164b7ceb524bae9b460dd0ee9c58bb",
        "IPY_MODEL_97164b7ceb524bae9b460dd0ee9c58bb",
        "IPY_MODEL_543b47ec0c8a49abb11ab0366360f19b",
        "IPY_MODEL_97164b7ceb524bae9b460dd0ee9c58bb"
       ],
       "layout": "IPY_MODEL_2ea84502fab3430c97820abbce74c466"
      }
     },
     "4cf297861d874774bebf9124f6575b85": {
      "model_module": "@jupyter-widgets/controls",
      "model_module_version": "2.0.0",
      "model_name": "ToggleButtonModel",
      "state": {
       "description": "▼",
       "layout": "IPY_MODEL_9c61bb957f7c4a25976dcbd6e83798b8",
       "style": "IPY_MODEL_6a76b3bfe469464daa55f52f51b6bfa3",
       "tooltip": null
      }
     },
     "4d15f98ded4c4391ad7858e21db85ea3": {
      "model_module": "@jupyter-widgets/controls",
      "model_module_version": "2.0.0",
      "model_name": "ToggleButtonModel",
      "state": {
       "button_style": "success",
       "disabled": true,
       "layout": "IPY_MODEL_2d2b7c3a0e0b4e2ea0528a045ba78de4",
       "style": "IPY_MODEL_19b038a29d2a47e1a7dc56a7157d70e0",
       "tooltip": null
      }
     },
     "4d42618a95084fd9a2cacbfde3d15fc3": {
      "model_module": "@jupyter-widgets/controls",
      "model_module_version": "2.0.0",
      "model_name": "ToggleButtonStyleModel",
      "state": {
       "description_width": "",
       "font_family": null,
       "font_size": null,
       "font_style": null,
       "font_variant": null,
       "font_weight": null,
       "text_color": null,
       "text_decoration": null
      }
     },
     "4dec2c000c9a4923823de68bf1d6cc4b": {
      "model_module": "@jupyter-widgets/controls",
      "model_module_version": "2.0.0",
      "model_name": "HBoxModel",
      "state": {
       "children": [
        "IPY_MODEL_dc53899de0064505b110758e6467e923",
        "IPY_MODEL_ae72f6f56bc741f19713bc1fa60fa728",
        "IPY_MODEL_9554e9dd5aef42b6bcb988ed4055526a",
        "IPY_MODEL_5537ff05bb144cec8fbf0e4f04321203",
        "IPY_MODEL_ae4f495676394766ade1dad5d443c09d",
        "IPY_MODEL_0655aab814824f0a86968f885d9e075e",
        "IPY_MODEL_92d8b25afe12438fb8e4c03fa140998f",
        "IPY_MODEL_f211d368b21049a89429d1fd6cc84c51"
       ],
       "layout": "IPY_MODEL_b9b78ffbff82480c84b734b2886119a8"
      }
     },
     "4e55e36a3b3446249bc9771b35c19bea": {
      "model_module": "@jupyter-widgets/controls",
      "model_module_version": "2.0.0",
      "model_name": "ToggleButtonModel",
      "state": {
       "button_style": "success",
       "disabled": true,
       "layout": "IPY_MODEL_cbb007f4b9644615acf96a9592fe5eea",
       "style": "IPY_MODEL_0702a46f3c1341768e9ebd7a01dcd6a2",
       "tooltip": null
      }
     },
     "4e669078617749539e44ab311aaa624f": {
      "model_module": "@jupyter-widgets/controls",
      "model_module_version": "2.0.0",
      "model_name": "ToggleButtonModel",
      "state": {
       "button_style": "success",
       "disabled": true,
       "layout": "IPY_MODEL_8d696421995345d1b22a15e63c05a8e0",
       "style": "IPY_MODEL_3cd0b500e8714d0d9395b6375e658460",
       "tooltip": null
      }
     },
     "4edc47a796bd437a821a2470d5db4996": {
      "model_module": "@jupyter-widgets/controls",
      "model_module_version": "2.0.0",
      "model_name": "ToggleButtonModel",
      "state": {
       "button_style": "success",
       "disabled": true,
       "layout": "IPY_MODEL_58452c5b934e45b59b40dbda05b4d47c",
       "style": "IPY_MODEL_61b576608ce84965a2ce4e59f76c89c8",
       "tooltip": null
      }
     },
     "4f63a8604b2c4b80bd08ecb115f0b4cf": {
      "model_module": "@jupyter-widgets/controls",
      "model_module_version": "2.0.0",
      "model_name": "ToggleButtonModel",
      "state": {
       "button_style": "info",
       "disabled": true,
       "layout": "IPY_MODEL_9c61bb957f7c4a25976dcbd6e83798b8",
       "style": "IPY_MODEL_bcb85bac7cef4f1c84ca145390841731",
       "tooltip": null
      }
     },
     "4f9d5f568ddd42eda1d7edb774bfeec1": {
      "model_module": "@jupyter-widgets/controls",
      "model_module_version": "2.0.0",
      "model_name": "ToggleButtonModel",
      "state": {
       "button_style": "success",
       "disabled": true,
       "layout": "IPY_MODEL_2d2b7c3a0e0b4e2ea0528a045ba78de4",
       "style": "IPY_MODEL_84843e7c34494ecf929acf392889f3b4",
       "tooltip": null
      }
     },
     "4fc7d4924b1f4acaa8f807233eb9d66f": {
      "model_module": "@jupyter-widgets/controls",
      "model_module_version": "2.0.0",
      "model_name": "ToggleButtonStyleModel",
      "state": {
       "description_width": "",
       "font_family": null,
       "font_size": null,
       "font_style": null,
       "font_variant": null,
       "font_weight": null,
       "text_color": null,
       "text_decoration": null
      }
     },
     "4fee83b9a45c4df68a6a7b4c4761c0c2": {
      "model_module": "@jupyter-widgets/controls",
      "model_module_version": "2.0.0",
      "model_name": "ToggleButtonStyleModel",
      "state": {
       "description_width": "",
       "font_family": null,
       "font_size": null,
       "font_style": null,
       "font_variant": null,
       "font_weight": null,
       "text_color": null,
       "text_decoration": null
      }
     },
     "5018d82643984f26ae8fa9691be1910c": {
      "model_module": "@jupyter-widgets/controls",
      "model_module_version": "2.0.0",
      "model_name": "ToggleButtonModel",
      "state": {
       "description": "Next",
       "layout": "IPY_MODEL_7b10c5878e1a4abf8fb45ad91cd0cf01",
       "style": "IPY_MODEL_5e1ce1d7e80d4bf68d422a0b1fc4c7a9",
       "tooltip": null
      }
     },
     "5058a505d52e4070b3238bea5de7932c": {
      "model_module": "@jupyter-widgets/controls",
      "model_module_version": "2.0.0",
      "model_name": "ToggleButtonStyleModel",
      "state": {
       "description_width": "",
       "font_family": null,
       "font_size": null,
       "font_style": null,
       "font_variant": null,
       "font_weight": null,
       "text_color": null,
       "text_decoration": null
      }
     },
     "507c625985ac466ebdb32716801f3cb7": {
      "model_module": "@jupyter-widgets/controls",
      "model_module_version": "2.0.0",
      "model_name": "ToggleButtonModel",
      "state": {
       "button_style": "success",
       "disabled": true,
       "layout": "IPY_MODEL_2d2b7c3a0e0b4e2ea0528a045ba78de4",
       "style": "IPY_MODEL_4754c0a129bd45c2a5911c3c8580d3c9",
       "tooltip": null
      }
     },
     "50838f1062ff4508a29cb6b49cb2a358": {
      "model_module": "@jupyter-widgets/base",
      "model_module_version": "2.0.0",
      "model_name": "LayoutModel",
      "state": {}
     },
     "50bb3af79e1343de935e5082a588a905": {
      "model_module": "@jupyter-widgets/controls",
      "model_module_version": "2.0.0",
      "model_name": "ToggleButtonModel",
      "state": {
       "button_style": "success",
       "disabled": true,
       "layout": "IPY_MODEL_1984f7edee3c4b9ebcaaf4fd4d1bd535",
       "style": "IPY_MODEL_555c1eb2209c44b58ff3361f24fd78a7",
       "tooltip": null
      }
     },
     "511cb6da3e5741698dd5b697586c3d7e": {
      "model_module": "@jupyter-widgets/controls",
      "model_module_version": "2.0.0",
      "model_name": "ToggleButtonModel",
      "state": {
       "button_style": "success",
       "disabled": true,
       "layout": "IPY_MODEL_9aa0b8d99486437599924f0fdf1f9e8b",
       "style": "IPY_MODEL_9e97ab6a78374cd285b6837df6e4791e",
       "tooltip": null
      }
     },
     "51284d4987004ec4af9e44210e5e6e98": {
      "model_module": "@jupyter-widgets/controls",
      "model_module_version": "2.0.0",
      "model_name": "ToggleButtonModel",
      "state": {
       "button_style": "success",
       "disabled": true,
       "layout": "IPY_MODEL_58452c5b934e45b59b40dbda05b4d47c",
       "style": "IPY_MODEL_ecd4eaf12ae34700bce7927b7ee0b5bd",
       "tooltip": null
      }
     },
     "512f9c4c147f45e4998a22c22a999aeb": {
      "model_module": "@jupyter-widgets/controls",
      "model_module_version": "2.0.0",
      "model_name": "ToggleButtonStyleModel",
      "state": {
       "description_width": "",
       "font_family": null,
       "font_size": null,
       "font_style": null,
       "font_variant": null,
       "font_weight": null,
       "text_color": null,
       "text_decoration": null
      }
     },
     "51406c8d109d40df8a965b2378811908": {
      "model_module": "@jupyter-widgets/controls",
      "model_module_version": "2.0.0",
      "model_name": "ToggleButtonModel",
      "state": {
       "button_style": "success",
       "disabled": true,
       "layout": "IPY_MODEL_2d2b7c3a0e0b4e2ea0528a045ba78de4",
       "style": "IPY_MODEL_5a460a0ff53b427790f35893a8ba417e",
       "tooltip": null
      }
     },
     "514f6536481f4cee98cad9e437d6d779": {
      "model_module": "@jupyter-widgets/controls",
      "model_module_version": "2.0.0",
      "model_name": "ToggleButtonModel",
      "state": {
       "button_style": "success",
       "disabled": true,
       "layout": "IPY_MODEL_2d2b7c3a0e0b4e2ea0528a045ba78de4",
       "style": "IPY_MODEL_8445e9cf4c414dc38a68c45c565a0f83",
       "tooltip": null
      }
     },
     "51691fd65a9647b39db35b7953b80a9a": {
      "model_module": "@jupyter-widgets/controls",
      "model_module_version": "2.0.0",
      "model_name": "ToggleButtonStyleModel",
      "state": {
       "description_width": "",
       "font_family": null,
       "font_size": null,
       "font_style": null,
       "font_variant": null,
       "font_weight": null,
       "text_color": null,
       "text_decoration": null
      }
     },
     "518bc9a11a464e7ca5511c6ad627bc1e": {
      "model_module": "@jupyter-widgets/controls",
      "model_module_version": "2.0.0",
      "model_name": "ToggleButtonModel",
      "state": {
       "description": "►",
       "layout": "IPY_MODEL_2d2b7c3a0e0b4e2ea0528a045ba78de4",
       "style": "IPY_MODEL_b90391e379e54080ac5b09c26cabc4fd",
       "tooltip": null
      }
     },
     "51910faec9444361803c12989b3b6caa": {
      "model_module": "@jupyter-widgets/controls",
      "model_module_version": "2.0.0",
      "model_name": "ToggleButtonStyleModel",
      "state": {
       "description_width": "",
       "font_family": null,
       "font_size": null,
       "font_style": null,
       "font_variant": null,
       "font_weight": null,
       "text_color": null,
       "text_decoration": null
      }
     },
     "51d5264eff154078843e4d3f65cc0b53": {
      "model_module": "@jupyter-widgets/controls",
      "model_module_version": "2.0.0",
      "model_name": "ToggleButtonModel",
      "state": {
       "button_style": "success",
       "disabled": true,
       "layout": "IPY_MODEL_3831200db05b4a7986a2bfa009c0e327",
       "style": "IPY_MODEL_606e383b970c4666ab4f4ad51fcf3a6c",
       "tooltip": null
      }
     },
     "51e5e4c0b9ed4a499dc02e3f572e6898": {
      "model_module": "@jupyter-widgets/controls",
      "model_module_version": "2.0.0",
      "model_name": "ToggleButtonModel",
      "state": {
       "button_style": "warning",
       "disabled": true,
       "layout": "IPY_MODEL_9c61bb957f7c4a25976dcbd6e83798b8",
       "style": "IPY_MODEL_6305eaa5d579451a878712278442595c",
       "tooltip": null
      }
     },
     "51f4ef17a71347cab3997d695e94976d": {
      "model_module": "@jupyter-widgets/controls",
      "model_module_version": "2.0.0",
      "model_name": "HBoxModel",
      "state": {
       "children": [
        "IPY_MODEL_5cdd410ffa4f4e7c9f3c4e257216c43f",
        "IPY_MODEL_93de14ddc1564318a3183bbc74aaa317",
        "IPY_MODEL_fb09a48e8c344dcea89bb2c24ef820c5",
        "IPY_MODEL_b30d7b62345144aca151b61f7df22ecd",
        "IPY_MODEL_eb72bb6d123f4faf9f111a6f04634e64",
        "IPY_MODEL_0090e56f415f415ebfc2711b2158466d",
        "IPY_MODEL_aa7f0b262b834cfeb0a7287a2be27839",
        "IPY_MODEL_543dd8cdc6f44e4d9eb6539099486c58"
       ],
       "layout": "IPY_MODEL_f15fd0ea4ff048d789121e750fa4e61e"
      }
     },
     "524b3280bee44f768a0e2f161cea8072": {
      "model_module": "@jupyter-widgets/controls",
      "model_module_version": "2.0.0",
      "model_name": "ToggleButtonModel",
      "state": {
       "button_style": "success",
       "disabled": true,
       "layout": "IPY_MODEL_58452c5b934e45b59b40dbda05b4d47c",
       "style": "IPY_MODEL_dac9cd920ae24490bbfef3c601b0f646",
       "tooltip": null
      }
     },
     "52b8df2e598e41aeaaf0dbd6643b36dd": {
      "model_module": "@jupyter-widgets/controls",
      "model_module_version": "2.0.0",
      "model_name": "ToggleButtonStyleModel",
      "state": {
       "description_width": "",
       "font_family": null,
       "font_size": null,
       "font_style": null,
       "font_variant": null,
       "font_weight": null,
       "text_color": null,
       "text_decoration": null
      }
     },
     "52ecb97f2e6249dfa32b3115530195d2": {
      "model_module": "@jupyter-widgets/controls",
      "model_module_version": "2.0.0",
      "model_name": "ToggleButtonModel",
      "state": {
       "button_style": "success",
       "disabled": true,
       "layout": "IPY_MODEL_1984f7edee3c4b9ebcaaf4fd4d1bd535",
       "style": "IPY_MODEL_2afeeb9a679845729db7318bd1900f47",
       "tooltip": null
      }
     },
     "53307f6fb9c4479d9d0c4266c128814d": {
      "model_module": "@jupyter-widgets/controls",
      "model_module_version": "2.0.0",
      "model_name": "ToggleButtonModel",
      "state": {
       "button_style": "success",
       "disabled": true,
       "layout": "IPY_MODEL_3831200db05b4a7986a2bfa009c0e327",
       "style": "IPY_MODEL_91efb14ba24d481e9055d56935f51c5c",
       "tooltip": null
      }
     },
     "5361f1764c664ea2ac1e823314f4248e": {
      "model_module": "@jupyter-widgets/controls",
      "model_module_version": "2.0.0",
      "model_name": "ToggleButtonModel",
      "state": {
       "button_style": "success",
       "disabled": true,
       "layout": "IPY_MODEL_2d2b7c3a0e0b4e2ea0528a045ba78de4",
       "style": "IPY_MODEL_88647ed75ce2494abddee468684b52fc",
       "tooltip": null
      }
     },
     "53b52a062c5d44f49ada048fff242641": {
      "model_module": "@jupyter-widgets/controls",
      "model_module_version": "2.0.0",
      "model_name": "HBoxModel",
      "state": {
       "children": [
        "IPY_MODEL_b99189482be44afb8ac11f9c5721a01a",
        "IPY_MODEL_257802daab344d098c37c0273a49c938",
        "IPY_MODEL_2539f113973c420ea8d516093582caae",
        "IPY_MODEL_8a5a6b82a1d9487795bf377d19d580d5",
        "IPY_MODEL_e602941b3f864aca9bc7a6f2b3b6e826",
        "IPY_MODEL_8c2eda795ee54a86b81e8b2015941f74",
        "IPY_MODEL_65a7e3caf8b94641b41b49f80b39c93f",
        "IPY_MODEL_ad6f1bd045934518a6a884f08f3c2145",
        "IPY_MODEL_2167418724ce4497b3578ac58a4e0361",
        "IPY_MODEL_f82297d58f1a42b2a94ab5f9dedf188a",
        "IPY_MODEL_2167418724ce4497b3578ac58a4e0361",
        "IPY_MODEL_2167418724ce4497b3578ac58a4e0361",
        "IPY_MODEL_2167418724ce4497b3578ac58a4e0361",
        "IPY_MODEL_cc198312b0144382949866fa88441c78",
        "IPY_MODEL_2167418724ce4497b3578ac58a4e0361"
       ],
       "layout": "IPY_MODEL_33815b358e5543b693c0268fa1b30d3e"
      }
     },
     "543b47ec0c8a49abb11ab0366360f19b": {
      "model_module": "@jupyter-widgets/controls",
      "model_module_version": "2.0.0",
      "model_name": "ToggleButtonModel",
      "state": {
       "description": "B",
       "layout": "IPY_MODEL_3831200db05b4a7986a2bfa009c0e327",
       "style": "IPY_MODEL_88cb726c153c4786baea5f3ab15ca0e5",
       "tooltip": null
      }
     },
     "543dd8cdc6f44e4d9eb6539099486c58": {
      "model_module": "@jupyter-widgets/controls",
      "model_module_version": "2.0.0",
      "model_name": "ToggleButtonModel",
      "state": {
       "button_style": "success",
       "disabled": true,
       "layout": "IPY_MODEL_58452c5b934e45b59b40dbda05b4d47c",
       "style": "IPY_MODEL_78a657789f314ecf96f0665d76fb8561",
       "tooltip": null
      }
     },
     "5448d80f48f448d5b3d39fc91994ce48": {
      "model_module": "@jupyter-widgets/controls",
      "model_module_version": "2.0.0",
      "model_name": "ToggleButtonModel",
      "state": {
       "button_style": "success",
       "disabled": true,
       "layout": "IPY_MODEL_3831200db05b4a7986a2bfa009c0e327",
       "style": "IPY_MODEL_cdf3b264cd8842d3a07ebd10835f6f98",
       "tooltip": null
      }
     },
     "5519445a1c0d47279d45633918682211": {
      "model_module": "@jupyter-widgets/base",
      "model_module_version": "2.0.0",
      "model_name": "LayoutModel",
      "state": {}
     },
     "55228eff705e418b8327c0df99e92be3": {
      "model_module": "@jupyter-widgets/base",
      "model_module_version": "2.0.0",
      "model_name": "LayoutModel",
      "state": {}
     },
     "5537ff05bb144cec8fbf0e4f04321203": {
      "model_module": "@jupyter-widgets/controls",
      "model_module_version": "2.0.0",
      "model_name": "ToggleButtonModel",
      "state": {
       "button_style": "success",
       "disabled": true,
       "layout": "IPY_MODEL_8d696421995345d1b22a15e63c05a8e0",
       "style": "IPY_MODEL_8c478f1821704a24825585f8da0ad8f3",
       "tooltip": null
      }
     },
     "553d4aaa60e141b89f53ad82ea5e38d4": {
      "model_module": "@jupyter-widgets/controls",
      "model_module_version": "2.0.0",
      "model_name": "ToggleButtonModel",
      "state": {
       "button_style": "success",
       "disabled": true,
       "layout": "IPY_MODEL_9aa0b8d99486437599924f0fdf1f9e8b",
       "style": "IPY_MODEL_55d9310758c34a468318cc32e4e38452",
       "tooltip": null
      }
     },
     "555c1eb2209c44b58ff3361f24fd78a7": {
      "model_module": "@jupyter-widgets/controls",
      "model_module_version": "2.0.0",
      "model_name": "ToggleButtonStyleModel",
      "state": {
       "description_width": "",
       "font_family": null,
       "font_size": null,
       "font_style": null,
       "font_variant": null,
       "font_weight": null,
       "text_color": null,
       "text_decoration": null
      }
     },
     "55695c67ad194600ba7f622be5c0bc68": {
      "model_module": "@jupyter-widgets/controls",
      "model_module_version": "2.0.0",
      "model_name": "ToggleButtonStyleModel",
      "state": {
       "description_width": "",
       "font_family": null,
       "font_size": null,
       "font_style": null,
       "font_variant": null,
       "font_weight": null,
       "text_color": null,
       "text_decoration": null
      }
     },
     "558d0269b24749389cdb87be19e75fd4": {
      "model_module": "@jupyter-widgets/controls",
      "model_module_version": "2.0.0",
      "model_name": "ToggleButtonStyleModel",
      "state": {
       "description_width": "",
       "font_family": null,
       "font_size": null,
       "font_style": null,
       "font_variant": null,
       "font_weight": null,
       "text_color": null,
       "text_decoration": null
      }
     },
     "55d9310758c34a468318cc32e4e38452": {
      "model_module": "@jupyter-widgets/controls",
      "model_module_version": "2.0.0",
      "model_name": "ToggleButtonStyleModel",
      "state": {
       "description_width": "",
       "font_family": null,
       "font_size": null,
       "font_style": null,
       "font_variant": null,
       "font_weight": null,
       "text_color": null,
       "text_decoration": null
      }
     },
     "55dca64794a44ffd9d84ce9b6bd8b262": {
      "model_module": "@jupyter-widgets/controls",
      "model_module_version": "2.0.0",
      "model_name": "ToggleButtonModel",
      "state": {
       "button_style": "success",
       "disabled": true,
       "layout": "IPY_MODEL_1984f7edee3c4b9ebcaaf4fd4d1bd535",
       "style": "IPY_MODEL_ffb3d20029e84cfcb2ebf232a3be7479",
       "tooltip": null
      }
     },
     "55df3a21d88148b481fba942e9517549": {
      "model_module": "@jupyter-widgets/controls",
      "model_module_version": "2.0.0",
      "model_name": "ToggleButtonModel",
      "state": {
       "button_style": "success",
       "disabled": true,
       "layout": "IPY_MODEL_9aa0b8d99486437599924f0fdf1f9e8b",
       "style": "IPY_MODEL_90cb314dc0b54735a53ecc9ec0b1370f",
       "tooltip": null
      }
     },
     "56833bd0768b4ee09479687ff8e9cd65": {
      "model_module": "@jupyter-widgets/controls",
      "model_module_version": "2.0.0",
      "model_name": "ToggleButtonModel",
      "state": {
       "button_style": "success",
       "disabled": true,
       "layout": "IPY_MODEL_9aa0b8d99486437599924f0fdf1f9e8b",
       "style": "IPY_MODEL_723955b49859496bbf1c01b7b3aa2b40",
       "tooltip": null
      }
     },
     "56b7735c9b4840deaa4218bb025ccf82": {
      "model_module": "@jupyter-widgets/controls",
      "model_module_version": "2.0.0",
      "model_name": "ToggleButtonModel",
      "state": {
       "button_style": "success",
       "disabled": true,
       "layout": "IPY_MODEL_58452c5b934e45b59b40dbda05b4d47c",
       "style": "IPY_MODEL_e0876172a5dd4abf87511d5fc88b2374",
       "tooltip": null
      }
     },
     "56c5613d818e4118aef0f9221c5a5b9c": {
      "model_module": "@jupyter-widgets/controls",
      "model_module_version": "2.0.0",
      "model_name": "ToggleButtonModel",
      "state": {
       "button_style": "success",
       "disabled": true,
       "layout": "IPY_MODEL_2d2b7c3a0e0b4e2ea0528a045ba78de4",
       "style": "IPY_MODEL_d2730f2c30084f08930ae8a6e049af33",
       "tooltip": null
      }
     },
     "56c92b034b874876b0fdc1df8934104c": {
      "model_module": "@jupyter-widgets/controls",
      "model_module_version": "2.0.0",
      "model_name": "ToggleButtonStyleModel",
      "state": {
       "description_width": "",
       "font_family": null,
       "font_size": null,
       "font_style": null,
       "font_variant": null,
       "font_weight": null,
       "text_color": null,
       "text_decoration": null
      }
     },
     "577a856d989b470cb89782cd7f005b89": {
      "model_module": "@jupyter-widgets/controls",
      "model_module_version": "2.0.0",
      "model_name": "VBoxModel",
      "state": {
       "children": [
        "IPY_MODEL_48cd71a2776540f2bd6e412715528a47",
        "IPY_MODEL_780924665834443a93dc1f59b9e81e18",
        "IPY_MODEL_c81581a06e6249268c74c61632d2fefb",
        "IPY_MODEL_078febfa15bc4f0cb1212dad9432beb0",
        "IPY_MODEL_c07779827526414ebe2cf7bfc4fe5023",
        "IPY_MODEL_23c0d5083c424d28923bbc6a50703ece",
        "IPY_MODEL_402382a161a34729ba8d8b225499b02d",
        "IPY_MODEL_636cdb5bffb84b9ea3ab122a4e8e32b6",
        "IPY_MODEL_18499c1e6e43481fa9ef66544421feca"
       ],
       "layout": "IPY_MODEL_21843aaf85e34f4580b83db9f56f8cd8"
      }
     },
     "5797d4843bd744a1b7440c1f9d734d4c": {
      "model_module": "@jupyter-widgets/controls",
      "model_module_version": "2.0.0",
      "model_name": "ToggleButtonModel",
      "state": {
       "button_style": "success",
       "disabled": true,
       "layout": "IPY_MODEL_3831200db05b4a7986a2bfa009c0e327",
       "style": "IPY_MODEL_cd5d65c28ee24fb6b5f733a7a25bf3d8",
       "tooltip": null
      }
     },
     "57c6a801988c425884547abf1d869401": {
      "model_module": "@jupyter-widgets/controls",
      "model_module_version": "2.0.0",
      "model_name": "ToggleButtonStyleModel",
      "state": {
       "description_width": "",
       "font_family": null,
       "font_size": null,
       "font_style": null,
       "font_variant": null,
       "font_weight": null,
       "text_color": null,
       "text_decoration": null
      }
     },
     "57cdcc46981e46c48821c1e4138a6f35": {
      "model_module": "@jupyter-widgets/controls",
      "model_module_version": "2.0.0",
      "model_name": "ToggleButtonModel",
      "state": {
       "button_style": "success",
       "disabled": true,
       "layout": "IPY_MODEL_58452c5b934e45b59b40dbda05b4d47c",
       "style": "IPY_MODEL_cf42fc55597b4474811e644b57ee37fa",
       "tooltip": null
      }
     },
     "58098404ee8a4e08b09677bfd50c9099": {
      "model_module": "@jupyter-widgets/controls",
      "model_module_version": "2.0.0",
      "model_name": "VBoxModel",
      "state": {
       "children": [
        "IPY_MODEL_9ce38038ce844e40ba84b99d9e0285b8",
        "IPY_MODEL_a16abe00c9e0446c89d06ecddce33fce",
        "IPY_MODEL_4ce9a8b575ef4f5194af1b6b0975ee2e",
        "IPY_MODEL_ecc905e872774611a6f4e44e80567ecc",
        "IPY_MODEL_194fe3f2a1c8420e84c533738cf265bf",
        "IPY_MODEL_2d46a41f699840dcb1ae1ca0b236279b",
        "IPY_MODEL_2db89c11f90b4b55893fe3eacbc8794f",
        "IPY_MODEL_d4a7f49751334c79ad667ea25979ea28",
        "IPY_MODEL_bf12b92e64c94f8e92fb13890164fb62"
       ],
       "layout": "IPY_MODEL_6dd27993257746ee9a058d2b0d064571"
      }
     },
     "580b697a08284095b61b2ca2c1eafc5e": {
      "model_module": "@jupyter-widgets/base",
      "model_module_version": "2.0.0",
      "model_name": "LayoutModel",
      "state": {}
     },
     "5825504d005545a099860963172aec41": {
      "model_module": "@jupyter-widgets/controls",
      "model_module_version": "2.0.0",
      "model_name": "ToggleButtonModel",
      "state": {
       "button_style": "success",
       "disabled": true,
       "layout": "IPY_MODEL_cbb007f4b9644615acf96a9592fe5eea",
       "style": "IPY_MODEL_46b20eef9bc74a45a2ba72fee221c1df",
       "tooltip": null
      }
     },
     "582a996834794711af3e7ffe01e2b574": {
      "model_module": "@jupyter-widgets/controls",
      "model_module_version": "2.0.0",
      "model_name": "HBoxModel",
      "state": {
       "children": [
        "IPY_MODEL_c316ea886815444e994300766ae82c05",
        "IPY_MODEL_87adc6464c1546dea71c9cde1a86fd3e",
        "IPY_MODEL_634704930b754054a7e56ccb1b24d9cd",
        "IPY_MODEL_ef80da5e974d44679dd9fba04ce2ccbd",
        "IPY_MODEL_c18e8d61af094f39b2954c6081cfbc30",
        "IPY_MODEL_76758cc3ed104a86a92976d22a803a6a",
        "IPY_MODEL_f8a85c2a229c4613981484c102706335",
        "IPY_MODEL_2a180d734ca74664bd9b427647a6e0e3"
       ],
       "layout": "IPY_MODEL_b0c46de9e91c40a3b4cb61259d93526b"
      }
     },
     "582f21e9732e49dcad2c5434450b4de4": {
      "model_module": "@jupyter-widgets/controls",
      "model_module_version": "2.0.0",
      "model_name": "ToggleButtonModel",
      "state": {
       "description": "◀︎",
       "layout": "IPY_MODEL_9aa0b8d99486437599924f0fdf1f9e8b",
       "style": "IPY_MODEL_495d734c067f436cbf8ffaf83205e3a3",
       "tooltip": null
      }
     },
     "58452c5b934e45b59b40dbda05b4d47c": {
      "model_module": "@jupyter-widgets/base",
      "model_module_version": "2.0.0",
      "model_name": "LayoutModel",
      "state": {
       "height": "50px",
       "width": "50px"
      }
     },
     "58ca5638eb474e76909f9ed23c3f0699": {
      "model_module": "@jupyter-widgets/controls",
      "model_module_version": "2.0.0",
      "model_name": "ToggleButtonModel",
      "state": {
       "button_style": "info",
       "disabled": true,
       "layout": "IPY_MODEL_9c61bb957f7c4a25976dcbd6e83798b8",
       "style": "IPY_MODEL_dbacf743a3c04aeb90bea3b8a3315477",
       "tooltip": null
      }
     },
     "58e0634b38f6463ca4d42b83f86dabd7": {
      "model_module": "@jupyter-widgets/controls",
      "model_module_version": "2.0.0",
      "model_name": "ToggleButtonModel",
      "state": {
       "button_style": "success",
       "disabled": true,
       "layout": "IPY_MODEL_8d696421995345d1b22a15e63c05a8e0",
       "style": "IPY_MODEL_38e96d53825f49a69d8cbaf43a8c1fa5",
       "tooltip": null
      }
     },
     "592d273eea284d21909ac95ae28f2687": {
      "model_module": "@jupyter-widgets/controls",
      "model_module_version": "2.0.0",
      "model_name": "ToggleButtonStyleModel",
      "state": {
       "description_width": "",
       "font_family": null,
       "font_size": null,
       "font_style": null,
       "font_variant": null,
       "font_weight": null,
       "text_color": null,
       "text_decoration": null
      }
     },
     "59499b91447a45c69e1478fb02d114b1": {
      "model_module": "@jupyter-widgets/controls",
      "model_module_version": "2.0.0",
      "model_name": "ToggleButtonStyleModel",
      "state": {
       "description_width": "",
       "font_family": null,
       "font_size": null,
       "font_style": null,
       "font_variant": null,
       "font_weight": null,
       "text_color": null,
       "text_decoration": null
      }
     },
     "59661fa63c4a48c1a9569afd2f89c785": {
      "model_module": "@jupyter-widgets/controls",
      "model_module_version": "2.0.0",
      "model_name": "ToggleButtonStyleModel",
      "state": {
       "description_width": "",
       "font_family": null,
       "font_size": null,
       "font_style": null,
       "font_variant": null,
       "font_weight": null,
       "text_color": null,
       "text_decoration": null
      }
     },
     "59c9602a64ad42d3a3e556e1fe081b0e": {
      "model_module": "@jupyter-widgets/base",
      "model_module_version": "2.0.0",
      "model_name": "LayoutModel",
      "state": {
       "height": "50px",
       "width": "428px"
      }
     },
     "5a2abc91a9a8438d8bdd616cad989eec": {
      "model_module": "@jupyter-widgets/controls",
      "model_module_version": "2.0.0",
      "model_name": "ToggleButtonModel",
      "state": {
       "button_style": "success",
       "disabled": true,
       "layout": "IPY_MODEL_8d696421995345d1b22a15e63c05a8e0",
       "style": "IPY_MODEL_0489fd45333447d18d59c6aa2facf4dd",
       "tooltip": null
      }
     },
     "5a460a0ff53b427790f35893a8ba417e": {
      "model_module": "@jupyter-widgets/controls",
      "model_module_version": "2.0.0",
      "model_name": "ToggleButtonStyleModel",
      "state": {
       "description_width": "",
       "font_family": null,
       "font_size": null,
       "font_style": null,
       "font_variant": null,
       "font_weight": null,
       "text_color": null,
       "text_decoration": null
      }
     },
     "5a560324921942468233bd51cb7ff379": {
      "model_module": "@jupyter-widgets/controls",
      "model_module_version": "2.0.0",
      "model_name": "ToggleButtonStyleModel",
      "state": {
       "description_width": "",
       "font_family": null,
       "font_size": null,
       "font_style": null,
       "font_variant": null,
       "font_weight": null,
       "text_color": null,
       "text_decoration": null
      }
     },
     "5ab927e0a4a74ec2af4aa888c5988842": {
      "model_module": "@jupyter-widgets/controls",
      "model_module_version": "2.0.0",
      "model_name": "ToggleButtonModel",
      "state": {
       "button_style": "success",
       "disabled": true,
       "layout": "IPY_MODEL_cbb007f4b9644615acf96a9592fe5eea",
       "style": "IPY_MODEL_b9bb524729614fa981e462609fa79cd7",
       "tooltip": null
      }
     },
     "5ad54e073e864955a74c2d91cdfa38fe": {
      "model_module": "@jupyter-widgets/controls",
      "model_module_version": "2.0.0",
      "model_name": "ToggleButtonStyleModel",
      "state": {
       "description_width": "",
       "font_family": null,
       "font_size": null,
       "font_style": null,
       "font_variant": null,
       "font_weight": null,
       "text_color": null,
       "text_decoration": null
      }
     },
     "5ae934df6aa14479b678ca2aa383cefd": {
      "model_module": "@jupyter-widgets/controls",
      "model_module_version": "2.0.0",
      "model_name": "ToggleButtonModel",
      "state": {
       "button_style": "info",
       "disabled": true,
       "layout": "IPY_MODEL_9c61bb957f7c4a25976dcbd6e83798b8",
       "style": "IPY_MODEL_19efb7d0b92e4c64b0838e2bb829cb52",
       "tooltip": null
      }
     },
     "5af94e2658784ac1aa4c3e92581f5806": {
      "model_module": "@jupyter-widgets/controls",
      "model_module_version": "2.0.0",
      "model_name": "ToggleButtonModel",
      "state": {
       "button_style": "info",
       "disabled": true,
       "layout": "IPY_MODEL_9c61bb957f7c4a25976dcbd6e83798b8",
       "style": "IPY_MODEL_eb0187ff49e04c48ad1208259f31b944",
       "tooltip": null
      }
     },
     "5afd13110bed41a2b0958355fdb9b4bc": {
      "model_module": "@jupyter-widgets/controls",
      "model_module_version": "2.0.0",
      "model_name": "ToggleButtonModel",
      "state": {
       "button_style": "success",
       "disabled": true,
       "layout": "IPY_MODEL_9aa0b8d99486437599924f0fdf1f9e8b",
       "style": "IPY_MODEL_7f718ba8128e4faea1f2e5b3ec112766",
       "tooltip": null
      }
     },
     "5b12106f2846439abafd55a64bdb4c0d": {
      "model_module": "@jupyter-widgets/base",
      "model_module_version": "2.0.0",
      "model_name": "LayoutModel",
      "state": {}
     },
     "5b488293d161439798c8d58ee54095a2": {
      "model_module": "@jupyter-widgets/controls",
      "model_module_version": "2.0.0",
      "model_name": "ToggleButtonStyleModel",
      "state": {
       "description_width": "",
       "font_family": null,
       "font_size": null,
       "font_style": null,
       "font_variant": null,
       "font_weight": null,
       "text_color": null,
       "text_decoration": null
      }
     },
     "5b51e9786c304cdb8e4ea636ed122a90": {
      "model_module": "@jupyter-widgets/controls",
      "model_module_version": "2.0.0",
      "model_name": "ToggleButtonModel",
      "state": {
       "description": "►",
       "layout": "IPY_MODEL_1984f7edee3c4b9ebcaaf4fd4d1bd535",
       "style": "IPY_MODEL_dcf04c10e8db4228bfcbc4dd6ee4339f",
       "tooltip": null
      }
     },
     "5b8efc3355b84ec49bbbb8d09a3e668f": {
      "model_module": "@jupyter-widgets/controls",
      "model_module_version": "2.0.0",
      "model_name": "ToggleButtonModel",
      "state": {
       "button_style": "success",
       "disabled": true,
       "layout": "IPY_MODEL_1984f7edee3c4b9ebcaaf4fd4d1bd535",
       "style": "IPY_MODEL_4b5ec1ec9f1048ab8b3cc494e354898f",
       "tooltip": null
      }
     },
     "5bbf9de98ef84f53a55856e46fd42abb": {
      "model_module": "@jupyter-widgets/controls",
      "model_module_version": "2.0.0",
      "model_name": "ToggleButtonStyleModel",
      "state": {
       "description_width": "",
       "font_family": null,
       "font_size": null,
       "font_style": null,
       "font_variant": null,
       "font_weight": null,
       "text_color": null,
       "text_decoration": null
      }
     },
     "5bc91fc40756479e8293e24649785b52": {
      "model_module": "@jupyter-widgets/controls",
      "model_module_version": "2.0.0",
      "model_name": "ToggleButtonStyleModel",
      "state": {
       "description_width": "",
       "font_family": null,
       "font_size": null,
       "font_style": null,
       "font_variant": null,
       "font_weight": null,
       "text_color": null,
       "text_decoration": null
      }
     },
     "5be3d3320f664393a403ed17ef654974": {
      "model_module": "@jupyter-widgets/controls",
      "model_module_version": "2.0.0",
      "model_name": "HBoxModel",
      "state": {
       "children": [
        "IPY_MODEL_a2024fc0f360468888cffc8a7e32a2fe",
        "IPY_MODEL_39cbc3005cf74fc8b0514a05adf4c559",
        "IPY_MODEL_4e669078617749539e44ab311aaa624f",
        "IPY_MODEL_0d6959b82ec34098b87218b58a5ec3c6",
        "IPY_MODEL_f8f47e80d26c4145b59ffee87600ff4c",
        "IPY_MODEL_2a16e0edc5384a969faf94b6d03763f4",
        "IPY_MODEL_6996898507fd47848f73d737cbc38562",
        "IPY_MODEL_dd576d3ec9e54a44998dddf5ff0727bd"
       ],
       "layout": "IPY_MODEL_bd84b1b449c44b42b3f8178f872239b1"
      }
     },
     "5c4044362a9e4851aeff0f1d29d55c9d": {
      "model_module": "@jupyter-widgets/controls",
      "model_module_version": "2.0.0",
      "model_name": "ToggleButtonModel",
      "state": {
       "button_style": "success",
       "disabled": true,
       "layout": "IPY_MODEL_3831200db05b4a7986a2bfa009c0e327",
       "style": "IPY_MODEL_118a4e75a1ee4cf4ac45c159edeb3d36",
       "tooltip": null
      }
     },
     "5c429caa93534b24aef8c4f96d2ae240": {
      "model_module": "@jupyter-widgets/controls",
      "model_module_version": "2.0.0",
      "model_name": "ToggleButtonModel",
      "state": {
       "button_style": "success",
       "disabled": true,
       "layout": "IPY_MODEL_3831200db05b4a7986a2bfa009c0e327",
       "style": "IPY_MODEL_6d0c1b271bc54f0fb842e22085f3a392",
       "tooltip": null
      }
     },
     "5c493f6d105d4d589468786ec2db941d": {
      "model_module": "@jupyter-widgets/controls",
      "model_module_version": "2.0.0",
      "model_name": "ToggleButtonModel",
      "state": {
       "button_style": "info",
       "disabled": true,
       "layout": "IPY_MODEL_9c61bb957f7c4a25976dcbd6e83798b8",
       "style": "IPY_MODEL_6599fd3148f642528597f6447a23b94d",
       "tooltip": null
      }
     },
     "5cae2a107d904e17a248f572418b01bf": {
      "model_module": "@jupyter-widgets/controls",
      "model_module_version": "2.0.0",
      "model_name": "ToggleButtonModel",
      "state": {
       "button_style": "success",
       "disabled": true,
       "layout": "IPY_MODEL_8d696421995345d1b22a15e63c05a8e0",
       "style": "IPY_MODEL_d5b6b8977d304181aa4978dad389f525",
       "tooltip": null
      }
     },
     "5cdd410ffa4f4e7c9f3c4e257216c43f": {
      "model_module": "@jupyter-widgets/controls",
      "model_module_version": "2.0.0",
      "model_name": "ToggleButtonModel",
      "state": {
       "button_style": "success",
       "disabled": true,
       "layout": "IPY_MODEL_58452c5b934e45b59b40dbda05b4d47c",
       "style": "IPY_MODEL_274283140e33483f94160ae2f9140117",
       "tooltip": null
      }
     },
     "5cfcdaf4c9464141b82d5c725756a57d": {
      "model_module": "@jupyter-widgets/controls",
      "model_module_version": "2.0.0",
      "model_name": "HTMLModel",
      "state": {
       "layout": "IPY_MODEL_f69f17c789f54ae39be9988eb5763b99",
       "style": "IPY_MODEL_a3ba41ce737e4d1f8b267153b969dd8a",
       "value": "<h5>Status</h5>"
      }
     },
     "5d4ae6c85ee44be9af78564c47acb6d8": {
      "model_module": "@jupyter-widgets/base",
      "model_module_version": "2.0.0",
      "model_name": "LayoutModel",
      "state": {}
     },
     "5d53eda4ba204c44a133049c87fcaffb": {
      "model_module": "@jupyter-widgets/controls",
      "model_module_version": "2.0.0",
      "model_name": "ToggleButtonStyleModel",
      "state": {
       "description_width": "",
       "font_family": null,
       "font_size": null,
       "font_style": null,
       "font_variant": null,
       "font_weight": null,
       "text_color": null,
       "text_decoration": null
      }
     },
     "5d65e796d46f482ab70c478c6ec214ba": {
      "model_module": "@jupyter-widgets/controls",
      "model_module_version": "2.0.0",
      "model_name": "ToggleButtonStyleModel",
      "state": {
       "description_width": "",
       "font_family": null,
       "font_size": null,
       "font_style": null,
       "font_variant": null,
       "font_weight": null,
       "text_color": null,
       "text_decoration": null
      }
     },
     "5d71b1bc489047a796e0c1da41ad007f": {
      "model_module": "@jupyter-widgets/controls",
      "model_module_version": "2.0.0",
      "model_name": "ToggleButtonModel",
      "state": {
       "button_style": "success",
       "disabled": true,
       "layout": "IPY_MODEL_58452c5b934e45b59b40dbda05b4d47c",
       "style": "IPY_MODEL_7b5f8ef0fb5d4fca95a96e2661d9c2be",
       "tooltip": null
      }
     },
     "5d8050220b6546259e9e37bf25e63414": {
      "model_module": "@jupyter-widgets/controls",
      "model_module_version": "2.0.0",
      "model_name": "ToggleButtonStyleModel",
      "state": {
       "description_width": "",
       "font_family": null,
       "font_size": null,
       "font_style": null,
       "font_variant": null,
       "font_weight": null,
       "text_color": null,
       "text_decoration": null
      }
     },
     "5d91b5c693a740079f906bd6f4253cdf": {
      "model_module": "@jupyter-widgets/controls",
      "model_module_version": "2.0.0",
      "model_name": "ToggleButtonModel",
      "state": {
       "button_style": "success",
       "disabled": true,
       "layout": "IPY_MODEL_58452c5b934e45b59b40dbda05b4d47c",
       "style": "IPY_MODEL_0925b4b3480d4bbfb975570eca7e6bf6",
       "tooltip": null
      }
     },
     "5dbfac0e46a94500b46364f75b7f86f6": {
      "model_module": "@jupyter-widgets/controls",
      "model_module_version": "2.0.0",
      "model_name": "ToggleButtonModel",
      "state": {
       "button_style": "success",
       "disabled": true,
       "layout": "IPY_MODEL_9aa0b8d99486437599924f0fdf1f9e8b",
       "style": "IPY_MODEL_3ecb9a316df04886a1d548e1d87670ed",
       "tooltip": null
      }
     },
     "5dc192c643d14a489e621982715ce688": {
      "model_module": "@jupyter-widgets/controls",
      "model_module_version": "2.0.0",
      "model_name": "ToggleButtonModel",
      "state": {
       "button_style": "success",
       "disabled": true,
       "layout": "IPY_MODEL_cbb007f4b9644615acf96a9592fe5eea",
       "style": "IPY_MODEL_d82cbf21f46d4ecb9c3c8d7c1ef9606c",
       "tooltip": null
      }
     },
     "5e13f8ad4edc431087b6ff2bea4cbae5": {
      "model_module": "@jupyter-widgets/controls",
      "model_module_version": "2.0.0",
      "model_name": "ToggleButtonStyleModel",
      "state": {
       "description_width": "",
       "font_family": null,
       "font_size": null,
       "font_style": null,
       "font_variant": null,
       "font_weight": null,
       "text_color": null,
       "text_decoration": null
      }
     },
     "5e1ce1d7e80d4bf68d422a0b1fc4c7a9": {
      "model_module": "@jupyter-widgets/controls",
      "model_module_version": "2.0.0",
      "model_name": "ToggleButtonStyleModel",
      "state": {
       "description_width": "",
       "font_family": null,
       "font_size": null,
       "font_style": null,
       "font_variant": null,
       "font_weight": null,
       "text_color": null,
       "text_decoration": null
      }
     },
     "5ec5e25e9ab8477d826a7a4931b26c31": {
      "model_module": "@jupyter-widgets/controls",
      "model_module_version": "2.0.0",
      "model_name": "ToggleButtonStyleModel",
      "state": {
       "description_width": "",
       "font_family": null,
       "font_size": null,
       "font_style": null,
       "font_variant": null,
       "font_weight": null,
       "text_color": null,
       "text_decoration": null
      }
     },
     "5ef60559cb8d4aec8e9997960e9abbe6": {
      "model_module": "@jupyter-widgets/base",
      "model_module_version": "2.0.0",
      "model_name": "LayoutModel",
      "state": {}
     },
     "5ef6382ef12e4a23902df1cd72fd2a3d": {
      "model_module": "@jupyter-widgets/controls",
      "model_module_version": "2.0.0",
      "model_name": "ToggleButtonModel",
      "state": {
       "button_style": "success",
       "disabled": true,
       "layout": "IPY_MODEL_9aa0b8d99486437599924f0fdf1f9e8b",
       "style": "IPY_MODEL_275df68d6ffe443bb671fbcc3ff909da",
       "tooltip": null
      }
     },
     "5f406836c4d64bd195e07048653a614a": {
      "model_module": "@jupyter-widgets/controls",
      "model_module_version": "2.0.0",
      "model_name": "ToggleButtonModel",
      "state": {
       "button_style": "success",
       "disabled": true,
       "layout": "IPY_MODEL_9aa0b8d99486437599924f0fdf1f9e8b",
       "style": "IPY_MODEL_a20d368016d443fd9df09739fef1640d",
       "tooltip": null
      }
     },
     "5f45ac05a5f7414f950dab9158f4a277": {
      "model_module": "@jupyter-widgets/controls",
      "model_module_version": "2.0.0",
      "model_name": "ToggleButtonStyleModel",
      "state": {
       "description_width": "",
       "font_family": null,
       "font_size": null,
       "font_style": null,
       "font_variant": null,
       "font_weight": null,
       "text_color": null,
       "text_decoration": null
      }
     },
     "5f4747ba2096435fbf20822ea5a95efc": {
      "model_module": "@jupyter-widgets/controls",
      "model_module_version": "2.0.0",
      "model_name": "ToggleButtonModel",
      "state": {
       "description": "▼",
       "layout": "IPY_MODEL_2d2b7c3a0e0b4e2ea0528a045ba78de4",
       "style": "IPY_MODEL_6067512a7b094c338e59be4a107c2481",
       "tooltip": null
      }
     },
     "5fc749b81cca4cbfb974338c6b88adcf": {
      "model_module": "@jupyter-widgets/controls",
      "model_module_version": "2.0.0",
      "model_name": "HBoxModel",
      "state": {
       "children": [
        "IPY_MODEL_f201f20f7454440897a3e4c7de36007f",
        "IPY_MODEL_93d0ff29a0694bcc938e203e07f6839e",
        "IPY_MODEL_a5e18ab026ef48a29bf3e3904cca1aae",
        "IPY_MODEL_c9a2185dfccb4d45ab6a6b5166af8331",
        "IPY_MODEL_a85543d657e041dcb536768569b9c08a",
        "IPY_MODEL_b5998405cd5343cebae9ac162b0f5cbb",
        "IPY_MODEL_d3fa8bf84e8943e9b72a97ad57a20b0c",
        "IPY_MODEL_0fc412c36957435fa37c3ec9edfcfbf3"
       ],
       "layout": "IPY_MODEL_42cdb871d80542a99533c0e190a18dee"
      }
     },
     "601ca475daca402e8987c91c89213c45": {
      "model_module": "@jupyter-widgets/controls",
      "model_module_version": "2.0.0",
      "model_name": "ToggleButtonModel",
      "state": {
       "button_style": "info",
       "disabled": true,
       "layout": "IPY_MODEL_9c61bb957f7c4a25976dcbd6e83798b8",
       "style": "IPY_MODEL_07c7022de85d4ed4abc8e9497c03b425",
       "tooltip": null
      }
     },
     "604270b7dc80414bbdda0c3ad22051db": {
      "model_module": "@jupyter-widgets/controls",
      "model_module_version": "2.0.0",
      "model_name": "ToggleButtonModel",
      "state": {
       "button_style": "warning",
       "disabled": true,
       "layout": "IPY_MODEL_9c61bb957f7c4a25976dcbd6e83798b8",
       "style": "IPY_MODEL_4d42618a95084fd9a2cacbfde3d15fc3",
       "tooltip": null
      }
     },
     "6055e5ef337f456bb20410062436e52e": {
      "model_module": "@jupyter-widgets/controls",
      "model_module_version": "2.0.0",
      "model_name": "ToggleButtonStyleModel",
      "state": {
       "description_width": "",
       "font_family": null,
       "font_size": null,
       "font_style": null,
       "font_variant": null,
       "font_weight": null,
       "text_color": null,
       "text_decoration": null
      }
     },
     "605ddac26c46414d887e5358960c5f4c": {
      "model_module": "@jupyter-widgets/base",
      "model_module_version": "2.0.0",
      "model_name": "LayoutModel",
      "state": {}
     },
     "605ddbb44c204150ad2b9dfa8f10d317": {
      "model_module": "@jupyter-widgets/controls",
      "model_module_version": "2.0.0",
      "model_name": "ToggleButtonStyleModel",
      "state": {
       "description_width": "",
       "font_family": null,
       "font_size": null,
       "font_style": null,
       "font_variant": null,
       "font_weight": null,
       "text_color": null,
       "text_decoration": null
      }
     },
     "6067512a7b094c338e59be4a107c2481": {
      "model_module": "@jupyter-widgets/controls",
      "model_module_version": "2.0.0",
      "model_name": "ToggleButtonStyleModel",
      "state": {
       "description_width": "",
       "font_family": null,
       "font_size": null,
       "font_style": null,
       "font_variant": null,
       "font_weight": null,
       "text_color": null,
       "text_decoration": null
      }
     },
     "606e383b970c4666ab4f4ad51fcf3a6c": {
      "model_module": "@jupyter-widgets/controls",
      "model_module_version": "2.0.0",
      "model_name": "ToggleButtonStyleModel",
      "state": {
       "description_width": "",
       "font_family": null,
       "font_size": null,
       "font_style": null,
       "font_variant": null,
       "font_weight": null,
       "text_color": null,
       "text_decoration": null
      }
     },
     "609c2362370449a3a28a7e7bc315d823": {
      "model_module": "@jupyter-widgets/controls",
      "model_module_version": "2.0.0",
      "model_name": "ToggleButtonStyleModel",
      "state": {
       "description_width": "",
       "font_family": null,
       "font_size": null,
       "font_style": null,
       "font_variant": null,
       "font_weight": null,
       "text_color": null,
       "text_decoration": null
      }
     },
     "60ac0dec5ce1407b83fe9c3c55ed905f": {
      "model_module": "@jupyter-widgets/base",
      "model_module_version": "2.0.0",
      "model_name": "LayoutModel",
      "state": {}
     },
     "616cbfe87c074a2e8639aa4b95fde81f": {
      "model_module": "@jupyter-widgets/controls",
      "model_module_version": "2.0.0",
      "model_name": "HBoxModel",
      "state": {
       "children": [
        "IPY_MODEL_b5f136a9471244af95c17544a8ad3a1a",
        "IPY_MODEL_ee15d16258da4e1bb8661378c4ef80f3",
        "IPY_MODEL_5cfcdaf4c9464141b82d5c725756a57d",
        "IPY_MODEL_7a377346ef254bd589d9685a04862aa7",
        "IPY_MODEL_85e811e137474bb8a176c5c708bd488d"
       ],
       "layout": "IPY_MODEL_96ac6ac314f04ba59e9fad1ef7ecaee7"
      }
     },
     "616f5d26708b44bb9e4a806f820f3b9f": {
      "model_module": "@jupyter-widgets/controls",
      "model_module_version": "2.0.0",
      "model_name": "ToggleButtonModel",
      "state": {
       "button_style": "success",
       "disabled": true,
       "layout": "IPY_MODEL_8d696421995345d1b22a15e63c05a8e0",
       "style": "IPY_MODEL_a3454ee1c61d46c5b89761491a0ddab0",
       "tooltip": null
      }
     },
     "618be8fe037d448e9c25dc24e0d7427e": {
      "model_module": "@jupyter-widgets/controls",
      "model_module_version": "2.0.0",
      "model_name": "HBoxModel",
      "state": {
       "children": [
        "IPY_MODEL_36e30408273d43f381c8b3d1dd8b7a87",
        "IPY_MODEL_9e9ab5e8d4264ec4bb402203df1c50d4",
        "IPY_MODEL_23211c08d83145ee948b2cb76e324da3",
        "IPY_MODEL_8158bb1db4a24f86becfaf1ac4725c7e",
        "IPY_MODEL_74d4c97818394fa4ab5b4a586299210d",
        "IPY_MODEL_d0ba03e59a7746b29be13ef77dbb14ea",
        "IPY_MODEL_44c10bab5bd34a2ca2b5d0f5b8d459e5",
        "IPY_MODEL_6776321f41a84bf6b4f405e8051a988b",
        "IPY_MODEL_23ebe57c3f6b40c980b148bfc257d831",
        "IPY_MODEL_297383aab02b4defa09a679933abab3a",
        "IPY_MODEL_5b51e9786c304cdb8e4ea636ed122a90",
        "IPY_MODEL_297383aab02b4defa09a679933abab3a",
        "IPY_MODEL_94b48c5faaeb428a9f6e7b6a833fdf50",
        "IPY_MODEL_297383aab02b4defa09a679933abab3a",
        "IPY_MODEL_bd1635c9393649c48784931ad3a1d3e3"
       ],
       "layout": "IPY_MODEL_2be557bcaa04417c97851def5d6034a5"
      }
     },
     "619df89b5f784b828804677c3ba2d725": {
      "model_module": "@jupyter-widgets/base",
      "model_module_version": "2.0.0",
      "model_name": "LayoutModel",
      "state": {}
     },
     "61b576608ce84965a2ce4e59f76c89c8": {
      "model_module": "@jupyter-widgets/controls",
      "model_module_version": "2.0.0",
      "model_name": "ToggleButtonStyleModel",
      "state": {
       "description_width": "",
       "font_family": null,
       "font_size": null,
       "font_style": null,
       "font_variant": null,
       "font_weight": null,
       "text_color": null,
       "text_decoration": null
      }
     },
     "61cdbaf88cc444d3a39001c2a263aa47": {
      "model_module": "@jupyter-widgets/controls",
      "model_module_version": "2.0.0",
      "model_name": "ToggleButtonModel",
      "state": {
       "button_style": "success",
       "disabled": true,
       "layout": "IPY_MODEL_9aa0b8d99486437599924f0fdf1f9e8b",
       "style": "IPY_MODEL_28907290394749518a55f6a60ff4750c",
       "tooltip": null
      }
     },
     "61d6465a9e3b4aafbb60aa64a38c73e1": {
      "model_module": "@jupyter-widgets/controls",
      "model_module_version": "2.0.0",
      "model_name": "ToggleButtonStyleModel",
      "state": {
       "description_width": "",
       "font_family": null,
       "font_size": null,
       "font_style": null,
       "font_variant": null,
       "font_weight": null,
       "text_color": null,
       "text_decoration": null
      }
     },
     "61f3e770e2f7463693308b231ccc74c8": {
      "model_module": "@jupyter-widgets/controls",
      "model_module_version": "2.0.0",
      "model_name": "ToggleButtonModel",
      "state": {
       "button_style": "success",
       "disabled": true,
       "layout": "IPY_MODEL_9aa0b8d99486437599924f0fdf1f9e8b",
       "style": "IPY_MODEL_c6bf728c7aed47e898633ebc0dd22439",
       "tooltip": null
      }
     },
     "6305eaa5d579451a878712278442595c": {
      "model_module": "@jupyter-widgets/controls",
      "model_module_version": "2.0.0",
      "model_name": "ToggleButtonStyleModel",
      "state": {
       "description_width": "",
       "font_family": null,
       "font_size": null,
       "font_style": null,
       "font_variant": null,
       "font_weight": null,
       "text_color": null,
       "text_decoration": null
      }
     },
     "634704930b754054a7e56ccb1b24d9cd": {
      "model_module": "@jupyter-widgets/controls",
      "model_module_version": "2.0.0",
      "model_name": "ToggleButtonModel",
      "state": {
       "button_style": "success",
       "disabled": true,
       "layout": "IPY_MODEL_1984f7edee3c4b9ebcaaf4fd4d1bd535",
       "style": "IPY_MODEL_609c2362370449a3a28a7e7bc315d823",
       "tooltip": null
      }
     },
     "636cdb5bffb84b9ea3ab122a4e8e32b6": {
      "model_module": "@jupyter-widgets/controls",
      "model_module_version": "2.0.0",
      "model_name": "HBoxModel",
      "state": {
       "children": [
        "IPY_MODEL_09956d9ffaeb403aadad667d1915eb3a",
        "IPY_MODEL_4e55e36a3b3446249bc9771b35c19bea",
        "IPY_MODEL_fcf18bf96e7642a28b5fd599a8a0394c",
        "IPY_MODEL_101ef56ee96147c78dbd8ca89e11b983",
        "IPY_MODEL_7dbc63f9cb094705aabb001e70e8e94e",
        "IPY_MODEL_342a8decc8594adaa2ff98941ebf6f2f",
        "IPY_MODEL_9b88ef8f0f0144f1b0e1c6f5980669cb",
        "IPY_MODEL_f3e7c4b261dc42ba9ed0fda90f0cae2e"
       ],
       "layout": "IPY_MODEL_751f00d86b6f420fb44f0e78f1c051b6"
      }
     },
     "63b923e0186148a2a9d829e18f101023": {
      "model_module": "@jupyter-widgets/controls",
      "model_module_version": "2.0.0",
      "model_name": "ToggleButtonStyleModel",
      "state": {
       "description_width": "",
       "font_family": null,
       "font_size": null,
       "font_style": null,
       "font_variant": null,
       "font_weight": null,
       "text_color": null,
       "text_decoration": null
      }
     },
     "63dc026b340f49c2b00a199fa9dd5b38": {
      "model_module": "@jupyter-widgets/controls",
      "model_module_version": "2.0.0",
      "model_name": "ToggleButtonModel",
      "state": {
       "description": "◀︎",
       "layout": "IPY_MODEL_8d696421995345d1b22a15e63c05a8e0",
       "style": "IPY_MODEL_46afb614ab5642e0a446347c9ca5e279",
       "tooltip": null
      }
     },
     "642e545224714e78a6ccd30dab10dfbb": {
      "model_module": "@jupyter-widgets/controls",
      "model_module_version": "2.0.0",
      "model_name": "ToggleButtonModel",
      "state": {
       "button_style": "success",
       "disabled": true,
       "layout": "IPY_MODEL_cbb007f4b9644615acf96a9592fe5eea",
       "style": "IPY_MODEL_e43489ec3c214beaae1e64c5a714995a",
       "tooltip": null
      }
     },
     "64300152a6954d3ea2afe3e19606a923": {
      "model_module": "@jupyter-widgets/controls",
      "model_module_version": "2.0.0",
      "model_name": "ToggleButtonStyleModel",
      "state": {
       "description_width": "",
       "font_family": null,
       "font_size": null,
       "font_style": null,
       "font_variant": null,
       "font_weight": null,
       "text_color": null,
       "text_decoration": null
      }
     },
     "64a743c5e81c471b8b3e69582545c2e3": {
      "model_module": "@jupyter-widgets/controls",
      "model_module_version": "2.0.0",
      "model_name": "ToggleButtonModel",
      "state": {
       "button_style": "success",
       "disabled": true,
       "layout": "IPY_MODEL_2d2b7c3a0e0b4e2ea0528a045ba78de4",
       "style": "IPY_MODEL_3f49f5483d8446c19f561ec6f1958eb5",
       "tooltip": null
      }
     },
     "64b702765d5b4e9c94fe0fbfaf9d6846": {
      "model_module": "@jupyter-widgets/controls",
      "model_module_version": "2.0.0",
      "model_name": "ToggleButtonStyleModel",
      "state": {
       "description_width": "",
       "font_family": null,
       "font_size": null,
       "font_style": null,
       "font_variant": null,
       "font_weight": null,
       "text_color": null,
       "text_decoration": null
      }
     },
     "64d8113ef1e240518fbf733ceb55f8bc": {
      "model_module": "@jupyter-widgets/controls",
      "model_module_version": "2.0.0",
      "model_name": "ToggleButtonStyleModel",
      "state": {
       "description_width": "",
       "font_family": null,
       "font_size": null,
       "font_style": null,
       "font_variant": null,
       "font_weight": null,
       "text_color": null,
       "text_decoration": null
      }
     },
     "64dd1b1db92448a7b865472b44ccd31b": {
      "model_module": "@jupyter-widgets/controls",
      "model_module_version": "2.0.0",
      "model_name": "ToggleButtonModel",
      "state": {
       "button_style": "success",
       "disabled": true,
       "layout": "IPY_MODEL_9aa0b8d99486437599924f0fdf1f9e8b",
       "style": "IPY_MODEL_a6fe48ac9b284808a7f0965ade6ba6ca",
       "tooltip": null
      }
     },
     "64e1bbbd2e1643f89540bd5b10208b81": {
      "model_module": "@jupyter-widgets/controls",
      "model_module_version": "2.0.0",
      "model_name": "ToggleButtonModel",
      "state": {
       "button_style": "info",
       "disabled": true,
       "layout": "IPY_MODEL_9c61bb957f7c4a25976dcbd6e83798b8",
       "style": "IPY_MODEL_64d8113ef1e240518fbf733ceb55f8bc",
       "tooltip": null
      }
     },
     "654efc28c83540539108488bb11e6d95": {
      "model_module": "@jupyter-widgets/controls",
      "model_module_version": "2.0.0",
      "model_name": "ToggleButtonModel",
      "state": {
       "button_style": "success",
       "disabled": true,
       "layout": "IPY_MODEL_1984f7edee3c4b9ebcaaf4fd4d1bd535",
       "style": "IPY_MODEL_57c6a801988c425884547abf1d869401",
       "tooltip": null
      }
     },
     "65566ea03fb64d3fbc844846f6baa043": {
      "model_module": "@jupyter-widgets/controls",
      "model_module_version": "2.0.0",
      "model_name": "ToggleButtonStyleModel",
      "state": {
       "description_width": "",
       "font_family": null,
       "font_size": null,
       "font_style": null,
       "font_variant": null,
       "font_weight": null,
       "text_color": null,
       "text_decoration": null
      }
     },
     "65733fa4df314bc8b1f25ae1f5d8d593": {
      "model_module": "@jupyter-widgets/controls",
      "model_module_version": "2.0.0",
      "model_name": "ToggleButtonStyleModel",
      "state": {
       "description_width": "",
       "font_family": null,
       "font_size": null,
       "font_style": null,
       "font_variant": null,
       "font_weight": null,
       "text_color": null,
       "text_decoration": null
      }
     },
     "6599fd3148f642528597f6447a23b94d": {
      "model_module": "@jupyter-widgets/controls",
      "model_module_version": "2.0.0",
      "model_name": "ToggleButtonStyleModel",
      "state": {
       "description_width": "",
       "font_family": null,
       "font_size": null,
       "font_style": null,
       "font_variant": null,
       "font_weight": null,
       "text_color": null,
       "text_decoration": null
      }
     },
     "65a7e3caf8b94641b41b49f80b39c93f": {
      "model_module": "@jupyter-widgets/controls",
      "model_module_version": "2.0.0",
      "model_name": "ToggleButtonModel",
      "state": {
       "button_style": "success",
       "disabled": true,
       "layout": "IPY_MODEL_8d696421995345d1b22a15e63c05a8e0",
       "style": "IPY_MODEL_c9d0587a4a3344a1ae09f0bfed5dce47",
       "tooltip": null
      }
     },
     "65c13a9c5e384d28a27ff0ecd27db08b": {
      "model_module": "@jupyter-widgets/controls",
      "model_module_version": "2.0.0",
      "model_name": "ToggleButtonModel",
      "state": {
       "button_style": "success",
       "disabled": true,
       "layout": "IPY_MODEL_2d2b7c3a0e0b4e2ea0528a045ba78de4",
       "style": "IPY_MODEL_9b4a1e3609ea4e5cba2e503e644e5c0c",
       "tooltip": null
      }
     },
     "65d072c7ddf64a75bb15b099aa9b1df7": {
      "model_module": "@jupyter-widgets/controls",
      "model_module_version": "2.0.0",
      "model_name": "ToggleButtonModel",
      "state": {
       "button_style": "success",
       "disabled": true,
       "layout": "IPY_MODEL_cbb007f4b9644615acf96a9592fe5eea",
       "style": "IPY_MODEL_f78f09c37af9478e88b3665fbd71fdd4",
       "tooltip": null
      }
     },
     "662d8b16201e44c2b13f6940db3e505d": {
      "model_module": "@jupyter-widgets/controls",
      "model_module_version": "2.0.0",
      "model_name": "ToggleButtonModel",
      "state": {
       "button_style": "success",
       "disabled": true,
       "layout": "IPY_MODEL_2d2b7c3a0e0b4e2ea0528a045ba78de4",
       "style": "IPY_MODEL_896684b6d1484a069be477caf928bc98",
       "tooltip": null
      }
     },
     "66322acce75c422f8f1325fd5f52b826": {
      "model_module": "@jupyter-widgets/controls",
      "model_module_version": "2.0.0",
      "model_name": "ToggleButtonModel",
      "state": {
       "button_style": "success",
       "disabled": true,
       "layout": "IPY_MODEL_9aa0b8d99486437599924f0fdf1f9e8b",
       "style": "IPY_MODEL_7ebf8eaf1cb14f2f8e059bb4d3c72991",
       "tooltip": null
      }
     },
     "666db75639d64290ba5efd9dc788ae1e": {
      "model_module": "@jupyter-widgets/controls",
      "model_module_version": "2.0.0",
      "model_name": "ToggleButtonModel",
      "state": {
       "description": "▲",
       "layout": "IPY_MODEL_cbb007f4b9644615acf96a9592fe5eea",
       "style": "IPY_MODEL_93b403bcdbc7496691217255beb3ac7c",
       "tooltip": null
      }
     },
     "667d1b635b084fd8a9c62a68fae7c9f2": {
      "model_module": "@jupyter-widgets/controls",
      "model_module_version": "2.0.0",
      "model_name": "ToggleButtonModel",
      "state": {
       "button_style": "warning",
       "disabled": true,
       "layout": "IPY_MODEL_9c61bb957f7c4a25976dcbd6e83798b8",
       "style": "IPY_MODEL_47980670ec7a456ab1b4168cc24d18a1",
       "tooltip": null
      }
     },
     "6694c52f52194b81b15e85b277e0c551": {
      "model_module": "@jupyter-widgets/controls",
      "model_module_version": "2.0.0",
      "model_name": "ToggleButtonModel",
      "state": {
       "button_style": "success",
       "disabled": true,
       "layout": "IPY_MODEL_9aa0b8d99486437599924f0fdf1f9e8b",
       "style": "IPY_MODEL_12c86cb9dea444cab401342f3739227f",
       "tooltip": null
      }
     },
     "66a80235c82b4bacbc234b6126d7eb5b": {
      "model_module": "@jupyter-widgets/controls",
      "model_module_version": "2.0.0",
      "model_name": "ToggleButtonStyleModel",
      "state": {
       "description_width": "",
       "font_family": null,
       "font_size": null,
       "font_style": null,
       "font_variant": null,
       "font_weight": null,
       "text_color": null,
       "text_decoration": null
      }
     },
     "6763f83c47eb4b16a89ad251b7e6ac53": {
      "model_module": "@jupyter-widgets/controls",
      "model_module_version": "2.0.0",
      "model_name": "ToggleButtonModel",
      "state": {
       "description": "◀︎",
       "layout": "IPY_MODEL_2d2b7c3a0e0b4e2ea0528a045ba78de4",
       "style": "IPY_MODEL_1b9253babf084ab7908df0918843e0db",
       "tooltip": null
      }
     },
     "67691161700f43c8848238a0144e0199": {
      "model_module": "@jupyter-widgets/controls",
      "model_module_version": "2.0.0",
      "model_name": "ToggleButtonStyleModel",
      "state": {
       "description_width": "",
       "font_family": null,
       "font_size": null,
       "font_style": null,
       "font_variant": null,
       "font_weight": null,
       "text_color": null,
       "text_decoration": null
      }
     },
     "6776321f41a84bf6b4f405e8051a988b": {
      "model_module": "@jupyter-widgets/controls",
      "model_module_version": "2.0.0",
      "model_name": "ToggleButtonModel",
      "state": {
       "button_style": "success",
       "disabled": true,
       "layout": "IPY_MODEL_1984f7edee3c4b9ebcaaf4fd4d1bd535",
       "style": "IPY_MODEL_17409368447e4628a68e3fda8167f497",
       "tooltip": null
      }
     },
     "67a7a7edb55b4695abf130c3529adf23": {
      "model_module": "@jupyter-widgets/controls",
      "model_module_version": "2.0.0",
      "model_name": "ToggleButtonStyleModel",
      "state": {
       "description_width": "",
       "font_family": null,
       "font_size": null,
       "font_style": null,
       "font_variant": null,
       "font_weight": null,
       "text_color": null,
       "text_decoration": null
      }
     },
     "67d16b61442e48d2a253139ac0e2e655": {
      "model_module": "@jupyter-widgets/controls",
      "model_module_version": "2.0.0",
      "model_name": "ToggleButtonStyleModel",
      "state": {
       "description_width": "",
       "font_family": null,
       "font_size": null,
       "font_style": null,
       "font_variant": null,
       "font_weight": null,
       "text_color": null,
       "text_decoration": null
      }
     },
     "67dfd0eccfff423591844c71c232f203": {
      "model_module": "@jupyter-widgets/controls",
      "model_module_version": "2.0.0",
      "model_name": "ToggleButtonModel",
      "state": {
       "button_style": "info",
       "disabled": true,
       "layout": "IPY_MODEL_9c61bb957f7c4a25976dcbd6e83798b8",
       "style": "IPY_MODEL_e71842dbf8d84eb4b2da6e1140643b03",
       "tooltip": null
      }
     },
     "67e83f6bdfe64fd7af23596046fb4265": {
      "model_module": "@jupyter-widgets/controls",
      "model_module_version": "2.0.0",
      "model_name": "ToggleButtonModel",
      "state": {
       "description": "B",
       "layout": "IPY_MODEL_9aa0b8d99486437599924f0fdf1f9e8b",
       "style": "IPY_MODEL_6b2a12cb445a427587b2301bdb0bd639",
       "tooltip": null
      }
     },
     "6807120f71ab470db08ac73e74a6e12c": {
      "model_module": "@jupyter-widgets/controls",
      "model_module_version": "2.0.0",
      "model_name": "ToggleButtonStyleModel",
      "state": {
       "description_width": "",
       "font_family": null,
       "font_size": null,
       "font_style": null,
       "font_variant": null,
       "font_weight": null,
       "text_color": null,
       "text_decoration": null
      }
     },
     "683361e75587406f80fe5544045c0060": {
      "model_module": "@jupyter-widgets/controls",
      "model_module_version": "2.0.0",
      "model_name": "ToggleButtonStyleModel",
      "state": {
       "description_width": "",
       "font_family": null,
       "font_size": null,
       "font_style": null,
       "font_variant": null,
       "font_weight": null,
       "text_color": null,
       "text_decoration": null
      }
     },
     "6882e7d4af594a63a6832a67f474255b": {
      "model_module": "@jupyter-widgets/controls",
      "model_module_version": "2.0.0",
      "model_name": "ToggleButtonStyleModel",
      "state": {
       "description_width": "",
       "font_family": null,
       "font_size": null,
       "font_style": null,
       "font_variant": null,
       "font_weight": null,
       "text_color": null,
       "text_decoration": null
      }
     },
     "68c739c3f444440686fada5c6d606594": {
      "model_module": "@jupyter-widgets/controls",
      "model_module_version": "2.0.0",
      "model_name": "ToggleButtonModel",
      "state": {
       "button_style": "success",
       "disabled": true,
       "layout": "IPY_MODEL_1984f7edee3c4b9ebcaaf4fd4d1bd535",
       "style": "IPY_MODEL_a6560acf41a54cf1bb512404ab9194db",
       "tooltip": null
      }
     },
     "694705ee210642099046c7cb86810a6f": {
      "model_module": "@jupyter-widgets/controls",
      "model_module_version": "2.0.0",
      "model_name": "ToggleButtonModel",
      "state": {
       "description": "►",
       "layout": "IPY_MODEL_58452c5b934e45b59b40dbda05b4d47c",
       "style": "IPY_MODEL_431e811fb4b44e9aacf0599b5079aa22",
       "tooltip": null
      }
     },
     "694c97103f884e51acd80ab9d55e951d": {
      "model_module": "@jupyter-widgets/controls",
      "model_module_version": "2.0.0",
      "model_name": "ToggleButtonStyleModel",
      "state": {
       "description_width": "",
       "font_family": null,
       "font_size": null,
       "font_style": null,
       "font_variant": null,
       "font_weight": null,
       "text_color": null,
       "text_decoration": null
      }
     },
     "698069da321148ac81cea4115335f0fa": {
      "model_module": "@jupyter-widgets/controls",
      "model_module_version": "2.0.0",
      "model_name": "ToggleButtonStyleModel",
      "state": {
       "description_width": "",
       "font_family": null,
       "font_size": null,
       "font_style": null,
       "font_variant": null,
       "font_weight": null,
       "text_color": null,
       "text_decoration": null
      }
     },
     "6996898507fd47848f73d737cbc38562": {
      "model_module": "@jupyter-widgets/controls",
      "model_module_version": "2.0.0",
      "model_name": "ToggleButtonModel",
      "state": {
       "button_style": "success",
       "disabled": true,
       "layout": "IPY_MODEL_8d696421995345d1b22a15e63c05a8e0",
       "style": "IPY_MODEL_cf3b3da1c7584974969527b5bac6246d",
       "tooltip": null
      }
     },
     "69a4c0b0826149a1b772ccc5fab3f22d": {
      "model_module": "@jupyter-widgets/base",
      "model_module_version": "2.0.0",
      "model_name": "LayoutModel",
      "state": {}
     },
     "69beb878ae3944d0b02ebee3d1d79a77": {
      "model_module": "@jupyter-widgets/controls",
      "model_module_version": "2.0.0",
      "model_name": "ToggleButtonModel",
      "state": {
       "button_style": "success",
       "disabled": true,
       "layout": "IPY_MODEL_9aa0b8d99486437599924f0fdf1f9e8b",
       "style": "IPY_MODEL_f246ee2d6e6045edbf8edd5c91d5138c",
       "tooltip": null
      }
     },
     "69e3ae282c5d4b539a6326d9cae35b02": {
      "model_module": "@jupyter-widgets/controls",
      "model_module_version": "2.0.0",
      "model_name": "ToggleButtonModel",
      "state": {
       "button_style": "warning",
       "disabled": true,
       "layout": "IPY_MODEL_9c61bb957f7c4a25976dcbd6e83798b8",
       "style": "IPY_MODEL_04f3ba096a8e4af689aa469def13e2e9",
       "tooltip": null
      }
     },
     "69eba31de28b4382ba9b9b9f93b00222": {
      "model_module": "@jupyter-widgets/controls",
      "model_module_version": "2.0.0",
      "model_name": "ToggleButtonStyleModel",
      "state": {
       "description_width": "",
       "font_family": null,
       "font_size": null,
       "font_style": null,
       "font_variant": null,
       "font_weight": null,
       "text_color": null,
       "text_decoration": null
      }
     },
     "69fde51fc1be4ae48805f8eaf507c740": {
      "model_module": "@jupyter-widgets/controls",
      "model_module_version": "2.0.0",
      "model_name": "ToggleButtonStyleModel",
      "state": {
       "description_width": "",
       "font_family": null,
       "font_size": null,
       "font_style": null,
       "font_variant": null,
       "font_weight": null,
       "text_color": null,
       "text_decoration": null
      }
     },
     "6a3cd564b8b243159e08804cce40e0c1": {
      "model_module": "@jupyter-widgets/controls",
      "model_module_version": "2.0.0",
      "model_name": "ToggleButtonModel",
      "state": {
       "button_style": "success",
       "disabled": true,
       "layout": "IPY_MODEL_58452c5b934e45b59b40dbda05b4d47c",
       "style": "IPY_MODEL_c784d2c45de34abe8af284d8e4584a30",
       "tooltip": null
      }
     },
     "6a6c167787a647b5b81dfbcdd75e3331": {
      "model_module": "@jupyter-widgets/controls",
      "model_module_version": "2.0.0",
      "model_name": "ToggleButtonModel",
      "state": {
       "button_style": "success",
       "disabled": true,
       "layout": "IPY_MODEL_9aa0b8d99486437599924f0fdf1f9e8b",
       "style": "IPY_MODEL_14c5a2eeaa7c4efeb39aa012cbb78155",
       "tooltip": null
      }
     },
     "6a76b3bfe469464daa55f52f51b6bfa3": {
      "model_module": "@jupyter-widgets/controls",
      "model_module_version": "2.0.0",
      "model_name": "ToggleButtonStyleModel",
      "state": {
       "description_width": "",
       "font_family": null,
       "font_size": null,
       "font_style": null,
       "font_variant": null,
       "font_weight": null,
       "text_color": null,
       "text_decoration": null
      }
     },
     "6aac6d8c47524adab7f883b94dd2f03c": {
      "model_module": "@jupyter-widgets/controls",
      "model_module_version": "2.0.0",
      "model_name": "VBoxModel",
      "state": {
       "children": [
        "IPY_MODEL_53b52a062c5d44f49ada048fff242641",
        "IPY_MODEL_aa61f8a2a6c94090a671d6245eac0388",
        "IPY_MODEL_9e097fb291244cc8a9aa64add5a5b13d",
        "IPY_MODEL_d63028514a2f4c289c0ea6db8e8d276d",
        "IPY_MODEL_5be3d3320f664393a403ed17ef654974",
        "IPY_MODEL_4dec2c000c9a4923823de68bf1d6cc4b",
        "IPY_MODEL_a8bd9f385686482faef383198d05fdcf",
        "IPY_MODEL_5fc749b81cca4cbfb974338c6b88adcf",
        "IPY_MODEL_d823e27cbab043b682638510479fa4e4"
       ],
       "layout": "IPY_MODEL_ec8bcaea8b9643d2be7ea86bff785dd4"
      }
     },
     "6b2a12cb445a427587b2301bdb0bd639": {
      "model_module": "@jupyter-widgets/controls",
      "model_module_version": "2.0.0",
      "model_name": "ToggleButtonStyleModel",
      "state": {
       "description_width": "",
       "font_family": null,
       "font_size": null,
       "font_style": null,
       "font_variant": null,
       "font_weight": null,
       "text_color": null,
       "text_decoration": null
      }
     },
     "6be1311d526b4a0b915cb9b2c93efe40": {
      "model_module": "@jupyter-widgets/controls",
      "model_module_version": "2.0.0",
      "model_name": "ToggleButtonModel",
      "state": {
       "button_style": "info",
       "disabled": true,
       "layout": "IPY_MODEL_9c61bb957f7c4a25976dcbd6e83798b8",
       "style": "IPY_MODEL_a46ad0968b774df39674cfaded25143e",
       "tooltip": null
      }
     },
     "6bf0a7ab26bb4d45a4f0112c61085d7e": {
      "model_module": "@jupyter-widgets/controls",
      "model_module_version": "2.0.0",
      "model_name": "ToggleButtonStyleModel",
      "state": {
       "description_width": "",
       "font_family": null,
       "font_size": null,
       "font_style": null,
       "font_variant": null,
       "font_weight": null,
       "text_color": null,
       "text_decoration": null
      }
     },
     "6c2a44e9715f46a1bdb496f35ef06719": {
      "model_module": "@jupyter-widgets/controls",
      "model_module_version": "2.0.0",
      "model_name": "HBoxModel",
      "state": {
       "children": [
        "IPY_MODEL_dc36e44afbf84cd183d87245ca498399",
        "IPY_MODEL_55df3a21d88148b481fba942e9517549",
        "IPY_MODEL_fddfd52b02b940e1aae3ad567a994b3e",
        "IPY_MODEL_e4815452f2bd4233b9acfa75ca91e93a",
        "IPY_MODEL_66322acce75c422f8f1325fd5f52b826",
        "IPY_MODEL_d153001ad6de490aa90fca4a07425d74",
        "IPY_MODEL_7fd67872a578439caf522a79a0c86ac5",
        "IPY_MODEL_75532f12ef61438a8243677dfd00892c"
       ],
       "layout": "IPY_MODEL_8b3fd6ba20db4d58a172d4631a9ff908"
      }
     },
     "6c2f27474fa94145bae656b67f680974": {
      "model_module": "@jupyter-widgets/controls",
      "model_module_version": "2.0.0",
      "model_name": "ToggleButtonStyleModel",
      "state": {
       "description_width": "",
       "font_family": null,
       "font_size": null,
       "font_style": null,
       "font_variant": null,
       "font_weight": null,
       "text_color": null,
       "text_decoration": null
      }
     },
     "6c38dda9e7114d6987173d72b4e5a310": {
      "model_module": "@jupyter-widgets/controls",
      "model_module_version": "2.0.0",
      "model_name": "ToggleButtonModel",
      "state": {
       "description": "Next",
       "layout": "IPY_MODEL_c65147a7918a46f2ac9cdfd2ea07cd1c",
       "style": "IPY_MODEL_e2f01006756749889eba4b944e2c1662",
       "tooltip": null
      }
     },
     "6c720606b2664459bde93a89358b6135": {
      "model_module": "@jupyter-widgets/controls",
      "model_module_version": "2.0.0",
      "model_name": "ToggleButtonStyleModel",
      "state": {
       "description_width": "",
       "font_family": null,
       "font_size": null,
       "font_style": null,
       "font_variant": null,
       "font_weight": null,
       "text_color": null,
       "text_decoration": null
      }
     },
     "6c8d2e7e9bc146749041ef566a6fd894": {
      "model_module": "@jupyter-widgets/controls",
      "model_module_version": "2.0.0",
      "model_name": "ToggleButtonModel",
      "state": {
       "button_style": "info",
       "disabled": true,
       "layout": "IPY_MODEL_9c61bb957f7c4a25976dcbd6e83798b8",
       "style": "IPY_MODEL_71dccc66990449fca853790e99890eea",
       "tooltip": null
      }
     },
     "6cfbd6b02acb481faa30075b52f666a3": {
      "model_module": "@jupyter-widgets/controls",
      "model_module_version": "2.0.0",
      "model_name": "ToggleButtonModel",
      "state": {
       "button_style": "success",
       "disabled": true,
       "layout": "IPY_MODEL_58452c5b934e45b59b40dbda05b4d47c",
       "style": "IPY_MODEL_28b9b4e8a06b443690a70d028521817c",
       "tooltip": null
      }
     },
     "6d0c1b271bc54f0fb842e22085f3a392": {
      "model_module": "@jupyter-widgets/controls",
      "model_module_version": "2.0.0",
      "model_name": "ToggleButtonStyleModel",
      "state": {
       "description_width": "",
       "font_family": null,
       "font_size": null,
       "font_style": null,
       "font_variant": null,
       "font_weight": null,
       "text_color": null,
       "text_decoration": null
      }
     },
     "6d7e41f477be404988c4a4606e3f5a25": {
      "model_module": "@jupyter-widgets/base",
      "model_module_version": "2.0.0",
      "model_name": "LayoutModel",
      "state": {
       "margin": "0px 0px 10px 0px"
      }
     },
     "6d9aed9cde50455b8ddfcd5a4c4bfed6": {
      "model_module": "@jupyter-widgets/controls",
      "model_module_version": "2.0.0",
      "model_name": "ToggleButtonStyleModel",
      "state": {
       "description_width": "",
       "font_family": null,
       "font_size": null,
       "font_style": null,
       "font_variant": null,
       "font_weight": null,
       "text_color": null,
       "text_decoration": null
      }
     },
     "6da11fa513cf4eda9e2371b287691f40": {
      "model_module": "@jupyter-widgets/controls",
      "model_module_version": "2.0.0",
      "model_name": "ToggleButtonStyleModel",
      "state": {
       "description_width": "",
       "font_family": null,
       "font_size": null,
       "font_style": null,
       "font_variant": null,
       "font_weight": null,
       "text_color": null,
       "text_decoration": null
      }
     },
     "6dafce70a0e34dbab9fd8a6be61caa36": {
      "model_module": "@jupyter-widgets/controls",
      "model_module_version": "2.0.0",
      "model_name": "ToggleButtonModel",
      "state": {
       "button_style": "success",
       "disabled": true,
       "layout": "IPY_MODEL_3831200db05b4a7986a2bfa009c0e327",
       "style": "IPY_MODEL_1032a4f063f944fca1f5a92b914ed325",
       "tooltip": null
      }
     },
     "6dc2eda6e1694affb65c26cb0105d9b1": {
      "model_module": "@jupyter-widgets/controls",
      "model_module_version": "2.0.0",
      "model_name": "ToggleButtonStyleModel",
      "state": {
       "description_width": "",
       "font_family": null,
       "font_size": null,
       "font_style": null,
       "font_variant": null,
       "font_weight": null,
       "text_color": null,
       "text_decoration": null
      }
     },
     "6dd27993257746ee9a058d2b0d064571": {
      "model_module": "@jupyter-widgets/base",
      "model_module_version": "2.0.0",
      "model_name": "LayoutModel",
      "state": {}
     },
     "6e1c91b0980a49f0b84439c67d7c2ddb": {
      "model_module": "@jupyter-widgets/controls",
      "model_module_version": "2.0.0",
      "model_name": "ToggleButtonStyleModel",
      "state": {
       "description_width": "",
       "font_family": null,
       "font_size": null,
       "font_style": null,
       "font_variant": null,
       "font_weight": null,
       "text_color": null,
       "text_decoration": null
      }
     },
     "6e60236e3e3e41e7b2350f1ceb5927f0": {
      "model_module": "@jupyter-widgets/base",
      "model_module_version": "2.0.0",
      "model_name": "LayoutModel",
      "state": {}
     },
     "6e869a29979e4ef98570eecbf5bb1af9": {
      "model_module": "@jupyter-widgets/controls",
      "model_module_version": "2.0.0",
      "model_name": "ToggleButtonStyleModel",
      "state": {
       "description_width": "",
       "font_family": null,
       "font_size": null,
       "font_style": null,
       "font_variant": null,
       "font_weight": null,
       "text_color": null,
       "text_decoration": null
      }
     },
     "6e8f09af47814429813e529a33c20026": {
      "model_module": "@jupyter-widgets/controls",
      "model_module_version": "2.0.0",
      "model_name": "ToggleButtonModel",
      "state": {
       "button_style": "success",
       "disabled": true,
       "layout": "IPY_MODEL_8d696421995345d1b22a15e63c05a8e0",
       "style": "IPY_MODEL_d5d7465cc8be4ed5a9e5224969c9abac",
       "tooltip": null
      }
     },
     "6ec45803325942cb87386aa3827c4cfe": {
      "model_module": "@jupyter-widgets/controls",
      "model_module_version": "2.0.0",
      "model_name": "ToggleButtonStyleModel",
      "state": {
       "description_width": "",
       "font_family": null,
       "font_size": null,
       "font_style": null,
       "font_variant": null,
       "font_weight": null,
       "text_color": null,
       "text_decoration": null
      }
     },
     "6ec5d1428e5e43f0afac1a4fbbb27d0f": {
      "model_module": "@jupyter-widgets/controls",
      "model_module_version": "2.0.0",
      "model_name": "ToggleButtonStyleModel",
      "state": {
       "description_width": "",
       "font_family": null,
       "font_size": null,
       "font_style": null,
       "font_variant": null,
       "font_weight": null,
       "text_color": null,
       "text_decoration": null
      }
     },
     "6ece28cb90f04e1b8d9e4e223527c4e4": {
      "model_module": "@jupyter-widgets/controls",
      "model_module_version": "2.0.0",
      "model_name": "ToggleButtonStyleModel",
      "state": {
       "description_width": "",
       "font_family": null,
       "font_size": null,
       "font_style": null,
       "font_variant": null,
       "font_weight": null,
       "text_color": null,
       "text_decoration": null
      }
     },
     "6ee5355f0abc435b9fb5c7da708532cc": {
      "model_module": "@jupyter-widgets/controls",
      "model_module_version": "2.0.0",
      "model_name": "ToggleButtonStyleModel",
      "state": {
       "description_width": "",
       "font_family": null,
       "font_size": null,
       "font_style": null,
       "font_variant": null,
       "font_weight": null,
       "text_color": null,
       "text_decoration": null
      }
     },
     "6eeabf545b194da794a98b31eb7fa4f6": {
      "model_module": "@jupyter-widgets/controls",
      "model_module_version": "2.0.0",
      "model_name": "ToggleButtonStyleModel",
      "state": {
       "description_width": "",
       "font_family": null,
       "font_size": null,
       "font_style": null,
       "font_variant": null,
       "font_weight": null,
       "text_color": null,
       "text_decoration": null
      }
     },
     "6f0e99ed951d4be9bf6512ffebb98f43": {
      "model_module": "@jupyter-widgets/controls",
      "model_module_version": "2.0.0",
      "model_name": "ToggleButtonModel",
      "state": {
       "button_style": "success",
       "disabled": true,
       "layout": "IPY_MODEL_3831200db05b4a7986a2bfa009c0e327",
       "style": "IPY_MODEL_000b368d778847dbac86278a595f7244",
       "tooltip": null
      }
     },
     "6f4bdd60caf24b909bf3b913efa32fae": {
      "model_module": "@jupyter-widgets/controls",
      "model_module_version": "2.0.0",
      "model_name": "ToggleButtonModel",
      "state": {
       "button_style": "success",
       "disabled": true,
       "layout": "IPY_MODEL_3831200db05b4a7986a2bfa009c0e327",
       "style": "IPY_MODEL_ed44d147f35d429485254e2a3548aa9e",
       "tooltip": null
      }
     },
     "6faa9f59e13c43a39079a3f01a133813": {
      "model_module": "@jupyter-widgets/controls",
      "model_module_version": "2.0.0",
      "model_name": "ToggleButtonStyleModel",
      "state": {
       "description_width": "",
       "font_family": null,
       "font_size": null,
       "font_style": null,
       "font_variant": null,
       "font_weight": null,
       "text_color": null,
       "text_decoration": null
      }
     },
     "70453bab25694178ab577e7b240e7472": {
      "model_module": "@jupyter-widgets/controls",
      "model_module_version": "2.0.0",
      "model_name": "ToggleButtonStyleModel",
      "state": {
       "description_width": "",
       "font_family": null,
       "font_size": null,
       "font_style": null,
       "font_variant": null,
       "font_weight": null,
       "text_color": null,
       "text_decoration": null
      }
     },
     "705a906c03364d079a1c621bf6f3af09": {
      "model_module": "@jupyter-widgets/controls",
      "model_module_version": "2.0.0",
      "model_name": "ToggleButtonModel",
      "state": {
       "button_style": "success",
       "disabled": true,
       "layout": "IPY_MODEL_1984f7edee3c4b9ebcaaf4fd4d1bd535",
       "style": "IPY_MODEL_f6eabd9f90df43d7aae25360884cafd5",
       "tooltip": null
      }
     },
     "70b2090bf5054eb9aeb9ee9ff5dee2e2": {
      "model_module": "@jupyter-widgets/controls",
      "model_module_version": "2.0.0",
      "model_name": "ToggleButtonStyleModel",
      "state": {
       "description_width": "",
       "font_family": null,
       "font_size": null,
       "font_style": null,
       "font_variant": null,
       "font_weight": null,
       "text_color": null,
       "text_decoration": null
      }
     },
     "70c296970d1b496c8f18899d060ef07b": {
      "model_module": "@jupyter-widgets/controls",
      "model_module_version": "2.0.0",
      "model_name": "ToggleButtonStyleModel",
      "state": {
       "description_width": "",
       "font_family": null,
       "font_size": null,
       "font_style": null,
       "font_variant": null,
       "font_weight": null,
       "text_color": null,
       "text_decoration": null
      }
     },
     "70ed5d2e3b684b71a55af1419cdaf8a0": {
      "model_module": "@jupyter-widgets/controls",
      "model_module_version": "2.0.0",
      "model_name": "ToggleButtonModel",
      "state": {
       "description": "►",
       "layout": "IPY_MODEL_9aa0b8d99486437599924f0fdf1f9e8b",
       "style": "IPY_MODEL_0326e52507724f16bc92d698b12cfb44",
       "tooltip": null
      }
     },
     "71038cce6e324a8aa580cc56d23967e1": {
      "model_module": "@jupyter-widgets/base",
      "model_module_version": "2.0.0",
      "model_name": "LayoutModel",
      "state": {}
     },
     "713030c8400d4f64bab7e50da72c765b": {
      "model_module": "@jupyter-widgets/controls",
      "model_module_version": "2.0.0",
      "model_name": "ToggleButtonStyleModel",
      "state": {
       "description_width": "",
       "font_family": null,
       "font_size": null,
       "font_style": null,
       "font_variant": null,
       "font_weight": null,
       "text_color": null,
       "text_decoration": null
      }
     },
     "7177bbae24ee4be98ece74069ad2e05c": {
      "model_module": "@jupyter-widgets/controls",
      "model_module_version": "2.0.0",
      "model_name": "ToggleButtonStyleModel",
      "state": {
       "description_width": "",
       "font_family": null,
       "font_size": null,
       "font_style": null,
       "font_variant": null,
       "font_weight": null,
       "text_color": null,
       "text_decoration": null
      }
     },
     "717dc0a30d6647859b582ec0bc2b188d": {
      "model_module": "@jupyter-widgets/controls",
      "model_module_version": "2.0.0",
      "model_name": "ToggleButtonStyleModel",
      "state": {
       "description_width": "",
       "font_family": null,
       "font_size": null,
       "font_style": null,
       "font_variant": null,
       "font_weight": null,
       "text_color": null,
       "text_decoration": null
      }
     },
     "719c8fe16f9947db9d9b683ad69e621b": {
      "model_module": "@jupyter-widgets/controls",
      "model_module_version": "2.0.0",
      "model_name": "HBoxModel",
      "state": {
       "children": [
        "IPY_MODEL_78a54a0759694f719150fda1fdf042b6",
        "IPY_MODEL_12b470709b7442e7aed9aad9f73a3471",
        "IPY_MODEL_7d97daea1bf14c07917725574a7923b8",
        "IPY_MODEL_c74cef8602ae4d71a182d870f434207e",
        "IPY_MODEL_a80fce5240784374af0089a74b3d9a1b",
        "IPY_MODEL_4d15f98ded4c4391ad7858e21db85ea3",
        "IPY_MODEL_41ced880653b42b39c1bf305aa1fbe86",
        "IPY_MODEL_c445bdeca63a4c198ac6c563a7aa4313"
       ],
       "layout": "IPY_MODEL_bd27e75048e9446ab73154d631125a52"
      }
     },
     "71aa72a95e2e41c9a92ab500b083f04f": {
      "model_module": "@jupyter-widgets/base",
      "model_module_version": "2.0.0",
      "model_name": "LayoutModel",
      "state": {
       "height": "50px",
       "width": "428px"
      }
     },
     "71dccc66990449fca853790e99890eea": {
      "model_module": "@jupyter-widgets/controls",
      "model_module_version": "2.0.0",
      "model_name": "ToggleButtonStyleModel",
      "state": {
       "description_width": "",
       "font_family": null,
       "font_size": null,
       "font_style": null,
       "font_variant": null,
       "font_weight": null,
       "text_color": null,
       "text_decoration": null
      }
     },
     "723955b49859496bbf1c01b7b3aa2b40": {
      "model_module": "@jupyter-widgets/controls",
      "model_module_version": "2.0.0",
      "model_name": "ToggleButtonStyleModel",
      "state": {
       "description_width": "",
       "font_family": null,
       "font_size": null,
       "font_style": null,
       "font_variant": null,
       "font_weight": null,
       "text_color": null,
       "text_decoration": null
      }
     },
     "724cbc685ac64809923101c12e118ffc": {
      "model_module": "@jupyter-widgets/base",
      "model_module_version": "2.0.0",
      "model_name": "LayoutModel",
      "state": {}
     },
     "72cf745e131041858f5223ee8745c98f": {
      "model_module": "@jupyter-widgets/controls",
      "model_module_version": "2.0.0",
      "model_name": "ToggleButtonStyleModel",
      "state": {
       "description_width": "",
       "font_family": null,
       "font_size": null,
       "font_style": null,
       "font_variant": null,
       "font_weight": null,
       "text_color": null,
       "text_decoration": null
      }
     },
     "72e0f9587a04424a8138f181224ddb01": {
      "model_module": "@jupyter-widgets/controls",
      "model_module_version": "2.0.0",
      "model_name": "ToggleButtonStyleModel",
      "state": {
       "description_width": "",
       "font_family": null,
       "font_size": null,
       "font_style": null,
       "font_variant": null,
       "font_weight": null,
       "text_color": null,
       "text_decoration": null
      }
     },
     "73e9650d6785490c9873b3420b9a5b07": {
      "model_module": "@jupyter-widgets/controls",
      "model_module_version": "2.0.0",
      "model_name": "HBoxModel",
      "state": {
       "children": [
        "IPY_MODEL_56c5613d818e4118aef0f9221c5a5b9c",
        "IPY_MODEL_afa077ebf5b0480aa419d28e8a50085d",
        "IPY_MODEL_18c99617992040f3bad6a7f48e41bf2f",
        "IPY_MODEL_389a7d955cc245268ab23a86f139c46b",
        "IPY_MODEL_dfe62645d6524447953a81556df01588",
        "IPY_MODEL_1aa3c54b256645aea5b397cf0cacc648",
        "IPY_MODEL_dd1509a3ed5a44b2ab552697c02bba45",
        "IPY_MODEL_d37afe6f5f09497896484075edca65a1"
       ],
       "layout": "IPY_MODEL_1e5db5ba926840e5825975afbe804b5c"
      }
     },
     "7402ec049cf048c499065342d8d915e7": {
      "model_module": "@jupyter-widgets/controls",
      "model_module_version": "2.0.0",
      "model_name": "ToggleButtonModel",
      "state": {
       "button_style": "success",
       "disabled": true,
       "layout": "IPY_MODEL_9aa0b8d99486437599924f0fdf1f9e8b",
       "style": "IPY_MODEL_24c917c38deb4937a443f3803721a256",
       "tooltip": null
      }
     },
     "74113fc315f54fbd9e18b27bff3d74fd": {
      "model_module": "@jupyter-widgets/controls",
      "model_module_version": "2.0.0",
      "model_name": "ToggleButtonModel",
      "state": {
       "button_style": "success",
       "disabled": true,
       "layout": "IPY_MODEL_8d696421995345d1b22a15e63c05a8e0",
       "style": "IPY_MODEL_dea937ab156246eca8b2ce64f586a423",
       "tooltip": null
      }
     },
     "744666abee7b422cb54f9aea64b779e3": {
      "model_module": "@jupyter-widgets/controls",
      "model_module_version": "2.0.0",
      "model_name": "ToggleButtonModel",
      "state": {
       "button_style": "success",
       "disabled": true,
       "layout": "IPY_MODEL_58452c5b934e45b59b40dbda05b4d47c",
       "style": "IPY_MODEL_b252f8dfb3654d50b81823a54c5c66b3",
       "tooltip": null
      }
     },
     "747c78b626de4230b01cd6a0ec85e77a": {
      "model_module": "@jupyter-widgets/controls",
      "model_module_version": "2.0.0",
      "model_name": "ToggleButtonModel",
      "state": {
       "button_style": "success",
       "disabled": true,
       "layout": "IPY_MODEL_cbb007f4b9644615acf96a9592fe5eea",
       "style": "IPY_MODEL_9d49913ba4fb4cd5b791f015cf52fe16",
       "tooltip": null
      }
     },
     "74adf2e74f4d4f5db252fa9ca4f8910a": {
      "model_module": "@jupyter-widgets/base",
      "model_module_version": "2.0.0",
      "model_name": "LayoutModel",
      "state": {
       "height": "50px",
       "width": "374px"
      }
     },
     "74c83dce58354911904d8c098e60edff": {
      "model_module": "@jupyter-widgets/controls",
      "model_module_version": "2.0.0",
      "model_name": "ToggleButtonModel",
      "state": {
       "button_style": "success",
       "disabled": true,
       "layout": "IPY_MODEL_58452c5b934e45b59b40dbda05b4d47c",
       "style": "IPY_MODEL_289d3c28a8cb44ad8aa3682126918670",
       "tooltip": null
      }
     },
     "74cb89b1deab4ebb9bd6e9ed1b62312b": {
      "model_module": "@jupyter-widgets/controls",
      "model_module_version": "2.0.0",
      "model_name": "ToggleButtonModel",
      "state": {
       "button_style": "success",
       "disabled": true,
       "layout": "IPY_MODEL_cbb007f4b9644615acf96a9592fe5eea",
       "style": "IPY_MODEL_a11c13eafba1453381dfdb348a61797f",
       "tooltip": null
      }
     },
     "74d4c97818394fa4ab5b4a586299210d": {
      "model_module": "@jupyter-widgets/controls",
      "model_module_version": "2.0.0",
      "model_name": "ToggleButtonModel",
      "state": {
       "button_style": "success",
       "disabled": true,
       "layout": "IPY_MODEL_1984f7edee3c4b9ebcaaf4fd4d1bd535",
       "style": "IPY_MODEL_7e8cdd602164486d9366e2f952ea097e",
       "tooltip": null
      }
     },
     "74ef8425273f464a8b8195094f96bfd3": {
      "model_module": "@jupyter-widgets/controls",
      "model_module_version": "2.0.0",
      "model_name": "ToggleButtonStyleModel",
      "state": {
       "description_width": "",
       "font_family": null,
       "font_size": null,
       "font_style": null,
       "font_variant": null,
       "font_weight": null,
       "text_color": null,
       "text_decoration": null
      }
     },
     "74f8459462064822bc46df88c037dba9": {
      "model_module": "@jupyter-widgets/controls",
      "model_module_version": "2.0.0",
      "model_name": "ToggleButtonStyleModel",
      "state": {
       "description_width": "",
       "font_family": null,
       "font_size": null,
       "font_style": null,
       "font_variant": null,
       "font_weight": null,
       "text_color": null,
       "text_decoration": null
      }
     },
     "751f00d86b6f420fb44f0e78f1c051b6": {
      "model_module": "@jupyter-widgets/base",
      "model_module_version": "2.0.0",
      "model_name": "LayoutModel",
      "state": {}
     },
     "7539f71981144b5f94d606f00b4c1694": {
      "model_module": "@jupyter-widgets/controls",
      "model_module_version": "2.0.0",
      "model_name": "ToggleButtonStyleModel",
      "state": {
       "description_width": "",
       "font_family": null,
       "font_size": null,
       "font_style": null,
       "font_variant": null,
       "font_weight": null,
       "text_color": null,
       "text_decoration": null
      }
     },
     "754d940d58674a1c845c4f6f0affe141": {
      "model_module": "@jupyter-widgets/controls",
      "model_module_version": "2.0.0",
      "model_name": "ToggleButtonModel",
      "state": {
       "button_style": "success",
       "disabled": true,
       "layout": "IPY_MODEL_1984f7edee3c4b9ebcaaf4fd4d1bd535",
       "style": "IPY_MODEL_19bda2eac29641f8aa8e6d52e88d13bf",
       "tooltip": null
      }
     },
     "75532f12ef61438a8243677dfd00892c": {
      "model_module": "@jupyter-widgets/controls",
      "model_module_version": "2.0.0",
      "model_name": "ToggleButtonModel",
      "state": {
       "button_style": "success",
       "disabled": true,
       "layout": "IPY_MODEL_9aa0b8d99486437599924f0fdf1f9e8b",
       "style": "IPY_MODEL_64300152a6954d3ea2afe3e19606a923",
       "tooltip": null
      }
     },
     "759ab3c7b9b644399fc745c749d072cf": {
      "model_module": "@jupyter-widgets/controls",
      "model_module_version": "2.0.0",
      "model_name": "ToggleButtonStyleModel",
      "state": {
       "description_width": "",
       "font_family": null,
       "font_size": null,
       "font_style": null,
       "font_variant": null,
       "font_weight": null,
       "text_color": null,
       "text_decoration": null
      }
     },
     "75b227cdc6794fea812c4870c2d6eff9": {
      "model_module": "@jupyter-widgets/controls",
      "model_module_version": "2.0.0",
      "model_name": "ToggleButtonModel",
      "state": {
       "button_style": "success",
       "disabled": true,
       "layout": "IPY_MODEL_3831200db05b4a7986a2bfa009c0e327",
       "style": "IPY_MODEL_d1f0f42352be4a4ba315e061759435c9",
       "tooltip": null
      }
     },
     "760a2002a08541ee863b2454800aae07": {
      "model_module": "@jupyter-widgets/controls",
      "model_module_version": "2.0.0",
      "model_name": "HBoxModel",
      "state": {
       "children": [
        "IPY_MODEL_487e45c294e844b2b296dc734cbbd33c",
        "IPY_MODEL_20788b3d6cc743d59b84cdc8cea83326",
        "IPY_MODEL_43e17810302548078e2ff50ac2c91c65",
        "IPY_MODEL_4edc47a796bd437a821a2470d5db4996",
        "IPY_MODEL_a121dad754b1434d8fe411c63e10faa6",
        "IPY_MODEL_93223e8c59fc4315afe0620b94884ef9",
        "IPY_MODEL_0bc67e85a28d4a5d9591940e854d1eaa",
        "IPY_MODEL_87e201cb7e644d168dade41e1417797f"
       ],
       "layout": "IPY_MODEL_b5ab2e34729e455eba3375ba840f087a"
      }
     },
     "764b3118f4d64a11acd3b3e2dd7600bd": {
      "model_module": "@jupyter-widgets/controls",
      "model_module_version": "2.0.0",
      "model_name": "ToggleButtonModel",
      "state": {
       "button_style": "success",
       "disabled": true,
       "layout": "IPY_MODEL_3831200db05b4a7986a2bfa009c0e327",
       "style": "IPY_MODEL_3782395a56a14b60a5073385b1af9777",
       "tooltip": null
      }
     },
     "76594c00a62d401ca2f8af32fc53577d": {
      "model_module": "@jupyter-widgets/controls",
      "model_module_version": "2.0.0",
      "model_name": "ToggleButtonStyleModel",
      "state": {
       "description_width": "",
       "font_family": null,
       "font_size": null,
       "font_style": null,
       "font_variant": null,
       "font_weight": null,
       "text_color": null,
       "text_decoration": null
      }
     },
     "7666ac27fffe46e2b448eb25ac1565dc": {
      "model_module": "@jupyter-widgets/controls",
      "model_module_version": "2.0.0",
      "model_name": "ToggleButtonModel",
      "state": {
       "button_style": "success",
       "disabled": true,
       "layout": "IPY_MODEL_8d696421995345d1b22a15e63c05a8e0",
       "style": "IPY_MODEL_88a5fe63940d4bdb8e1cee0f3b1fc33a",
       "tooltip": null
      }
     },
     "76758cc3ed104a86a92976d22a803a6a": {
      "model_module": "@jupyter-widgets/controls",
      "model_module_version": "2.0.0",
      "model_name": "ToggleButtonModel",
      "state": {
       "button_style": "success",
       "disabled": true,
       "layout": "IPY_MODEL_1984f7edee3c4b9ebcaaf4fd4d1bd535",
       "style": "IPY_MODEL_88b6094fe6974b65ad1eba7784d512e2",
       "tooltip": null
      }
     },
     "7683e6049252439098e933ce1182da5e": {
      "model_module": "@jupyter-widgets/controls",
      "model_module_version": "2.0.0",
      "model_name": "ToggleButtonStyleModel",
      "state": {
       "description_width": "",
       "font_family": null,
       "font_size": null,
       "font_style": null,
       "font_variant": null,
       "font_weight": null,
       "text_color": null,
       "text_decoration": null
      }
     },
     "7697f35cbf56480e93311cbb06e2a87f": {
      "model_module": "@jupyter-widgets/controls",
      "model_module_version": "2.0.0",
      "model_name": "ToggleButtonStyleModel",
      "state": {
       "description_width": "",
       "font_family": null,
       "font_size": null,
       "font_style": null,
       "font_variant": null,
       "font_weight": null,
       "text_color": null,
       "text_decoration": null
      }
     },
     "769db8ccf99c480c81e192ed4518ccb0": {
      "model_module": "@jupyter-widgets/base",
      "model_module_version": "2.0.0",
      "model_name": "LayoutModel",
      "state": {}
     },
     "76b7d1af79c840f88fbfd09f52c2beab": {
      "model_module": "@jupyter-widgets/controls",
      "model_module_version": "2.0.0",
      "model_name": "ToggleButtonModel",
      "state": {
       "button_style": "danger",
       "disabled": true,
       "layout": "IPY_MODEL_1984f7edee3c4b9ebcaaf4fd4d1bd535",
       "style": "IPY_MODEL_78ef0edc1c5d459a9420fab63e658559",
       "tooltip": null
      }
     },
     "76be3ca2b97e4f83bad430b2741331c6": {
      "model_module": "@jupyter-widgets/controls",
      "model_module_version": "2.0.0",
      "model_name": "ToggleButtonModel",
      "state": {
       "description": "►",
       "layout": "IPY_MODEL_3831200db05b4a7986a2bfa009c0e327",
       "style": "IPY_MODEL_a189f4a641c049e1bbecbc3a93ddd112",
       "tooltip": null
      }
     },
     "76c6965be55a4e34886b18de09516760": {
      "model_module": "@jupyter-widgets/controls",
      "model_module_version": "2.0.0",
      "model_name": "ToggleButtonStyleModel",
      "state": {
       "description_width": "",
       "font_family": null,
       "font_size": null,
       "font_style": null,
       "font_variant": null,
       "font_weight": null,
       "text_color": null,
       "text_decoration": null
      }
     },
     "77026b29f9304f9ba6facf0904702b89": {
      "model_module": "@jupyter-widgets/controls",
      "model_module_version": "2.0.0",
      "model_name": "ToggleButtonModel",
      "state": {
       "button_style": "success",
       "disabled": true,
       "layout": "IPY_MODEL_1984f7edee3c4b9ebcaaf4fd4d1bd535",
       "style": "IPY_MODEL_f6d4a251fba440b6be2533f047e8ef7a",
       "tooltip": null
      }
     },
     "775fa00cdee04061aa4af6fa593c2815": {
      "model_module": "@jupyter-widgets/controls",
      "model_module_version": "2.0.0",
      "model_name": "ToggleButtonModel",
      "state": {
       "button_style": "success",
       "disabled": true,
       "layout": "IPY_MODEL_2d2b7c3a0e0b4e2ea0528a045ba78de4",
       "style": "IPY_MODEL_360f46c0d06a48f591c1e7d8dd8794e3",
       "tooltip": null
      }
     },
     "77716026dfbd4078a0f9b31d4ea9258a": {
      "model_module": "@jupyter-widgets/controls",
      "model_module_version": "2.0.0",
      "model_name": "ToggleButtonStyleModel",
      "state": {
       "description_width": "",
       "font_family": null,
       "font_size": null,
       "font_style": null,
       "font_variant": null,
       "font_weight": null,
       "text_color": null,
       "text_decoration": null
      }
     },
     "7780ee96abdc4df49385ab5948e009d4": {
      "model_module": "@jupyter-widgets/controls",
      "model_module_version": "2.0.0",
      "model_name": "ToggleButtonModel",
      "state": {
       "button_style": "success",
       "disabled": true,
       "layout": "IPY_MODEL_3831200db05b4a7986a2bfa009c0e327",
       "style": "IPY_MODEL_c2d8f118c71346d3927f2267833535b5",
       "tooltip": null
      }
     },
     "7791764d889f4b5f8c57109e29eab714": {
      "model_module": "@jupyter-widgets/controls",
      "model_module_version": "2.0.0",
      "model_name": "ToggleButtonStyleModel",
      "state": {
       "description_width": "",
       "font_family": null,
       "font_size": null,
       "font_style": null,
       "font_variant": null,
       "font_weight": null,
       "text_color": null,
       "text_decoration": null
      }
     },
     "780924665834443a93dc1f59b9e81e18": {
      "model_module": "@jupyter-widgets/controls",
      "model_module_version": "2.0.0",
      "model_name": "HBoxModel",
      "state": {
       "children": [
        "IPY_MODEL_311d0779df9b4d1997b4e1e81ed7f0dd",
        "IPY_MODEL_d1bd4534b6b949fa9087c3dbf955b237",
        "IPY_MODEL_c4d287d55f474b20ad6261486372a421",
        "IPY_MODEL_39d5441f940946f5bc243f6d9e368b42",
        "IPY_MODEL_2ad429d7e5bf4ff3a741ca2de527ecea",
        "IPY_MODEL_4509e8f754d94e5ba72447a3845d4eba",
        "IPY_MODEL_9513744df33d4570bb86c8a60d39e12a",
        "IPY_MODEL_81fab6f760d94308ad3038de3fb802ba",
        "IPY_MODEL_f9e88f7bd32c4d06aadde0ae3e64775b",
        "IPY_MODEL_94cc6767a7e8447e885f233f3e4b71ae",
        "IPY_MODEL_47608faeccac459ea5d2a712c17d2bd2",
        "IPY_MODEL_94cc6767a7e8447e885f233f3e4b71ae",
        "IPY_MODEL_02b9544af6ca4119bcd165e64d5acf3a",
        "IPY_MODEL_94cc6767a7e8447e885f233f3e4b71ae",
        "IPY_MODEL_10fa648a6b544ec0bdb6260c316028a0"
       ],
       "layout": "IPY_MODEL_fc7e295de0974b9193d46374eca6eac3"
      }
     },
     "78a54a0759694f719150fda1fdf042b6": {
      "model_module": "@jupyter-widgets/controls",
      "model_module_version": "2.0.0",
      "model_name": "ToggleButtonModel",
      "state": {
       "button_style": "success",
       "disabled": true,
       "layout": "IPY_MODEL_2d2b7c3a0e0b4e2ea0528a045ba78de4",
       "style": "IPY_MODEL_a772f4644a904838b685584ccd61f214",
       "tooltip": null
      }
     },
     "78a657789f314ecf96f0665d76fb8561": {
      "model_module": "@jupyter-widgets/controls",
      "model_module_version": "2.0.0",
      "model_name": "ToggleButtonStyleModel",
      "state": {
       "description_width": "",
       "font_family": null,
       "font_size": null,
       "font_style": null,
       "font_variant": null,
       "font_weight": null,
       "text_color": null,
       "text_decoration": null
      }
     },
     "78ef0edc1c5d459a9420fab63e658559": {
      "model_module": "@jupyter-widgets/controls",
      "model_module_version": "2.0.0",
      "model_name": "ToggleButtonStyleModel",
      "state": {
       "description_width": "",
       "font_family": null,
       "font_size": null,
       "font_style": null,
       "font_variant": null,
       "font_weight": null,
       "text_color": null,
       "text_decoration": null
      }
     },
     "79496b0d30e547868a085578d7fff3b9": {
      "model_module": "@jupyter-widgets/controls",
      "model_module_version": "2.0.0",
      "model_name": "ToggleButtonStyleModel",
      "state": {
       "description_width": "",
       "font_family": null,
       "font_size": null,
       "font_style": null,
       "font_variant": null,
       "font_weight": null,
       "text_color": null,
       "text_decoration": null
      }
     },
     "798377a3b2454909a182bb4c48ac8024": {
      "model_module": "@jupyter-widgets/controls",
      "model_module_version": "2.0.0",
      "model_name": "ToggleButtonStyleModel",
      "state": {
       "description_width": "",
       "font_family": null,
       "font_size": null,
       "font_style": null,
       "font_variant": null,
       "font_weight": null,
       "text_color": null,
       "text_decoration": null
      }
     },
     "79d691fc272e4a8baea72c19378f65c8": {
      "model_module": "@jupyter-widgets/controls",
      "model_module_version": "2.0.0",
      "model_name": "ToggleButtonModel",
      "state": {
       "button_style": "success",
       "disabled": true,
       "layout": "IPY_MODEL_3831200db05b4a7986a2bfa009c0e327",
       "style": "IPY_MODEL_da0649ba9f004296be9e410b877323b3",
       "tooltip": null
      }
     },
     "7a35dfec99d3468bb9d947b7bcea480f": {
      "model_module": "@jupyter-widgets/controls",
      "model_module_version": "2.0.0",
      "model_name": "ToggleButtonModel",
      "state": {
       "description": "Next",
       "layout": "IPY_MODEL_22bc2557d3ed4b5bab4832987779651d",
       "style": "IPY_MODEL_285c2e5f1a1d4e0ca6e07a4b481df44c",
       "tooltip": null
      }
     },
     "7a377346ef254bd589d9685a04862aa7": {
      "model_module": "@jupyter-widgets/controls",
      "model_module_version": "2.0.0",
      "model_name": "HTMLModel",
      "state": {
       "layout": "IPY_MODEL_0beadacb89cc4fa2ba0b1a7c8b653efc",
       "style": "IPY_MODEL_15e0a32bb2654cacaa55f3e656858589",
       "value": "<h5>Queue</h5>"
      }
     },
     "7a4f074ac3ea4d968cdef97c4d3d0099": {
      "model_module": "@jupyter-widgets/controls",
      "model_module_version": "2.0.0",
      "model_name": "ToggleButtonModel",
      "state": {
       "description": "Next",
       "layout": "IPY_MODEL_875c6072d2064f15a911a2237cd4367f",
       "style": "IPY_MODEL_c492f5afeeae4046bd56b7864fa3d67e",
       "tooltip": null
      }
     },
     "7a867935924a4a2f869cbb5753c63379": {
      "model_module": "@jupyter-widgets/controls",
      "model_module_version": "2.0.0",
      "model_name": "ToggleButtonStyleModel",
      "state": {
       "description_width": "",
       "font_family": null,
       "font_size": null,
       "font_style": null,
       "font_variant": null,
       "font_weight": null,
       "text_color": null,
       "text_decoration": null
      }
     },
     "7a9783dc1f5641c8b3b40e255c4f60d0": {
      "model_module": "@jupyter-widgets/controls",
      "model_module_version": "2.0.0",
      "model_name": "ToggleButtonModel",
      "state": {
       "button_style": "success",
       "disabled": true,
       "layout": "IPY_MODEL_58452c5b934e45b59b40dbda05b4d47c",
       "style": "IPY_MODEL_3499903758cd434c87858e7231c1054e",
       "tooltip": null
      }
     },
     "7acca9b246154fe78d9d784607bec1ab": {
      "model_module": "@jupyter-widgets/controls",
      "model_module_version": "2.0.0",
      "model_name": "ToggleButtonStyleModel",
      "state": {
       "description_width": "",
       "font_family": null,
       "font_size": null,
       "font_style": null,
       "font_variant": null,
       "font_weight": null,
       "text_color": null,
       "text_decoration": null
      }
     },
     "7b10c5878e1a4abf8fb45ad91cd0cf01": {
      "model_module": "@jupyter-widgets/base",
      "model_module_version": "2.0.0",
      "model_name": "LayoutModel",
      "state": {
       "height": "50px",
       "width": "374px"
      }
     },
     "7b14263518c34019b7ff1e41a56f5aca": {
      "model_module": "@jupyter-widgets/controls",
      "model_module_version": "2.0.0",
      "model_name": "ToggleButtonStyleModel",
      "state": {
       "description_width": "",
       "font_family": null,
       "font_size": null,
       "font_style": null,
       "font_variant": null,
       "font_weight": null,
       "text_color": null,
       "text_decoration": null
      }
     },
     "7b5f8ef0fb5d4fca95a96e2661d9c2be": {
      "model_module": "@jupyter-widgets/controls",
      "model_module_version": "2.0.0",
      "model_name": "ToggleButtonStyleModel",
      "state": {
       "description_width": "",
       "font_family": null,
       "font_size": null,
       "font_style": null,
       "font_variant": null,
       "font_weight": null,
       "text_color": null,
       "text_decoration": null
      }
     },
     "7b6fdaaca6c844f888128572ca6873b7": {
      "model_module": "@jupyter-widgets/controls",
      "model_module_version": "2.0.0",
      "model_name": "ToggleButtonModel",
      "state": {
       "button_style": "success",
       "disabled": true,
       "layout": "IPY_MODEL_9aa0b8d99486437599924f0fdf1f9e8b",
       "style": "IPY_MODEL_e6b173fb42924cc99150d81504f9c105",
       "tooltip": null
      }
     },
     "7bd93f1afbf245119f28044f4fd0ea23": {
      "model_module": "@jupyter-widgets/controls",
      "model_module_version": "2.0.0",
      "model_name": "ToggleButtonStyleModel",
      "state": {
       "description_width": "",
       "font_family": null,
       "font_size": null,
       "font_style": null,
       "font_variant": null,
       "font_weight": null,
       "text_color": null,
       "text_decoration": null
      }
     },
     "7bdfe4cde0df46d1b81cb3b3d5ff6716": {
      "model_module": "@jupyter-widgets/controls",
      "model_module_version": "2.0.0",
      "model_name": "ToggleButtonStyleModel",
      "state": {
       "description_width": "",
       "font_family": null,
       "font_size": null,
       "font_style": null,
       "font_variant": null,
       "font_weight": null,
       "text_color": null,
       "text_decoration": null
      }
     },
     "7c13f41cae5e4ba681549d3c0b99ec6b": {
      "model_module": "@jupyter-widgets/controls",
      "model_module_version": "2.0.0",
      "model_name": "ToggleButtonStyleModel",
      "state": {
       "description_width": "",
       "font_family": null,
       "font_size": null,
       "font_style": null,
       "font_variant": null,
       "font_weight": null,
       "text_color": null,
       "text_decoration": null
      }
     },
     "7c2d1bda4edd41779c91e0676f7ffbf4": {
      "model_module": "@jupyter-widgets/controls",
      "model_module_version": "2.0.0",
      "model_name": "ToggleButtonStyleModel",
      "state": {
       "description_width": "",
       "font_family": null,
       "font_size": null,
       "font_style": null,
       "font_variant": null,
       "font_weight": null,
       "text_color": null,
       "text_decoration": null
      }
     },
     "7c499750125b4afd9e4b9a3f4af47755": {
      "model_module": "@jupyter-widgets/controls",
      "model_module_version": "2.0.0",
      "model_name": "HBoxModel",
      "state": {
       "children": [
        "IPY_MODEL_400c1df5b141469db3d7e811b1c6797a",
        "IPY_MODEL_51406c8d109d40df8a965b2378811908",
        "IPY_MODEL_65c13a9c5e384d28a27ff0ecd27db08b",
        "IPY_MODEL_3e9a7f1245e348c8bf4359b3feb960d0",
        "IPY_MODEL_a609a3eb4b2e45d98e9e8c5b8c8ef116",
        "IPY_MODEL_b3bd4758fc5a4770a9d3abd1f00548c9",
        "IPY_MODEL_d2e93364caba41519092a2ade7936a90",
        "IPY_MODEL_1823126845d14ae68613fb4a05fcd75d"
       ],
       "layout": "IPY_MODEL_3a7bf9cb7ece4d8ea3774fba6b895a8b"
      }
     },
     "7c8febabfbf2447e9e5673ba034dc63f": {
      "model_module": "@jupyter-widgets/controls",
      "model_module_version": "2.0.0",
      "model_name": "ToggleButtonStyleModel",
      "state": {
       "description_width": "",
       "font_family": null,
       "font_size": null,
       "font_style": null,
       "font_variant": null,
       "font_weight": null,
       "text_color": null,
       "text_decoration": null
      }
     },
     "7cceb5cfce42481a942027ada0478e34": {
      "model_module": "@jupyter-widgets/controls",
      "model_module_version": "2.0.0",
      "model_name": "ToggleButtonStyleModel",
      "state": {
       "description_width": "",
       "font_family": null,
       "font_size": null,
       "font_style": null,
       "font_variant": null,
       "font_weight": null,
       "text_color": null,
       "text_decoration": null
      }
     },
     "7d4c6808fa434bbf9a780b08c10bdf2c": {
      "model_module": "@jupyter-widgets/controls",
      "model_module_version": "2.0.0",
      "model_name": "ToggleButtonStyleModel",
      "state": {
       "description_width": "",
       "font_family": null,
       "font_size": null,
       "font_style": null,
       "font_variant": null,
       "font_weight": null,
       "text_color": null,
       "text_decoration": null
      }
     },
     "7d65afd73a144706ae2b391dd7a74876": {
      "model_module": "@jupyter-widgets/base",
      "model_module_version": "2.0.0",
      "model_name": "LayoutModel",
      "state": {
       "height": "50px",
       "width": "428px"
      }
     },
     "7d8d77bf817d474a86f0e1d0256a7e97": {
      "model_module": "@jupyter-widgets/base",
      "model_module_version": "2.0.0",
      "model_name": "LayoutModel",
      "state": {}
     },
     "7d9631e281c34b188d545e94f77b82c8": {
      "model_module": "@jupyter-widgets/controls",
      "model_module_version": "2.0.0",
      "model_name": "ToggleButtonStyleModel",
      "state": {
       "description_width": "",
       "font_family": null,
       "font_size": null,
       "font_style": null,
       "font_variant": null,
       "font_weight": null,
       "text_color": null,
       "text_decoration": null
      }
     },
     "7d97daea1bf14c07917725574a7923b8": {
      "model_module": "@jupyter-widgets/controls",
      "model_module_version": "2.0.0",
      "model_name": "ToggleButtonModel",
      "state": {
       "button_style": "success",
       "disabled": true,
       "layout": "IPY_MODEL_2d2b7c3a0e0b4e2ea0528a045ba78de4",
       "style": "IPY_MODEL_a321ee1728ce49eeb47b4ab5d90098c8",
       "tooltip": null
      }
     },
     "7dbc63f9cb094705aabb001e70e8e94e": {
      "model_module": "@jupyter-widgets/controls",
      "model_module_version": "2.0.0",
      "model_name": "ToggleButtonModel",
      "state": {
       "button_style": "success",
       "disabled": true,
       "layout": "IPY_MODEL_cbb007f4b9644615acf96a9592fe5eea",
       "style": "IPY_MODEL_a3a73c6dbdd0492eaf330592575780f9",
       "tooltip": null
      }
     },
     "7e12048e676f40d9974267e0666357b4": {
      "model_module": "@jupyter-widgets/controls",
      "model_module_version": "2.0.0",
      "model_name": "ToggleButtonStyleModel",
      "state": {
       "description_width": "",
       "font_family": null,
       "font_size": null,
       "font_style": null,
       "font_variant": null,
       "font_weight": null,
       "text_color": null,
       "text_decoration": null
      }
     },
     "7e8cdd602164486d9366e2f952ea097e": {
      "model_module": "@jupyter-widgets/controls",
      "model_module_version": "2.0.0",
      "model_name": "ToggleButtonStyleModel",
      "state": {
       "description_width": "",
       "font_family": null,
       "font_size": null,
       "font_style": null,
       "font_variant": null,
       "font_weight": null,
       "text_color": null,
       "text_decoration": null
      }
     },
     "7ebf8eaf1cb14f2f8e059bb4d3c72991": {
      "model_module": "@jupyter-widgets/controls",
      "model_module_version": "2.0.0",
      "model_name": "ToggleButtonStyleModel",
      "state": {
       "description_width": "",
       "font_family": null,
       "font_size": null,
       "font_style": null,
       "font_variant": null,
       "font_weight": null,
       "text_color": null,
       "text_decoration": null
      }
     },
     "7ef5997044dd40eda201940ff7541353": {
      "model_module": "@jupyter-widgets/controls",
      "model_module_version": "2.0.0",
      "model_name": "ToggleButtonModel",
      "state": {
       "description": "A",
       "layout": "IPY_MODEL_58452c5b934e45b59b40dbda05b4d47c",
       "style": "IPY_MODEL_ffa485a0f7eb4c1a8ac0bb7d5320833e",
       "tooltip": null
      }
     },
     "7f11c047ebce42e0abaf2b848a4c20a6": {
      "model_module": "@jupyter-widgets/controls",
      "model_module_version": "2.0.0",
      "model_name": "ToggleButtonModel",
      "state": {
       "button_style": "success",
       "disabled": true,
       "layout": "IPY_MODEL_3831200db05b4a7986a2bfa009c0e327",
       "style": "IPY_MODEL_c1c9cf256e6b46ab86a65fcec425c8b0",
       "tooltip": null
      }
     },
     "7f267ab4c68f4698b47886f52cfbc72c": {
      "model_module": "@jupyter-widgets/controls",
      "model_module_version": "2.0.0",
      "model_name": "ToggleButtonModel",
      "state": {
       "button_style": "success",
       "disabled": true,
       "layout": "IPY_MODEL_cbb007f4b9644615acf96a9592fe5eea",
       "style": "IPY_MODEL_1e954c071e2e4350965151dda7d04200",
       "tooltip": null
      }
     },
     "7f390f3538484c949bfda190a5f2841e": {
      "model_module": "@jupyter-widgets/base",
      "model_module_version": "2.0.0",
      "model_name": "LayoutModel",
      "state": {}
     },
     "7f4edc52f4b340129b2945216efd11a1": {
      "model_module": "@jupyter-widgets/controls",
      "model_module_version": "2.0.0",
      "model_name": "ToggleButtonStyleModel",
      "state": {
       "description_width": "",
       "font_family": null,
       "font_size": null,
       "font_style": null,
       "font_variant": null,
       "font_weight": null,
       "text_color": null,
       "text_decoration": null
      }
     },
     "7f718ba8128e4faea1f2e5b3ec112766": {
      "model_module": "@jupyter-widgets/controls",
      "model_module_version": "2.0.0",
      "model_name": "ToggleButtonStyleModel",
      "state": {
       "description_width": "",
       "font_family": null,
       "font_size": null,
       "font_style": null,
       "font_variant": null,
       "font_weight": null,
       "text_color": null,
       "text_decoration": null
      }
     },
     "7fb19dd5493741889e4a07f48ed3368a": {
      "model_module": "@jupyter-widgets/controls",
      "model_module_version": "2.0.0",
      "model_name": "ToggleButtonModel",
      "state": {
       "button_style": "success",
       "disabled": true,
       "layout": "IPY_MODEL_3831200db05b4a7986a2bfa009c0e327",
       "style": "IPY_MODEL_ec85e606bae747399f8d749d02955b92",
       "tooltip": null
      }
     },
     "7fc1edb4e28745fba85349f22745c289": {
      "model_module": "@jupyter-widgets/base",
      "model_module_version": "2.0.0",
      "model_name": "LayoutModel",
      "state": {}
     },
     "7fd67872a578439caf522a79a0c86ac5": {
      "model_module": "@jupyter-widgets/controls",
      "model_module_version": "2.0.0",
      "model_name": "ToggleButtonModel",
      "state": {
       "button_style": "success",
       "disabled": true,
       "layout": "IPY_MODEL_9aa0b8d99486437599924f0fdf1f9e8b",
       "style": "IPY_MODEL_ab09f80f33544632998986b569d661cc",
       "tooltip": null
      }
     },
     "801adf3baa7443a681ae16a1230f1936": {
      "model_module": "@jupyter-widgets/base",
      "model_module_version": "2.0.0",
      "model_name": "LayoutModel",
      "state": {}
     },
     "80477c02b87148f796bcbd44068da014": {
      "model_module": "@jupyter-widgets/controls",
      "model_module_version": "2.0.0",
      "model_name": "ToggleButtonStyleModel",
      "state": {
       "description_width": "",
       "font_family": null,
       "font_size": null,
       "font_style": null,
       "font_variant": null,
       "font_weight": null,
       "text_color": null,
       "text_decoration": null
      }
     },
     "80a6678ec6cb461ab33e346213108cf2": {
      "model_module": "@jupyter-widgets/controls",
      "model_module_version": "2.0.0",
      "model_name": "ToggleButtonModel",
      "state": {
       "description": "▼",
       "layout": "IPY_MODEL_9aa0b8d99486437599924f0fdf1f9e8b",
       "style": "IPY_MODEL_cf1e1d5a5d834569928dbf043570c25a",
       "tooltip": null
      }
     },
     "81358702ef354b42b3b6e63cb4bd89dc": {
      "model_module": "@jupyter-widgets/controls",
      "model_module_version": "2.0.0",
      "model_name": "ToggleButtonModel",
      "state": {
       "button_style": "info",
       "disabled": true,
       "layout": "IPY_MODEL_9c61bb957f7c4a25976dcbd6e83798b8",
       "style": "IPY_MODEL_6bf0a7ab26bb4d45a4f0112c61085d7e",
       "tooltip": null
      }
     },
     "813ab98718c340b5b604bd1e1e47f821": {
      "model_module": "@jupyter-widgets/controls",
      "model_module_version": "2.0.0",
      "model_name": "ToggleButtonModel",
      "state": {
       "button_style": "success",
       "disabled": true,
       "layout": "IPY_MODEL_3831200db05b4a7986a2bfa009c0e327",
       "style": "IPY_MODEL_e42c2e4a497242c19f330c77c2715647",
       "tooltip": null
      }
     },
     "8158bb1db4a24f86becfaf1ac4725c7e": {
      "model_module": "@jupyter-widgets/controls",
      "model_module_version": "2.0.0",
      "model_name": "ToggleButtonModel",
      "state": {
       "button_style": "success",
       "disabled": true,
       "layout": "IPY_MODEL_1984f7edee3c4b9ebcaaf4fd4d1bd535",
       "style": "IPY_MODEL_ef3bb8cf9e7846fb92e4e867222b1113",
       "tooltip": null
      }
     },
     "816856984afb4089bbb5b2d61338c759": {
      "model_module": "@jupyter-widgets/controls",
      "model_module_version": "2.0.0",
      "model_name": "HBoxModel",
      "state": {
       "children": [
        "IPY_MODEL_fca7431f5d1940bab13845e45dd4ca14",
        "IPY_MODEL_285aeb93f88247d693103dba80c9c7d7",
        "IPY_MODEL_50bb3af79e1343de935e5082a588a905",
        "IPY_MODEL_f59e21baffac463291025f262b3bc442",
        "IPY_MODEL_bbbcd453f6a74cb5a4f54d4d6f49a3c6",
        "IPY_MODEL_654efc28c83540539108488bb11e6d95",
        "IPY_MODEL_49ad5df1da78403395f96423196095cb",
        "IPY_MODEL_3a099fbd240244e59d20a39f6fd6568e"
       ],
       "layout": "IPY_MODEL_c97fa9ff581c429692a240146d77a7e7"
      }
     },
     "818749e663e140799723b0581e6ed633": {
      "model_module": "@jupyter-widgets/controls",
      "model_module_version": "2.0.0",
      "model_name": "ToggleButtonStyleModel",
      "state": {
       "description_width": "",
       "font_family": null,
       "font_size": null,
       "font_style": null,
       "font_variant": null,
       "font_weight": null,
       "text_color": null,
       "text_decoration": null
      }
     },
     "819492b4a79d4bf68e3759afd0d44943": {
      "model_module": "@jupyter-widgets/controls",
      "model_module_version": "2.0.0",
      "model_name": "HBoxModel",
      "state": {
       "children": [
        "IPY_MODEL_e61cfc96872b4846bf0d1201968b91ea",
        "IPY_MODEL_eacb71b68ae04d9b86def4a4b9c28648",
        "IPY_MODEL_ee64b1ac9f514f47977f72a0c536b1aa",
        "IPY_MODEL_dabd468ce92040b89cc91cf5377a76a6",
        "IPY_MODEL_370ce6e948e341618b6b15449d88713b",
        "IPY_MODEL_2db5ec6636b34d1fb3dbfbcbe50cdbc7",
        "IPY_MODEL_933c680e6bb641aebaa061459f2e6cb9",
        "IPY_MODEL_b46991b75ed54434a6f718f9e6136712",
        "IPY_MODEL_582f21e9732e49dcad2c5434450b4de4",
        "IPY_MODEL_0e57a4a24e114ca1baa7de7f050eeb47",
        "IPY_MODEL_70ed5d2e3b684b71a55af1419cdaf8a0",
        "IPY_MODEL_0e57a4a24e114ca1baa7de7f050eeb47",
        "IPY_MODEL_a5d1e1669c8a459b86faf9c9107c9a07",
        "IPY_MODEL_0e57a4a24e114ca1baa7de7f050eeb47",
        "IPY_MODEL_dcfcadeaad284236acc3e16df7d1b173"
       ],
       "layout": "IPY_MODEL_5b12106f2846439abafd55a64bdb4c0d"
      }
     },
     "81d0eb3097d1481eaf7c8b1ab288e094": {
      "model_module": "@jupyter-widgets/controls",
      "model_module_version": "2.0.0",
      "model_name": "ToggleButtonModel",
      "state": {
       "button_style": "success",
       "disabled": true,
       "layout": "IPY_MODEL_58452c5b934e45b59b40dbda05b4d47c",
       "style": "IPY_MODEL_8a698def1ece406587ba9ed991cf4cce",
       "tooltip": null
      }
     },
     "81ecefce37b34ccdbc927d5f5e0650dc": {
      "model_module": "@jupyter-widgets/controls",
      "model_module_version": "2.0.0",
      "model_name": "ToggleButtonModel",
      "state": {
       "button_style": "success",
       "disabled": true,
       "layout": "IPY_MODEL_cbb007f4b9644615acf96a9592fe5eea",
       "style": "IPY_MODEL_455f9b5144824eb69f45eceb0ed22dcb",
       "tooltip": null
      }
     },
     "81f1a31df1b142f9b9fadf21284fe2f9": {
      "model_module": "@jupyter-widgets/controls",
      "model_module_version": "2.0.0",
      "model_name": "ToggleButtonModel",
      "state": {
       "button_style": "success",
       "disabled": true,
       "layout": "IPY_MODEL_1984f7edee3c4b9ebcaaf4fd4d1bd535",
       "style": "IPY_MODEL_5bc91fc40756479e8293e24649785b52",
       "tooltip": null
      }
     },
     "81f25a3de03a42e8b4667a716a7b6d83": {
      "model_module": "@jupyter-widgets/controls",
      "model_module_version": "2.0.0",
      "model_name": "ToggleButtonModel",
      "state": {
       "button_style": "success",
       "disabled": true,
       "layout": "IPY_MODEL_8d696421995345d1b22a15e63c05a8e0",
       "style": "IPY_MODEL_6807120f71ab470db08ac73e74a6e12c",
       "tooltip": null
      }
     },
     "81fab6f760d94308ad3038de3fb802ba": {
      "model_module": "@jupyter-widgets/controls",
      "model_module_version": "2.0.0",
      "model_name": "ToggleButtonModel",
      "state": {
       "button_style": "success",
       "disabled": true,
       "layout": "IPY_MODEL_cbb007f4b9644615acf96a9592fe5eea",
       "style": "IPY_MODEL_69fde51fc1be4ae48805f8eaf507c740",
       "tooltip": null
      }
     },
     "821cef7e986f4ff28656db025407113e": {
      "model_module": "@jupyter-widgets/controls",
      "model_module_version": "2.0.0",
      "model_name": "ToggleButtonModel",
      "state": {
       "description": "Y",
       "layout": "IPY_MODEL_9c61bb957f7c4a25976dcbd6e83798b8",
       "style": "IPY_MODEL_327e61e8ebc04016b2c5a0bd8f352adf",
       "tooltip": null
      }
     },
     "8227c6feadca4fc398904e34e7f84620": {
      "model_module": "@jupyter-widgets/controls",
      "model_module_version": "2.0.0",
      "model_name": "ToggleButtonModel",
      "state": {
       "button_style": "info",
       "disabled": true,
       "layout": "IPY_MODEL_9c61bb957f7c4a25976dcbd6e83798b8",
       "style": "IPY_MODEL_bfc3fdb10f244d0684b58a4573ba0364",
       "tooltip": null
      }
     },
     "826cf18701c6413396c0ad0a4c9bc34d": {
      "model_module": "@jupyter-widgets/controls",
      "model_module_version": "2.0.0",
      "model_name": "ToggleButtonModel",
      "state": {
       "button_style": "success",
       "disabled": true,
       "layout": "IPY_MODEL_2d2b7c3a0e0b4e2ea0528a045ba78de4",
       "style": "IPY_MODEL_5bbf9de98ef84f53a55856e46fd42abb",
       "tooltip": null
      }
     },
     "829528df61d94c20878526dc60e2fca3": {
      "model_module": "@jupyter-widgets/controls",
      "model_module_version": "2.0.0",
      "model_name": "ToggleButtonStyleModel",
      "state": {
       "description_width": "",
       "font_family": null,
       "font_size": null,
       "font_style": null,
       "font_variant": null,
       "font_weight": null,
       "text_color": null,
       "text_decoration": null
      }
     },
     "829cc86f5f304a30aa376428fc22d612": {
      "model_module": "@jupyter-widgets/controls",
      "model_module_version": "2.0.0",
      "model_name": "ToggleButtonModel",
      "state": {
       "button_style": "info",
       "disabled": true,
       "layout": "IPY_MODEL_9c61bb957f7c4a25976dcbd6e83798b8",
       "style": "IPY_MODEL_bbb718fd4f524c568cc0826e838383af",
       "tooltip": null
      }
     },
     "82c555f7a43c4e33b9994c4cc9ca5e39": {
      "model_module": "@jupyter-widgets/controls",
      "model_module_version": "2.0.0",
      "model_name": "ToggleButtonStyleModel",
      "state": {
       "description_width": "",
       "font_family": null,
       "font_size": null,
       "font_style": null,
       "font_variant": null,
       "font_weight": null,
       "text_color": null,
       "text_decoration": null
      }
     },
     "835c703d6b2d4b25a798e0d9e77ee851": {
      "model_module": "@jupyter-widgets/controls",
      "model_module_version": "2.0.0",
      "model_name": "ToggleButtonStyleModel",
      "state": {
       "description_width": "",
       "font_family": null,
       "font_size": null,
       "font_style": null,
       "font_variant": null,
       "font_weight": null,
       "text_color": null,
       "text_decoration": null
      }
     },
     "839c11adeddc4123ab03b2f7343f8e17": {
      "model_module": "@jupyter-widgets/controls",
      "model_module_version": "2.0.0",
      "model_name": "ToggleButtonStyleModel",
      "state": {
       "description_width": "",
       "font_family": null,
       "font_size": null,
       "font_style": null,
       "font_variant": null,
       "font_weight": null,
       "text_color": null,
       "text_decoration": null
      }
     },
     "842662112b844d209123a6e26c0e1580": {
      "model_module": "@jupyter-widgets/controls",
      "model_module_version": "2.0.0",
      "model_name": "ToggleButtonStyleModel",
      "state": {
       "description_width": "",
       "font_family": null,
       "font_size": null,
       "font_style": null,
       "font_variant": null,
       "font_weight": null,
       "text_color": null,
       "text_decoration": null
      }
     },
     "8441f2ec41d940e899434ee722e3c47f": {
      "model_module": "@jupyter-widgets/controls",
      "model_module_version": "2.0.0",
      "model_name": "ToggleButtonStyleModel",
      "state": {
       "description_width": "",
       "font_family": null,
       "font_size": null,
       "font_style": null,
       "font_variant": null,
       "font_weight": null,
       "text_color": null,
       "text_decoration": null
      }
     },
     "8445e9cf4c414dc38a68c45c565a0f83": {
      "model_module": "@jupyter-widgets/controls",
      "model_module_version": "2.0.0",
      "model_name": "ToggleButtonStyleModel",
      "state": {
       "description_width": "",
       "font_family": null,
       "font_size": null,
       "font_style": null,
       "font_variant": null,
       "font_weight": null,
       "text_color": null,
       "text_decoration": null
      }
     },
     "84843e7c34494ecf929acf392889f3b4": {
      "model_module": "@jupyter-widgets/controls",
      "model_module_version": "2.0.0",
      "model_name": "ToggleButtonStyleModel",
      "state": {
       "description_width": "",
       "font_family": null,
       "font_size": null,
       "font_style": null,
       "font_variant": null,
       "font_weight": null,
       "text_color": null,
       "text_decoration": null
      }
     },
     "84e6f01bf1a44464821eceba0acfa322": {
      "model_module": "@jupyter-widgets/controls",
      "model_module_version": "2.0.0",
      "model_name": "ToggleButtonModel",
      "state": {
       "button_style": "success",
       "disabled": true,
       "layout": "IPY_MODEL_3831200db05b4a7986a2bfa009c0e327",
       "style": "IPY_MODEL_9a281ced08e84c71afb7f6efa09f194c",
       "tooltip": null
      }
     },
     "851e7c60e476412db64cfb286453dbe7": {
      "model_module": "@jupyter-widgets/controls",
      "model_module_version": "2.0.0",
      "model_name": "VBoxModel",
      "state": {
       "children": [
        "IPY_MODEL_85eebeab98974c0d855549c432c8b330",
        "IPY_MODEL_ef4c9ddea4424a88818e5d5bcc463824",
        "IPY_MODEL_db2154fb7e89411685fff98279387550",
        "IPY_MODEL_0b4e5cacff334c89855990353a5af363",
        "IPY_MODEL_73e9650d6785490c9873b3420b9a5b07",
        "IPY_MODEL_7c499750125b4afd9e4b9a3f4af47755",
        "IPY_MODEL_3fb0dd1c8f654f3b86888f33753419a0",
        "IPY_MODEL_719c8fe16f9947db9d9b683ad69e621b",
        "IPY_MODEL_a3e6df39e0b64d2e80ddd7f4309bea6a"
       ],
       "layout": "IPY_MODEL_d09bd34070554ec484c3c143287cbdf7"
      }
     },
     "8582766cfa41483293c756a88bf56d41": {
      "model_module": "@jupyter-widgets/controls",
      "model_module_version": "2.0.0",
      "model_name": "ToggleButtonModel",
      "state": {
       "button_style": "success",
       "disabled": true,
       "layout": "IPY_MODEL_8d696421995345d1b22a15e63c05a8e0",
       "style": "IPY_MODEL_e87e32619cd843158c9bd91895fa5e96",
       "tooltip": null
      }
     },
     "85a8fd6b8e234551a60e57c609b28f07": {
      "model_module": "@jupyter-widgets/controls",
      "model_module_version": "2.0.0",
      "model_name": "ToggleButtonModel",
      "state": {
       "button_style": "success",
       "disabled": true,
       "layout": "IPY_MODEL_9aa0b8d99486437599924f0fdf1f9e8b",
       "style": "IPY_MODEL_f52621c5f8ce4012a369511e1ec82a16",
       "tooltip": null
      }
     },
     "85c5cfb389c54ed38b5f9ea832399e23": {
      "model_module": "@jupyter-widgets/controls",
      "model_module_version": "2.0.0",
      "model_name": "VBoxModel",
      "state": {
       "children": [
        "IPY_MODEL_19743d380f884770a372da81ea07f270",
        "IPY_MODEL_cf7919cd0afb4f2f95a00bf2ccdada2d",
        "IPY_MODEL_e4a1c166104a4da499f80cc23b11c33e",
        "IPY_MODEL_03fe5efca2c9466ba043f655d3388606",
        "IPY_MODEL_2f1e79dd29c64041a2c10a625ab00aae",
        "IPY_MODEL_3596dba17ef9429d88b6abea6022b3f9",
        "IPY_MODEL_d7b7610b6ffe44709c99c32d6ac9d4ca",
        "IPY_MODEL_a82034b9c313457c82b48866c9f4b0cf",
        "IPY_MODEL_8ddccc1dd3844f439a5177e644760da5"
       ],
       "layout": "IPY_MODEL_5d4ae6c85ee44be9af78564c47acb6d8"
      }
     },
     "85c78b5e82bd4443bb00aaffc7a98123": {
      "model_module": "@jupyter-widgets/controls",
      "model_module_version": "2.0.0",
      "model_name": "ToggleButtonModel",
      "state": {
       "button_style": "success",
       "disabled": true,
       "layout": "IPY_MODEL_1984f7edee3c4b9ebcaaf4fd4d1bd535",
       "style": "IPY_MODEL_c3bac75308684f8e9387ef80481e1b7e",
       "tooltip": null
      }
     },
     "85ce0a5cbb9646358549d3392665fec8": {
      "model_module": "@jupyter-widgets/controls",
      "model_module_version": "2.0.0",
      "model_name": "HBoxModel",
      "state": {
       "children": [
        "IPY_MODEL_56b7735c9b4840deaa4218bb025ccf82",
        "IPY_MODEL_5d71b1bc489047a796e0c1da41ad007f",
        "IPY_MODEL_b59f12b3b43444a887d7558ca24a3c3d",
        "IPY_MODEL_3724cf84fd7b45af8e52bb48e87424bf",
        "IPY_MODEL_6a3cd564b8b243159e08804cce40e0c1",
        "IPY_MODEL_a9b4f5989c0c44ce84465fbff533bb4b",
        "IPY_MODEL_d32dd8c6b6be4151b579a25ab5f7f6c8",
        "IPY_MODEL_953580e0ec8044b9888a610858655f04"
       ],
       "layout": "IPY_MODEL_aa184c0919154261977577135ae48fa5"
      }
     },
     "85e811e137474bb8a176c5c708bd488d": {
      "model_module": "@jupyter-widgets/controls",
      "model_module_version": "2.0.0",
      "model_name": "HTMLModel",
      "state": {
       "layout": "IPY_MODEL_60ac0dec5ce1407b83fe9c3c55ed905f",
       "style": "IPY_MODEL_3253f19795154da4b7d4a846d811087a",
       "value": "<h5>Message</h5>"
      }
     },
     "85eebeab98974c0d855549c432c8b330": {
      "model_module": "@jupyter-widgets/controls",
      "model_module_version": "2.0.0",
      "model_name": "HBoxModel",
      "state": {
       "children": [
        "IPY_MODEL_64a743c5e81c471b8b3e69582545c2e3",
        "IPY_MODEL_00f010ce06ed45809f273aa7d0ef64e6",
        "IPY_MODEL_775fa00cdee04061aa4af6fa593c2815",
        "IPY_MODEL_4f9d5f568ddd42eda1d7edb774bfeec1",
        "IPY_MODEL_969a72f16888473ca756ec94abf46b47",
        "IPY_MODEL_5361f1764c664ea2ac1e823314f4248e",
        "IPY_MODEL_f8e9e9adbfbb480c9af1cb872f9d1efb",
        "IPY_MODEL_514f6536481f4cee98cad9e437d6d779",
        "IPY_MODEL_f62a0aaa595a409d9b2add36383c4017",
        "IPY_MODEL_151d55e902b54c43a5216df890e7ce46",
        "IPY_MODEL_f62a0aaa595a409d9b2add36383c4017",
        "IPY_MODEL_f62a0aaa595a409d9b2add36383c4017",
        "IPY_MODEL_f62a0aaa595a409d9b2add36383c4017",
        "IPY_MODEL_e25f6874ff9944bfaf43e5a3e34a749b",
        "IPY_MODEL_f62a0aaa595a409d9b2add36383c4017"
       ],
       "layout": "IPY_MODEL_1dd85a27f31a4a2cab5e8fcc316d450a"
      }
     },
     "8691d27fb9674f3fb9f7c0c370352e7d": {
      "model_module": "@jupyter-widgets/controls",
      "model_module_version": "2.0.0",
      "model_name": "ToggleButtonModel",
      "state": {
       "description": "Y",
       "layout": "IPY_MODEL_3831200db05b4a7986a2bfa009c0e327",
       "style": "IPY_MODEL_37fdda6f7c5e40b498feac8ae8bcf914",
       "tooltip": null
      }
     },
     "86a349e8d7574dd183bdba96028fc924": {
      "model_module": "@jupyter-widgets/controls",
      "model_module_version": "2.0.0",
      "model_name": "ToggleButtonStyleModel",
      "state": {
       "description_width": "",
       "font_family": null,
       "font_size": null,
       "font_style": null,
       "font_variant": null,
       "font_weight": null,
       "text_color": null,
       "text_decoration": null
      }
     },
     "8710e43dc2d342f4a657e70958d2b381": {
      "model_module": "@jupyter-widgets/controls",
      "model_module_version": "2.0.0",
      "model_name": "ToggleButtonModel",
      "state": {
       "button_style": "success",
       "disabled": true,
       "layout": "IPY_MODEL_8d696421995345d1b22a15e63c05a8e0",
       "style": "IPY_MODEL_713030c8400d4f64bab7e50da72c765b",
       "tooltip": null
      }
     },
     "872dc5af1fce439d8f3bd2d6cb1f2021": {
      "model_module": "@jupyter-widgets/controls",
      "model_module_version": "2.0.0",
      "model_name": "ToggleButtonModel",
      "state": {
       "description": "▼",
       "layout": "IPY_MODEL_3831200db05b4a7986a2bfa009c0e327",
       "style": "IPY_MODEL_2759b5296fd34158b9b24ab74d9ffee4",
       "tooltip": null
      }
     },
     "875c6072d2064f15a911a2237cd4367f": {
      "model_module": "@jupyter-widgets/base",
      "model_module_version": "2.0.0",
      "model_name": "LayoutModel",
      "state": {
       "height": "50px",
       "width": "374px"
      }
     },
     "877c01bf6b3741548889cd83adbda474": {
      "model_module": "@jupyter-widgets/controls",
      "model_module_version": "2.0.0",
      "model_name": "ToggleButtonStyleModel",
      "state": {
       "description_width": "",
       "font_family": null,
       "font_size": null,
       "font_style": null,
       "font_variant": null,
       "font_weight": null,
       "text_color": null,
       "text_decoration": null
      }
     },
     "87adc6464c1546dea71c9cde1a86fd3e": {
      "model_module": "@jupyter-widgets/controls",
      "model_module_version": "2.0.0",
      "model_name": "ToggleButtonModel",
      "state": {
       "button_style": "success",
       "disabled": true,
       "layout": "IPY_MODEL_1984f7edee3c4b9ebcaaf4fd4d1bd535",
       "style": "IPY_MODEL_fb21381bb46a4fd8bf1d58e892fe8c0f",
       "tooltip": null
      }
     },
     "87e201cb7e644d168dade41e1417797f": {
      "model_module": "@jupyter-widgets/controls",
      "model_module_version": "2.0.0",
      "model_name": "ToggleButtonModel",
      "state": {
       "button_style": "success",
       "disabled": true,
       "layout": "IPY_MODEL_58452c5b934e45b59b40dbda05b4d47c",
       "style": "IPY_MODEL_2223285a51f44c6b9864d117d6f289e8",
       "tooltip": null
      }
     },
     "87fdb70c8bf248bfa2c49113369ffd6c": {
      "model_module": "@jupyter-widgets/controls",
      "model_module_version": "2.0.0",
      "model_name": "ToggleButtonModel",
      "state": {
       "button_style": "success",
       "disabled": true,
       "layout": "IPY_MODEL_58452c5b934e45b59b40dbda05b4d47c",
       "style": "IPY_MODEL_355eaae43cd14754a9c8892ed13ab06f",
       "tooltip": null
      }
     },
     "88647ed75ce2494abddee468684b52fc": {
      "model_module": "@jupyter-widgets/controls",
      "model_module_version": "2.0.0",
      "model_name": "ToggleButtonStyleModel",
      "state": {
       "description_width": "",
       "font_family": null,
       "font_size": null,
       "font_style": null,
       "font_variant": null,
       "font_weight": null,
       "text_color": null,
       "text_decoration": null
      }
     },
     "8892e3823bd6413e92c2a70fffe1046f": {
      "model_module": "@jupyter-widgets/controls",
      "model_module_version": "2.0.0",
      "model_name": "ToggleButtonModel",
      "state": {
       "button_style": "info",
       "disabled": true,
       "layout": "IPY_MODEL_9c61bb957f7c4a25976dcbd6e83798b8",
       "style": "IPY_MODEL_6c2f27474fa94145bae656b67f680974",
       "tooltip": null
      }
     },
     "88a5fe63940d4bdb8e1cee0f3b1fc33a": {
      "model_module": "@jupyter-widgets/controls",
      "model_module_version": "2.0.0",
      "model_name": "ToggleButtonStyleModel",
      "state": {
       "description_width": "",
       "font_family": null,
       "font_size": null,
       "font_style": null,
       "font_variant": null,
       "font_weight": null,
       "text_color": null,
       "text_decoration": null
      }
     },
     "88b6094fe6974b65ad1eba7784d512e2": {
      "model_module": "@jupyter-widgets/controls",
      "model_module_version": "2.0.0",
      "model_name": "ToggleButtonStyleModel",
      "state": {
       "description_width": "",
       "font_family": null,
       "font_size": null,
       "font_style": null,
       "font_variant": null,
       "font_weight": null,
       "text_color": null,
       "text_decoration": null
      }
     },
     "88cb726c153c4786baea5f3ab15ca0e5": {
      "model_module": "@jupyter-widgets/controls",
      "model_module_version": "2.0.0",
      "model_name": "ToggleButtonStyleModel",
      "state": {
       "description_width": "",
       "font_family": null,
       "font_size": null,
       "font_style": null,
       "font_variant": null,
       "font_weight": null,
       "text_color": null,
       "text_decoration": null
      }
     },
     "88f846fb0cc243bfa62a78325ae87127": {
      "model_module": "@jupyter-widgets/controls",
      "model_module_version": "2.0.0",
      "model_name": "ToggleButtonModel",
      "state": {
       "button_style": "success",
       "disabled": true,
       "layout": "IPY_MODEL_3831200db05b4a7986a2bfa009c0e327",
       "style": "IPY_MODEL_30beac7e4b5a484c9ce1aa11b9c2959b",
       "tooltip": null
      }
     },
     "890046cf2e564441adf64c46a2244d88": {
      "model_module": "@jupyter-widgets/controls",
      "model_module_version": "2.0.0",
      "model_name": "ToggleButtonModel",
      "state": {
       "description": "A",
       "layout": "IPY_MODEL_2d2b7c3a0e0b4e2ea0528a045ba78de4",
       "style": "IPY_MODEL_ee1b359adcdd476f806062a762344e1d",
       "tooltip": null
      }
     },
     "8907925c84904fd4a5fd007e261f3e95": {
      "model_module": "@jupyter-widgets/controls",
      "model_module_version": "2.0.0",
      "model_name": "ToggleButtonModel",
      "state": {
       "button_style": "warning",
       "disabled": true,
       "layout": "IPY_MODEL_9c61bb957f7c4a25976dcbd6e83798b8",
       "style": "IPY_MODEL_0de384fd837744c3a20f5b6ff1177d71",
       "tooltip": null
      }
     },
     "890f2c366e974491af00661d6e0d62bf": {
      "model_module": "@jupyter-widgets/controls",
      "model_module_version": "2.0.0",
      "model_name": "ToggleButtonModel",
      "state": {
       "button_style": "success",
       "disabled": true,
       "layout": "IPY_MODEL_1984f7edee3c4b9ebcaaf4fd4d1bd535",
       "style": "IPY_MODEL_b09e3dffb0804a87aa230271e8e4c816",
       "tooltip": null
      }
     },
     "8937f5209ea247919b36697a021dee7c": {
      "model_module": "@jupyter-widgets/controls",
      "model_module_version": "2.0.0",
      "model_name": "ToggleButtonStyleModel",
      "state": {
       "description_width": "",
       "font_family": null,
       "font_size": null,
       "font_style": null,
       "font_variant": null,
       "font_weight": null,
       "text_color": null,
       "text_decoration": null
      }
     },
     "894331e60e98418aaf0db3f0353f5fff": {
      "model_module": "@jupyter-widgets/controls",
      "model_module_version": "2.0.0",
      "model_name": "ToggleButtonStyleModel",
      "state": {
       "description_width": "",
       "font_family": null,
       "font_size": null,
       "font_style": null,
       "font_variant": null,
       "font_weight": null,
       "text_color": null,
       "text_decoration": null
      }
     },
     "896684b6d1484a069be477caf928bc98": {
      "model_module": "@jupyter-widgets/controls",
      "model_module_version": "2.0.0",
      "model_name": "ToggleButtonStyleModel",
      "state": {
       "description_width": "",
       "font_family": null,
       "font_size": null,
       "font_style": null,
       "font_variant": null,
       "font_weight": null,
       "text_color": null,
       "text_decoration": null
      }
     },
     "89b292bed0a24f7ab0939246bd9d508d": {
      "model_module": "@jupyter-widgets/controls",
      "model_module_version": "2.0.0",
      "model_name": "ToggleButtonModel",
      "state": {
       "description": "Next",
       "layout": "IPY_MODEL_f70dd1ef0f5d4e939fbc524d35539d07",
       "style": "IPY_MODEL_43ab2b8d3ed14ca8be96ff814d4344b3",
       "tooltip": null
      }
     },
     "8a5a6b82a1d9487795bf377d19d580d5": {
      "model_module": "@jupyter-widgets/controls",
      "model_module_version": "2.0.0",
      "model_name": "ToggleButtonModel",
      "state": {
       "button_style": "success",
       "disabled": true,
       "layout": "IPY_MODEL_8d696421995345d1b22a15e63c05a8e0",
       "style": "IPY_MODEL_aa15501ffe2a4ead9615673f0dd1f8e6",
       "tooltip": null
      }
     },
     "8a698def1ece406587ba9ed991cf4cce": {
      "model_module": "@jupyter-widgets/controls",
      "model_module_version": "2.0.0",
      "model_name": "ToggleButtonStyleModel",
      "state": {
       "description_width": "",
       "font_family": null,
       "font_size": null,
       "font_style": null,
       "font_variant": null,
       "font_weight": null,
       "text_color": null,
       "text_decoration": null
      }
     },
     "8ab57b7d3a324e97b5b9dbc073707b51": {
      "model_module": "@jupyter-widgets/controls",
      "model_module_version": "2.0.0",
      "model_name": "ToggleButtonStyleModel",
      "state": {
       "description_width": "",
       "font_family": null,
       "font_size": null,
       "font_style": null,
       "font_variant": null,
       "font_weight": null,
       "text_color": null,
       "text_decoration": null
      }
     },
     "8b116fd3fe15429cbf649c8ed0d9e684": {
      "model_module": "@jupyter-widgets/controls",
      "model_module_version": "2.0.0",
      "model_name": "ToggleButtonStyleModel",
      "state": {
       "description_width": "",
       "font_family": null,
       "font_size": null,
       "font_style": null,
       "font_variant": null,
       "font_weight": null,
       "text_color": null,
       "text_decoration": null
      }
     },
     "8b3fd6ba20db4d58a172d4631a9ff908": {
      "model_module": "@jupyter-widgets/base",
      "model_module_version": "2.0.0",
      "model_name": "LayoutModel",
      "state": {}
     },
     "8b78562675474fedac3d7c0568cf525c": {
      "model_module": "@jupyter-widgets/controls",
      "model_module_version": "2.0.0",
      "model_name": "ToggleButtonModel",
      "state": {
       "description": "A",
       "layout": "IPY_MODEL_3831200db05b4a7986a2bfa009c0e327",
       "style": "IPY_MODEL_a11dd46a5791478c95f3f618a11d6cc9",
       "tooltip": null
      }
     },
     "8b99b7da0f35438cb60ce715c51ba0fe": {
      "model_module": "@jupyter-widgets/controls",
      "model_module_version": "2.0.0",
      "model_name": "ToggleButtonModel",
      "state": {
       "description": "◀︎",
       "layout": "IPY_MODEL_58452c5b934e45b59b40dbda05b4d47c",
       "style": "IPY_MODEL_7d9631e281c34b188d545e94f77b82c8",
       "tooltip": null
      }
     },
     "8bbbf0235481493789de0a51125de90a": {
      "model_module": "@jupyter-widgets/controls",
      "model_module_version": "2.0.0",
      "model_name": "ToggleButtonModel",
      "state": {
       "button_style": "success",
       "disabled": true,
       "layout": "IPY_MODEL_cbb007f4b9644615acf96a9592fe5eea",
       "style": "IPY_MODEL_c323e0177b484347ae674fff467792e3",
       "tooltip": null
      }
     },
     "8c2eda795ee54a86b81e8b2015941f74": {
      "model_module": "@jupyter-widgets/controls",
      "model_module_version": "2.0.0",
      "model_name": "ToggleButtonModel",
      "state": {
       "button_style": "success",
       "disabled": true,
       "layout": "IPY_MODEL_8d696421995345d1b22a15e63c05a8e0",
       "style": "IPY_MODEL_421378a390394adcb82a9d538a745217",
       "tooltip": null
      }
     },
     "8c478f1821704a24825585f8da0ad8f3": {
      "model_module": "@jupyter-widgets/controls",
      "model_module_version": "2.0.0",
      "model_name": "ToggleButtonStyleModel",
      "state": {
       "description_width": "",
       "font_family": null,
       "font_size": null,
       "font_style": null,
       "font_variant": null,
       "font_weight": null,
       "text_color": null,
       "text_decoration": null
      }
     },
     "8c69ae831c124cf0837c1864d97080f6": {
      "model_module": "@jupyter-widgets/controls",
      "model_module_version": "2.0.0",
      "model_name": "ToggleButtonModel",
      "state": {
       "button_style": "warning",
       "disabled": true,
       "layout": "IPY_MODEL_9c61bb957f7c4a25976dcbd6e83798b8",
       "style": "IPY_MODEL_16e446ef99024bf4a1c4d025297fda00",
       "tooltip": null
      }
     },
     "8c6aae8e98844dc3b89878ff51448347": {
      "model_module": "@jupyter-widgets/controls",
      "model_module_version": "2.0.0",
      "model_name": "ToggleButtonModel",
      "state": {
       "button_style": "success",
       "disabled": true,
       "layout": "IPY_MODEL_2d2b7c3a0e0b4e2ea0528a045ba78de4",
       "style": "IPY_MODEL_f96d546af7234375ae1620d92224c713",
       "tooltip": null
      }
     },
     "8c715d129aac4c6882787fbd66e41d89": {
      "model_module": "@jupyter-widgets/controls",
      "model_module_version": "2.0.0",
      "model_name": "ToggleButtonModel",
      "state": {
       "description": "Y",
       "layout": "IPY_MODEL_58452c5b934e45b59b40dbda05b4d47c",
       "style": "IPY_MODEL_b0c93da97cd34e01b6234c79bf62170a",
       "tooltip": null
      }
     },
     "8cdf6a536661495b91208af95cbecda1": {
      "model_module": "@jupyter-widgets/controls",
      "model_module_version": "2.0.0",
      "model_name": "ToggleButtonStyleModel",
      "state": {
       "description_width": "",
       "font_family": null,
       "font_size": null,
       "font_style": null,
       "font_variant": null,
       "font_weight": null,
       "text_color": null,
       "text_decoration": null
      }
     },
     "8d53963fb0e843b6a9e1ebd6b6c5a475": {
      "model_module": "@jupyter-widgets/controls",
      "model_module_version": "2.0.0",
      "model_name": "ToggleButtonModel",
      "state": {
       "button_style": "success",
       "disabled": true,
       "layout": "IPY_MODEL_cbb007f4b9644615acf96a9592fe5eea",
       "style": "IPY_MODEL_f83816eb917b4e9c98a2accd232b8c05",
       "tooltip": null
      }
     },
     "8d5caf4e10fb40b28afc6f203734ad18": {
      "model_module": "@jupyter-widgets/controls",
      "model_module_version": "2.0.0",
      "model_name": "ToggleButtonStyleModel",
      "state": {
       "description_width": "",
       "font_family": null,
       "font_size": null,
       "font_style": null,
       "font_variant": null,
       "font_weight": null,
       "text_color": null,
       "text_decoration": null
      }
     },
     "8d696421995345d1b22a15e63c05a8e0": {
      "model_module": "@jupyter-widgets/base",
      "model_module_version": "2.0.0",
      "model_name": "LayoutModel",
      "state": {
       "height": "50px",
       "width": "50px"
      }
     },
     "8d8b14b9d63f42ce900a44029c639f13": {
      "model_module": "@jupyter-widgets/controls",
      "model_module_version": "2.0.0",
      "model_name": "ToggleButtonStyleModel",
      "state": {
       "description_width": "",
       "font_family": null,
       "font_size": null,
       "font_style": null,
       "font_variant": null,
       "font_weight": null,
       "text_color": null,
       "text_decoration": null
      }
     },
     "8da47cbdb4204c1fb4e35ff1779c79e4": {
      "model_module": "@jupyter-widgets/controls",
      "model_module_version": "2.0.0",
      "model_name": "ToggleButtonStyleModel",
      "state": {
       "description_width": "",
       "font_family": null,
       "font_size": null,
       "font_style": null,
       "font_variant": null,
       "font_weight": null,
       "text_color": null,
       "text_decoration": null
      }
     },
     "8db21bc5081340b09da23413eac0a2eb": {
      "model_module": "@jupyter-widgets/controls",
      "model_module_version": "2.0.0",
      "model_name": "ToggleButtonStyleModel",
      "state": {
       "description_width": "",
       "font_family": null,
       "font_size": null,
       "font_style": null,
       "font_variant": null,
       "font_weight": null,
       "text_color": null,
       "text_decoration": null
      }
     },
     "8db29678a95f45dab40a7d6fca270592": {
      "model_module": "@jupyter-widgets/controls",
      "model_module_version": "2.0.0",
      "model_name": "ToggleButtonStyleModel",
      "state": {
       "description_width": "",
       "font_family": null,
       "font_size": null,
       "font_style": null,
       "font_variant": null,
       "font_weight": null,
       "text_color": null,
       "text_decoration": null
      }
     },
     "8ddccc1dd3844f439a5177e644760da5": {
      "model_module": "@jupyter-widgets/controls",
      "model_module_version": "2.0.0",
      "model_name": "ToggleButtonModel",
      "state": {
       "disabled": true,
       "layout": "IPY_MODEL_ef586316b949476da85cfc5622a89fff",
       "style": "IPY_MODEL_45f81ec0e5b44dc5966aedccc0a4403c",
       "tooltip": null
      }
     },
     "8f36e71442534a1a85ee5255da90b91b": {
      "model_module": "@jupyter-widgets/controls",
      "model_module_version": "2.0.0",
      "model_name": "ToggleButtonStyleModel",
      "state": {
       "description_width": "",
       "font_family": null,
       "font_size": null,
       "font_style": null,
       "font_variant": null,
       "font_weight": null,
       "text_color": null,
       "text_decoration": null
      }
     },
     "8f6b7c8e240c454b9cfbc6b72edc9940": {
      "model_module": "@jupyter-widgets/controls",
      "model_module_version": "2.0.0",
      "model_name": "ToggleButtonStyleModel",
      "state": {
       "description_width": "",
       "font_family": null,
       "font_size": null,
       "font_style": null,
       "font_variant": null,
       "font_weight": null,
       "text_color": null,
       "text_decoration": null
      }
     },
     "8fa3c8e736d34088975af21d8c24fbad": {
      "model_module": "@jupyter-widgets/controls",
      "model_module_version": "2.0.0",
      "model_name": "ToggleButtonStyleModel",
      "state": {
       "description_width": "",
       "font_family": null,
       "font_size": null,
       "font_style": null,
       "font_variant": null,
       "font_weight": null,
       "text_color": null,
       "text_decoration": null
      }
     },
     "8fb3d39fe1ab41d7a3ff1882ac22ecdf": {
      "model_module": "@jupyter-widgets/controls",
      "model_module_version": "2.0.0",
      "model_name": "ToggleButtonModel",
      "state": {
       "button_style": "success",
       "disabled": true,
       "layout": "IPY_MODEL_3831200db05b4a7986a2bfa009c0e327",
       "style": "IPY_MODEL_b8499f87893f454e856d5f7ae90770d2",
       "tooltip": null
      }
     },
     "902924f418ca49e0a56521e0edd0efe4": {
      "model_module": "@jupyter-widgets/controls",
      "model_module_version": "2.0.0",
      "model_name": "ToggleButtonStyleModel",
      "state": {
       "description_width": "",
       "font_family": null,
       "font_size": null,
       "font_style": null,
       "font_variant": null,
       "font_weight": null,
       "text_color": null,
       "text_decoration": null
      }
     },
     "9095ea405f6f4eb9a8e4d620e7117230": {
      "model_module": "@jupyter-widgets/controls",
      "model_module_version": "2.0.0",
      "model_name": "ToggleButtonModel",
      "state": {
       "description": "▲",
       "layout": "IPY_MODEL_9aa0b8d99486437599924f0fdf1f9e8b",
       "style": "IPY_MODEL_054ca6c16ebe4ec39db10eef96d21a3b",
       "tooltip": null
      }
     },
     "90bec0a447d6485faf9bb2b39254774e": {
      "model_module": "@jupyter-widgets/base",
      "model_module_version": "2.0.0",
      "model_name": "LayoutModel",
      "state": {}
     },
     "90c95a1eccd84778af943305200c1fde": {
      "model_module": "@jupyter-widgets/base",
      "model_module_version": "2.0.0",
      "model_name": "LayoutModel",
      "state": {}
     },
     "90cb314dc0b54735a53ecc9ec0b1370f": {
      "model_module": "@jupyter-widgets/controls",
      "model_module_version": "2.0.0",
      "model_name": "ToggleButtonStyleModel",
      "state": {
       "description_width": "",
       "font_family": null,
       "font_size": null,
       "font_style": null,
       "font_variant": null,
       "font_weight": null,
       "text_color": null,
       "text_decoration": null
      }
     },
     "90f1ff15c9284bc3b8f23efab9dbee29": {
      "model_module": "@jupyter-widgets/controls",
      "model_module_version": "2.0.0",
      "model_name": "ToggleButtonModel",
      "state": {
       "button_style": "success",
       "disabled": true,
       "layout": "IPY_MODEL_cbb007f4b9644615acf96a9592fe5eea",
       "style": "IPY_MODEL_e4379c3639384f868dad12eaecba0adf",
       "tooltip": null
      }
     },
     "90f75e8642044a98b3364596b04fc2a9": {
      "model_module": "@jupyter-widgets/controls",
      "model_module_version": "2.0.0",
      "model_name": "ToggleButtonStyleModel",
      "state": {
       "description_width": "",
       "font_family": null,
       "font_size": null,
       "font_style": null,
       "font_variant": null,
       "font_weight": null,
       "text_color": null,
       "text_decoration": null
      }
     },
     "9126bde8c770439490f3bfc98150bb79": {
      "model_module": "@jupyter-widgets/controls",
      "model_module_version": "2.0.0",
      "model_name": "ToggleButtonStyleModel",
      "state": {
       "description_width": "",
       "font_family": null,
       "font_size": null,
       "font_style": null,
       "font_variant": null,
       "font_weight": null,
       "text_color": null,
       "text_decoration": null
      }
     },
     "9189f11478fd4dfea3b9613a40b02caa": {
      "model_module": "@jupyter-widgets/controls",
      "model_module_version": "2.0.0",
      "model_name": "ToggleButtonStyleModel",
      "state": {
       "description_width": "",
       "font_family": null,
       "font_size": null,
       "font_style": null,
       "font_variant": null,
       "font_weight": null,
       "text_color": null,
       "text_decoration": null
      }
     },
     "91efb14ba24d481e9055d56935f51c5c": {
      "model_module": "@jupyter-widgets/controls",
      "model_module_version": "2.0.0",
      "model_name": "ToggleButtonStyleModel",
      "state": {
       "description_width": "",
       "font_family": null,
       "font_size": null,
       "font_style": null,
       "font_variant": null,
       "font_weight": null,
       "text_color": null,
       "text_decoration": null
      }
     },
     "92298324907545a38f1e0ac56854d0b8": {
      "model_module": "@jupyter-widgets/controls",
      "model_module_version": "2.0.0",
      "model_name": "ToggleButtonModel",
      "state": {
       "button_style": "success",
       "disabled": true,
       "layout": "IPY_MODEL_cbb007f4b9644615acf96a9592fe5eea",
       "style": "IPY_MODEL_3a92520f9c984bc8afa596a87c393956",
       "tooltip": null
      }
     },
     "923d651feef043409f11b29dbf5df126": {
      "model_module": "@jupyter-widgets/controls",
      "model_module_version": "2.0.0",
      "model_name": "ToggleButtonModel",
      "state": {
       "button_style": "success",
       "disabled": true,
       "layout": "IPY_MODEL_3831200db05b4a7986a2bfa009c0e327",
       "style": "IPY_MODEL_8d5caf4e10fb40b28afc6f203734ad18",
       "tooltip": null
      }
     },
     "92787c8e62114f4680f9aef23fdbe54f": {
      "model_module": "@jupyter-widgets/controls",
      "model_module_version": "2.0.0",
      "model_name": "ToggleButtonStyleModel",
      "state": {
       "description_width": "",
       "font_family": null,
       "font_size": null,
       "font_style": null,
       "font_variant": null,
       "font_weight": null,
       "text_color": null,
       "text_decoration": null
      }
     },
     "9287875fe3da46148f011cc79aaa1388": {
      "model_module": "@jupyter-widgets/controls",
      "model_module_version": "2.0.0",
      "model_name": "ToggleButtonModel",
      "state": {
       "button_style": "success",
       "disabled": true,
       "layout": "IPY_MODEL_58452c5b934e45b59b40dbda05b4d47c",
       "style": "IPY_MODEL_3ec78bc678684567a24b68f345d2433e",
       "tooltip": null
      }
     },
     "92ba3357be6044c4972a53b1c412dc4e": {
      "model_module": "@jupyter-widgets/controls",
      "model_module_version": "2.0.0",
      "model_name": "ToggleButtonModel",
      "state": {
       "button_style": "success",
       "disabled": true,
       "layout": "IPY_MODEL_2d2b7c3a0e0b4e2ea0528a045ba78de4",
       "style": "IPY_MODEL_9a3e7794a85440608c3e9b699bc1deda",
       "tooltip": null
      }
     },
     "92d360ea86a540ebb397e88bf708dd21": {
      "model_module": "@jupyter-widgets/controls",
      "model_module_version": "2.0.0",
      "model_name": "ToggleButtonModel",
      "state": {
       "button_style": "info",
       "disabled": true,
       "layout": "IPY_MODEL_9c61bb957f7c4a25976dcbd6e83798b8",
       "style": "IPY_MODEL_2a4316cbfe294871aebb730d8c96f9e1",
       "tooltip": null
      }
     },
     "92d8b25afe12438fb8e4c03fa140998f": {
      "model_module": "@jupyter-widgets/controls",
      "model_module_version": "2.0.0",
      "model_name": "ToggleButtonModel",
      "state": {
       "button_style": "success",
       "disabled": true,
       "layout": "IPY_MODEL_8d696421995345d1b22a15e63c05a8e0",
       "style": "IPY_MODEL_86a349e8d7574dd183bdba96028fc924",
       "tooltip": null
      }
     },
     "93154107582a4df4b7f985cc81be6dbd": {
      "model_module": "@jupyter-widgets/controls",
      "model_module_version": "2.0.0",
      "model_name": "ToggleButtonStyleModel",
      "state": {
       "description_width": "",
       "font_family": null,
       "font_size": null,
       "font_style": null,
       "font_variant": null,
       "font_weight": null,
       "text_color": null,
       "text_decoration": null
      }
     },
     "93158dbf3af94083a7be427bdfbf5546": {
      "model_module": "@jupyter-widgets/controls",
      "model_module_version": "2.0.0",
      "model_name": "ToggleButtonModel",
      "state": {
       "button_style": "success",
       "disabled": true,
       "layout": "IPY_MODEL_3831200db05b4a7986a2bfa009c0e327",
       "style": "IPY_MODEL_edbf777290d7459bbf7bddf732717e69",
       "tooltip": null
      }
     },
     "93223e8c59fc4315afe0620b94884ef9": {
      "model_module": "@jupyter-widgets/controls",
      "model_module_version": "2.0.0",
      "model_name": "ToggleButtonModel",
      "state": {
       "button_style": "success",
       "disabled": true,
       "layout": "IPY_MODEL_58452c5b934e45b59b40dbda05b4d47c",
       "style": "IPY_MODEL_b4e6d225d10d4b8ca2a02455eb68af7c",
       "tooltip": null
      }
     },
     "933c680e6bb641aebaa061459f2e6cb9": {
      "model_module": "@jupyter-widgets/controls",
      "model_module_version": "2.0.0",
      "model_name": "ToggleButtonModel",
      "state": {
       "button_style": "success",
       "disabled": true,
       "layout": "IPY_MODEL_9aa0b8d99486437599924f0fdf1f9e8b",
       "style": "IPY_MODEL_7539f71981144b5f94d606f00b4c1694",
       "tooltip": null
      }
     },
     "9365d93e8df1499da4330a2575d79e66": {
      "model_module": "@jupyter-widgets/controls",
      "model_module_version": "2.0.0",
      "model_name": "ToggleButtonModel",
      "state": {
       "button_style": "success",
       "disabled": true,
       "layout": "IPY_MODEL_2d2b7c3a0e0b4e2ea0528a045ba78de4",
       "style": "IPY_MODEL_12b43897b5854f9fb3fca51338c5cce4",
       "tooltip": null
      }
     },
     "938c2fb2313148d281505691d82e885b": {
      "model_module": "@jupyter-widgets/controls",
      "model_module_version": "2.0.0",
      "model_name": "ToggleButtonModel",
      "state": {
       "button_style": "success",
       "disabled": true,
       "layout": "IPY_MODEL_1984f7edee3c4b9ebcaaf4fd4d1bd535",
       "style": "IPY_MODEL_1fc92e2642bc48f38e3859cc9a13eabd",
       "tooltip": null
      }
     },
     "93b403bcdbc7496691217255beb3ac7c": {
      "model_module": "@jupyter-widgets/controls",
      "model_module_version": "2.0.0",
      "model_name": "ToggleButtonStyleModel",
      "state": {
       "description_width": "",
       "font_family": null,
       "font_size": null,
       "font_style": null,
       "font_variant": null,
       "font_weight": null,
       "text_color": null,
       "text_decoration": null
      }
     },
     "93d0ff29a0694bcc938e203e07f6839e": {
      "model_module": "@jupyter-widgets/controls",
      "model_module_version": "2.0.0",
      "model_name": "ToggleButtonModel",
      "state": {
       "button_style": "success",
       "disabled": true,
       "layout": "IPY_MODEL_8d696421995345d1b22a15e63c05a8e0",
       "style": "IPY_MODEL_cc5ff37079484eeba866e3b40f065456",
       "tooltip": null
      }
     },
     "93de14ddc1564318a3183bbc74aaa317": {
      "model_module": "@jupyter-widgets/controls",
      "model_module_version": "2.0.0",
      "model_name": "ToggleButtonModel",
      "state": {
       "button_style": "success",
       "disabled": true,
       "layout": "IPY_MODEL_58452c5b934e45b59b40dbda05b4d47c",
       "style": "IPY_MODEL_dc071482ff5244688264a3feee7bf681",
       "tooltip": null
      }
     },
     "9413dc97c647417bbe0e5b5709c5feac": {
      "model_module": "@jupyter-widgets/controls",
      "model_module_version": "2.0.0",
      "model_name": "ToggleButtonStyleModel",
      "state": {
       "description_width": "",
       "font_family": null,
       "font_size": null,
       "font_style": null,
       "font_variant": null,
       "font_weight": null,
       "text_color": null,
       "text_decoration": null
      }
     },
     "94211d44c1dd49fa8c5bc0212136617b": {
      "model_module": "@jupyter-widgets/controls",
      "model_module_version": "2.0.0",
      "model_name": "ToggleButtonStyleModel",
      "state": {
       "description_width": "",
       "font_family": null,
       "font_size": null,
       "font_style": null,
       "font_variant": null,
       "font_weight": null,
       "text_color": null,
       "text_decoration": null
      }
     },
     "942fca0338584037a73469f44ff5f052": {
      "model_module": "@jupyter-widgets/controls",
      "model_module_version": "2.0.0",
      "model_name": "ToggleButtonModel",
      "state": {
       "button_style": "success",
       "disabled": true,
       "layout": "IPY_MODEL_cbb007f4b9644615acf96a9592fe5eea",
       "style": "IPY_MODEL_0de539b246d04ae5983e375fa392e2e7",
       "tooltip": null
      }
     },
     "9443d4369e59472aa560f26f29342c14": {
      "model_module": "@jupyter-widgets/controls",
      "model_module_version": "2.0.0",
      "model_name": "ToggleButtonStyleModel",
      "state": {
       "description_width": "",
       "font_family": null,
       "font_size": null,
       "font_style": null,
       "font_variant": null,
       "font_weight": null,
       "text_color": null,
       "text_decoration": null
      }
     },
     "946691db68a24c9f95b411a69af54d22": {
      "model_module": "@jupyter-widgets/controls",
      "model_module_version": "2.0.0",
      "model_name": "ToggleButtonStyleModel",
      "state": {
       "description_width": "",
       "font_family": null,
       "font_size": null,
       "font_style": null,
       "font_variant": null,
       "font_weight": null,
       "text_color": null,
       "text_decoration": null
      }
     },
     "9496e7ac43d343949f27dd67c0996894": {
      "model_module": "@jupyter-widgets/controls",
      "model_module_version": "2.0.0",
      "model_name": "ToggleButtonModel",
      "state": {
       "button_style": "success",
       "disabled": true,
       "layout": "IPY_MODEL_9aa0b8d99486437599924f0fdf1f9e8b",
       "style": "IPY_MODEL_c14e967893aa4e0388ce4f5fec988500",
       "tooltip": null
      }
     },
     "94ab7a963e214f359ecd76513dfec07c": {
      "model_module": "@jupyter-widgets/controls",
      "model_module_version": "2.0.0",
      "model_name": "ToggleButtonModel",
      "state": {
       "description": "▲",
       "layout": "IPY_MODEL_9c61bb957f7c4a25976dcbd6e83798b8",
       "style": "IPY_MODEL_9755000f709a4910ac6dd4030ccee0d2",
       "tooltip": null
      }
     },
     "94ace8e4e7d24429bb89e400bd898a62": {
      "model_module": "@jupyter-widgets/controls",
      "model_module_version": "2.0.0",
      "model_name": "ToggleButtonStyleModel",
      "state": {
       "description_width": "",
       "font_family": null,
       "font_size": null,
       "font_style": null,
       "font_variant": null,
       "font_weight": null,
       "text_color": null,
       "text_decoration": null
      }
     },
     "94b48c5faaeb428a9f6e7b6a833fdf50": {
      "model_module": "@jupyter-widgets/controls",
      "model_module_version": "2.0.0",
      "model_name": "ToggleButtonModel",
      "state": {
       "description": "Y",
       "layout": "IPY_MODEL_1984f7edee3c4b9ebcaaf4fd4d1bd535",
       "style": "IPY_MODEL_0a53fefd2e024430b4a52a26e0fbe55e",
       "tooltip": null
      }
     },
     "94c2a2654b88474b9762e0f36eb24e97": {
      "model_module": "@jupyter-widgets/controls",
      "model_module_version": "2.0.0",
      "model_name": "ToggleButtonStyleModel",
      "state": {
       "description_width": "",
       "font_family": null,
       "font_size": null,
       "font_style": null,
       "font_variant": null,
       "font_weight": null,
       "text_color": null,
       "text_decoration": null
      }
     },
     "94cc6767a7e8447e885f233f3e4b71ae": {
      "model_module": "@jupyter-widgets/controls",
      "model_module_version": "2.0.0",
      "model_name": "ToggleButtonModel",
      "state": {
       "layout": "IPY_MODEL_cbb007f4b9644615acf96a9592fe5eea",
       "style": "IPY_MODEL_fe4aea0f20be4fb4bc7721abd86c6aec",
       "tooltip": null
      }
     },
     "9513744df33d4570bb86c8a60d39e12a": {
      "model_module": "@jupyter-widgets/controls",
      "model_module_version": "2.0.0",
      "model_name": "ToggleButtonModel",
      "state": {
       "button_style": "success",
       "disabled": true,
       "layout": "IPY_MODEL_cbb007f4b9644615acf96a9592fe5eea",
       "style": "IPY_MODEL_48f1a2afdea24e4f822aa871845a01df",
       "tooltip": null
      }
     },
     "9527662885e148ad8fc85588059a409a": {
      "model_module": "@jupyter-widgets/controls",
      "model_module_version": "2.0.0",
      "model_name": "ToggleButtonStyleModel",
      "state": {
       "description_width": "",
       "font_family": null,
       "font_size": null,
       "font_style": null,
       "font_variant": null,
       "font_weight": null,
       "text_color": null,
       "text_decoration": null
      }
     },
     "953580e0ec8044b9888a610858655f04": {
      "model_module": "@jupyter-widgets/controls",
      "model_module_version": "2.0.0",
      "model_name": "ToggleButtonModel",
      "state": {
       "button_style": "success",
       "disabled": true,
       "layout": "IPY_MODEL_58452c5b934e45b59b40dbda05b4d47c",
       "style": "IPY_MODEL_e3238ade2aef465c9a658e26cfb18fe3",
       "tooltip": null
      }
     },
     "9554e9dd5aef42b6bcb988ed4055526a": {
      "model_module": "@jupyter-widgets/controls",
      "model_module_version": "2.0.0",
      "model_name": "ToggleButtonModel",
      "state": {
       "button_style": "success",
       "disabled": true,
       "layout": "IPY_MODEL_8d696421995345d1b22a15e63c05a8e0",
       "style": "IPY_MODEL_74ef8425273f464a8b8195094f96bfd3",
       "tooltip": null
      }
     },
     "95677297511e409db964658dd466cf5f": {
      "model_module": "@jupyter-widgets/controls",
      "model_module_version": "2.0.0",
      "model_name": "ToggleButtonModel",
      "state": {
       "button_style": "success",
       "disabled": true,
       "layout": "IPY_MODEL_cbb007f4b9644615acf96a9592fe5eea",
       "style": "IPY_MODEL_f5a256d1494c4c24a7bc23daa953b1c4",
       "tooltip": null
      }
     },
     "95beb37847d84d83ad7aa8320d2ba271": {
      "model_module": "@jupyter-widgets/controls",
      "model_module_version": "2.0.0",
      "model_name": "ToggleButtonStyleModel",
      "state": {
       "description_width": "",
       "font_family": null,
       "font_size": null,
       "font_style": null,
       "font_variant": null,
       "font_weight": null,
       "text_color": null,
       "text_decoration": null
      }
     },
     "95d171ac651c4d6d8b7d22531ca07dd4": {
      "model_module": "@jupyter-widgets/controls",
      "model_module_version": "2.0.0",
      "model_name": "ToggleButtonStyleModel",
      "state": {
       "description_width": "",
       "font_family": null,
       "font_size": null,
       "font_style": null,
       "font_variant": null,
       "font_weight": null,
       "text_color": null,
       "text_decoration": null
      }
     },
     "95f5840ae74849f79a69e02ff3dad0e2": {
      "model_module": "@jupyter-widgets/controls",
      "model_module_version": "2.0.0",
      "model_name": "ToggleButtonModel",
      "state": {
       "button_style": "success",
       "disabled": true,
       "layout": "IPY_MODEL_1984f7edee3c4b9ebcaaf4fd4d1bd535",
       "style": "IPY_MODEL_eb5810b0a1084ebebad643e138c885cc",
       "tooltip": null
      }
     },
     "96144b023cf1461980eba4bb7ed74f23": {
      "model_module": "@jupyter-widgets/controls",
      "model_module_version": "2.0.0",
      "model_name": "ToggleButtonStyleModel",
      "state": {
       "description_width": "",
       "font_family": null,
       "font_size": null,
       "font_style": null,
       "font_variant": null,
       "font_weight": null,
       "text_color": null,
       "text_decoration": null
      }
     },
     "96222b7d03014db396fbb181810f983f": {
      "model_module": "@jupyter-widgets/controls",
      "model_module_version": "2.0.0",
      "model_name": "ToggleButtonStyleModel",
      "state": {
       "description_width": "",
       "font_family": null,
       "font_size": null,
       "font_style": null,
       "font_variant": null,
       "font_weight": null,
       "text_color": null,
       "text_decoration": null
      }
     },
     "9698c56bc16e4faa8753cc776269ab00": {
      "model_module": "@jupyter-widgets/controls",
      "model_module_version": "2.0.0",
      "model_name": "ToggleButtonStyleModel",
      "state": {
       "description_width": "",
       "font_family": null,
       "font_size": null,
       "font_style": null,
       "font_variant": null,
       "font_weight": null,
       "text_color": null,
       "text_decoration": null
      }
     },
     "969a72f16888473ca756ec94abf46b47": {
      "model_module": "@jupyter-widgets/controls",
      "model_module_version": "2.0.0",
      "model_name": "ToggleButtonModel",
      "state": {
       "button_style": "success",
       "disabled": true,
       "layout": "IPY_MODEL_2d2b7c3a0e0b4e2ea0528a045ba78de4",
       "style": "IPY_MODEL_30ac8a104bff478eae2d1dc46fbf92b1",
       "tooltip": null
      }
     },
     "96ac6ac314f04ba59e9fad1ef7ecaee7": {
      "model_module": "@jupyter-widgets/base",
      "model_module_version": "2.0.0",
      "model_name": "LayoutModel",
      "state": {
       "margin": "0px 0px 0px 37px",
       "width": "600px"
      }
     },
     "96d74aaa8348423fa4a7c438ff26b43d": {
      "model_module": "@jupyter-widgets/controls",
      "model_module_version": "2.0.0",
      "model_name": "ToggleButtonStyleModel",
      "state": {
       "description_width": "",
       "font_family": null,
       "font_size": null,
       "font_style": null,
       "font_variant": null,
       "font_weight": null,
       "text_color": null,
       "text_decoration": null
      }
     },
     "97164b7ceb524bae9b460dd0ee9c58bb": {
      "model_module": "@jupyter-widgets/controls",
      "model_module_version": "2.0.0",
      "model_name": "ToggleButtonModel",
      "state": {
       "layout": "IPY_MODEL_3831200db05b4a7986a2bfa009c0e327",
       "style": "IPY_MODEL_3b2f988081bf45f9b2d414a449f98186",
       "tooltip": null
      }
     },
     "9755000f709a4910ac6dd4030ccee0d2": {
      "model_module": "@jupyter-widgets/controls",
      "model_module_version": "2.0.0",
      "model_name": "ToggleButtonStyleModel",
      "state": {
       "description_width": "",
       "font_family": null,
       "font_size": null,
       "font_style": null,
       "font_variant": null,
       "font_weight": null,
       "text_color": null,
       "text_decoration": null
      }
     },
     "976d398f0e52400b8aaef42936ca3522": {
      "model_module": "@jupyter-widgets/controls",
      "model_module_version": "2.0.0",
      "model_name": "ToggleButtonStyleModel",
      "state": {
       "description_width": "",
       "font_family": null,
       "font_size": null,
       "font_style": null,
       "font_variant": null,
       "font_weight": null,
       "text_color": null,
       "text_decoration": null
      }
     },
     "977349a940ed4bf39e2c55310aeac7db": {
      "model_module": "@jupyter-widgets/controls",
      "model_module_version": "2.0.0",
      "model_name": "ToggleButtonStyleModel",
      "state": {
       "description_width": "",
       "font_family": null,
       "font_size": null,
       "font_style": null,
       "font_variant": null,
       "font_weight": null,
       "text_color": null,
       "text_decoration": null
      }
     },
     "97aed59ab5f4405ba4a7cca75ed2489c": {
      "model_module": "@jupyter-widgets/base",
      "model_module_version": "2.0.0",
      "model_name": "LayoutModel",
      "state": {
       "width": "145px"
      }
     },
     "97c68991bd0b48429f91554670508ed8": {
      "model_module": "@jupyter-widgets/controls",
      "model_module_version": "2.0.0",
      "model_name": "ToggleButtonModel",
      "state": {
       "button_style": "success",
       "disabled": true,
       "layout": "IPY_MODEL_cbb007f4b9644615acf96a9592fe5eea",
       "style": "IPY_MODEL_66a80235c82b4bacbc234b6126d7eb5b",
       "tooltip": null
      }
     },
     "97d76124746d4acf903ce6b288765ee5": {
      "model_module": "@jupyter-widgets/controls",
      "model_module_version": "2.0.0",
      "model_name": "ToggleButtonModel",
      "state": {
       "button_style": "success",
       "disabled": true,
       "layout": "IPY_MODEL_8d696421995345d1b22a15e63c05a8e0",
       "style": "IPY_MODEL_093fa4443eea43f0bb2e8c01b1c683ce",
       "tooltip": null
      }
     },
     "98253414c30c45dfa0735565352f9f3c": {
      "model_module": "@jupyter-widgets/controls",
      "model_module_version": "2.0.0",
      "model_name": "ToggleButtonModel",
      "state": {
       "button_style": "info",
       "disabled": true,
       "layout": "IPY_MODEL_9c61bb957f7c4a25976dcbd6e83798b8",
       "style": "IPY_MODEL_44aec42f87a343cb8835e4f23d5bbc20",
       "tooltip": null
      }
     },
     "9829bde4a6454ed6926e88a9ade1f3a1": {
      "model_module": "@jupyter-widgets/controls",
      "model_module_version": "2.0.0",
      "model_name": "ToggleButtonStyleModel",
      "state": {
       "description_width": "",
       "font_family": null,
       "font_size": null,
       "font_style": null,
       "font_variant": null,
       "font_weight": null,
       "text_color": null,
       "text_decoration": null
      }
     },
     "98460003dda142da9e539dc8030172d6": {
      "model_module": "@jupyter-widgets/controls",
      "model_module_version": "2.0.0",
      "model_name": "ToggleButtonStyleModel",
      "state": {
       "description_width": "",
       "font_family": null,
       "font_size": null,
       "font_style": null,
       "font_variant": null,
       "font_weight": null,
       "text_color": null,
       "text_decoration": null
      }
     },
     "98694e3dfef14527b09446d608c83245": {
      "model_module": "@jupyter-widgets/controls",
      "model_module_version": "2.0.0",
      "model_name": "ToggleButtonStyleModel",
      "state": {
       "description_width": "",
       "font_family": null,
       "font_size": null,
       "font_style": null,
       "font_variant": null,
       "font_weight": null,
       "text_color": null,
       "text_decoration": null
      }
     },
     "98721fd62d064eb19a689d11847c6572": {
      "model_module": "@jupyter-widgets/controls",
      "model_module_version": "2.0.0",
      "model_name": "ToggleButtonStyleModel",
      "state": {
       "description_width": "",
       "font_family": null,
       "font_size": null,
       "font_style": null,
       "font_variant": null,
       "font_weight": null,
       "text_color": null,
       "text_decoration": null
      }
     },
     "98a6942e308c43dfafe0f073eae5d635": {
      "model_module": "@jupyter-widgets/controls",
      "model_module_version": "2.0.0",
      "model_name": "ToggleButtonStyleModel",
      "state": {
       "description_width": "",
       "font_family": null,
       "font_size": null,
       "font_style": null,
       "font_variant": null,
       "font_weight": null,
       "text_color": null,
       "text_decoration": null
      }
     },
     "9901a13ac5ea4e0bac3d779eec8b78fa": {
      "model_module": "@jupyter-widgets/controls",
      "model_module_version": "2.0.0",
      "model_name": "ToggleButtonModel",
      "state": {
       "button_style": "success",
       "disabled": true,
       "layout": "IPY_MODEL_58452c5b934e45b59b40dbda05b4d47c",
       "style": "IPY_MODEL_43fa673f59bb4a449f03dd80ccda0666",
       "tooltip": null
      }
     },
     "993c263e0a69439baaf606cfc17512b8": {
      "model_module": "@jupyter-widgets/controls",
      "model_module_version": "2.0.0",
      "model_name": "ToggleButtonStyleModel",
      "state": {
       "description_width": "",
       "font_family": null,
       "font_size": null,
       "font_style": null,
       "font_variant": null,
       "font_weight": null,
       "text_color": null,
       "text_decoration": null
      }
     },
     "99865b0d58e942e8a0adc1daf1c431db": {
      "model_module": "@jupyter-widgets/controls",
      "model_module_version": "2.0.0",
      "model_name": "ToggleButtonStyleModel",
      "state": {
       "description_width": "",
       "font_family": null,
       "font_size": null,
       "font_style": null,
       "font_variant": null,
       "font_weight": null,
       "text_color": null,
       "text_decoration": null
      }
     },
     "99c5ca8246d248d79bbf61c5b9e9b191": {
      "model_module": "@jupyter-widgets/controls",
      "model_module_version": "2.0.0",
      "model_name": "ToggleButtonStyleModel",
      "state": {
       "description_width": "",
       "font_family": null,
       "font_size": null,
       "font_style": null,
       "font_variant": null,
       "font_weight": null,
       "text_color": null,
       "text_decoration": null
      }
     },
     "9a281ced08e84c71afb7f6efa09f194c": {
      "model_module": "@jupyter-widgets/controls",
      "model_module_version": "2.0.0",
      "model_name": "ToggleButtonStyleModel",
      "state": {
       "description_width": "",
       "font_family": null,
       "font_size": null,
       "font_style": null,
       "font_variant": null,
       "font_weight": null,
       "text_color": null,
       "text_decoration": null
      }
     },
     "9a3e7794a85440608c3e9b699bc1deda": {
      "model_module": "@jupyter-widgets/controls",
      "model_module_version": "2.0.0",
      "model_name": "ToggleButtonStyleModel",
      "state": {
       "description_width": "",
       "font_family": null,
       "font_size": null,
       "font_style": null,
       "font_variant": null,
       "font_weight": null,
       "text_color": null,
       "text_decoration": null
      }
     },
     "9a5121cbc9974a78971b59c84991663e": {
      "model_module": "@jupyter-widgets/controls",
      "model_module_version": "2.0.0",
      "model_name": "ToggleButtonModel",
      "state": {
       "button_style": "info",
       "disabled": true,
       "layout": "IPY_MODEL_9c61bb957f7c4a25976dcbd6e83798b8",
       "style": "IPY_MODEL_d8dc4f4b3e3e468182de76b3ba53e522",
       "tooltip": null
      }
     },
     "9a598fd95d484966bd494ff24c8a3483": {
      "model_module": "@jupyter-widgets/controls",
      "model_module_version": "2.0.0",
      "model_name": "ToggleButtonModel",
      "state": {
       "button_style": "success",
       "disabled": true,
       "layout": "IPY_MODEL_1984f7edee3c4b9ebcaaf4fd4d1bd535",
       "style": "IPY_MODEL_f811806d57dd437eaa9aaaee5f37cc36",
       "tooltip": null
      }
     },
     "9aa0b8d99486437599924f0fdf1f9e8b": {
      "model_module": "@jupyter-widgets/base",
      "model_module_version": "2.0.0",
      "model_name": "LayoutModel",
      "state": {
       "height": "50px",
       "width": "50px"
      }
     },
     "9b4529ef2a1743c698ae237ad7cd4719": {
      "model_module": "@jupyter-widgets/controls",
      "model_module_version": "2.0.0",
      "model_name": "ToggleButtonStyleModel",
      "state": {
       "description_width": "",
       "font_family": null,
       "font_size": null,
       "font_style": null,
       "font_variant": null,
       "font_weight": null,
       "text_color": null,
       "text_decoration": null
      }
     },
     "9b4a1e3609ea4e5cba2e503e644e5c0c": {
      "model_module": "@jupyter-widgets/controls",
      "model_module_version": "2.0.0",
      "model_name": "ToggleButtonStyleModel",
      "state": {
       "description_width": "",
       "font_family": null,
       "font_size": null,
       "font_style": null,
       "font_variant": null,
       "font_weight": null,
       "text_color": null,
       "text_decoration": null
      }
     },
     "9b88ef8f0f0144f1b0e1c6f5980669cb": {
      "model_module": "@jupyter-widgets/controls",
      "model_module_version": "2.0.0",
      "model_name": "ToggleButtonModel",
      "state": {
       "button_style": "success",
       "disabled": true,
       "layout": "IPY_MODEL_cbb007f4b9644615acf96a9592fe5eea",
       "style": "IPY_MODEL_d5907d17f4084e0b9fc7612ce58e6478",
       "tooltip": null
      }
     },
     "9bf42d54ec8f4e0ba251b8a33b843969": {
      "model_module": "@jupyter-widgets/controls",
      "model_module_version": "2.0.0",
      "model_name": "ToggleButtonStyleModel",
      "state": {
       "description_width": "",
       "font_family": null,
       "font_size": null,
       "font_style": null,
       "font_variant": null,
       "font_weight": null,
       "text_color": null,
       "text_decoration": null
      }
     },
     "9c32280ad4184422b3a5862582c6f318": {
      "model_module": "@jupyter-widgets/base",
      "model_module_version": "2.0.0",
      "model_name": "LayoutModel",
      "state": {}
     },
     "9c61bb957f7c4a25976dcbd6e83798b8": {
      "model_module": "@jupyter-widgets/base",
      "model_module_version": "2.0.0",
      "model_name": "LayoutModel",
      "state": {
       "height": "50px",
       "width": "50px"
      }
     },
     "9c7c43fbc95743558967fa9d6a54b620": {
      "model_module": "@jupyter-widgets/controls",
      "model_module_version": "2.0.0",
      "model_name": "ToggleButtonModel",
      "state": {
       "button_style": "success",
       "disabled": true,
       "layout": "IPY_MODEL_2d2b7c3a0e0b4e2ea0528a045ba78de4",
       "style": "IPY_MODEL_1a3b2219f0cc4c4d8701cdac49f8726d",
       "tooltip": null
      }
     },
     "9ce38038ce844e40ba84b99d9e0285b8": {
      "model_module": "@jupyter-widgets/controls",
      "model_module_version": "2.0.0",
      "model_name": "HBoxModel",
      "state": {
       "children": [
        "IPY_MODEL_3a24ae58cce14482a9a4835e510c7903",
        "IPY_MODEL_e938b0aac5074d73b26e37a6661c1501",
        "IPY_MODEL_ee559040941047c3afba86058d81e3c7",
        "IPY_MODEL_2568a5479cfd4008ba14526f1e5c4595",
        "IPY_MODEL_b1a82be87cd94b3eab3e902b3a115834",
        "IPY_MODEL_764b3118f4d64a11acd3b3e2dd7600bd",
        "IPY_MODEL_bdb726211690436884a2d388766339d3",
        "IPY_MODEL_3315c7eaa2824f36b8ecf2a227e8d532",
        "IPY_MODEL_97164b7ceb524bae9b460dd0ee9c58bb",
        "IPY_MODEL_0744aac889a54d14a75494fedd662295",
        "IPY_MODEL_97164b7ceb524bae9b460dd0ee9c58bb",
        "IPY_MODEL_97164b7ceb524bae9b460dd0ee9c58bb",
        "IPY_MODEL_97164b7ceb524bae9b460dd0ee9c58bb",
        "IPY_MODEL_05c55905e9e8440e9dcefced8bcb112e",
        "IPY_MODEL_97164b7ceb524bae9b460dd0ee9c58bb"
       ],
       "layout": "IPY_MODEL_7fc1edb4e28745fba85349f22745c289"
      }
     },
     "9d49913ba4fb4cd5b791f015cf52fe16": {
      "model_module": "@jupyter-widgets/controls",
      "model_module_version": "2.0.0",
      "model_name": "ToggleButtonStyleModel",
      "state": {
       "description_width": "",
       "font_family": null,
       "font_size": null,
       "font_style": null,
       "font_variant": null,
       "font_weight": null,
       "text_color": null,
       "text_decoration": null
      }
     },
     "9d5c5f25f1e74fb6a0123e746624c8e0": {
      "model_module": "@jupyter-widgets/controls",
      "model_module_version": "2.0.0",
      "model_name": "ToggleButtonModel",
      "state": {
       "button_style": "success",
       "disabled": true,
       "layout": "IPY_MODEL_8d696421995345d1b22a15e63c05a8e0",
       "style": "IPY_MODEL_52b8df2e598e41aeaaf0dbd6643b36dd",
       "tooltip": null
      }
     },
     "9d7f91fc82ac4f1492eb3b2b46bfccdb": {
      "model_module": "@jupyter-widgets/controls",
      "model_module_version": "2.0.0",
      "model_name": "ToggleButtonStyleModel",
      "state": {
       "description_width": "",
       "font_family": null,
       "font_size": null,
       "font_style": null,
       "font_variant": null,
       "font_weight": null,
       "text_color": null,
       "text_decoration": null
      }
     },
     "9dcf95d781ac40dc9dff42d787798e36": {
      "model_module": "@jupyter-widgets/controls",
      "model_module_version": "2.0.0",
      "model_name": "ToggleButtonStyleModel",
      "state": {
       "description_width": "",
       "font_family": null,
       "font_size": null,
       "font_style": null,
       "font_variant": null,
       "font_weight": null,
       "text_color": null,
       "text_decoration": null
      }
     },
     "9dea512c3bb1442d9266f2786ca0fda2": {
      "model_module": "@jupyter-widgets/controls",
      "model_module_version": "2.0.0",
      "model_name": "ToggleButtonModel",
      "state": {
       "button_style": "info",
       "disabled": true,
       "layout": "IPY_MODEL_9c61bb957f7c4a25976dcbd6e83798b8",
       "style": "IPY_MODEL_977349a940ed4bf39e2c55310aeac7db",
       "tooltip": null
      }
     },
     "9dff27c30f71478d84f06cadcc43e25e": {
      "model_module": "@jupyter-widgets/controls",
      "model_module_version": "2.0.0",
      "model_name": "ToggleButtonModel",
      "state": {
       "button_style": "success",
       "disabled": true,
       "layout": "IPY_MODEL_3831200db05b4a7986a2bfa009c0e327",
       "style": "IPY_MODEL_aa87274a2ecf4c3a866b97dd52f0207f",
       "tooltip": null
      }
     },
     "9e097fb291244cc8a9aa64add5a5b13d": {
      "model_module": "@jupyter-widgets/controls",
      "model_module_version": "2.0.0",
      "model_name": "HBoxModel",
      "state": {
       "children": [
        "IPY_MODEL_08503a8c94d84e639ba776da2f02d465",
        "IPY_MODEL_ae9965f6c70d4edc8132df4cd1c1f171",
        "IPY_MODEL_0f75bc3c0d254c8c8df957c64855f36e",
        "IPY_MODEL_97d76124746d4acf903ce6b288765ee5",
        "IPY_MODEL_81f25a3de03a42e8b4667a716a7b6d83",
        "IPY_MODEL_7666ac27fffe46e2b448eb25ac1565dc",
        "IPY_MODEL_a00bb07109814afe8c4918a9d7a53932",
        "IPY_MODEL_a3e1e971e6ea4320b899651f668edc9e",
        "IPY_MODEL_2167418724ce4497b3578ac58a4e0361",
        "IPY_MODEL_a12d78d7fa994f97bac783fad1fe195b",
        "IPY_MODEL_2167418724ce4497b3578ac58a4e0361",
        "IPY_MODEL_2167418724ce4497b3578ac58a4e0361",
        "IPY_MODEL_2167418724ce4497b3578ac58a4e0361",
        "IPY_MODEL_ec2752c5b4ec4434a54ec8fe76ac5a23",
        "IPY_MODEL_2167418724ce4497b3578ac58a4e0361"
       ],
       "layout": "IPY_MODEL_0462ab173edb46699e216091942ff905"
      }
     },
     "9e7497e5bfc94a9695772b8d36d8bd21": {
      "model_module": "@jupyter-widgets/controls",
      "model_module_version": "2.0.0",
      "model_name": "ToggleButtonModel",
      "state": {
       "button_style": "success",
       "disabled": true,
       "layout": "IPY_MODEL_cbb007f4b9644615acf96a9592fe5eea",
       "style": "IPY_MODEL_6055e5ef337f456bb20410062436e52e",
       "tooltip": null
      }
     },
     "9e97ab6a78374cd285b6837df6e4791e": {
      "model_module": "@jupyter-widgets/controls",
      "model_module_version": "2.0.0",
      "model_name": "ToggleButtonStyleModel",
      "state": {
       "description_width": "",
       "font_family": null,
       "font_size": null,
       "font_style": null,
       "font_variant": null,
       "font_weight": null,
       "text_color": null,
       "text_decoration": null
      }
     },
     "9e9ab5e8d4264ec4bb402203df1c50d4": {
      "model_module": "@jupyter-widgets/controls",
      "model_module_version": "2.0.0",
      "model_name": "ToggleButtonModel",
      "state": {
       "button_style": "success",
       "disabled": true,
       "layout": "IPY_MODEL_1984f7edee3c4b9ebcaaf4fd4d1bd535",
       "style": "IPY_MODEL_51691fd65a9647b39db35b7953b80a9a",
       "tooltip": null
      }
     },
     "9ec37103805f416684f6a49633abd832": {
      "model_module": "@jupyter-widgets/controls",
      "model_module_version": "2.0.0",
      "model_name": "ToggleButtonModel",
      "state": {
       "button_style": "success",
       "disabled": true,
       "layout": "IPY_MODEL_8d696421995345d1b22a15e63c05a8e0",
       "style": "IPY_MODEL_717dc0a30d6647859b582ec0bc2b188d",
       "tooltip": null
      }
     },
     "9ec4efced0ae4de28af8a6d2c0aac8ef": {
      "model_module": "@jupyter-widgets/controls",
      "model_module_version": "2.0.0",
      "model_name": "ToggleButtonModel",
      "state": {
       "button_style": "success",
       "disabled": true,
       "layout": "IPY_MODEL_1984f7edee3c4b9ebcaaf4fd4d1bd535",
       "style": "IPY_MODEL_0e2b7e0bfe8d429ab4af976f6892d855",
       "tooltip": null
      }
     },
     "9ece98cc01234f62947b8f58b9c3ecb9": {
      "model_module": "@jupyter-widgets/controls",
      "model_module_version": "2.0.0",
      "model_name": "ToggleButtonModel",
      "state": {
       "button_style": "success",
       "disabled": true,
       "layout": "IPY_MODEL_58452c5b934e45b59b40dbda05b4d47c",
       "style": "IPY_MODEL_f9df4e220ebc4a7d85b8c2b1193eddaa",
       "tooltip": null
      }
     },
     "9f5f6bb5826b495f8e923917d772f34a": {
      "model_module": "@jupyter-widgets/controls",
      "model_module_version": "2.0.0",
      "model_name": "ToggleButtonStyleModel",
      "state": {
       "description_width": "",
       "font_family": null,
       "font_size": null,
       "font_style": null,
       "font_variant": null,
       "font_weight": null,
       "text_color": null,
       "text_decoration": null
      }
     },
     "9fab736a918f41209bfe6a5646140990": {
      "model_module": "@jupyter-widgets/controls",
      "model_module_version": "2.0.0",
      "model_name": "ToggleButtonStyleModel",
      "state": {
       "description_width": "",
       "font_family": null,
       "font_size": null,
       "font_style": null,
       "font_variant": null,
       "font_weight": null,
       "text_color": null,
       "text_decoration": null
      }
     },
     "a00bb07109814afe8c4918a9d7a53932": {
      "model_module": "@jupyter-widgets/controls",
      "model_module_version": "2.0.0",
      "model_name": "ToggleButtonModel",
      "state": {
       "button_style": "success",
       "disabled": true,
       "layout": "IPY_MODEL_8d696421995345d1b22a15e63c05a8e0",
       "style": "IPY_MODEL_8441f2ec41d940e899434ee722e3c47f",
       "tooltip": null
      }
     },
     "a00cfeeb735940b18eec53cd63e9c2fe": {
      "model_module": "@jupyter-widgets/controls",
      "model_module_version": "2.0.0",
      "model_name": "ToggleButtonStyleModel",
      "state": {
       "description_width": "",
       "font_family": null,
       "font_size": null,
       "font_style": null,
       "font_variant": null,
       "font_weight": null,
       "text_color": null,
       "text_decoration": null
      }
     },
     "a021769c22914ab4baf62574fbe31cdc": {
      "model_module": "@jupyter-widgets/controls",
      "model_module_version": "2.0.0",
      "model_name": "ToggleButtonStyleModel",
      "state": {
       "description_width": "",
       "font_family": null,
       "font_size": null,
       "font_style": null,
       "font_variant": null,
       "font_weight": null,
       "text_color": null,
       "text_decoration": null
      }
     },
     "a068b1ee76ea490983b2eeeeb9276417": {
      "model_module": "@jupyter-widgets/controls",
      "model_module_version": "2.0.0",
      "model_name": "ToggleButtonStyleModel",
      "state": {
       "description_width": "",
       "font_family": null,
       "font_size": null,
       "font_style": null,
       "font_variant": null,
       "font_weight": null,
       "text_color": null,
       "text_decoration": null
      }
     },
     "a0915fea2bd94d78abda553dd0ada251": {
      "model_module": "@jupyter-widgets/controls",
      "model_module_version": "2.0.0",
      "model_name": "ToggleButtonStyleModel",
      "state": {
       "description_width": "",
       "font_family": null,
       "font_size": null,
       "font_style": null,
       "font_variant": null,
       "font_weight": null,
       "text_color": null,
       "text_decoration": null
      }
     },
     "a0a038fd34ea466ab62ba2c1cc2be69d": {
      "model_module": "@jupyter-widgets/controls",
      "model_module_version": "2.0.0",
      "model_name": "ToggleButtonStyleModel",
      "state": {
       "description_width": "",
       "font_family": null,
       "font_size": null,
       "font_style": null,
       "font_variant": null,
       "font_weight": null,
       "text_color": null,
       "text_decoration": null
      }
     },
     "a11c13eafba1453381dfdb348a61797f": {
      "model_module": "@jupyter-widgets/controls",
      "model_module_version": "2.0.0",
      "model_name": "ToggleButtonStyleModel",
      "state": {
       "description_width": "",
       "font_family": null,
       "font_size": null,
       "font_style": null,
       "font_variant": null,
       "font_weight": null,
       "text_color": null,
       "text_decoration": null
      }
     },
     "a11dd46a5791478c95f3f618a11d6cc9": {
      "model_module": "@jupyter-widgets/controls",
      "model_module_version": "2.0.0",
      "model_name": "ToggleButtonStyleModel",
      "state": {
       "description_width": "",
       "font_family": null,
       "font_size": null,
       "font_style": null,
       "font_variant": null,
       "font_weight": null,
       "text_color": null,
       "text_decoration": null
      }
     },
     "a121dad754b1434d8fe411c63e10faa6": {
      "model_module": "@jupyter-widgets/controls",
      "model_module_version": "2.0.0",
      "model_name": "ToggleButtonModel",
      "state": {
       "button_style": "success",
       "disabled": true,
       "layout": "IPY_MODEL_58452c5b934e45b59b40dbda05b4d47c",
       "style": "IPY_MODEL_e7a9e1b13b544091814b2b46d3ebf79f",
       "tooltip": null
      }
     },
     "a12add2d7fc64d0cab3db33f74b3a3b2": {
      "model_module": "@jupyter-widgets/controls",
      "model_module_version": "2.0.0",
      "model_name": "ToggleButtonModel",
      "state": {
       "button_style": "success",
       "disabled": true,
       "layout": "IPY_MODEL_1984f7edee3c4b9ebcaaf4fd4d1bd535",
       "style": "IPY_MODEL_e757bdebd73b4b00acd491a589763be1",
       "tooltip": null
      }
     },
     "a12d78d7fa994f97bac783fad1fe195b": {
      "model_module": "@jupyter-widgets/controls",
      "model_module_version": "2.0.0",
      "model_name": "ToggleButtonModel",
      "state": {
       "description": "▼",
       "layout": "IPY_MODEL_8d696421995345d1b22a15e63c05a8e0",
       "style": "IPY_MODEL_22ee93b35ddc4cca9013ae6ea563d521",
       "tooltip": null
      }
     },
     "a16abe00c9e0446c89d06ecddce33fce": {
      "model_module": "@jupyter-widgets/controls",
      "model_module_version": "2.0.0",
      "model_name": "HBoxModel",
      "state": {
       "children": [
        "IPY_MODEL_3a55a5021d524c359ce9058d6d808970",
        "IPY_MODEL_f36f68f1b82d49988a644e5bb4dc5f8e",
        "IPY_MODEL_0d2bf6266dd648bd92f59e126a06dca3",
        "IPY_MODEL_2304c802ee25439488a27c15ee8eed01",
        "IPY_MODEL_5c429caa93534b24aef8c4f96d2ae240",
        "IPY_MODEL_36849c98dd5f48998c0f4ce3628e6a4e",
        "IPY_MODEL_5c4044362a9e4851aeff0f1d29d55c9d",
        "IPY_MODEL_2bfae61ac49441bcac83ab745c0c2c5f",
        "IPY_MODEL_c8053740d09c4e7ca3287251b7eeed44",
        "IPY_MODEL_97164b7ceb524bae9b460dd0ee9c58bb",
        "IPY_MODEL_76be3ca2b97e4f83bad430b2741331c6",
        "IPY_MODEL_97164b7ceb524bae9b460dd0ee9c58bb",
        "IPY_MODEL_8691d27fb9674f3fb9f7c0c370352e7d",
        "IPY_MODEL_97164b7ceb524bae9b460dd0ee9c58bb",
        "IPY_MODEL_8b78562675474fedac3d7c0568cf525c"
       ],
       "layout": "IPY_MODEL_90c95a1eccd84778af943305200c1fde"
      }
     },
     "a189f4a641c049e1bbecbc3a93ddd112": {
      "model_module": "@jupyter-widgets/controls",
      "model_module_version": "2.0.0",
      "model_name": "ToggleButtonStyleModel",
      "state": {
       "description_width": "",
       "font_family": null,
       "font_size": null,
       "font_style": null,
       "font_variant": null,
       "font_weight": null,
       "text_color": null,
       "text_decoration": null
      }
     },
     "a18acd5daffd40bcb003503f5b3582e0": {
      "model_module": "@jupyter-widgets/controls",
      "model_module_version": "2.0.0",
      "model_name": "ToggleButtonModel",
      "state": {
       "button_style": "danger",
       "disabled": true,
       "layout": "IPY_MODEL_2d2b7c3a0e0b4e2ea0528a045ba78de4",
       "style": "IPY_MODEL_a021769c22914ab4baf62574fbe31cdc",
       "tooltip": null
      }
     },
     "a1ad9b9bb69a4819b936e4aa81924d61": {
      "model_module": "@jupyter-widgets/base",
      "model_module_version": "2.0.0",
      "model_name": "LayoutModel",
      "state": {}
     },
     "a1bbd12bf44044c681c6794f89488ec4": {
      "model_module": "@jupyter-widgets/controls",
      "model_module_version": "2.0.0",
      "model_name": "ToggleButtonModel",
      "state": {
       "button_style": "success",
       "disabled": true,
       "layout": "IPY_MODEL_8d696421995345d1b22a15e63c05a8e0",
       "style": "IPY_MODEL_eb48f4f8f86e417a8796cdc71d381f75",
       "tooltip": null
      }
     },
     "a1e5dfea56774c89ba7d4ab5d9565f48": {
      "model_module": "@jupyter-widgets/controls",
      "model_module_version": "2.0.0",
      "model_name": "ToggleButtonStyleModel",
      "state": {
       "description_width": "",
       "font_family": null,
       "font_size": null,
       "font_style": null,
       "font_variant": null,
       "font_weight": null,
       "text_color": null,
       "text_decoration": null
      }
     },
     "a1f605f69af64faa9897ba3ba897fb4a": {
      "model_module": "@jupyter-widgets/controls",
      "model_module_version": "2.0.0",
      "model_name": "ToggleButtonStyleModel",
      "state": {
       "description_width": "",
       "font_family": null,
       "font_size": null,
       "font_style": null,
       "font_variant": null,
       "font_weight": null,
       "text_color": null,
       "text_decoration": null
      }
     },
     "a2006325a2e94175a4c296872879257d": {
      "model_module": "@jupyter-widgets/controls",
      "model_module_version": "2.0.0",
      "model_name": "ToggleButtonModel",
      "state": {
       "description": "►",
       "layout": "IPY_MODEL_8d696421995345d1b22a15e63c05a8e0",
       "style": "IPY_MODEL_e79251d3dbee4f5498335c06a04caa5f",
       "tooltip": null
      }
     },
     "a2024fc0f360468888cffc8a7e32a2fe": {
      "model_module": "@jupyter-widgets/controls",
      "model_module_version": "2.0.0",
      "model_name": "ToggleButtonModel",
      "state": {
       "button_style": "success",
       "disabled": true,
       "layout": "IPY_MODEL_8d696421995345d1b22a15e63c05a8e0",
       "style": "IPY_MODEL_0b59546282e3488ca4406760e96963ee",
       "tooltip": null
      }
     },
     "a20d368016d443fd9df09739fef1640d": {
      "model_module": "@jupyter-widgets/controls",
      "model_module_version": "2.0.0",
      "model_name": "ToggleButtonStyleModel",
      "state": {
       "description_width": "",
       "font_family": null,
       "font_size": null,
       "font_style": null,
       "font_variant": null,
       "font_weight": null,
       "text_color": null,
       "text_decoration": null
      }
     },
     "a2a3db2ee77e415ca5eb06d47fa900bf": {
      "model_module": "@jupyter-widgets/controls",
      "model_module_version": "2.0.0",
      "model_name": "ToggleButtonModel",
      "state": {
       "button_style": "success",
       "disabled": true,
       "layout": "IPY_MODEL_cbb007f4b9644615acf96a9592fe5eea",
       "style": "IPY_MODEL_6882e7d4af594a63a6832a67f474255b",
       "tooltip": null
      }
     },
     "a2e681da861d4f40b30d769f511980fd": {
      "model_module": "@jupyter-widgets/controls",
      "model_module_version": "2.0.0",
      "model_name": "ToggleButtonModel",
      "state": {
       "button_style": "success",
       "disabled": true,
       "layout": "IPY_MODEL_1984f7edee3c4b9ebcaaf4fd4d1bd535",
       "style": "IPY_MODEL_2a8dc47a077340709c7573b4c7f2a9d9",
       "tooltip": null
      }
     },
     "a321ee1728ce49eeb47b4ab5d90098c8": {
      "model_module": "@jupyter-widgets/controls",
      "model_module_version": "2.0.0",
      "model_name": "ToggleButtonStyleModel",
      "state": {
       "description_width": "",
       "font_family": null,
       "font_size": null,
       "font_style": null,
       "font_variant": null,
       "font_weight": null,
       "text_color": null,
       "text_decoration": null
      }
     },
     "a3454ee1c61d46c5b89761491a0ddab0": {
      "model_module": "@jupyter-widgets/controls",
      "model_module_version": "2.0.0",
      "model_name": "ToggleButtonStyleModel",
      "state": {
       "description_width": "",
       "font_family": null,
       "font_size": null,
       "font_style": null,
       "font_variant": null,
       "font_weight": null,
       "text_color": null,
       "text_decoration": null
      }
     },
     "a37fe84fec58481186b87c2be82e69d9": {
      "model_module": "@jupyter-widgets/controls",
      "model_module_version": "2.0.0",
      "model_name": "ToggleButtonStyleModel",
      "state": {
       "description_width": "",
       "font_family": null,
       "font_size": null,
       "font_style": null,
       "font_variant": null,
       "font_weight": null,
       "text_color": null,
       "text_decoration": null
      }
     },
     "a3a73c6dbdd0492eaf330592575780f9": {
      "model_module": "@jupyter-widgets/controls",
      "model_module_version": "2.0.0",
      "model_name": "ToggleButtonStyleModel",
      "state": {
       "description_width": "",
       "font_family": null,
       "font_size": null,
       "font_style": null,
       "font_variant": null,
       "font_weight": null,
       "text_color": null,
       "text_decoration": null
      }
     },
     "a3ba41ce737e4d1f8b267153b969dd8a": {
      "model_module": "@jupyter-widgets/controls",
      "model_module_version": "2.0.0",
      "model_name": "HTMLStyleModel",
      "state": {
       "description_width": "",
       "font_size": null,
       "text_color": null
      }
     },
     "a3db130afbc945a08190a33f492f7741": {
      "model_module": "@jupyter-widgets/controls",
      "model_module_version": "2.0.0",
      "model_name": "ToggleButtonModel",
      "state": {
       "button_style": "warning",
       "disabled": true,
       "layout": "IPY_MODEL_9c61bb957f7c4a25976dcbd6e83798b8",
       "style": "IPY_MODEL_3b900d9deb0d4103b8d486a693c339a7",
       "tooltip": null
      }
     },
     "a3e1e971e6ea4320b899651f668edc9e": {
      "model_module": "@jupyter-widgets/controls",
      "model_module_version": "2.0.0",
      "model_name": "ToggleButtonModel",
      "state": {
       "button_style": "success",
       "disabled": true,
       "layout": "IPY_MODEL_8d696421995345d1b22a15e63c05a8e0",
       "style": "IPY_MODEL_cac3c0147a114b61b6a002ec28a585b1",
       "tooltip": null
      }
     },
     "a3e6df39e0b64d2e80ddd7f4309bea6a": {
      "model_module": "@jupyter-widgets/controls",
      "model_module_version": "2.0.0",
      "model_name": "ToggleButtonModel",
      "state": {
       "disabled": true,
       "layout": "IPY_MODEL_2ef87493a2b54a4ca6918b2c47bc9986",
       "style": "IPY_MODEL_00178308ec674f099354a92adfa95ea0",
       "tooltip": null
      }
     },
     "a3f99aa80e2e4fed982585c3ecff2920": {
      "model_module": "@jupyter-widgets/controls",
      "model_module_version": "2.0.0",
      "model_name": "ToggleButtonStyleModel",
      "state": {
       "description_width": "",
       "font_family": null,
       "font_size": null,
       "font_style": null,
       "font_variant": null,
       "font_weight": null,
       "text_color": null,
       "text_decoration": null
      }
     },
     "a41f101db58546a4a164fff9ab350dfc": {
      "model_module": "@jupyter-widgets/controls",
      "model_module_version": "2.0.0",
      "model_name": "ToggleButtonModel",
      "state": {
       "description": "X",
       "layout": "IPY_MODEL_9aa0b8d99486437599924f0fdf1f9e8b",
       "style": "IPY_MODEL_67d16b61442e48d2a253139ac0e2e655",
       "tooltip": null
      }
     },
     "a431f50ecdcc4530816cf4413c49c76c": {
      "model_module": "@jupyter-widgets/controls",
      "model_module_version": "2.0.0",
      "model_name": "ToggleButtonStyleModel",
      "state": {
       "description_width": "",
       "font_family": null,
       "font_size": null,
       "font_style": null,
       "font_variant": null,
       "font_weight": null,
       "text_color": null,
       "text_decoration": null
      }
     },
     "a465ed9fc71a4809b94ed623c1f05541": {
      "model_module": "@jupyter-widgets/controls",
      "model_module_version": "2.0.0",
      "model_name": "ToggleButtonModel",
      "state": {
       "button_style": "success",
       "disabled": true,
       "layout": "IPY_MODEL_cbb007f4b9644615acf96a9592fe5eea",
       "style": "IPY_MODEL_5b488293d161439798c8d58ee54095a2",
       "tooltip": null
      }
     },
     "a46ad0968b774df39674cfaded25143e": {
      "model_module": "@jupyter-widgets/controls",
      "model_module_version": "2.0.0",
      "model_name": "ToggleButtonStyleModel",
      "state": {
       "description_width": "",
       "font_family": null,
       "font_size": null,
       "font_style": null,
       "font_variant": null,
       "font_weight": null,
       "text_color": null,
       "text_decoration": null
      }
     },
     "a4f375e2044849d38ab974c8687c168f": {
      "model_module": "@jupyter-widgets/controls",
      "model_module_version": "2.0.0",
      "model_name": "ToggleButtonStyleModel",
      "state": {
       "description_width": "",
       "font_family": null,
       "font_size": null,
       "font_style": null,
       "font_variant": null,
       "font_weight": null,
       "text_color": null,
       "text_decoration": null
      }
     },
     "a507d70adee24536a28590773ff91f7b": {
      "model_module": "@jupyter-widgets/controls",
      "model_module_version": "2.0.0",
      "model_name": "ToggleButtonModel",
      "state": {
       "button_style": "success",
       "disabled": true,
       "layout": "IPY_MODEL_58452c5b934e45b59b40dbda05b4d47c",
       "style": "IPY_MODEL_22bbc1e904f749aeb60dfe9ed31a3ced",
       "tooltip": null
      }
     },
     "a5357cec65a2460294c2f17431525b76": {
      "model_module": "@jupyter-widgets/controls",
      "model_module_version": "2.0.0",
      "model_name": "ToggleButtonModel",
      "state": {
       "button_style": "success",
       "disabled": true,
       "layout": "IPY_MODEL_3831200db05b4a7986a2bfa009c0e327",
       "style": "IPY_MODEL_063eb47ed7d9485c825e4524c2067f76",
       "tooltip": null
      }
     },
     "a540c165ba024d5d80650dd982e41c6b": {
      "model_module": "@jupyter-widgets/base",
      "model_module_version": "2.0.0",
      "model_name": "LayoutModel",
      "state": {}
     },
     "a575c8d5530c4b6f8d8750270852996d": {
      "model_module": "@jupyter-widgets/controls",
      "model_module_version": "2.0.0",
      "model_name": "ToggleButtonModel",
      "state": {
       "button_style": "success",
       "disabled": true,
       "layout": "IPY_MODEL_58452c5b934e45b59b40dbda05b4d47c",
       "style": "IPY_MODEL_d467f02acf1342f8883b48f871f2ff5a",
       "tooltip": null
      }
     },
     "a5d1e1669c8a459b86faf9c9107c9a07": {
      "model_module": "@jupyter-widgets/controls",
      "model_module_version": "2.0.0",
      "model_name": "ToggleButtonModel",
      "state": {
       "description": "Y",
       "layout": "IPY_MODEL_9aa0b8d99486437599924f0fdf1f9e8b",
       "style": "IPY_MODEL_9527662885e148ad8fc85588059a409a",
       "tooltip": null
      }
     },
     "a5e18ab026ef48a29bf3e3904cca1aae": {
      "model_module": "@jupyter-widgets/controls",
      "model_module_version": "2.0.0",
      "model_name": "ToggleButtonModel",
      "state": {
       "button_style": "success",
       "disabled": true,
       "layout": "IPY_MODEL_8d696421995345d1b22a15e63c05a8e0",
       "style": "IPY_MODEL_b6cfb686c0cb42a390cfb022ff105d65",
       "tooltip": null
      }
     },
     "a609a3eb4b2e45d98e9e8c5b8c8ef116": {
      "model_module": "@jupyter-widgets/controls",
      "model_module_version": "2.0.0",
      "model_name": "ToggleButtonModel",
      "state": {
       "button_style": "success",
       "disabled": true,
       "layout": "IPY_MODEL_2d2b7c3a0e0b4e2ea0528a045ba78de4",
       "style": "IPY_MODEL_f78dff72ba924041b6674b2e2546a353",
       "tooltip": null
      }
     },
     "a6560acf41a54cf1bb512404ab9194db": {
      "model_module": "@jupyter-widgets/controls",
      "model_module_version": "2.0.0",
      "model_name": "ToggleButtonStyleModel",
      "state": {
       "description_width": "",
       "font_family": null,
       "font_size": null,
       "font_style": null,
       "font_variant": null,
       "font_weight": null,
       "text_color": null,
       "text_decoration": null
      }
     },
     "a6c48b9b388b4b2ea0f87dea68eefe91": {
      "model_module": "@jupyter-widgets/controls",
      "model_module_version": "2.0.0",
      "model_name": "ToggleButtonModel",
      "state": {
       "button_style": "info",
       "disabled": true,
       "layout": "IPY_MODEL_9c61bb957f7c4a25976dcbd6e83798b8",
       "style": "IPY_MODEL_249473e45e724b588fa4ba946073dcf8",
       "tooltip": null
      }
     },
     "a6fe48ac9b284808a7f0965ade6ba6ca": {
      "model_module": "@jupyter-widgets/controls",
      "model_module_version": "2.0.0",
      "model_name": "ToggleButtonStyleModel",
      "state": {
       "description_width": "",
       "font_family": null,
       "font_size": null,
       "font_style": null,
       "font_variant": null,
       "font_weight": null,
       "text_color": null,
       "text_decoration": null
      }
     },
     "a772f4644a904838b685584ccd61f214": {
      "model_module": "@jupyter-widgets/controls",
      "model_module_version": "2.0.0",
      "model_name": "ToggleButtonStyleModel",
      "state": {
       "description_width": "",
       "font_family": null,
       "font_size": null,
       "font_style": null,
       "font_variant": null,
       "font_weight": null,
       "text_color": null,
       "text_decoration": null
      }
     },
     "a80fce5240784374af0089a74b3d9a1b": {
      "model_module": "@jupyter-widgets/controls",
      "model_module_version": "2.0.0",
      "model_name": "ToggleButtonModel",
      "state": {
       "button_style": "success",
       "disabled": true,
       "layout": "IPY_MODEL_2d2b7c3a0e0b4e2ea0528a045ba78de4",
       "style": "IPY_MODEL_04176c10ac104ae6b56fa761cbb8e9b8",
       "tooltip": null
      }
     },
     "a82034b9c313457c82b48866c9f4b0cf": {
      "model_module": "@jupyter-widgets/controls",
      "model_module_version": "2.0.0",
      "model_name": "HBoxModel",
      "state": {
       "children": [
        "IPY_MODEL_98253414c30c45dfa0735565352f9f3c",
        "IPY_MODEL_eab17638bb854a3ab163f679fcd7b0e3",
        "IPY_MODEL_2ddea5cb554f4abfb555e02c9dffb759",
        "IPY_MODEL_fee75b71397847238c6da9e712aa47c3",
        "IPY_MODEL_14954e2b6ffc4d3db0cd91391f98eeff",
        "IPY_MODEL_2f1c1f8d1708401286adc2724d71e368",
        "IPY_MODEL_8c69ae831c124cf0837c1864d97080f6",
        "IPY_MODEL_4c83f7c6fa6c494f95d729675133b826"
       ],
       "layout": "IPY_MODEL_a1ad9b9bb69a4819b936e4aa81924d61"
      }
     },
     "a8350ada430b4361b38ccef39e49cd25": {
      "model_module": "@jupyter-widgets/controls",
      "model_module_version": "2.0.0",
      "model_name": "ToggleButtonModel",
      "state": {
       "button_style": "warning",
       "disabled": true,
       "layout": "IPY_MODEL_9c61bb957f7c4a25976dcbd6e83798b8",
       "style": "IPY_MODEL_70453bab25694178ab577e7b240e7472",
       "tooltip": null
      }
     },
     "a85543d657e041dcb536768569b9c08a": {
      "model_module": "@jupyter-widgets/controls",
      "model_module_version": "2.0.0",
      "model_name": "ToggleButtonModel",
      "state": {
       "button_style": "success",
       "disabled": true,
       "layout": "IPY_MODEL_8d696421995345d1b22a15e63c05a8e0",
       "style": "IPY_MODEL_9413dc97c647417bbe0e5b5709c5feac",
       "tooltip": null
      }
     },
     "a89c001dd31c4d18b9a5f2471958b218": {
      "model_module": "@jupyter-widgets/controls",
      "model_module_version": "2.0.0",
      "model_name": "ToggleButtonStyleModel",
      "state": {
       "description_width": "",
       "font_family": null,
       "font_size": null,
       "font_style": null,
       "font_variant": null,
       "font_weight": null,
       "text_color": null,
       "text_decoration": null
      }
     },
     "a8bd9f385686482faef383198d05fdcf": {
      "model_module": "@jupyter-widgets/controls",
      "model_module_version": "2.0.0",
      "model_name": "HBoxModel",
      "state": {
       "children": [
        "IPY_MODEL_201eea08c15f4cc0a96f52004f8c2d66",
        "IPY_MODEL_9ec37103805f416684f6a49633abd832",
        "IPY_MODEL_a1bbd12bf44044c681c6794f89488ec4",
        "IPY_MODEL_4995e0c575534762a5d32dd19216383e",
        "IPY_MODEL_e85110c4565e43fbb7b6cec0e162998b",
        "IPY_MODEL_4987ad8e8c3c4163a761f00b0f3d9ac6",
        "IPY_MODEL_5a2abc91a9a8438d8bdd616cad989eec",
        "IPY_MODEL_58e0634b38f6463ca4d42b83f86dabd7"
       ],
       "layout": "IPY_MODEL_e77a04f93162444eae4dbed702a131f3"
      }
     },
     "a95f7b3a2ee745dda36255058c7f38bd": {
      "model_module": "@jupyter-widgets/controls",
      "model_module_version": "2.0.0",
      "model_name": "ToggleButtonStyleModel",
      "state": {
       "description_width": "",
       "font_family": null,
       "font_size": null,
       "font_style": null,
       "font_variant": null,
       "font_weight": null,
       "text_color": null,
       "text_decoration": null
      }
     },
     "a9b4f5989c0c44ce84465fbff533bb4b": {
      "model_module": "@jupyter-widgets/controls",
      "model_module_version": "2.0.0",
      "model_name": "ToggleButtonModel",
      "state": {
       "button_style": "success",
       "disabled": true,
       "layout": "IPY_MODEL_58452c5b934e45b59b40dbda05b4d47c",
       "style": "IPY_MODEL_c1204d67eac54df7be3be8f549f335c1",
       "tooltip": null
      }
     },
     "a9b9d6a9c86b4b89af8256fc4eeb8d17": {
      "model_module": "@jupyter-widgets/controls",
      "model_module_version": "2.0.0",
      "model_name": "ToggleButtonStyleModel",
      "state": {
       "description_width": "",
       "font_family": null,
       "font_size": null,
       "font_style": null,
       "font_variant": null,
       "font_weight": null,
       "text_color": null,
       "text_decoration": null
      }
     },
     "aa04461022ff4929a7e74591b0ba2ab0": {
      "model_module": "@jupyter-widgets/controls",
      "model_module_version": "2.0.0",
      "model_name": "GridBoxModel",
      "state": {
       "children": [
        "IPY_MODEL_49f0804d07c746ee93bbb1f7548b9401"
       ],
       "layout": "IPY_MODEL_0a73f084771443918894f0be57042f3e"
      }
     },
     "aa0f88d2318c418696b3ae03eae6cb0d": {
      "model_module": "@jupyter-widgets/controls",
      "model_module_version": "2.0.0",
      "model_name": "ToggleButtonModel",
      "state": {
       "description": "Next",
       "layout": "IPY_MODEL_1b7eea38beff4a49b73b7407583e9fcd",
       "style": "IPY_MODEL_e3ecfb99d52a4baf97cf1a5917569fa3",
       "tooltip": null
      }
     },
     "aa15501ffe2a4ead9615673f0dd1f8e6": {
      "model_module": "@jupyter-widgets/controls",
      "model_module_version": "2.0.0",
      "model_name": "ToggleButtonStyleModel",
      "state": {
       "description_width": "",
       "font_family": null,
       "font_size": null,
       "font_style": null,
       "font_variant": null,
       "font_weight": null,
       "text_color": null,
       "text_decoration": null
      }
     },
     "aa184c0919154261977577135ae48fa5": {
      "model_module": "@jupyter-widgets/base",
      "model_module_version": "2.0.0",
      "model_name": "LayoutModel",
      "state": {}
     },
     "aa61f8a2a6c94090a671d6245eac0388": {
      "model_module": "@jupyter-widgets/controls",
      "model_module_version": "2.0.0",
      "model_name": "HBoxModel",
      "state": {
       "children": [
        "IPY_MODEL_bc84d2191b294f1bb0e620a1be4626bc",
        "IPY_MODEL_15456246453148ac910ff71453a7c7dd",
        "IPY_MODEL_b4450397b8e04560ae9347fa4bd75fde",
        "IPY_MODEL_9d5c5f25f1e74fb6a0123e746624c8e0",
        "IPY_MODEL_5cae2a107d904e17a248f572418b01bf",
        "IPY_MODEL_6e8f09af47814429813e529a33c20026",
        "IPY_MODEL_b9983d8fb898416b936cd4906638f724",
        "IPY_MODEL_dbbb60b428ff4fe9a1d86b968b54ce9a",
        "IPY_MODEL_63dc026b340f49c2b00a199fa9dd5b38",
        "IPY_MODEL_2167418724ce4497b3578ac58a4e0361",
        "IPY_MODEL_a2006325a2e94175a4c296872879257d",
        "IPY_MODEL_2167418724ce4497b3578ac58a4e0361",
        "IPY_MODEL_252a6b33bf184be9a18b91daf0a9cf30",
        "IPY_MODEL_2167418724ce4497b3578ac58a4e0361",
        "IPY_MODEL_c85f5d7aa1ee492a8dbc45f6b322e546"
       ],
       "layout": "IPY_MODEL_e58814c0935a49549e8c4eb0bfb97dad"
      }
     },
     "aa7f0b262b834cfeb0a7287a2be27839": {
      "model_module": "@jupyter-widgets/controls",
      "model_module_version": "2.0.0",
      "model_name": "ToggleButtonModel",
      "state": {
       "button_style": "success",
       "disabled": true,
       "layout": "IPY_MODEL_58452c5b934e45b59b40dbda05b4d47c",
       "style": "IPY_MODEL_6faa9f59e13c43a39079a3f01a133813",
       "tooltip": null
      }
     },
     "aa87274a2ecf4c3a866b97dd52f0207f": {
      "model_module": "@jupyter-widgets/controls",
      "model_module_version": "2.0.0",
      "model_name": "ToggleButtonStyleModel",
      "state": {
       "description_width": "",
       "font_family": null,
       "font_size": null,
       "font_style": null,
       "font_variant": null,
       "font_weight": null,
       "text_color": null,
       "text_decoration": null
      }
     },
     "aab0ba5bdbe2408494408e8741512e18": {
      "model_module": "@jupyter-widgets/controls",
      "model_module_version": "2.0.0",
      "model_name": "ToggleButtonStyleModel",
      "state": {
       "description_width": "",
       "font_family": null,
       "font_size": null,
       "font_style": null,
       "font_variant": null,
       "font_weight": null,
       "text_color": null,
       "text_decoration": null
      }
     },
     "aae409837b8a40e8959495c2b9578442": {
      "model_module": "@jupyter-widgets/controls",
      "model_module_version": "2.0.0",
      "model_name": "ToggleButtonStyleModel",
      "state": {
       "description_width": "",
       "font_family": null,
       "font_size": null,
       "font_style": null,
       "font_variant": null,
       "font_weight": null,
       "text_color": null,
       "text_decoration": null
      }
     },
     "ab01add1b4f24ae3a36f4fdd2d55106a": {
      "model_module": "@jupyter-widgets/controls",
      "model_module_version": "2.0.0",
      "model_name": "ToggleButtonStyleModel",
      "state": {
       "description_width": "",
       "font_family": null,
       "font_size": null,
       "font_style": null,
       "font_variant": null,
       "font_weight": null,
       "text_color": null,
       "text_decoration": null
      }
     },
     "ab05e193312d4f478b3a4735d780dfa5": {
      "model_module": "@jupyter-widgets/controls",
      "model_module_version": "2.0.0",
      "model_name": "ToggleButtonModel",
      "state": {
       "button_style": "success",
       "disabled": true,
       "layout": "IPY_MODEL_3831200db05b4a7986a2bfa009c0e327",
       "style": "IPY_MODEL_dd28160e6ef6457f867ea4b7f32cb822",
       "tooltip": null
      }
     },
     "ab09f80f33544632998986b569d661cc": {
      "model_module": "@jupyter-widgets/controls",
      "model_module_version": "2.0.0",
      "model_name": "ToggleButtonStyleModel",
      "state": {
       "description_width": "",
       "font_family": null,
       "font_size": null,
       "font_style": null,
       "font_variant": null,
       "font_weight": null,
       "text_color": null,
       "text_decoration": null
      }
     },
     "ab2799ce138640a0baf13d7ea8514acc": {
      "model_module": "@jupyter-widgets/controls",
      "model_module_version": "2.0.0",
      "model_name": "ToggleButtonModel",
      "state": {
       "description": "X",
       "layout": "IPY_MODEL_58452c5b934e45b59b40dbda05b4d47c",
       "style": "IPY_MODEL_38e3b2a539384cf7aeeff020811baf3d",
       "tooltip": null
      }
     },
     "ab94c0614dd24f63b98907f7b2fc2384": {
      "model_module": "@jupyter-widgets/controls",
      "model_module_version": "2.0.0",
      "model_name": "ToggleButtonStyleModel",
      "state": {
       "description_width": "",
       "font_family": null,
       "font_size": null,
       "font_style": null,
       "font_variant": null,
       "font_weight": null,
       "text_color": null,
       "text_decoration": null
      }
     },
     "abb34de0f1d9420597f48ee64e1d63be": {
      "model_module": "@jupyter-widgets/controls",
      "model_module_version": "2.0.0",
      "model_name": "ToggleButtonModel",
      "state": {
       "button_style": "success",
       "disabled": true,
       "layout": "IPY_MODEL_cbb007f4b9644615acf96a9592fe5eea",
       "style": "IPY_MODEL_5a560324921942468233bd51cb7ff379",
       "tooltip": null
      }
     },
     "abd927d459de4c47867e0c9bd7de944d": {
      "model_module": "@jupyter-widgets/controls",
      "model_module_version": "2.0.0",
      "model_name": "ToggleButtonStyleModel",
      "state": {
       "description_width": "",
       "font_family": null,
       "font_size": null,
       "font_style": null,
       "font_variant": null,
       "font_weight": null,
       "text_color": null,
       "text_decoration": null
      }
     },
     "ac1d0915df0f4159a9a2ec0b7917c9f6": {
      "model_module": "@jupyter-widgets/controls",
      "model_module_version": "2.0.0",
      "model_name": "ToggleButtonStyleModel",
      "state": {
       "description_width": "",
       "font_family": null,
       "font_size": null,
       "font_style": null,
       "font_variant": null,
       "font_weight": null,
       "text_color": null,
       "text_decoration": null
      }
     },
     "ac4bd52a06e44622878461a76a98a81f": {
      "model_module": "@jupyter-widgets/controls",
      "model_module_version": "2.0.0",
      "model_name": "ToggleButtonModel",
      "state": {
       "button_style": "success",
       "disabled": true,
       "layout": "IPY_MODEL_58452c5b934e45b59b40dbda05b4d47c",
       "style": "IPY_MODEL_3189f347852647cfacd36f895f316932",
       "tooltip": null
      }
     },
     "ad1772293c3b4e9b9d942988ab3ec1ae": {
      "model_module": "@jupyter-widgets/base",
      "model_module_version": "2.0.0",
      "model_name": "LayoutModel",
      "state": {}
     },
     "ad6f1bd045934518a6a884f08f3c2145": {
      "model_module": "@jupyter-widgets/controls",
      "model_module_version": "2.0.0",
      "model_name": "ToggleButtonModel",
      "state": {
       "button_style": "success",
       "disabled": true,
       "layout": "IPY_MODEL_8d696421995345d1b22a15e63c05a8e0",
       "style": "IPY_MODEL_13075200013b4a0ba2e2143cf2b18f80",
       "tooltip": null
      }
     },
     "ade9d78eb0974f42b29294e00e2aa353": {
      "model_module": "@jupyter-widgets/controls",
      "model_module_version": "2.0.0",
      "model_name": "ToggleButtonStyleModel",
      "state": {
       "description_width": "",
       "font_family": null,
       "font_size": null,
       "font_style": null,
       "font_variant": null,
       "font_weight": null,
       "text_color": null,
       "text_decoration": null
      }
     },
     "ae3e3e8186794f5490838ffdfdfee6a2": {
      "model_module": "@jupyter-widgets/controls",
      "model_module_version": "2.0.0",
      "model_name": "ToggleButtonStyleModel",
      "state": {
       "description_width": "",
       "font_family": null,
       "font_size": null,
       "font_style": null,
       "font_variant": null,
       "font_weight": null,
       "text_color": null,
       "text_decoration": null
      }
     },
     "ae4f495676394766ade1dad5d443c09d": {
      "model_module": "@jupyter-widgets/controls",
      "model_module_version": "2.0.0",
      "model_name": "ToggleButtonModel",
      "state": {
       "button_style": "success",
       "disabled": true,
       "layout": "IPY_MODEL_8d696421995345d1b22a15e63c05a8e0",
       "style": "IPY_MODEL_7bdfe4cde0df46d1b81cb3b3d5ff6716",
       "tooltip": null
      }
     },
     "ae72f6f56bc741f19713bc1fa60fa728": {
      "model_module": "@jupyter-widgets/controls",
      "model_module_version": "2.0.0",
      "model_name": "ToggleButtonModel",
      "state": {
       "button_style": "success",
       "disabled": true,
       "layout": "IPY_MODEL_8d696421995345d1b22a15e63c05a8e0",
       "style": "IPY_MODEL_1f260c1f27de4e8e8e3c38dc641c4545",
       "tooltip": null
      }
     },
     "ae898498c51140c3936e064bc2d12921": {
      "model_module": "@jupyter-widgets/controls",
      "model_module_version": "2.0.0",
      "model_name": "ToggleButtonStyleModel",
      "state": {
       "description_width": "",
       "font_family": null,
       "font_size": null,
       "font_style": null,
       "font_variant": null,
       "font_weight": null,
       "text_color": null,
       "text_decoration": null
      }
     },
     "ae9965f6c70d4edc8132df4cd1c1f171": {
      "model_module": "@jupyter-widgets/controls",
      "model_module_version": "2.0.0",
      "model_name": "ToggleButtonModel",
      "state": {
       "button_style": "danger",
       "disabled": true,
       "layout": "IPY_MODEL_8d696421995345d1b22a15e63c05a8e0",
       "style": "IPY_MODEL_0ffec71f7ffd4357b47dafd0d05081e5",
       "tooltip": null
      }
     },
     "af10ad40eda8418abea559fc3c0c0594": {
      "model_module": "@jupyter-widgets/controls",
      "model_module_version": "2.0.0",
      "model_name": "ToggleButtonStyleModel",
      "state": {
       "description_width": "",
       "font_family": null,
       "font_size": null,
       "font_style": null,
       "font_variant": null,
       "font_weight": null,
       "text_color": null,
       "text_decoration": null
      }
     },
     "af8d35c60d6b4785bae436c58e87c831": {
      "model_module": "@jupyter-widgets/controls",
      "model_module_version": "2.0.0",
      "model_name": "ToggleButtonModel",
      "state": {
       "button_style": "success",
       "disabled": true,
       "layout": "IPY_MODEL_58452c5b934e45b59b40dbda05b4d47c",
       "style": "IPY_MODEL_aab0ba5bdbe2408494408e8741512e18",
       "tooltip": null
      }
     },
     "afa077ebf5b0480aa419d28e8a50085d": {
      "model_module": "@jupyter-widgets/controls",
      "model_module_version": "2.0.0",
      "model_name": "ToggleButtonModel",
      "state": {
       "button_style": "success",
       "disabled": true,
       "layout": "IPY_MODEL_2d2b7c3a0e0b4e2ea0528a045ba78de4",
       "style": "IPY_MODEL_31155639a7d9454db710a256e872779b",
       "tooltip": null
      }
     },
     "b01d4a96316e468ba44c6301260bc2c9": {
      "model_module": "@jupyter-widgets/controls",
      "model_module_version": "2.0.0",
      "model_name": "ToggleButtonStyleModel",
      "state": {
       "description_width": "",
       "font_family": null,
       "font_size": null,
       "font_style": null,
       "font_variant": null,
       "font_weight": null,
       "text_color": null,
       "text_decoration": null
      }
     },
     "b09e3dffb0804a87aa230271e8e4c816": {
      "model_module": "@jupyter-widgets/controls",
      "model_module_version": "2.0.0",
      "model_name": "ToggleButtonStyleModel",
      "state": {
       "description_width": "",
       "font_family": null,
       "font_size": null,
       "font_style": null,
       "font_variant": null,
       "font_weight": null,
       "text_color": null,
       "text_decoration": null
      }
     },
     "b0c45804905e4dd6aad52e6cc7350412": {
      "model_module": "@jupyter-widgets/controls",
      "model_module_version": "2.0.0",
      "model_name": "ToggleButtonModel",
      "state": {
       "layout": "IPY_MODEL_58452c5b934e45b59b40dbda05b4d47c",
       "style": "IPY_MODEL_e6d42476ce184e5583922d319c30f436",
       "tooltip": null
      }
     },
     "b0c46de9e91c40a3b4cb61259d93526b": {
      "model_module": "@jupyter-widgets/base",
      "model_module_version": "2.0.0",
      "model_name": "LayoutModel",
      "state": {}
     },
     "b0c93da97cd34e01b6234c79bf62170a": {
      "model_module": "@jupyter-widgets/controls",
      "model_module_version": "2.0.0",
      "model_name": "ToggleButtonStyleModel",
      "state": {
       "description_width": "",
       "font_family": null,
       "font_size": null,
       "font_style": null,
       "font_variant": null,
       "font_weight": null,
       "text_color": null,
       "text_decoration": null
      }
     },
     "b0d4902e65024c888622f33e8391652c": {
      "model_module": "@jupyter-widgets/controls",
      "model_module_version": "2.0.0",
      "model_name": "ToggleButtonStyleModel",
      "state": {
       "description_width": "",
       "font_family": null,
       "font_size": null,
       "font_style": null,
       "font_variant": null,
       "font_weight": null,
       "text_color": null,
       "text_decoration": null
      }
     },
     "b14b01f24fc445f3b05b2bf0c564456c": {
      "model_module": "@jupyter-widgets/controls",
      "model_module_version": "2.0.0",
      "model_name": "ToggleButtonModel",
      "state": {
       "button_style": "success",
       "disabled": true,
       "layout": "IPY_MODEL_cbb007f4b9644615acf96a9592fe5eea",
       "style": "IPY_MODEL_b7c9feb288d0435a9ef69e942517066d",
       "tooltip": null
      }
     },
     "b1a82be87cd94b3eab3e902b3a115834": {
      "model_module": "@jupyter-widgets/controls",
      "model_module_version": "2.0.0",
      "model_name": "ToggleButtonModel",
      "state": {
       "button_style": "success",
       "disabled": true,
       "layout": "IPY_MODEL_3831200db05b4a7986a2bfa009c0e327",
       "style": "IPY_MODEL_ccf93261fd65455eb98e1c3ad6307b05",
       "tooltip": null
      }
     },
     "b252f8dfb3654d50b81823a54c5c66b3": {
      "model_module": "@jupyter-widgets/controls",
      "model_module_version": "2.0.0",
      "model_name": "ToggleButtonStyleModel",
      "state": {
       "description_width": "",
       "font_family": null,
       "font_size": null,
       "font_style": null,
       "font_variant": null,
       "font_weight": null,
       "text_color": null,
       "text_decoration": null
      }
     },
     "b2b7b07de4e44689a65b8909ac9fcb16": {
      "model_module": "@jupyter-widgets/controls",
      "model_module_version": "2.0.0",
      "model_name": "ToggleButtonStyleModel",
      "state": {
       "description_width": "",
       "font_family": null,
       "font_size": null,
       "font_style": null,
       "font_variant": null,
       "font_weight": null,
       "text_color": null,
       "text_decoration": null
      }
     },
     "b30d7b62345144aca151b61f7df22ecd": {
      "model_module": "@jupyter-widgets/controls",
      "model_module_version": "2.0.0",
      "model_name": "ToggleButtonModel",
      "state": {
       "button_style": "success",
       "disabled": true,
       "layout": "IPY_MODEL_58452c5b934e45b59b40dbda05b4d47c",
       "style": "IPY_MODEL_254f67e86c6840698381edc4912cd613",
       "tooltip": null
      }
     },
     "b328a42b6dfe43eaa9be11cf887e25b0": {
      "model_module": "@jupyter-widgets/base",
      "model_module_version": "2.0.0",
      "model_name": "LayoutModel",
      "state": {}
     },
     "b33fc8ce4ce344a0b2be640dafbf69da": {
      "model_module": "@jupyter-widgets/controls",
      "model_module_version": "2.0.0",
      "model_name": "ToggleButtonStyleModel",
      "state": {
       "description_width": "",
       "font_family": null,
       "font_size": null,
       "font_style": null,
       "font_variant": null,
       "font_weight": null,
       "text_color": null,
       "text_decoration": null
      }
     },
     "b3446b4ddd424fc3b367dffe1f40ddb6": {
      "model_module": "@jupyter-widgets/controls",
      "model_module_version": "2.0.0",
      "model_name": "ToggleButtonModel",
      "state": {
       "button_style": "success",
       "disabled": true,
       "layout": "IPY_MODEL_3831200db05b4a7986a2bfa009c0e327",
       "style": "IPY_MODEL_b2b7b07de4e44689a65b8909ac9fcb16",
       "tooltip": null
      }
     },
     "b3bd4758fc5a4770a9d3abd1f00548c9": {
      "model_module": "@jupyter-widgets/controls",
      "model_module_version": "2.0.0",
      "model_name": "ToggleButtonModel",
      "state": {
       "button_style": "success",
       "disabled": true,
       "layout": "IPY_MODEL_2d2b7c3a0e0b4e2ea0528a045ba78de4",
       "style": "IPY_MODEL_a89c001dd31c4d18b9a5f2471958b218",
       "tooltip": null
      }
     },
     "b3c6d3095c1340599658f88b6aac4396": {
      "model_module": "@jupyter-widgets/base",
      "model_module_version": "2.0.0",
      "model_name": "LayoutModel",
      "state": {}
     },
     "b3eac07c40c44483a3b3f4af0eee0e09": {
      "model_module": "@jupyter-widgets/controls",
      "model_module_version": "2.0.0",
      "model_name": "ToggleButtonModel",
      "state": {
       "button_style": "success",
       "disabled": true,
       "layout": "IPY_MODEL_3831200db05b4a7986a2bfa009c0e327",
       "style": "IPY_MODEL_e79ff34863a94e3aa2b9163604352ddf",
       "tooltip": null
      }
     },
     "b3fadb16f09b425891897c388b933d58": {
      "model_module": "@jupyter-widgets/controls",
      "model_module_version": "2.0.0",
      "model_name": "ToggleButtonStyleModel",
      "state": {
       "description_width": "",
       "font_family": null,
       "font_size": null,
       "font_style": null,
       "font_variant": null,
       "font_weight": null,
       "text_color": null,
       "text_decoration": null
      }
     },
     "b4450397b8e04560ae9347fa4bd75fde": {
      "model_module": "@jupyter-widgets/controls",
      "model_module_version": "2.0.0",
      "model_name": "ToggleButtonModel",
      "state": {
       "button_style": "success",
       "disabled": true,
       "layout": "IPY_MODEL_8d696421995345d1b22a15e63c05a8e0",
       "style": "IPY_MODEL_6dc2eda6e1694affb65c26cb0105d9b1",
       "tooltip": null
      }
     },
     "b46991b75ed54434a6f718f9e6136712": {
      "model_module": "@jupyter-widgets/controls",
      "model_module_version": "2.0.0",
      "model_name": "ToggleButtonModel",
      "state": {
       "button_style": "success",
       "disabled": true,
       "layout": "IPY_MODEL_9aa0b8d99486437599924f0fdf1f9e8b",
       "style": "IPY_MODEL_759ab3c7b9b644399fc745c749d072cf",
       "tooltip": null
      }
     },
     "b4c034f0ab99401f85dfd3c2ef8b228e": {
      "model_module": "@jupyter-widgets/controls",
      "model_module_version": "2.0.0",
      "model_name": "ToggleButtonStyleModel",
      "state": {
       "description_width": "",
       "font_family": null,
       "font_size": null,
       "font_style": null,
       "font_variant": null,
       "font_weight": null,
       "text_color": null,
       "text_decoration": null
      }
     },
     "b4e6d225d10d4b8ca2a02455eb68af7c": {
      "model_module": "@jupyter-widgets/controls",
      "model_module_version": "2.0.0",
      "model_name": "ToggleButtonStyleModel",
      "state": {
       "description_width": "",
       "font_family": null,
       "font_size": null,
       "font_style": null,
       "font_variant": null,
       "font_weight": null,
       "text_color": null,
       "text_decoration": null
      }
     },
     "b5498cee5eea46da87f8ec41382170b6": {
      "model_module": "@jupyter-widgets/controls",
      "model_module_version": "2.0.0",
      "model_name": "ToggleButtonStyleModel",
      "state": {
       "description_width": "",
       "font_family": null,
       "font_size": null,
       "font_style": null,
       "font_variant": null,
       "font_weight": null,
       "text_color": null,
       "text_decoration": null
      }
     },
     "b55456d5a8324a6588cb28ef59790b35": {
      "model_module": "@jupyter-widgets/controls",
      "model_module_version": "2.0.0",
      "model_name": "HBoxModel",
      "state": {
       "children": [
        "IPY_MODEL_68c739c3f444440686fada5c6d606594",
        "IPY_MODEL_d0ec1f2bd7104ecab8f192354812bc69",
        "IPY_MODEL_315ca50704de46828329a04fb687e9aa",
        "IPY_MODEL_070f6fd3c0f94b68a3bfd17910a7adcf",
        "IPY_MODEL_890f2c366e974491af00661d6e0d62bf",
        "IPY_MODEL_81f1a31df1b142f9b9fadf21284fe2f9",
        "IPY_MODEL_a12add2d7fc64d0cab3db33f74b3a3b2",
        "IPY_MODEL_5b8efc3355b84ec49bbbb8d09a3e668f",
        "IPY_MODEL_297383aab02b4defa09a679933abab3a",
        "IPY_MODEL_4975b2fb0c0c41c9bc316861fafe3580",
        "IPY_MODEL_297383aab02b4defa09a679933abab3a",
        "IPY_MODEL_297383aab02b4defa09a679933abab3a",
        "IPY_MODEL_297383aab02b4defa09a679933abab3a",
        "IPY_MODEL_d22031851e2d44af80eafb0d842954d0",
        "IPY_MODEL_297383aab02b4defa09a679933abab3a"
       ],
       "layout": "IPY_MODEL_580b697a08284095b61b2ca2c1eafc5e"
      }
     },
     "b5998405cd5343cebae9ac162b0f5cbb": {
      "model_module": "@jupyter-widgets/controls",
      "model_module_version": "2.0.0",
      "model_name": "ToggleButtonModel",
      "state": {
       "button_style": "success",
       "disabled": true,
       "layout": "IPY_MODEL_8d696421995345d1b22a15e63c05a8e0",
       "style": "IPY_MODEL_8f36e71442534a1a85ee5255da90b91b",
       "tooltip": null
      }
     },
     "b59f12b3b43444a887d7558ca24a3c3d": {
      "model_module": "@jupyter-widgets/controls",
      "model_module_version": "2.0.0",
      "model_name": "ToggleButtonModel",
      "state": {
       "button_style": "success",
       "disabled": true,
       "layout": "IPY_MODEL_58452c5b934e45b59b40dbda05b4d47c",
       "style": "IPY_MODEL_bea02f182d0546ec8af9e01ed249620a",
       "tooltip": null
      }
     },
     "b5a5a296fb6c4909bf8d3d37b41b3422": {
      "model_module": "@jupyter-widgets/controls",
      "model_module_version": "2.0.0",
      "model_name": "ToggleButtonStyleModel",
      "state": {
       "description_width": "",
       "font_family": null,
       "font_size": null,
       "font_style": null,
       "font_variant": null,
       "font_weight": null,
       "text_color": null,
       "text_decoration": null
      }
     },
     "b5ab2e34729e455eba3375ba840f087a": {
      "model_module": "@jupyter-widgets/base",
      "model_module_version": "2.0.0",
      "model_name": "LayoutModel",
      "state": {}
     },
     "b5bff90e7edc4c91aeeca111b879bc27": {
      "model_module": "@jupyter-widgets/controls",
      "model_module_version": "2.0.0",
      "model_name": "ToggleButtonModel",
      "state": {
       "button_style": "success",
       "disabled": true,
       "layout": "IPY_MODEL_58452c5b934e45b59b40dbda05b4d47c",
       "style": "IPY_MODEL_189a7f1fabcb45c18b90f4fc1abed2d1",
       "tooltip": null
      }
     },
     "b5f136a9471244af95c17544a8ad3a1a": {
      "model_module": "@jupyter-widgets/controls",
      "model_module_version": "2.0.0",
      "model_name": "HTMLModel",
      "state": {
       "layout": "IPY_MODEL_2a667880bb8b49499e56c640b92d8644",
       "style": "IPY_MODEL_2ad7d4756207465188b212f47c709300",
       "value": "<h5>Job ID</h5>"
      }
     },
     "b606f898084545efa0f15a8023ac7e57": {
      "model_module": "@jupyter-widgets/controls",
      "model_module_version": "2.0.0",
      "model_name": "ToggleButtonStyleModel",
      "state": {
       "description_width": "",
       "font_family": null,
       "font_size": null,
       "font_style": null,
       "font_variant": null,
       "font_weight": null,
       "text_color": null,
       "text_decoration": null
      }
     },
     "b611403544f24da982fe22d12682de32": {
      "model_module": "@jupyter-widgets/controls",
      "model_module_version": "2.0.0",
      "model_name": "ToggleButtonStyleModel",
      "state": {
       "description_width": "",
       "font_family": null,
       "font_size": null,
       "font_style": null,
       "font_variant": null,
       "font_weight": null,
       "text_color": null,
       "text_decoration": null
      }
     },
     "b660b8ddd22349de8683692b9513e679": {
      "model_module": "@jupyter-widgets/controls",
      "model_module_version": "2.0.0",
      "model_name": "ToggleButtonModel",
      "state": {
       "button_style": "success",
       "disabled": true,
       "layout": "IPY_MODEL_2d2b7c3a0e0b4e2ea0528a045ba78de4",
       "style": "IPY_MODEL_00076996f6e240af8c4056e97256f241",
       "tooltip": null
      }
     },
     "b6617e7a8cef4295bba8318290dd6b7e": {
      "model_module": "@jupyter-widgets/controls",
      "model_module_version": "2.0.0",
      "model_name": "ToggleButtonModel",
      "state": {
       "button_style": "info",
       "disabled": true,
       "layout": "IPY_MODEL_9c61bb957f7c4a25976dcbd6e83798b8",
       "style": "IPY_MODEL_ffa5e7a9dfb048488cfc3797c880d6b4",
       "tooltip": null
      }
     },
     "b678967c16384f5d9c3261f518b63d41": {
      "model_module": "@jupyter-widgets/controls",
      "model_module_version": "2.0.0",
      "model_name": "ToggleButtonModel",
      "state": {
       "button_style": "success",
       "disabled": true,
       "layout": "IPY_MODEL_9aa0b8d99486437599924f0fdf1f9e8b",
       "style": "IPY_MODEL_b9145df380a54ef8a233b5833cadb6c1",
       "tooltip": null
      }
     },
     "b67e6b557f3d4246b5cb0053eed90bd3": {
      "model_module": "@jupyter-widgets/controls",
      "model_module_version": "2.0.0",
      "model_name": "ToggleButtonModel",
      "state": {
       "button_style": "success",
       "disabled": true,
       "layout": "IPY_MODEL_58452c5b934e45b59b40dbda05b4d47c",
       "style": "IPY_MODEL_4fee83b9a45c4df68a6a7b4c4761c0c2",
       "tooltip": null
      }
     },
     "b6959e5b106943c7a1d63eff3d5951da": {
      "model_module": "@jupyter-widgets/controls",
      "model_module_version": "2.0.0",
      "model_name": "ToggleButtonModel",
      "state": {
       "button_style": "success",
       "disabled": true,
       "layout": "IPY_MODEL_58452c5b934e45b59b40dbda05b4d47c",
       "style": "IPY_MODEL_aae409837b8a40e8959495c2b9578442",
       "tooltip": null
      }
     },
     "b6b593e4910341cfb5302397c955d55d": {
      "model_module": "@jupyter-widgets/controls",
      "model_module_version": "2.0.0",
      "model_name": "ToggleButtonModel",
      "state": {
       "button_style": "success",
       "disabled": true,
       "layout": "IPY_MODEL_9aa0b8d99486437599924f0fdf1f9e8b",
       "style": "IPY_MODEL_17bc493aa65540ed98d25fee710ce8a9",
       "tooltip": null
      }
     },
     "b6b846b5c9ad4d839013bfa91c9d15a5": {
      "model_module": "@jupyter-widgets/controls",
      "model_module_version": "2.0.0",
      "model_name": "ToggleButtonModel",
      "state": {
       "button_style": "success",
       "disabled": true,
       "layout": "IPY_MODEL_9aa0b8d99486437599924f0fdf1f9e8b",
       "style": "IPY_MODEL_6ee5355f0abc435b9fb5c7da708532cc",
       "tooltip": null
      }
     },
     "b6cfb686c0cb42a390cfb022ff105d65": {
      "model_module": "@jupyter-widgets/controls",
      "model_module_version": "2.0.0",
      "model_name": "ToggleButtonStyleModel",
      "state": {
       "description_width": "",
       "font_family": null,
       "font_size": null,
       "font_style": null,
       "font_variant": null,
       "font_weight": null,
       "text_color": null,
       "text_decoration": null
      }
     },
     "b724b774e52a4811a25c309f663f9e1d": {
      "model_module": "@jupyter-widgets/controls",
      "model_module_version": "2.0.0",
      "model_name": "ToggleButtonStyleModel",
      "state": {
       "description_width": "",
       "font_family": null,
       "font_size": null,
       "font_style": null,
       "font_variant": null,
       "font_weight": null,
       "text_color": null,
       "text_decoration": null
      }
     },
     "b77349f0371f4f2e8301a02bf4e22d50": {
      "model_module": "@jupyter-widgets/controls",
      "model_module_version": "2.0.0",
      "model_name": "ToggleButtonModel",
      "state": {
       "description": "Next",
       "layout": "IPY_MODEL_74adf2e74f4d4f5db252fa9ca4f8910a",
       "style": "IPY_MODEL_55695c67ad194600ba7f622be5c0bc68",
       "tooltip": null
      }
     },
     "b7c0e609ecc44a4b8ade1323552a862c": {
      "model_module": "@jupyter-widgets/controls",
      "model_module_version": "2.0.0",
      "model_name": "ToggleButtonModel",
      "state": {
       "button_style": "success",
       "disabled": true,
       "layout": "IPY_MODEL_cbb007f4b9644615acf96a9592fe5eea",
       "style": "IPY_MODEL_df09135f6512448ca82626079748b5f8",
       "tooltip": null
      }
     },
     "b7c9feb288d0435a9ef69e942517066d": {
      "model_module": "@jupyter-widgets/controls",
      "model_module_version": "2.0.0",
      "model_name": "ToggleButtonStyleModel",
      "state": {
       "description_width": "",
       "font_family": null,
       "font_size": null,
       "font_style": null,
       "font_variant": null,
       "font_weight": null,
       "text_color": null,
       "text_decoration": null
      }
     },
     "b7e954db3ca24ea3bf8fed3e933840e6": {
      "model_module": "@jupyter-widgets/base",
      "model_module_version": "2.0.0",
      "model_name": "LayoutModel",
      "state": {}
     },
     "b821aff7b64140ff82de7b0a4a77feac": {
      "model_module": "@jupyter-widgets/controls",
      "model_module_version": "2.0.0",
      "model_name": "ToggleButtonModel",
      "state": {
       "button_style": "success",
       "disabled": true,
       "layout": "IPY_MODEL_2d2b7c3a0e0b4e2ea0528a045ba78de4",
       "style": "IPY_MODEL_ab01add1b4f24ae3a36f4fdd2d55106a",
       "tooltip": null
      }
     },
     "b8499f87893f454e856d5f7ae90770d2": {
      "model_module": "@jupyter-widgets/controls",
      "model_module_version": "2.0.0",
      "model_name": "ToggleButtonStyleModel",
      "state": {
       "description_width": "",
       "font_family": null,
       "font_size": null,
       "font_style": null,
       "font_variant": null,
       "font_weight": null,
       "text_color": null,
       "text_decoration": null
      }
     },
     "b90391e379e54080ac5b09c26cabc4fd": {
      "model_module": "@jupyter-widgets/controls",
      "model_module_version": "2.0.0",
      "model_name": "ToggleButtonStyleModel",
      "state": {
       "description_width": "",
       "font_family": null,
       "font_size": null,
       "font_style": null,
       "font_variant": null,
       "font_weight": null,
       "text_color": null,
       "text_decoration": null
      }
     },
     "b909c89e31de48e2a25f87aca4ae6b99": {
      "model_module": "@jupyter-widgets/base",
      "model_module_version": "2.0.0",
      "model_name": "LayoutModel",
      "state": {}
     },
     "b9145df380a54ef8a233b5833cadb6c1": {
      "model_module": "@jupyter-widgets/controls",
      "model_module_version": "2.0.0",
      "model_name": "ToggleButtonStyleModel",
      "state": {
       "description_width": "",
       "font_family": null,
       "font_size": null,
       "font_style": null,
       "font_variant": null,
       "font_weight": null,
       "text_color": null,
       "text_decoration": null
      }
     },
     "b91ad558638f40478ae9fb122b211854": {
      "model_module": "@jupyter-widgets/controls",
      "model_module_version": "2.0.0",
      "model_name": "ToggleButtonModel",
      "state": {
       "button_style": "success",
       "disabled": true,
       "layout": "IPY_MODEL_3831200db05b4a7986a2bfa009c0e327",
       "style": "IPY_MODEL_64b702765d5b4e9c94fe0fbfaf9d6846",
       "tooltip": null
      }
     },
     "b99189482be44afb8ac11f9c5721a01a": {
      "model_module": "@jupyter-widgets/controls",
      "model_module_version": "2.0.0",
      "model_name": "ToggleButtonModel",
      "state": {
       "button_style": "success",
       "disabled": true,
       "layout": "IPY_MODEL_8d696421995345d1b22a15e63c05a8e0",
       "style": "IPY_MODEL_7cceb5cfce42481a942027ada0478e34",
       "tooltip": null
      }
     },
     "b9983d8fb898416b936cd4906638f724": {
      "model_module": "@jupyter-widgets/controls",
      "model_module_version": "2.0.0",
      "model_name": "ToggleButtonModel",
      "state": {
       "button_style": "success",
       "disabled": true,
       "layout": "IPY_MODEL_8d696421995345d1b22a15e63c05a8e0",
       "style": "IPY_MODEL_4241589aef2747c18c45c7826d9b5118",
       "tooltip": null
      }
     },
     "b9b140cedcc847f9a90e151b2f057990": {
      "model_module": "@jupyter-widgets/controls",
      "model_module_version": "2.0.0",
      "model_name": "HBoxModel",
      "state": {
       "children": [
        "IPY_MODEL_553d4aaa60e141b89f53ad82ea5e38d4",
        "IPY_MODEL_6a6c167787a647b5b81dfbcdd75e3331",
        "IPY_MODEL_b6b593e4910341cfb5302397c955d55d",
        "IPY_MODEL_c396634afe9f4168be555e7a57f91cfb",
        "IPY_MODEL_0adf239be1b440ac8ba92ce7328828ce",
        "IPY_MODEL_eeab119fb64244238b0e24353f289cca",
        "IPY_MODEL_479c8134250a4843854ef56b1f4a88cd",
        "IPY_MODEL_e8f2b73a248a4f449ee5a91ccad6308d"
       ],
       "layout": "IPY_MODEL_260867cb62664fe69c9e1c28e5dc73c5"
      }
     },
     "b9b78ffbff82480c84b734b2886119a8": {
      "model_module": "@jupyter-widgets/base",
      "model_module_version": "2.0.0",
      "model_name": "LayoutModel",
      "state": {}
     },
     "b9bb524729614fa981e462609fa79cd7": {
      "model_module": "@jupyter-widgets/controls",
      "model_module_version": "2.0.0",
      "model_name": "ToggleButtonStyleModel",
      "state": {
       "description_width": "",
       "font_family": null,
       "font_size": null,
       "font_style": null,
       "font_variant": null,
       "font_weight": null,
       "text_color": null,
       "text_decoration": null
      }
     },
     "b9e51b8bb5414f739ec68cef55b5b241": {
      "model_module": "@jupyter-widgets/controls",
      "model_module_version": "2.0.0",
      "model_name": "ToggleButtonStyleModel",
      "state": {
       "description_width": "",
       "font_family": null,
       "font_size": null,
       "font_style": null,
       "font_variant": null,
       "font_weight": null,
       "text_color": null,
       "text_decoration": null
      }
     },
     "ba3660ad7b884e9f9593e61174889ccf": {
      "model_module": "@jupyter-widgets/controls",
      "model_module_version": "2.0.0",
      "model_name": "ToggleButtonStyleModel",
      "state": {
       "description_width": "",
       "font_family": null,
       "font_size": null,
       "font_style": null,
       "font_variant": null,
       "font_weight": null,
       "text_color": null,
       "text_decoration": null
      }
     },
     "ba3aa6dcff764b9d8b651c084bd14652": {
      "model_module": "@jupyter-widgets/controls",
      "model_module_version": "2.0.0",
      "model_name": "HBoxModel",
      "state": {
       "children": [
        "IPY_MODEL_b678967c16384f5d9c3261f518b63d41",
        "IPY_MODEL_85a8fd6b8e234551a60e57c609b28f07",
        "IPY_MODEL_bdc99fd664734ebc9498e1e73eb56fe0",
        "IPY_MODEL_5ef6382ef12e4a23902df1cd72fd2a3d",
        "IPY_MODEL_e78c1abd43b94456b227c2d2b40bb2df",
        "IPY_MODEL_7b6fdaaca6c844f888128572ca6873b7",
        "IPY_MODEL_d6e6d7e9626549a7ba2ec10ebbfff2fe",
        "IPY_MODEL_3a72b5ea7661411194097e72fcd7db6d"
       ],
       "layout": "IPY_MODEL_c81521321be34548a69215e61435cb9e"
      }
     },
     "bb6cab904fd44ec58aa09cb581018e0b": {
      "model_module": "@jupyter-widgets/controls",
      "model_module_version": "2.0.0",
      "model_name": "ToggleButtonModel",
      "state": {
       "button_style": "success",
       "disabled": true,
       "layout": "IPY_MODEL_2d2b7c3a0e0b4e2ea0528a045ba78de4",
       "style": "IPY_MODEL_d82d95c99c904d5b94646b2e10604693",
       "tooltip": null
      }
     },
     "bbb718fd4f524c568cc0826e838383af": {
      "model_module": "@jupyter-widgets/controls",
      "model_module_version": "2.0.0",
      "model_name": "ToggleButtonStyleModel",
      "state": {
       "description_width": "",
       "font_family": null,
       "font_size": null,
       "font_style": null,
       "font_variant": null,
       "font_weight": null,
       "text_color": null,
       "text_decoration": null
      }
     },
     "bbbcd453f6a74cb5a4f54d4d6f49a3c6": {
      "model_module": "@jupyter-widgets/controls",
      "model_module_version": "2.0.0",
      "model_name": "ToggleButtonModel",
      "state": {
       "button_style": "success",
       "disabled": true,
       "layout": "IPY_MODEL_1984f7edee3c4b9ebcaaf4fd4d1bd535",
       "style": "IPY_MODEL_72cf745e131041858f5223ee8745c98f",
       "tooltip": null
      }
     },
     "bbfe55f1a5524bf28a249f10e156e631": {
      "model_module": "@jupyter-widgets/controls",
      "model_module_version": "2.0.0",
      "model_name": "ToggleButtonModel",
      "state": {
       "button_style": "success",
       "disabled": true,
       "layout": "IPY_MODEL_58452c5b934e45b59b40dbda05b4d47c",
       "style": "IPY_MODEL_e7124edc2fe1457dbde3c6ea9563325d",
       "tooltip": null
      }
     },
     "bbffcd56cac44adca3803014ffc7809e": {
      "model_module": "@jupyter-widgets/controls",
      "model_module_version": "2.0.0",
      "model_name": "ToggleButtonStyleModel",
      "state": {
       "description_width": "",
       "font_family": null,
       "font_size": null,
       "font_style": null,
       "font_variant": null,
       "font_weight": null,
       "text_color": null,
       "text_decoration": null
      }
     },
     "bc84d2191b294f1bb0e620a1be4626bc": {
      "model_module": "@jupyter-widgets/controls",
      "model_module_version": "2.0.0",
      "model_name": "ToggleButtonModel",
      "state": {
       "button_style": "success",
       "disabled": true,
       "layout": "IPY_MODEL_8d696421995345d1b22a15e63c05a8e0",
       "style": "IPY_MODEL_36267206d1c942d09e8e838deb404abf",
       "tooltip": null
      }
     },
     "bcb85bac7cef4f1c84ca145390841731": {
      "model_module": "@jupyter-widgets/controls",
      "model_module_version": "2.0.0",
      "model_name": "ToggleButtonStyleModel",
      "state": {
       "description_width": "",
       "font_family": null,
       "font_size": null,
       "font_style": null,
       "font_variant": null,
       "font_weight": null,
       "text_color": null,
       "text_decoration": null
      }
     },
     "bcd99d15fd444e2dac2365275a92c808": {
      "model_module": "@jupyter-widgets/controls",
      "model_module_version": "2.0.0",
      "model_name": "ToggleButtonModel",
      "state": {
       "button_style": "info",
       "disabled": true,
       "layout": "IPY_MODEL_9c61bb957f7c4a25976dcbd6e83798b8",
       "style": "IPY_MODEL_a0915fea2bd94d78abda553dd0ada251",
       "tooltip": null
      }
     },
     "bce6453d15d54e2ba8ce68ec68685579": {
      "model_module": "@jupyter-widgets/controls",
      "model_module_version": "2.0.0",
      "model_name": "ToggleButtonStyleModel",
      "state": {
       "description_width": "",
       "font_family": null,
       "font_size": null,
       "font_style": null,
       "font_variant": null,
       "font_weight": null,
       "text_color": null,
       "text_decoration": null
      }
     },
     "bd1635c9393649c48784931ad3a1d3e3": {
      "model_module": "@jupyter-widgets/controls",
      "model_module_version": "2.0.0",
      "model_name": "ToggleButtonModel",
      "state": {
       "description": "A",
       "layout": "IPY_MODEL_1984f7edee3c4b9ebcaaf4fd4d1bd535",
       "style": "IPY_MODEL_8f6b7c8e240c454b9cfbc6b72edc9940",
       "tooltip": null
      }
     },
     "bd1f4a7e0f4c4c28934897667742fdfe": {
      "model_module": "@jupyter-widgets/controls",
      "model_module_version": "2.0.0",
      "model_name": "ToggleButtonStyleModel",
      "state": {
       "description_width": "",
       "font_family": null,
       "font_size": null,
       "font_style": null,
       "font_variant": null,
       "font_weight": null,
       "text_color": null,
       "text_decoration": null
      }
     },
     "bd27e75048e9446ab73154d631125a52": {
      "model_module": "@jupyter-widgets/base",
      "model_module_version": "2.0.0",
      "model_name": "LayoutModel",
      "state": {}
     },
     "bd84b1b449c44b42b3f8178f872239b1": {
      "model_module": "@jupyter-widgets/base",
      "model_module_version": "2.0.0",
      "model_name": "LayoutModel",
      "state": {}
     },
     "bdb48adb2bae4fbf9875384278b0657a": {
      "model_module": "@jupyter-widgets/controls",
      "model_module_version": "2.0.0",
      "model_name": "ToggleButtonModel",
      "state": {
       "button_style": "success",
       "disabled": true,
       "layout": "IPY_MODEL_3831200db05b4a7986a2bfa009c0e327",
       "style": "IPY_MODEL_bf607efe9fe3413a9757310981f29ead",
       "tooltip": null
      }
     },
     "bdb726211690436884a2d388766339d3": {
      "model_module": "@jupyter-widgets/controls",
      "model_module_version": "2.0.0",
      "model_name": "ToggleButtonModel",
      "state": {
       "button_style": "success",
       "disabled": true,
       "layout": "IPY_MODEL_3831200db05b4a7986a2bfa009c0e327",
       "style": "IPY_MODEL_829528df61d94c20878526dc60e2fca3",
       "tooltip": null
      }
     },
     "bdc99fd664734ebc9498e1e73eb56fe0": {
      "model_module": "@jupyter-widgets/controls",
      "model_module_version": "2.0.0",
      "model_name": "ToggleButtonModel",
      "state": {
       "button_style": "success",
       "disabled": true,
       "layout": "IPY_MODEL_9aa0b8d99486437599924f0fdf1f9e8b",
       "style": "IPY_MODEL_e426227855f8488eafbbcaed190ece43",
       "tooltip": null
      }
     },
     "bea02f182d0546ec8af9e01ed249620a": {
      "model_module": "@jupyter-widgets/controls",
      "model_module_version": "2.0.0",
      "model_name": "ToggleButtonStyleModel",
      "state": {
       "description_width": "",
       "font_family": null,
       "font_size": null,
       "font_style": null,
       "font_variant": null,
       "font_weight": null,
       "text_color": null,
       "text_decoration": null
      }
     },
     "beb871dc00ed4fe5bf9c48569cf5561e": {
      "model_module": "@jupyter-widgets/controls",
      "model_module_version": "2.0.0",
      "model_name": "ToggleButtonModel",
      "state": {
       "button_style": "success",
       "disabled": true,
       "layout": "IPY_MODEL_58452c5b934e45b59b40dbda05b4d47c",
       "style": "IPY_MODEL_372ea085839545e886be0a35056e0872",
       "tooltip": null
      }
     },
     "bec9cb7ca6e245df920fc9ad0a391be2": {
      "model_module": "@jupyter-widgets/controls",
      "model_module_version": "2.0.0",
      "model_name": "ToggleButtonStyleModel",
      "state": {
       "description_width": "",
       "font_family": null,
       "font_size": null,
       "font_style": null,
       "font_variant": null,
       "font_weight": null,
       "text_color": null,
       "text_decoration": null
      }
     },
     "bf12b92e64c94f8e92fb13890164fb62": {
      "model_module": "@jupyter-widgets/controls",
      "model_module_version": "2.0.0",
      "model_name": "ToggleButtonModel",
      "state": {
       "disabled": true,
       "layout": "IPY_MODEL_71aa72a95e2e41c9a92ab500b083f04f",
       "style": "IPY_MODEL_c9766dfa166148a2bf022e4e420e9fb2",
       "tooltip": null
      }
     },
     "bf58c7ed828443a6832d8c8804300950": {
      "model_module": "@jupyter-widgets/controls",
      "model_module_version": "2.0.0",
      "model_name": "ToggleButtonModel",
      "state": {
       "button_style": "success",
       "disabled": true,
       "layout": "IPY_MODEL_3831200db05b4a7986a2bfa009c0e327",
       "style": "IPY_MODEL_9dcf95d781ac40dc9dff42d787798e36",
       "tooltip": null
      }
     },
     "bf607efe9fe3413a9757310981f29ead": {
      "model_module": "@jupyter-widgets/controls",
      "model_module_version": "2.0.0",
      "model_name": "ToggleButtonStyleModel",
      "state": {
       "description_width": "",
       "font_family": null,
       "font_size": null,
       "font_style": null,
       "font_variant": null,
       "font_weight": null,
       "text_color": null,
       "text_decoration": null
      }
     },
     "bfc3fdb10f244d0684b58a4573ba0364": {
      "model_module": "@jupyter-widgets/controls",
      "model_module_version": "2.0.0",
      "model_name": "ToggleButtonStyleModel",
      "state": {
       "description_width": "",
       "font_family": null,
       "font_size": null,
       "font_style": null,
       "font_variant": null,
       "font_weight": null,
       "text_color": null,
       "text_decoration": null
      }
     },
     "c07779827526414ebe2cf7bfc4fe5023": {
      "model_module": "@jupyter-widgets/controls",
      "model_module_version": "2.0.0",
      "model_name": "HBoxModel",
      "state": {
       "children": [
        "IPY_MODEL_e2c3dfd10c1e4e08b5ad2d8d9750be82",
        "IPY_MODEL_2082710b03ea4967a6d3a26ba0b98026",
        "IPY_MODEL_747c78b626de4230b01cd6a0ec85e77a",
        "IPY_MODEL_29af8ef7e8354ed5967dcbe0bbd8a2fa",
        "IPY_MODEL_b7c0e609ecc44a4b8ade1323552a862c",
        "IPY_MODEL_9e7497e5bfc94a9695772b8d36d8bd21",
        "IPY_MODEL_cdf065a09c444b44bc9db132f158529b",
        "IPY_MODEL_07bf17c3ef3c4e8db9a9b78548bfbd42"
       ],
       "layout": "IPY_MODEL_ad1772293c3b4e9b9d942988ab3ec1ae"
      }
     },
     "c096959e949340ea8be666fa4a516167": {
      "model_module": "@jupyter-widgets/controls",
      "model_module_version": "2.0.0",
      "model_name": "ToggleButtonModel",
      "state": {
       "button_style": "success",
       "disabled": true,
       "layout": "IPY_MODEL_cbb007f4b9644615acf96a9592fe5eea",
       "style": "IPY_MODEL_98694e3dfef14527b09446d608c83245",
       "tooltip": null
      }
     },
     "c1204d67eac54df7be3be8f549f335c1": {
      "model_module": "@jupyter-widgets/controls",
      "model_module_version": "2.0.0",
      "model_name": "ToggleButtonStyleModel",
      "state": {
       "description_width": "",
       "font_family": null,
       "font_size": null,
       "font_style": null,
       "font_variant": null,
       "font_weight": null,
       "text_color": null,
       "text_decoration": null
      }
     },
     "c13173b55e304900a2f31cbff5f60d02": {
      "model_module": "@jupyter-widgets/controls",
      "model_module_version": "2.0.0",
      "model_name": "ToggleButtonModel",
      "state": {
       "button_style": "success",
       "disabled": true,
       "layout": "IPY_MODEL_2d2b7c3a0e0b4e2ea0528a045ba78de4",
       "style": "IPY_MODEL_993c263e0a69439baaf606cfc17512b8",
       "tooltip": null
      }
     },
     "c13187f46bbb405aa241a379a09023de": {
      "model_module": "@jupyter-widgets/controls",
      "model_module_version": "2.0.0",
      "model_name": "ToggleButtonStyleModel",
      "state": {
       "description_width": "",
       "font_family": null,
       "font_size": null,
       "font_style": null,
       "font_variant": null,
       "font_weight": null,
       "text_color": null,
       "text_decoration": null
      }
     },
     "c14e967893aa4e0388ce4f5fec988500": {
      "model_module": "@jupyter-widgets/controls",
      "model_module_version": "2.0.0",
      "model_name": "ToggleButtonStyleModel",
      "state": {
       "description_width": "",
       "font_family": null,
       "font_size": null,
       "font_style": null,
       "font_variant": null,
       "font_weight": null,
       "text_color": null,
       "text_decoration": null
      }
     },
     "c1555a575f364c59978759207dca4417": {
      "model_module": "@jupyter-widgets/controls",
      "model_module_version": "2.0.0",
      "model_name": "ToggleButtonModel",
      "state": {
       "description": "Y",
       "layout": "IPY_MODEL_2d2b7c3a0e0b4e2ea0528a045ba78de4",
       "style": "IPY_MODEL_29bc4c42069c422f8cde55c30f6a5ade",
       "tooltip": null
      }
     },
     "c18e8d61af094f39b2954c6081cfbc30": {
      "model_module": "@jupyter-widgets/controls",
      "model_module_version": "2.0.0",
      "model_name": "ToggleButtonModel",
      "state": {
       "button_style": "success",
       "disabled": true,
       "layout": "IPY_MODEL_1984f7edee3c4b9ebcaaf4fd4d1bd535",
       "style": "IPY_MODEL_ef46be4a19ca43dcb4fcfadcaa13564d",
       "tooltip": null
      }
     },
     "c1c9cf256e6b46ab86a65fcec425c8b0": {
      "model_module": "@jupyter-widgets/controls",
      "model_module_version": "2.0.0",
      "model_name": "ToggleButtonStyleModel",
      "state": {
       "description_width": "",
       "font_family": null,
       "font_size": null,
       "font_style": null,
       "font_variant": null,
       "font_weight": null,
       "text_color": null,
       "text_decoration": null
      }
     },
     "c1da18131a094fb3af3c197cbe95fce7": {
      "model_module": "@jupyter-widgets/controls",
      "model_module_version": "2.0.0",
      "model_name": "ToggleButtonModel",
      "state": {
       "button_style": "info",
       "disabled": true,
       "layout": "IPY_MODEL_9c61bb957f7c4a25976dcbd6e83798b8",
       "style": "IPY_MODEL_ba3660ad7b884e9f9593e61174889ccf",
       "tooltip": null
      }
     },
     "c246638bb62b4cad9f3ea1622a846af7": {
      "model_module": "@jupyter-widgets/controls",
      "model_module_version": "2.0.0",
      "model_name": "ToggleButtonStyleModel",
      "state": {
       "description_width": "",
       "font_family": null,
       "font_size": null,
       "font_style": null,
       "font_variant": null,
       "font_weight": null,
       "text_color": null,
       "text_decoration": null
      }
     },
     "c2ac2c2d89e345a5bf4a3318bac58e81": {
      "model_module": "@jupyter-widgets/controls",
      "model_module_version": "2.0.0",
      "model_name": "ToggleButtonModel",
      "state": {
       "button_style": "success",
       "disabled": true,
       "layout": "IPY_MODEL_cbb007f4b9644615acf96a9592fe5eea",
       "style": "IPY_MODEL_ec57339ded204953997db8d6d5d8cab1",
       "tooltip": null
      }
     },
     "c2d8f118c71346d3927f2267833535b5": {
      "model_module": "@jupyter-widgets/controls",
      "model_module_version": "2.0.0",
      "model_name": "ToggleButtonStyleModel",
      "state": {
       "description_width": "",
       "font_family": null,
       "font_size": null,
       "font_style": null,
       "font_variant": null,
       "font_weight": null,
       "text_color": null,
       "text_decoration": null
      }
     },
     "c2e22b9d1ab34ba8a24cc9bf09046556": {
      "model_module": "@jupyter-widgets/controls",
      "model_module_version": "2.0.0",
      "model_name": "ToggleButtonStyleModel",
      "state": {
       "description_width": "",
       "font_family": null,
       "font_size": null,
       "font_style": null,
       "font_variant": null,
       "font_weight": null,
       "text_color": null,
       "text_decoration": null
      }
     },
     "c316ea886815444e994300766ae82c05": {
      "model_module": "@jupyter-widgets/controls",
      "model_module_version": "2.0.0",
      "model_name": "ToggleButtonModel",
      "state": {
       "button_style": "success",
       "disabled": true,
       "layout": "IPY_MODEL_1984f7edee3c4b9ebcaaf4fd4d1bd535",
       "style": "IPY_MODEL_5e13f8ad4edc431087b6ff2bea4cbae5",
       "tooltip": null
      }
     },
     "c323e0177b484347ae674fff467792e3": {
      "model_module": "@jupyter-widgets/controls",
      "model_module_version": "2.0.0",
      "model_name": "ToggleButtonStyleModel",
      "state": {
       "description_width": "",
       "font_family": null,
       "font_size": null,
       "font_style": null,
       "font_variant": null,
       "font_weight": null,
       "text_color": null,
       "text_decoration": null
      }
     },
     "c3335ba2c1ec44048ad5f04e25f59859": {
      "model_module": "@jupyter-widgets/controls",
      "model_module_version": "2.0.0",
      "model_name": "ToggleButtonModel",
      "state": {
       "button_style": "success",
       "disabled": true,
       "layout": "IPY_MODEL_1984f7edee3c4b9ebcaaf4fd4d1bd535",
       "style": "IPY_MODEL_5058a505d52e4070b3238bea5de7932c",
       "tooltip": null
      }
     },
     "c37af468fe4c4508acc0576a6f0f2cbe": {
      "model_module": "@jupyter-widgets/controls",
      "model_module_version": "2.0.0",
      "model_name": "HTMLModel",
      "state": {
       "layout": "IPY_MODEL_6d7e41f477be404988c4a4606e3f5a25",
       "style": "IPY_MODEL_fba15836b9574ad4b06c7063c3d851d7",
       "value": "<p style='font-family: IBM Plex Sans, Arial, Helvetica, sans-serif; font-size: 20px; font-weight: medium;'>Circuit Properties</p>"
      }
     },
     "c39323c037ed4a34b3c25fd403b1a470": {
      "model_module": "@jupyter-widgets/controls",
      "model_module_version": "2.0.0",
      "model_name": "ToggleButtonStyleModel",
      "state": {
       "description_width": "",
       "font_family": null,
       "font_size": null,
       "font_style": null,
       "font_variant": null,
       "font_weight": null,
       "text_color": null,
       "text_decoration": null
      }
     },
     "c396634afe9f4168be555e7a57f91cfb": {
      "model_module": "@jupyter-widgets/controls",
      "model_module_version": "2.0.0",
      "model_name": "ToggleButtonModel",
      "state": {
       "button_style": "success",
       "disabled": true,
       "layout": "IPY_MODEL_9aa0b8d99486437599924f0fdf1f9e8b",
       "style": "IPY_MODEL_c3d350ab911042968a13475b2c5ccead",
       "tooltip": null
      }
     },
     "c3bac75308684f8e9387ef80481e1b7e": {
      "model_module": "@jupyter-widgets/controls",
      "model_module_version": "2.0.0",
      "model_name": "ToggleButtonStyleModel",
      "state": {
       "description_width": "",
       "font_family": null,
       "font_size": null,
       "font_style": null,
       "font_variant": null,
       "font_weight": null,
       "text_color": null,
       "text_decoration": null
      }
     },
     "c3d350ab911042968a13475b2c5ccead": {
      "model_module": "@jupyter-widgets/controls",
      "model_module_version": "2.0.0",
      "model_name": "ToggleButtonStyleModel",
      "state": {
       "description_width": "",
       "font_family": null,
       "font_size": null,
       "font_style": null,
       "font_variant": null,
       "font_weight": null,
       "text_color": null,
       "text_decoration": null
      }
     },
     "c445bdeca63a4c198ac6c563a7aa4313": {
      "model_module": "@jupyter-widgets/controls",
      "model_module_version": "2.0.0",
      "model_name": "ToggleButtonModel",
      "state": {
       "button_style": "success",
       "disabled": true,
       "layout": "IPY_MODEL_2d2b7c3a0e0b4e2ea0528a045ba78de4",
       "style": "IPY_MODEL_8d8b14b9d63f42ce900a44029c639f13",
       "tooltip": null
      }
     },
     "c478adcd2a0544fba4a2e295358b6b83": {
      "model_module": "@jupyter-widgets/controls",
      "model_module_version": "2.0.0",
      "model_name": "ToggleButtonStyleModel",
      "state": {
       "description_width": "",
       "font_family": null,
       "font_size": null,
       "font_style": null,
       "font_variant": null,
       "font_weight": null,
       "text_color": null,
       "text_decoration": null
      }
     },
     "c492f5afeeae4046bd56b7864fa3d67e": {
      "model_module": "@jupyter-widgets/controls",
      "model_module_version": "2.0.0",
      "model_name": "ToggleButtonStyleModel",
      "state": {
       "description_width": "",
       "font_family": null,
       "font_size": null,
       "font_style": null,
       "font_variant": null,
       "font_weight": null,
       "text_color": null,
       "text_decoration": null
      }
     },
     "c4d287d55f474b20ad6261486372a421": {
      "model_module": "@jupyter-widgets/controls",
      "model_module_version": "2.0.0",
      "model_name": "ToggleButtonModel",
      "state": {
       "button_style": "success",
       "disabled": true,
       "layout": "IPY_MODEL_cbb007f4b9644615acf96a9592fe5eea",
       "style": "IPY_MODEL_6da11fa513cf4eda9e2371b287691f40",
       "tooltip": null
      }
     },
     "c51b70ea1da14dadb3f13b8a8e2a4ee7": {
      "model_module": "@jupyter-widgets/controls",
      "model_module_version": "2.0.0",
      "model_name": "ToggleButtonStyleModel",
      "state": {
       "description_width": "",
       "font_family": null,
       "font_size": null,
       "font_style": null,
       "font_variant": null,
       "font_weight": null,
       "text_color": null,
       "text_decoration": null
      }
     },
     "c51c893214e84b8aaa92770113ef9d95": {
      "model_module": "@jupyter-widgets/controls",
      "model_module_version": "2.0.0",
      "model_name": "ToggleButtonStyleModel",
      "state": {
       "description_width": "",
       "font_family": null,
       "font_size": null,
       "font_style": null,
       "font_variant": null,
       "font_weight": null,
       "text_color": null,
       "text_decoration": null
      }
     },
     "c560b6443beb484eb7a5fe8ee4952d1e": {
      "model_module": "@jupyter-widgets/controls",
      "model_module_version": "2.0.0",
      "model_name": "ToggleButtonStyleModel",
      "state": {
       "description_width": "",
       "font_family": null,
       "font_size": null,
       "font_style": null,
       "font_variant": null,
       "font_weight": null,
       "text_color": null,
       "text_decoration": null
      }
     },
     "c576b2ed29054b48a1e598e4313c3184": {
      "model_module": "@jupyter-widgets/controls",
      "model_module_version": "2.0.0",
      "model_name": "ToggleButtonModel",
      "state": {
       "button_style": "success",
       "disabled": true,
       "layout": "IPY_MODEL_1984f7edee3c4b9ebcaaf4fd4d1bd535",
       "style": "IPY_MODEL_82c555f7a43c4e33b9994c4cc9ca5e39",
       "tooltip": null
      }
     },
     "c648fa74def64a43a29d29c8347c3f08": {
      "model_module": "@jupyter-widgets/controls",
      "model_module_version": "2.0.0",
      "model_name": "ToggleButtonModel",
      "state": {
       "button_style": "success",
       "disabled": true,
       "layout": "IPY_MODEL_9aa0b8d99486437599924f0fdf1f9e8b",
       "style": "IPY_MODEL_0b1a7d4293a441e0956c04f7d618302a",
       "tooltip": null
      }
     },
     "c65147a7918a46f2ac9cdfd2ea07cd1c": {
      "model_module": "@jupyter-widgets/base",
      "model_module_version": "2.0.0",
      "model_name": "LayoutModel",
      "state": {
       "height": "50px",
       "width": "374px"
      }
     },
     "c662ebb4a957480ca75ee2e9ff8bd0f3": {
      "model_module": "@jupyter-widgets/controls",
      "model_module_version": "2.0.0",
      "model_name": "ToggleButtonModel",
      "state": {
       "button_style": "danger",
       "disabled": true,
       "layout": "IPY_MODEL_9aa0b8d99486437599924f0fdf1f9e8b",
       "style": "IPY_MODEL_946691db68a24c9f95b411a69af54d22",
       "tooltip": null
      }
     },
     "c6bf728c7aed47e898633ebc0dd22439": {
      "model_module": "@jupyter-widgets/controls",
      "model_module_version": "2.0.0",
      "model_name": "ToggleButtonStyleModel",
      "state": {
       "description_width": "",
       "font_family": null,
       "font_size": null,
       "font_style": null,
       "font_variant": null,
       "font_weight": null,
       "text_color": null,
       "text_decoration": null
      }
     },
     "c6f301825066416e85bec575dfb066af": {
      "model_module": "@jupyter-widgets/controls",
      "model_module_version": "2.0.0",
      "model_name": "ToggleButtonModel",
      "state": {
       "button_style": "info",
       "disabled": true,
       "layout": "IPY_MODEL_9c61bb957f7c4a25976dcbd6e83798b8",
       "style": "IPY_MODEL_94211d44c1dd49fa8c5bc0212136617b",
       "tooltip": null
      }
     },
     "c74cef8602ae4d71a182d870f434207e": {
      "model_module": "@jupyter-widgets/controls",
      "model_module_version": "2.0.0",
      "model_name": "ToggleButtonModel",
      "state": {
       "button_style": "success",
       "disabled": true,
       "layout": "IPY_MODEL_2d2b7c3a0e0b4e2ea0528a045ba78de4",
       "style": "IPY_MODEL_7f4edc52f4b340129b2945216efd11a1",
       "tooltip": null
      }
     },
     "c784d2c45de34abe8af284d8e4584a30": {
      "model_module": "@jupyter-widgets/controls",
      "model_module_version": "2.0.0",
      "model_name": "ToggleButtonStyleModel",
      "state": {
       "description_width": "",
       "font_family": null,
       "font_size": null,
       "font_style": null,
       "font_variant": null,
       "font_weight": null,
       "text_color": null,
       "text_decoration": null
      }
     },
     "c790119f39814f3088ab7b822f1cfe93": {
      "model_module": "@jupyter-widgets/controls",
      "model_module_version": "2.0.0",
      "model_name": "ToggleButtonModel",
      "state": {
       "button_style": "success",
       "disabled": true,
       "layout": "IPY_MODEL_8d696421995345d1b22a15e63c05a8e0",
       "style": "IPY_MODEL_b5498cee5eea46da87f8ec41382170b6",
       "tooltip": null
      }
     },
     "c7ce599b6e1f4ad0a2e575f75107bef8": {
      "model_module": "@jupyter-widgets/controls",
      "model_module_version": "2.0.0",
      "model_name": "ToggleButtonStyleModel",
      "state": {
       "description_width": "",
       "font_family": null,
       "font_size": null,
       "font_style": null,
       "font_variant": null,
       "font_weight": null,
       "text_color": null,
       "text_decoration": null
      }
     },
     "c7e3748ecd974f518963e2af45a86a24": {
      "model_module": "@jupyter-widgets/controls",
      "model_module_version": "2.0.0",
      "model_name": "ToggleButtonModel",
      "state": {
       "button_style": "success",
       "disabled": true,
       "layout": "IPY_MODEL_9aa0b8d99486437599924f0fdf1f9e8b",
       "style": "IPY_MODEL_835c703d6b2d4b25a798e0d9e77ee851",
       "tooltip": null
      }
     },
     "c8053740d09c4e7ca3287251b7eeed44": {
      "model_module": "@jupyter-widgets/controls",
      "model_module_version": "2.0.0",
      "model_name": "ToggleButtonModel",
      "state": {
       "description": "◀︎",
       "layout": "IPY_MODEL_3831200db05b4a7986a2bfa009c0e327",
       "style": "IPY_MODEL_7c8febabfbf2447e9e5673ba034dc63f",
       "tooltip": null
      }
     },
     "c81521321be34548a69215e61435cb9e": {
      "model_module": "@jupyter-widgets/base",
      "model_module_version": "2.0.0",
      "model_name": "LayoutModel",
      "state": {}
     },
     "c81581a06e6249268c74c61632d2fefb": {
      "model_module": "@jupyter-widgets/controls",
      "model_module_version": "2.0.0",
      "model_name": "HBoxModel",
      "state": {
       "children": [
        "IPY_MODEL_e6a403508d5b44e897d70c6a81a9767e",
        "IPY_MODEL_2c0e91d30f84428c864449d624732ee4",
        "IPY_MODEL_dbb8287be9874f6f863bcc86418d31e3",
        "IPY_MODEL_5825504d005545a099860963172aec41",
        "IPY_MODEL_e2898c1f092c406a8c234e6c187a14d1",
        "IPY_MODEL_dfb3491569264ed0acefca453e27facd",
        "IPY_MODEL_97c68991bd0b48429f91554670508ed8",
        "IPY_MODEL_449de879fd6646af9d43afe92c214d82",
        "IPY_MODEL_94cc6767a7e8447e885f233f3e4b71ae",
        "IPY_MODEL_43c35470f5614756991770f55ac3cae0",
        "IPY_MODEL_94cc6767a7e8447e885f233f3e4b71ae",
        "IPY_MODEL_94cc6767a7e8447e885f233f3e4b71ae",
        "IPY_MODEL_94cc6767a7e8447e885f233f3e4b71ae",
        "IPY_MODEL_37f85f4a43de4dba8f0d51b3cbb07224",
        "IPY_MODEL_94cc6767a7e8447e885f233f3e4b71ae"
       ],
       "layout": "IPY_MODEL_31e88e3384fb4c929c10502d6e28043a"
      }
     },
     "c85f5d7aa1ee492a8dbc45f6b322e546": {
      "model_module": "@jupyter-widgets/controls",
      "model_module_version": "2.0.0",
      "model_name": "ToggleButtonModel",
      "state": {
       "description": "A",
       "layout": "IPY_MODEL_8d696421995345d1b22a15e63c05a8e0",
       "style": "IPY_MODEL_8937f5209ea247919b36697a021dee7c",
       "tooltip": null
      }
     },
     "c8f58130227b49ebb1f29fab3deee9ba": {
      "model_module": "@jupyter-widgets/controls",
      "model_module_version": "2.0.0",
      "model_name": "HBoxModel",
      "state": {
       "children": [
        "IPY_MODEL_705a906c03364d079a1c621bf6f3af09",
        "IPY_MODEL_e8b71edd205c468d95e9faf02d482a17",
        "IPY_MODEL_3edf2cde991a4e9794d9485122597d9f",
        "IPY_MODEL_77026b29f9304f9ba6facf0904702b89",
        "IPY_MODEL_9a598fd95d484966bd494ff24c8a3483",
        "IPY_MODEL_9ec4efced0ae4de28af8a6d2c0aac8ef",
        "IPY_MODEL_938c2fb2313148d281505691d82e885b",
        "IPY_MODEL_ef969bdd13474260aa3f6633fab7e0cb"
       ],
       "layout": "IPY_MODEL_90bec0a447d6485faf9bb2b39254774e"
      }
     },
     "c8fc389b704549d89ec0a0e4430b0f45": {
      "model_module": "@jupyter-widgets/controls",
      "model_module_version": "2.0.0",
      "model_name": "ToggleButtonModel",
      "state": {
       "button_style": "info",
       "disabled": true,
       "layout": "IPY_MODEL_9c61bb957f7c4a25976dcbd6e83798b8",
       "style": "IPY_MODEL_af10ad40eda8418abea559fc3c0c0594",
       "tooltip": null
      }
     },
     "c908da19a729482688f301d20649d9ef": {
      "model_module": "@jupyter-widgets/controls",
      "model_module_version": "2.0.0",
      "model_name": "ToggleButtonStyleModel",
      "state": {
       "description_width": "",
       "font_family": null,
       "font_size": null,
       "font_style": null,
       "font_variant": null,
       "font_weight": null,
       "text_color": null,
       "text_decoration": null
      }
     },
     "c922666bd8274cf087dbb2920c573f75": {
      "model_module": "@jupyter-widgets/controls",
      "model_module_version": "2.0.0",
      "model_name": "HBoxModel",
      "state": {
       "children": [
        "IPY_MODEL_5dbfac0e46a94500b46364f75b7f86f6",
        "IPY_MODEL_61cdbaf88cc444d3a39001c2a263aa47",
        "IPY_MODEL_61f3e770e2f7463693308b231ccc74c8",
        "IPY_MODEL_6694c52f52194b81b15e85b277e0c551",
        "IPY_MODEL_c7e3748ecd974f518963e2af45a86a24",
        "IPY_MODEL_f80c9e64b8264c2d84d043cb33b1fd49",
        "IPY_MODEL_f149ebd410a94f07bfb1cd3f800d941e",
        "IPY_MODEL_7402ec049cf048c499065342d8d915e7"
       ],
       "layout": "IPY_MODEL_a540c165ba024d5d80650dd982e41c6b"
      }
     },
     "c9730a202c7b459aab5360dc97880d22": {
      "model_module": "@jupyter-widgets/controls",
      "model_module_version": "2.0.0",
      "model_name": "ToggleButtonStyleModel",
      "state": {
       "description_width": "",
       "font_family": null,
       "font_size": null,
       "font_style": null,
       "font_variant": null,
       "font_weight": null,
       "text_color": null,
       "text_decoration": null
      }
     },
     "c9766dfa166148a2bf022e4e420e9fb2": {
      "model_module": "@jupyter-widgets/controls",
      "model_module_version": "2.0.0",
      "model_name": "ToggleButtonStyleModel",
      "state": {
       "description_width": "",
       "font_family": null,
       "font_size": null,
       "font_style": null,
       "font_variant": null,
       "font_weight": null,
       "text_color": null,
       "text_decoration": null
      }
     },
     "c97fa9ff581c429692a240146d77a7e7": {
      "model_module": "@jupyter-widgets/base",
      "model_module_version": "2.0.0",
      "model_name": "LayoutModel",
      "state": {}
     },
     "c9a2185dfccb4d45ab6a6b5166af8331": {
      "model_module": "@jupyter-widgets/controls",
      "model_module_version": "2.0.0",
      "model_name": "ToggleButtonModel",
      "state": {
       "button_style": "success",
       "disabled": true,
       "layout": "IPY_MODEL_8d696421995345d1b22a15e63c05a8e0",
       "style": "IPY_MODEL_9bf42d54ec8f4e0ba251b8a33b843969",
       "tooltip": null
      }
     },
     "c9afcb7ae46d4ebbbc60312a635e00f9": {
      "model_module": "@jupyter-widgets/controls",
      "model_module_version": "2.0.0",
      "model_name": "ToggleButtonStyleModel",
      "state": {
       "description_width": "",
       "font_family": null,
       "font_size": null,
       "font_style": null,
       "font_variant": null,
       "font_weight": null,
       "text_color": null,
       "text_decoration": null
      }
     },
     "c9d0587a4a3344a1ae09f0bfed5dce47": {
      "model_module": "@jupyter-widgets/controls",
      "model_module_version": "2.0.0",
      "model_name": "ToggleButtonStyleModel",
      "state": {
       "description_width": "",
       "font_family": null,
       "font_size": null,
       "font_style": null,
       "font_variant": null,
       "font_weight": null,
       "text_color": null,
       "text_decoration": null
      }
     },
     "c9d79ccaac244983ad14e09c8a4b371e": {
      "model_module": "@jupyter-widgets/controls",
      "model_module_version": "2.0.0",
      "model_name": "ToggleButtonStyleModel",
      "state": {
       "description_width": "",
       "font_family": null,
       "font_size": null,
       "font_style": null,
       "font_variant": null,
       "font_weight": null,
       "text_color": null,
       "text_decoration": null
      }
     },
     "ca65b3b244bc47a5a0ea4db5f4d127d6": {
      "model_module": "@jupyter-widgets/controls",
      "model_module_version": "2.0.0",
      "model_name": "HBoxModel",
      "state": {
       "children": [
        "IPY_MODEL_3b21504aba0a4c278996ae2c16387c35",
        "IPY_MODEL_cb6fa4367f704bd5854b2d35ce1de88e",
        "IPY_MODEL_85c78b5e82bd4443bb00aaffc7a98123",
        "IPY_MODEL_c576b2ed29054b48a1e598e4313c3184",
        "IPY_MODEL_754d940d58674a1c845c4f6f0affe141",
        "IPY_MODEL_48922e7a670f47ae8acdd5d5a5ac9739",
        "IPY_MODEL_cbd8f9d88b1c47ed9652e423282a13fc",
        "IPY_MODEL_52ecb97f2e6249dfa32b3115530195d2",
        "IPY_MODEL_6c38dda9e7114d6987173d72b4e5a310"
       ],
       "layout": "IPY_MODEL_3bfee30d8f854448bcd456634483af08"
      }
     },
     "ca9ed599ef264c3aaeeab7a26c032f29": {
      "model_module": "@jupyter-widgets/controls",
      "model_module_version": "2.0.0",
      "model_name": "ToggleButtonStyleModel",
      "state": {
       "description_width": "",
       "font_family": null,
       "font_size": null,
       "font_style": null,
       "font_variant": null,
       "font_weight": null,
       "text_color": null,
       "text_decoration": null
      }
     },
     "cac3c0147a114b61b6a002ec28a585b1": {
      "model_module": "@jupyter-widgets/controls",
      "model_module_version": "2.0.0",
      "model_name": "ToggleButtonStyleModel",
      "state": {
       "description_width": "",
       "font_family": null,
       "font_size": null,
       "font_style": null,
       "font_variant": null,
       "font_weight": null,
       "text_color": null,
       "text_decoration": null
      }
     },
     "cb6fa4367f704bd5854b2d35ce1de88e": {
      "model_module": "@jupyter-widgets/controls",
      "model_module_version": "2.0.0",
      "model_name": "ToggleButtonModel",
      "state": {
       "button_style": "success",
       "disabled": true,
       "layout": "IPY_MODEL_1984f7edee3c4b9ebcaaf4fd4d1bd535",
       "style": "IPY_MODEL_44093116289d40029766e3308f665341",
       "tooltip": null
      }
     },
     "cbb007f4b9644615acf96a9592fe5eea": {
      "model_module": "@jupyter-widgets/base",
      "model_module_version": "2.0.0",
      "model_name": "LayoutModel",
      "state": {
       "height": "50px",
       "width": "50px"
      }
     },
     "cbb6c2b9425a4b2890e261d7b4e8f702": {
      "model_module": "@jupyter-widgets/controls",
      "model_module_version": "2.0.0",
      "model_name": "ToggleButtonStyleModel",
      "state": {
       "description_width": "",
       "font_family": null,
       "font_size": null,
       "font_style": null,
       "font_variant": null,
       "font_weight": null,
       "text_color": null,
       "text_decoration": null
      }
     },
     "cbd8f9d88b1c47ed9652e423282a13fc": {
      "model_module": "@jupyter-widgets/controls",
      "model_module_version": "2.0.0",
      "model_name": "ToggleButtonModel",
      "state": {
       "button_style": "success",
       "disabled": true,
       "layout": "IPY_MODEL_1984f7edee3c4b9ebcaaf4fd4d1bd535",
       "style": "IPY_MODEL_798377a3b2454909a182bb4c48ac8024",
       "tooltip": null
      }
     },
     "cbd9d6c2fb874e7babdfe2976217475f": {
      "model_module": "@jupyter-widgets/controls",
      "model_module_version": "2.0.0",
      "model_name": "ToggleButtonStyleModel",
      "state": {
       "description_width": "",
       "font_family": null,
       "font_size": null,
       "font_style": null,
       "font_variant": null,
       "font_weight": null,
       "text_color": null,
       "text_decoration": null
      }
     },
     "cc198312b0144382949866fa88441c78": {
      "model_module": "@jupyter-widgets/controls",
      "model_module_version": "2.0.0",
      "model_name": "ToggleButtonModel",
      "state": {
       "description": "X",
       "layout": "IPY_MODEL_8d696421995345d1b22a15e63c05a8e0",
       "style": "IPY_MODEL_0ddfc9cf29f44e89828cbcbad855ea26",
       "tooltip": null
      }
     },
     "cc2d55953eba4684b657cd6777db8a8d": {
      "model_module": "@jupyter-widgets/controls",
      "model_module_version": "2.0.0",
      "model_name": "ToggleButtonStyleModel",
      "state": {
       "description_width": "",
       "font_family": null,
       "font_size": null,
       "font_style": null,
       "font_variant": null,
       "font_weight": null,
       "text_color": null,
       "text_decoration": null
      }
     },
     "cc5a188773614b2db8163323d80b4ca5": {
      "model_module": "@jupyter-widgets/controls",
      "model_module_version": "2.0.0",
      "model_name": "ToggleButtonModel",
      "state": {
       "button_style": "success",
       "disabled": true,
       "layout": "IPY_MODEL_cbb007f4b9644615acf96a9592fe5eea",
       "style": "IPY_MODEL_3c07e802525349aeb65ea8e42e5aaacc",
       "tooltip": null
      }
     },
     "cc5ff37079484eeba866e3b40f065456": {
      "model_module": "@jupyter-widgets/controls",
      "model_module_version": "2.0.0",
      "model_name": "ToggleButtonStyleModel",
      "state": {
       "description_width": "",
       "font_family": null,
       "font_size": null,
       "font_style": null,
       "font_variant": null,
       "font_weight": null,
       "text_color": null,
       "text_decoration": null
      }
     },
     "ccf93261fd65455eb98e1c3ad6307b05": {
      "model_module": "@jupyter-widgets/controls",
      "model_module_version": "2.0.0",
      "model_name": "ToggleButtonStyleModel",
      "state": {
       "description_width": "",
       "font_family": null,
       "font_size": null,
       "font_style": null,
       "font_variant": null,
       "font_weight": null,
       "text_color": null,
       "text_decoration": null
      }
     },
     "cd5d65c28ee24fb6b5f733a7a25bf3d8": {
      "model_module": "@jupyter-widgets/controls",
      "model_module_version": "2.0.0",
      "model_name": "ToggleButtonStyleModel",
      "state": {
       "description_width": "",
       "font_family": null,
       "font_size": null,
       "font_style": null,
       "font_variant": null,
       "font_weight": null,
       "text_color": null,
       "text_decoration": null
      }
     },
     "cdc69b3216104576a22af5e47ca592b0": {
      "model_module": "@jupyter-widgets/controls",
      "model_module_version": "2.0.0",
      "model_name": "ToggleButtonStyleModel",
      "state": {
       "description_width": "",
       "font_family": null,
       "font_size": null,
       "font_style": null,
       "font_variant": null,
       "font_weight": null,
       "text_color": null,
       "text_decoration": null
      }
     },
     "cdf065a09c444b44bc9db132f158529b": {
      "model_module": "@jupyter-widgets/controls",
      "model_module_version": "2.0.0",
      "model_name": "ToggleButtonModel",
      "state": {
       "button_style": "success",
       "disabled": true,
       "layout": "IPY_MODEL_cbb007f4b9644615acf96a9592fe5eea",
       "style": "IPY_MODEL_f874368dd7c14ded903482c20cccce78",
       "tooltip": null
      }
     },
     "cdf3b264cd8842d3a07ebd10835f6f98": {
      "model_module": "@jupyter-widgets/controls",
      "model_module_version": "2.0.0",
      "model_name": "ToggleButtonStyleModel",
      "state": {
       "description_width": "",
       "font_family": null,
       "font_size": null,
       "font_style": null,
       "font_variant": null,
       "font_weight": null,
       "text_color": null,
       "text_decoration": null
      }
     },
     "ce577c3bddeb4fbc84efbc4b6b6c1cf9": {
      "model_module": "@jupyter-widgets/controls",
      "model_module_version": "2.0.0",
      "model_name": "ToggleButtonModel",
      "state": {
       "button_style": "success",
       "disabled": true,
       "layout": "IPY_MODEL_58452c5b934e45b59b40dbda05b4d47c",
       "style": "IPY_MODEL_3b0f7746d292464082528a3d1bacfc56",
       "tooltip": null
      }
     },
     "ce7359283b774f79a9b82a2c543521f6": {
      "model_module": "@jupyter-widgets/controls",
      "model_module_version": "2.0.0",
      "model_name": "ToggleButtonStyleModel",
      "state": {
       "description_width": "",
       "font_family": null,
       "font_size": null,
       "font_style": null,
       "font_variant": null,
       "font_weight": null,
       "text_color": null,
       "text_decoration": null
      }
     },
     "cee1929035d1433f88a0fd6edb5e22ac": {
      "model_module": "@jupyter-widgets/controls",
      "model_module_version": "2.0.0",
      "model_name": "ToggleButtonModel",
      "state": {
       "description": "▼",
       "layout": "IPY_MODEL_58452c5b934e45b59b40dbda05b4d47c",
       "style": "IPY_MODEL_63b923e0186148a2a9d829e18f101023",
       "tooltip": null
      }
     },
     "cf1e1d5a5d834569928dbf043570c25a": {
      "model_module": "@jupyter-widgets/controls",
      "model_module_version": "2.0.0",
      "model_name": "ToggleButtonStyleModel",
      "state": {
       "description_width": "",
       "font_family": null,
       "font_size": null,
       "font_style": null,
       "font_variant": null,
       "font_weight": null,
       "text_color": null,
       "text_decoration": null
      }
     },
     "cf3b3da1c7584974969527b5bac6246d": {
      "model_module": "@jupyter-widgets/controls",
      "model_module_version": "2.0.0",
      "model_name": "ToggleButtonStyleModel",
      "state": {
       "description_width": "",
       "font_family": null,
       "font_size": null,
       "font_style": null,
       "font_variant": null,
       "font_weight": null,
       "text_color": null,
       "text_decoration": null
      }
     },
     "cf42fc55597b4474811e644b57ee37fa": {
      "model_module": "@jupyter-widgets/controls",
      "model_module_version": "2.0.0",
      "model_name": "ToggleButtonStyleModel",
      "state": {
       "description_width": "",
       "font_family": null,
       "font_size": null,
       "font_style": null,
       "font_variant": null,
       "font_weight": null,
       "text_color": null,
       "text_decoration": null
      }
     },
     "cf7919cd0afb4f2f95a00bf2ccdada2d": {
      "model_module": "@jupyter-widgets/controls",
      "model_module_version": "2.0.0",
      "model_name": "HBoxModel",
      "state": {
       "children": [
        "IPY_MODEL_ea9468b950db40478dbc75043c1e4058",
        "IPY_MODEL_69e3ae282c5d4b539a6326d9cae35b02",
        "IPY_MODEL_01c872a792b34700a76870fda7241e51",
        "IPY_MODEL_3b6bc8ee3cfb4f8b9f36df2325f9fc2b",
        "IPY_MODEL_08f8dd32c3d24de299dddff6bb14ff49",
        "IPY_MODEL_8227c6feadca4fc398904e34e7f84620",
        "IPY_MODEL_5ae934df6aa14479b678ca2aa383cefd",
        "IPY_MODEL_829cc86f5f304a30aa376428fc22d612",
        "IPY_MODEL_fc3df57c86cf443fa4c41f882d98fa5e",
        "IPY_MODEL_099f1a15dcbd4c9e89c9da21839b726f",
        "IPY_MODEL_077c4a3d99634538ab0f3c5f2465168e",
        "IPY_MODEL_099f1a15dcbd4c9e89c9da21839b726f",
        "IPY_MODEL_821cef7e986f4ff28656db025407113e",
        "IPY_MODEL_099f1a15dcbd4c9e89c9da21839b726f",
        "IPY_MODEL_fc6b06d905144dce88cd10467c4da358"
       ],
       "layout": "IPY_MODEL_55228eff705e418b8327c0df99e92be3"
      }
     },
     "cff372147a204ca4b915ba6776f4bb43": {
      "model_module": "@jupyter-widgets/controls",
      "model_module_version": "2.0.0",
      "model_name": "ToggleButtonModel",
      "state": {
       "button_style": "success",
       "disabled": true,
       "layout": "IPY_MODEL_1984f7edee3c4b9ebcaaf4fd4d1bd535",
       "style": "IPY_MODEL_a3f99aa80e2e4fed982585c3ecff2920",
       "tooltip": null
      }
     },
     "d02a246292fa4303b550e9d557d4188c": {
      "model_module": "@jupyter-widgets/controls",
      "model_module_version": "2.0.0",
      "model_name": "ToggleButtonStyleModel",
      "state": {
       "description_width": "",
       "font_family": null,
       "font_size": null,
       "font_style": null,
       "font_variant": null,
       "font_weight": null,
       "text_color": null,
       "text_decoration": null
      }
     },
     "d06925a69afa44a9a26e90b64e4b216f": {
      "model_module": "@jupyter-widgets/base",
      "model_module_version": "2.0.0",
      "model_name": "LayoutModel",
      "state": {
       "height": "50px",
       "width": "428px"
      }
     },
     "d081d78dd3974c01831c62afb5e6ac11": {
      "model_module": "@jupyter-widgets/controls",
      "model_module_version": "2.0.0",
      "model_name": "ToggleButtonStyleModel",
      "state": {
       "description_width": "",
       "font_family": null,
       "font_size": null,
       "font_style": null,
       "font_variant": null,
       "font_weight": null,
       "text_color": null,
       "text_decoration": null
      }
     },
     "d090df71b2124442bafc515f21911df7": {
      "model_module": "@jupyter-widgets/controls",
      "model_module_version": "2.0.0",
      "model_name": "ToggleButtonStyleModel",
      "state": {
       "description_width": "",
       "font_family": null,
       "font_size": null,
       "font_style": null,
       "font_variant": null,
       "font_weight": null,
       "text_color": null,
       "text_decoration": null
      }
     },
     "d09bd34070554ec484c3c143287cbdf7": {
      "model_module": "@jupyter-widgets/base",
      "model_module_version": "2.0.0",
      "model_name": "LayoutModel",
      "state": {}
     },
     "d0a9f8526b024d7496296655166702be": {
      "model_module": "@jupyter-widgets/controls",
      "model_module_version": "2.0.0",
      "model_name": "ToggleButtonStyleModel",
      "state": {
       "description_width": "",
       "font_family": null,
       "font_size": null,
       "font_style": null,
       "font_variant": null,
       "font_weight": null,
       "text_color": null,
       "text_decoration": null
      }
     },
     "d0ba03e59a7746b29be13ef77dbb14ea": {
      "model_module": "@jupyter-widgets/controls",
      "model_module_version": "2.0.0",
      "model_name": "ToggleButtonModel",
      "state": {
       "button_style": "success",
       "disabled": true,
       "layout": "IPY_MODEL_1984f7edee3c4b9ebcaaf4fd4d1bd535",
       "style": "IPY_MODEL_4a7c988806e34e3cb788a17980527a52",
       "tooltip": null
      }
     },
     "d0ec1f2bd7104ecab8f192354812bc69": {
      "model_module": "@jupyter-widgets/controls",
      "model_module_version": "2.0.0",
      "model_name": "ToggleButtonModel",
      "state": {
       "button_style": "success",
       "disabled": true,
       "layout": "IPY_MODEL_1984f7edee3c4b9ebcaaf4fd4d1bd535",
       "style": "IPY_MODEL_3be213ae6501428ba8dcc020ae95ab3a",
       "tooltip": null
      }
     },
     "d153001ad6de490aa90fca4a07425d74": {
      "model_module": "@jupyter-widgets/controls",
      "model_module_version": "2.0.0",
      "model_name": "ToggleButtonModel",
      "state": {
       "button_style": "success",
       "disabled": true,
       "layout": "IPY_MODEL_9aa0b8d99486437599924f0fdf1f9e8b",
       "style": "IPY_MODEL_e5807dad71224c13912738483007fb26",
       "tooltip": null
      }
     },
     "d1950115bb9740248e5c3b926ecd91f6": {
      "model_module": "@jupyter-widgets/controls",
      "model_module_version": "2.0.0",
      "model_name": "ToggleButtonModel",
      "state": {
       "button_style": "success",
       "disabled": true,
       "layout": "IPY_MODEL_1984f7edee3c4b9ebcaaf4fd4d1bd535",
       "style": "IPY_MODEL_683361e75587406f80fe5544045c0060",
       "tooltip": null
      }
     },
     "d1bd4534b6b949fa9087c3dbf955b237": {
      "model_module": "@jupyter-widgets/controls",
      "model_module_version": "2.0.0",
      "model_name": "ToggleButtonModel",
      "state": {
       "button_style": "success",
       "disabled": true,
       "layout": "IPY_MODEL_cbb007f4b9644615acf96a9592fe5eea",
       "style": "IPY_MODEL_e0a15490752843148ae681896880358b",
       "tooltip": null
      }
     },
     "d1f0f42352be4a4ba315e061759435c9": {
      "model_module": "@jupyter-widgets/controls",
      "model_module_version": "2.0.0",
      "model_name": "ToggleButtonStyleModel",
      "state": {
       "description_width": "",
       "font_family": null,
       "font_size": null,
       "font_style": null,
       "font_variant": null,
       "font_weight": null,
       "text_color": null,
       "text_decoration": null
      }
     },
     "d22031851e2d44af80eafb0d842954d0": {
      "model_module": "@jupyter-widgets/controls",
      "model_module_version": "2.0.0",
      "model_name": "ToggleButtonModel",
      "state": {
       "description": "X",
       "layout": "IPY_MODEL_1984f7edee3c4b9ebcaaf4fd4d1bd535",
       "style": "IPY_MODEL_3ada8f796cd84e1fbc26d26ed1c17c4b",
       "tooltip": null
      }
     },
     "d2730f2c30084f08930ae8a6e049af33": {
      "model_module": "@jupyter-widgets/controls",
      "model_module_version": "2.0.0",
      "model_name": "ToggleButtonStyleModel",
      "state": {
       "description_width": "",
       "font_family": null,
       "font_size": null,
       "font_style": null,
       "font_variant": null,
       "font_weight": null,
       "text_color": null,
       "text_decoration": null
      }
     },
     "d2a9fc5d4a594e77a7cb8ea30fab5827": {
      "model_module": "@jupyter-widgets/controls",
      "model_module_version": "2.0.0",
      "model_name": "ToggleButtonStyleModel",
      "state": {
       "description_width": "",
       "font_family": null,
       "font_size": null,
       "font_style": null,
       "font_variant": null,
       "font_weight": null,
       "text_color": null,
       "text_decoration": null
      }
     },
     "d2e93364caba41519092a2ade7936a90": {
      "model_module": "@jupyter-widgets/controls",
      "model_module_version": "2.0.0",
      "model_name": "ToggleButtonModel",
      "state": {
       "button_style": "success",
       "disabled": true,
       "layout": "IPY_MODEL_2d2b7c3a0e0b4e2ea0528a045ba78de4",
       "style": "IPY_MODEL_1c66bb31acd74b3a956f1b504993c9aa",
       "tooltip": null
      }
     },
     "d32dd8c6b6be4151b579a25ab5f7f6c8": {
      "model_module": "@jupyter-widgets/controls",
      "model_module_version": "2.0.0",
      "model_name": "ToggleButtonModel",
      "state": {
       "button_style": "success",
       "disabled": true,
       "layout": "IPY_MODEL_58452c5b934e45b59b40dbda05b4d47c",
       "style": "IPY_MODEL_94c2a2654b88474b9762e0f36eb24e97",
       "tooltip": null
      }
     },
     "d37302602aea4d4c9aeedbce6794f418": {
      "model_module": "@jupyter-widgets/controls",
      "model_module_version": "2.0.0",
      "model_name": "ToggleButtonStyleModel",
      "state": {
       "description_width": "",
       "font_family": null,
       "font_size": null,
       "font_style": null,
       "font_variant": null,
       "font_weight": null,
       "text_color": null,
       "text_decoration": null
      }
     },
     "d37afe6f5f09497896484075edca65a1": {
      "model_module": "@jupyter-widgets/controls",
      "model_module_version": "2.0.0",
      "model_name": "ToggleButtonModel",
      "state": {
       "button_style": "success",
       "disabled": true,
       "layout": "IPY_MODEL_2d2b7c3a0e0b4e2ea0528a045ba78de4",
       "style": "IPY_MODEL_409da643e6b84f4fa3ce57c9184a2e2e",
       "tooltip": null
      }
     },
     "d38187e8bd6a4faf9622624db314667d": {
      "model_module": "@jupyter-widgets/controls",
      "model_module_version": "2.0.0",
      "model_name": "ToggleButtonModel",
      "state": {
       "button_style": "success",
       "disabled": true,
       "layout": "IPY_MODEL_cbb007f4b9644615acf96a9592fe5eea",
       "style": "IPY_MODEL_c9d79ccaac244983ad14e09c8a4b371e",
       "tooltip": null
      }
     },
     "d3ad5688b14c469fac9d4d201123eccc": {
      "model_module": "@jupyter-widgets/controls",
      "model_module_version": "2.0.0",
      "model_name": "HBoxModel",
      "state": {
       "children": [
        "IPY_MODEL_95f5840ae74849f79a69e02ff3dad0e2",
        "IPY_MODEL_76b7d1af79c840f88fbfd09f52c2beab",
        "IPY_MODEL_3934f2bde4774eed9520dfd9be93cbd5",
        "IPY_MODEL_dc8e7056b18345edbe7b1346fc1fa372",
        "IPY_MODEL_c3335ba2c1ec44048ad5f04e25f59859",
        "IPY_MODEL_450eb5742dce403fa13e32fe666aa9c6",
        "IPY_MODEL_d657c3ac821c423dba6f79bf341f79cb",
        "IPY_MODEL_cff372147a204ca4b915ba6776f4bb43",
        "IPY_MODEL_297383aab02b4defa09a679933abab3a",
        "IPY_MODEL_ed9bc52f6b97413cbb57c092ae0a06b9",
        "IPY_MODEL_297383aab02b4defa09a679933abab3a",
        "IPY_MODEL_297383aab02b4defa09a679933abab3a",
        "IPY_MODEL_297383aab02b4defa09a679933abab3a",
        "IPY_MODEL_10c431cb353441c299cc0d05b8d630cf",
        "IPY_MODEL_297383aab02b4defa09a679933abab3a"
       ],
       "layout": "IPY_MODEL_9c32280ad4184422b3a5862582c6f318"
      }
     },
     "d3ae82d970704fcfb6c4015ff1a74572": {
      "model_module": "@jupyter-widgets/controls",
      "model_module_version": "2.0.0",
      "model_name": "ToggleButtonStyleModel",
      "state": {
       "description_width": "",
       "font_family": null,
       "font_size": null,
       "font_style": null,
       "font_variant": null,
       "font_weight": null,
       "text_color": null,
       "text_decoration": null
      }
     },
     "d3fa8bf84e8943e9b72a97ad57a20b0c": {
      "model_module": "@jupyter-widgets/controls",
      "model_module_version": "2.0.0",
      "model_name": "ToggleButtonModel",
      "state": {
       "button_style": "success",
       "disabled": true,
       "layout": "IPY_MODEL_8d696421995345d1b22a15e63c05a8e0",
       "style": "IPY_MODEL_8b116fd3fe15429cbf649c8ed0d9e684",
       "tooltip": null
      }
     },
     "d467f02acf1342f8883b48f871f2ff5a": {
      "model_module": "@jupyter-widgets/controls",
      "model_module_version": "2.0.0",
      "model_name": "ToggleButtonStyleModel",
      "state": {
       "description_width": "",
       "font_family": null,
       "font_size": null,
       "font_style": null,
       "font_variant": null,
       "font_weight": null,
       "text_color": null,
       "text_decoration": null
      }
     },
     "d4a7f49751334c79ad667ea25979ea28": {
      "model_module": "@jupyter-widgets/controls",
      "model_module_version": "2.0.0",
      "model_name": "HBoxModel",
      "state": {
       "children": [
        "IPY_MODEL_30dface7cf9a47e798a51b90be24de7c",
        "IPY_MODEL_6dafce70a0e34dbab9fd8a6be61caa36",
        "IPY_MODEL_5448d80f48f448d5b3d39fc91994ce48",
        "IPY_MODEL_1799b382fbea49b1be084499c3b1899d",
        "IPY_MODEL_de14fc0e304748c5a6723758fb6a0526",
        "IPY_MODEL_51d5264eff154078843e4d3f65cc0b53",
        "IPY_MODEL_321b5677000647528efb731ca522569b",
        "IPY_MODEL_b91ad558638f40478ae9fb122b211854"
       ],
       "layout": "IPY_MODEL_301dafcb641f469183670af8573e9e94"
      }
     },
     "d56ba38ab48d4cc0a20e2dd04c63fec9": {
      "model_module": "@jupyter-widgets/controls",
      "model_module_version": "2.0.0",
      "model_name": "ToggleButtonModel",
      "state": {
       "button_style": "success",
       "disabled": true,
       "layout": "IPY_MODEL_58452c5b934e45b59b40dbda05b4d47c",
       "style": "IPY_MODEL_7d4c6808fa434bbf9a780b08c10bdf2c",
       "tooltip": null
      }
     },
     "d5907d17f4084e0b9fc7612ce58e6478": {
      "model_module": "@jupyter-widgets/controls",
      "model_module_version": "2.0.0",
      "model_name": "ToggleButtonStyleModel",
      "state": {
       "description_width": "",
       "font_family": null,
       "font_size": null,
       "font_style": null,
       "font_variant": null,
       "font_weight": null,
       "text_color": null,
       "text_decoration": null
      }
     },
     "d5b5a566de57444a8820dd9aa4c9ec5c": {
      "model_module": "@jupyter-widgets/controls",
      "model_module_version": "2.0.0",
      "model_name": "ToggleButtonModel",
      "state": {
       "button_style": "info",
       "disabled": true,
       "layout": "IPY_MODEL_9c61bb957f7c4a25976dcbd6e83798b8",
       "style": "IPY_MODEL_dd8cb03fc8664e96867f3258b5cbd136",
       "tooltip": null
      }
     },
     "d5b6b8977d304181aa4978dad389f525": {
      "model_module": "@jupyter-widgets/controls",
      "model_module_version": "2.0.0",
      "model_name": "ToggleButtonStyleModel",
      "state": {
       "description_width": "",
       "font_family": null,
       "font_size": null,
       "font_style": null,
       "font_variant": null,
       "font_weight": null,
       "text_color": null,
       "text_decoration": null
      }
     },
     "d5d7465cc8be4ed5a9e5224969c9abac": {
      "model_module": "@jupyter-widgets/controls",
      "model_module_version": "2.0.0",
      "model_name": "ToggleButtonStyleModel",
      "state": {
       "description_width": "",
       "font_family": null,
       "font_size": null,
       "font_style": null,
       "font_variant": null,
       "font_weight": null,
       "text_color": null,
       "text_decoration": null
      }
     },
     "d606d797dbc84b6889ecf2404c93c127": {
      "model_module": "@jupyter-widgets/controls",
      "model_module_version": "2.0.0",
      "model_name": "ToggleButtonStyleModel",
      "state": {
       "description_width": "",
       "font_family": null,
       "font_size": null,
       "font_style": null,
       "font_variant": null,
       "font_weight": null,
       "text_color": null,
       "text_decoration": null
      }
     },
     "d61be207c52d44da8633733f5199a651": {
      "model_module": "@jupyter-widgets/controls",
      "model_module_version": "2.0.0",
      "model_name": "ToggleButtonModel",
      "state": {
       "button_style": "success",
       "disabled": true,
       "layout": "IPY_MODEL_3831200db05b4a7986a2bfa009c0e327",
       "style": "IPY_MODEL_8fa3c8e736d34088975af21d8c24fbad",
       "tooltip": null
      }
     },
     "d63028514a2f4c289c0ea6db8e8d276d": {
      "model_module": "@jupyter-widgets/controls",
      "model_module_version": "2.0.0",
      "model_name": "HBoxModel",
      "state": {
       "children": [
        "IPY_MODEL_42c8a610ba5c42ab8863eb788b8e645a",
        "IPY_MODEL_1c373861b7b94a0380f5b7c6f28dc8ad",
        "IPY_MODEL_8582766cfa41483293c756a88bf56d41",
        "IPY_MODEL_c790119f39814f3088ab7b822f1cfe93",
        "IPY_MODEL_616f5d26708b44bb9e4a806f820f3b9f",
        "IPY_MODEL_8710e43dc2d342f4a657e70958d2b381",
        "IPY_MODEL_74113fc315f54fbd9e18b27bff3d74fd",
        "IPY_MODEL_d66ca2a4d39f4476a6564b5a974a421a",
        "IPY_MODEL_7a4f074ac3ea4d968cdef97c4d3d0099"
       ],
       "layout": "IPY_MODEL_401049b3fef245d78eeeefce63901294"
      }
     },
     "d657c3ac821c423dba6f79bf341f79cb": {
      "model_module": "@jupyter-widgets/controls",
      "model_module_version": "2.0.0",
      "model_name": "ToggleButtonModel",
      "state": {
       "button_style": "success",
       "disabled": true,
       "layout": "IPY_MODEL_1984f7edee3c4b9ebcaaf4fd4d1bd535",
       "style": "IPY_MODEL_ec7a188e2c5a4f86b9c8e6cd6d02d219",
       "tooltip": null
      }
     },
     "d66ca2a4d39f4476a6564b5a974a421a": {
      "model_module": "@jupyter-widgets/controls",
      "model_module_version": "2.0.0",
      "model_name": "ToggleButtonModel",
      "state": {
       "button_style": "success",
       "disabled": true,
       "layout": "IPY_MODEL_8d696421995345d1b22a15e63c05a8e0",
       "style": "IPY_MODEL_d2a9fc5d4a594e77a7cb8ea30fab5827",
       "tooltip": null
      }
     },
     "d6a32568663e466da148a1b5949d083b": {
      "model_module": "@jupyter-widgets/base",
      "model_module_version": "2.0.0",
      "model_name": "LayoutModel",
      "state": {}
     },
     "d6c81a37a70a45ecbc987110658b6472": {
      "model_module": "@jupyter-widgets/controls",
      "model_module_version": "2.0.0",
      "model_name": "ToggleButtonStyleModel",
      "state": {
       "description_width": "",
       "font_family": null,
       "font_size": null,
       "font_style": null,
       "font_variant": null,
       "font_weight": null,
       "text_color": null,
       "text_decoration": null
      }
     },
     "d6e6d7e9626549a7ba2ec10ebbfff2fe": {
      "model_module": "@jupyter-widgets/controls",
      "model_module_version": "2.0.0",
      "model_name": "ToggleButtonModel",
      "state": {
       "button_style": "success",
       "disabled": true,
       "layout": "IPY_MODEL_9aa0b8d99486437599924f0fdf1f9e8b",
       "style": "IPY_MODEL_e636934d8c2b498aabaa32d8c4e2e9e4",
       "tooltip": null
      }
     },
     "d70eafb46f1540c5b8b48dc1491c70cb": {
      "model_module": "@jupyter-widgets/controls",
      "model_module_version": "2.0.0",
      "model_name": "ToggleButtonModel",
      "state": {
       "button_style": "info",
       "disabled": true,
       "layout": "IPY_MODEL_9c61bb957f7c4a25976dcbd6e83798b8",
       "style": "IPY_MODEL_33e4fb37b3a240868ac5562b5940b33a",
       "tooltip": null
      }
     },
     "d739e2eb5e03485484202eb8c79345b8": {
      "model_module": "@jupyter-widgets/controls",
      "model_module_version": "2.0.0",
      "model_name": "ToggleButtonStyleModel",
      "state": {
       "description_width": "",
       "font_family": null,
       "font_size": null,
       "font_style": null,
       "font_variant": null,
       "font_weight": null,
       "text_color": null,
       "text_decoration": null
      }
     },
     "d7b7610b6ffe44709c99c32d6ac9d4ca": {
      "model_module": "@jupyter-widgets/controls",
      "model_module_version": "2.0.0",
      "model_name": "HBoxModel",
      "state": {
       "children": [
        "IPY_MODEL_bcd99d15fd444e2dac2365275a92c808",
        "IPY_MODEL_a6c48b9b388b4b2ea0f87dea68eefe91",
        "IPY_MODEL_46fa0fcb325f4be694eedf2876403cbe",
        "IPY_MODEL_f81d54eec29a48e1990164026f466d28",
        "IPY_MODEL_6c8d2e7e9bc146749041ef566a6fd894",
        "IPY_MODEL_2b3c642e250f400290a94b8359b6a14d",
        "IPY_MODEL_f7c3998c402c4c3299900f1de576425f",
        "IPY_MODEL_a8350ada430b4361b38ccef39e49cd25"
       ],
       "layout": "IPY_MODEL_40a1da92fdb246a7bf31fbf79f2572d2"
      }
     },
     "d823e27cbab043b682638510479fa4e4": {
      "model_module": "@jupyter-widgets/controls",
      "model_module_version": "2.0.0",
      "model_name": "ToggleButtonModel",
      "state": {
       "disabled": true,
       "layout": "IPY_MODEL_7d65afd73a144706ae2b391dd7a74876",
       "style": "IPY_MODEL_ab94c0614dd24f63b98907f7b2fc2384",
       "tooltip": null
      }
     },
     "d82cbf21f46d4ecb9c3c8d7c1ef9606c": {
      "model_module": "@jupyter-widgets/controls",
      "model_module_version": "2.0.0",
      "model_name": "ToggleButtonStyleModel",
      "state": {
       "description_width": "",
       "font_family": null,
       "font_size": null,
       "font_style": null,
       "font_variant": null,
       "font_weight": null,
       "text_color": null,
       "text_decoration": null
      }
     },
     "d82d95c99c904d5b94646b2e10604693": {
      "model_module": "@jupyter-widgets/controls",
      "model_module_version": "2.0.0",
      "model_name": "ToggleButtonStyleModel",
      "state": {
       "description_width": "",
       "font_family": null,
       "font_size": null,
       "font_style": null,
       "font_variant": null,
       "font_weight": null,
       "text_color": null,
       "text_decoration": null
      }
     },
     "d84f33017872412ba13e28be98bc7970": {
      "model_module": "@jupyter-widgets/controls",
      "model_module_version": "2.0.0",
      "model_name": "VBoxModel",
      "state": {
       "children": [
        "IPY_MODEL_31d0fcc70a434d49b4ac81b4fc2fe607",
        "IPY_MODEL_fbb2cac477da4b1eb55e785bbf36d551",
        "IPY_MODEL_e98fd61ad6f94f51b4dba0181ba95433",
        "IPY_MODEL_457b2839b25d49b4b244803db165571d",
        "IPY_MODEL_d935c27054ba44b288c5dee67ca17db6",
        "IPY_MODEL_85ce0a5cbb9646358549d3392665fec8",
        "IPY_MODEL_760a2002a08541ee863b2454800aae07",
        "IPY_MODEL_51f4ef17a71347cab3997d695e94976d",
        "IPY_MODEL_3d7fdd4b4fdc43da9c78eb5745190749"
       ],
       "layout": "IPY_MODEL_1118cdee2e994b8a80d5a4e9cd50a8cb"
      }
     },
     "d8dc4f4b3e3e468182de76b3ba53e522": {
      "model_module": "@jupyter-widgets/controls",
      "model_module_version": "2.0.0",
      "model_name": "ToggleButtonStyleModel",
      "state": {
       "description_width": "",
       "font_family": null,
       "font_size": null,
       "font_style": null,
       "font_variant": null,
       "font_weight": null,
       "text_color": null,
       "text_decoration": null
      }
     },
     "d935c27054ba44b288c5dee67ca17db6": {
      "model_module": "@jupyter-widgets/controls",
      "model_module_version": "2.0.0",
      "model_name": "HBoxModel",
      "state": {
       "children": [
        "IPY_MODEL_ebd8a4d5e59044d2835660227a95e266",
        "IPY_MODEL_b6959e5b106943c7a1d63eff3d5951da",
        "IPY_MODEL_ce577c3bddeb4fbc84efbc4b6b6c1cf9",
        "IPY_MODEL_b67e6b557f3d4246b5cb0053eed90bd3",
        "IPY_MODEL_e5ffb5da12b4414087abf1653c51e841",
        "IPY_MODEL_51284d4987004ec4af9e44210e5e6e98",
        "IPY_MODEL_0471c9a43a2548a495006bf783dcb1b9",
        "IPY_MODEL_beb871dc00ed4fe5bf9c48569cf5561e"
       ],
       "layout": "IPY_MODEL_fad07c5718f04e90b48d41b2d6c19530"
      }
     },
     "d9ca33434b9348238caf73eadee426e3": {
      "model_module": "@jupyter-widgets/controls",
      "model_module_version": "2.0.0",
      "model_name": "ToggleButtonModel",
      "state": {
       "button_style": "success",
       "disabled": true,
       "layout": "IPY_MODEL_58452c5b934e45b59b40dbda05b4d47c",
       "style": "IPY_MODEL_b01d4a96316e468ba44c6301260bc2c9",
       "tooltip": null
      }
     },
     "d9ece244afa04d0cb205d3f8dca84f7c": {
      "model_module": "@jupyter-widgets/controls",
      "model_module_version": "2.0.0",
      "model_name": "ToggleButtonModel",
      "state": {
       "button_style": "success",
       "disabled": true,
       "layout": "IPY_MODEL_2d2b7c3a0e0b4e2ea0528a045ba78de4",
       "style": "IPY_MODEL_e9014ba5c57042c4bd92ff2f20beb53f",
       "tooltip": null
      }
     },
     "da0649ba9f004296be9e410b877323b3": {
      "model_module": "@jupyter-widgets/controls",
      "model_module_version": "2.0.0",
      "model_name": "ToggleButtonStyleModel",
      "state": {
       "description_width": "",
       "font_family": null,
       "font_size": null,
       "font_style": null,
       "font_variant": null,
       "font_weight": null,
       "text_color": null,
       "text_decoration": null
      }
     },
     "da62477f60e14463877033b6d9a882f1": {
      "model_module": "@jupyter-widgets/controls",
      "model_module_version": "2.0.0",
      "model_name": "ToggleButtonStyleModel",
      "state": {
       "description_width": "",
       "font_family": null,
       "font_size": null,
       "font_style": null,
       "font_variant": null,
       "font_weight": null,
       "text_color": null,
       "text_decoration": null
      }
     },
     "dabd468ce92040b89cc91cf5377a76a6": {
      "model_module": "@jupyter-widgets/controls",
      "model_module_version": "2.0.0",
      "model_name": "ToggleButtonModel",
      "state": {
       "button_style": "success",
       "disabled": true,
       "layout": "IPY_MODEL_9aa0b8d99486437599924f0fdf1f9e8b",
       "style": "IPY_MODEL_d6c81a37a70a45ecbc987110658b6472",
       "tooltip": null
      }
     },
     "dac9cd920ae24490bbfef3c601b0f646": {
      "model_module": "@jupyter-widgets/controls",
      "model_module_version": "2.0.0",
      "model_name": "ToggleButtonStyleModel",
      "state": {
       "description_width": "",
       "font_family": null,
       "font_size": null,
       "font_style": null,
       "font_variant": null,
       "font_weight": null,
       "text_color": null,
       "text_decoration": null
      }
     },
     "db2154fb7e89411685fff98279387550": {
      "model_module": "@jupyter-widgets/controls",
      "model_module_version": "2.0.0",
      "model_name": "HBoxModel",
      "state": {
       "children": [
        "IPY_MODEL_92ba3357be6044c4972a53b1c412dc4e",
        "IPY_MODEL_a18acd5daffd40bcb003503f5b3582e0",
        "IPY_MODEL_e140bc049cde4036a04af94fee90ccf5",
        "IPY_MODEL_3eefab787f8249f3ba88a8ebc80abeb3",
        "IPY_MODEL_8c6aae8e98844dc3b89878ff51448347",
        "IPY_MODEL_507c625985ac466ebdb32716801f3cb7",
        "IPY_MODEL_ee5a870e614a4737a0878b67ab806b53",
        "IPY_MODEL_4226e3da0d10495f8490d1fee5bde397",
        "IPY_MODEL_f62a0aaa595a409d9b2add36383c4017",
        "IPY_MODEL_5f4747ba2096435fbf20822ea5a95efc",
        "IPY_MODEL_f62a0aaa595a409d9b2add36383c4017",
        "IPY_MODEL_f62a0aaa595a409d9b2add36383c4017",
        "IPY_MODEL_f62a0aaa595a409d9b2add36383c4017",
        "IPY_MODEL_e32251a74d3c46e9abb72c3793861ae4",
        "IPY_MODEL_f62a0aaa595a409d9b2add36383c4017"
       ],
       "layout": "IPY_MODEL_b909c89e31de48e2a25f87aca4ae6b99"
      }
     },
     "db8e7a9387b549d88217d755ea5ccd48": {
      "model_module": "@jupyter-widgets/controls",
      "model_module_version": "2.0.0",
      "model_name": "ToggleButtonModel",
      "state": {
       "button_style": "success",
       "disabled": true,
       "layout": "IPY_MODEL_1984f7edee3c4b9ebcaaf4fd4d1bd535",
       "style": "IPY_MODEL_da62477f60e14463877033b6d9a882f1",
       "tooltip": null
      }
     },
     "dbacf743a3c04aeb90bea3b8a3315477": {
      "model_module": "@jupyter-widgets/controls",
      "model_module_version": "2.0.0",
      "model_name": "ToggleButtonStyleModel",
      "state": {
       "description_width": "",
       "font_family": null,
       "font_size": null,
       "font_style": null,
       "font_variant": null,
       "font_weight": null,
       "text_color": null,
       "text_decoration": null
      }
     },
     "dbb8287be9874f6f863bcc86418d31e3": {
      "model_module": "@jupyter-widgets/controls",
      "model_module_version": "2.0.0",
      "model_name": "ToggleButtonModel",
      "state": {
       "button_style": "success",
       "disabled": true,
       "layout": "IPY_MODEL_cbb007f4b9644615acf96a9592fe5eea",
       "style": "IPY_MODEL_1314b524c4ad41d1b2edaa663d205e63",
       "tooltip": null
      }
     },
     "dbbb60b428ff4fe9a1d86b968b54ce9a": {
      "model_module": "@jupyter-widgets/controls",
      "model_module_version": "2.0.0",
      "model_name": "ToggleButtonModel",
      "state": {
       "button_style": "success",
       "disabled": true,
       "layout": "IPY_MODEL_8d696421995345d1b22a15e63c05a8e0",
       "style": "IPY_MODEL_e9127de3e10e42ce8bff81395b0bee40",
       "tooltip": null
      }
     },
     "dc071482ff5244688264a3feee7bf681": {
      "model_module": "@jupyter-widgets/controls",
      "model_module_version": "2.0.0",
      "model_name": "ToggleButtonStyleModel",
      "state": {
       "description_width": "",
       "font_family": null,
       "font_size": null,
       "font_style": null,
       "font_variant": null,
       "font_weight": null,
       "text_color": null,
       "text_decoration": null
      }
     },
     "dc36e44afbf84cd183d87245ca498399": {
      "model_module": "@jupyter-widgets/controls",
      "model_module_version": "2.0.0",
      "model_name": "ToggleButtonModel",
      "state": {
       "button_style": "success",
       "disabled": true,
       "layout": "IPY_MODEL_9aa0b8d99486437599924f0fdf1f9e8b",
       "style": "IPY_MODEL_c2e22b9d1ab34ba8a24cc9bf09046556",
       "tooltip": null
      }
     },
     "dc53899de0064505b110758e6467e923": {
      "model_module": "@jupyter-widgets/controls",
      "model_module_version": "2.0.0",
      "model_name": "ToggleButtonModel",
      "state": {
       "button_style": "success",
       "disabled": true,
       "layout": "IPY_MODEL_8d696421995345d1b22a15e63c05a8e0",
       "style": "IPY_MODEL_100f121d517f4df29d01bdff85a44564",
       "tooltip": null
      }
     },
     "dc8e7056b18345edbe7b1346fc1fa372": {
      "model_module": "@jupyter-widgets/controls",
      "model_module_version": "2.0.0",
      "model_name": "ToggleButtonModel",
      "state": {
       "button_style": "success",
       "disabled": true,
       "layout": "IPY_MODEL_1984f7edee3c4b9ebcaaf4fd4d1bd535",
       "style": "IPY_MODEL_7bd93f1afbf245119f28044f4fd0ea23",
       "tooltip": null
      }
     },
     "dc9ef6f175334693b976d652a78f0ae7": {
      "model_module": "@jupyter-widgets/controls",
      "model_module_version": "2.0.0",
      "model_name": "ToggleButtonStyleModel",
      "state": {
       "description_width": "",
       "font_family": null,
       "font_size": null,
       "font_style": null,
       "font_variant": null,
       "font_weight": null,
       "text_color": null,
       "text_decoration": null
      }
     },
     "dcf04c10e8db4228bfcbc4dd6ee4339f": {
      "model_module": "@jupyter-widgets/controls",
      "model_module_version": "2.0.0",
      "model_name": "ToggleButtonStyleModel",
      "state": {
       "description_width": "",
       "font_family": null,
       "font_size": null,
       "font_style": null,
       "font_variant": null,
       "font_weight": null,
       "text_color": null,
       "text_decoration": null
      }
     },
     "dcfcadeaad284236acc3e16df7d1b173": {
      "model_module": "@jupyter-widgets/controls",
      "model_module_version": "2.0.0",
      "model_name": "ToggleButtonModel",
      "state": {
       "description": "A",
       "layout": "IPY_MODEL_9aa0b8d99486437599924f0fdf1f9e8b",
       "style": "IPY_MODEL_95d171ac651c4d6d8b7d22531ca07dd4",
       "tooltip": null
      }
     },
     "dd1509a3ed5a44b2ab552697c02bba45": {
      "model_module": "@jupyter-widgets/controls",
      "model_module_version": "2.0.0",
      "model_name": "ToggleButtonModel",
      "state": {
       "button_style": "success",
       "disabled": true,
       "layout": "IPY_MODEL_2d2b7c3a0e0b4e2ea0528a045ba78de4",
       "style": "IPY_MODEL_1378dc642b0b4476bbb4b10079b71560",
       "tooltip": null
      }
     },
     "dd28160e6ef6457f867ea4b7f32cb822": {
      "model_module": "@jupyter-widgets/controls",
      "model_module_version": "2.0.0",
      "model_name": "ToggleButtonStyleModel",
      "state": {
       "description_width": "",
       "font_family": null,
       "font_size": null,
       "font_style": null,
       "font_variant": null,
       "font_weight": null,
       "text_color": null,
       "text_decoration": null
      }
     },
     "dd576d3ec9e54a44998dddf5ff0727bd": {
      "model_module": "@jupyter-widgets/controls",
      "model_module_version": "2.0.0",
      "model_name": "ToggleButtonModel",
      "state": {
       "button_style": "success",
       "disabled": true,
       "layout": "IPY_MODEL_8d696421995345d1b22a15e63c05a8e0",
       "style": "IPY_MODEL_839c11adeddc4123ab03b2f7343f8e17",
       "tooltip": null
      }
     },
     "dd8cb03fc8664e96867f3258b5cbd136": {
      "model_module": "@jupyter-widgets/controls",
      "model_module_version": "2.0.0",
      "model_name": "ToggleButtonStyleModel",
      "state": {
       "description_width": "",
       "font_family": null,
       "font_size": null,
       "font_style": null,
       "font_variant": null,
       "font_weight": null,
       "text_color": null,
       "text_decoration": null
      }
     },
     "dd9f69a1ad7547f7b660fab1c2f5273c": {
      "model_module": "@jupyter-widgets/base",
      "model_module_version": "2.0.0",
      "model_name": "LayoutModel",
      "state": {
       "height": "50px",
       "width": "428px"
      }
     },
     "ddcc22fa53a34174b961c0076edafeed": {
      "model_module": "@jupyter-widgets/controls",
      "model_module_version": "2.0.0",
      "model_name": "ToggleButtonModel",
      "state": {
       "button_style": "success",
       "disabled": true,
       "layout": "IPY_MODEL_cbb007f4b9644615acf96a9592fe5eea",
       "style": "IPY_MODEL_42eef6a4c4f04ad08c88d216b6f7c5a1",
       "tooltip": null
      }
     },
     "de14fc0e304748c5a6723758fb6a0526": {
      "model_module": "@jupyter-widgets/controls",
      "model_module_version": "2.0.0",
      "model_name": "ToggleButtonModel",
      "state": {
       "button_style": "success",
       "disabled": true,
       "layout": "IPY_MODEL_3831200db05b4a7986a2bfa009c0e327",
       "style": "IPY_MODEL_459b4d3611f44c1ab76c81d031b6074d",
       "tooltip": null
      }
     },
     "de4cd3a58fe14ed4bdfba7a9dfb1cfa4": {
      "model_module": "@jupyter-widgets/controls",
      "model_module_version": "2.0.0",
      "model_name": "ToggleButtonModel",
      "state": {
       "button_style": "success",
       "disabled": true,
       "layout": "IPY_MODEL_58452c5b934e45b59b40dbda05b4d47c",
       "style": "IPY_MODEL_c51b70ea1da14dadb3f13b8a8e2a4ee7",
       "tooltip": null
      }
     },
     "de690d75a58549e597f120afe3d4337c": {
      "model_module": "@jupyter-widgets/controls",
      "model_module_version": "2.0.0",
      "model_name": "ToggleButtonStyleModel",
      "state": {
       "description_width": "",
       "font_family": null,
       "font_size": null,
       "font_style": null,
       "font_variant": null,
       "font_weight": null,
       "text_color": null,
       "text_decoration": null
      }
     },
     "de989b312c5441eaa5f6200186418aeb": {
      "model_module": "@jupyter-widgets/controls",
      "model_module_version": "2.0.0",
      "model_name": "HTMLStyleModel",
      "state": {
       "description_width": "",
       "font_size": null,
       "text_color": null
      }
     },
     "dea937ab156246eca8b2ce64f586a423": {
      "model_module": "@jupyter-widgets/controls",
      "model_module_version": "2.0.0",
      "model_name": "ToggleButtonStyleModel",
      "state": {
       "description_width": "",
       "font_family": null,
       "font_size": null,
       "font_style": null,
       "font_variant": null,
       "font_weight": null,
       "text_color": null,
       "text_decoration": null
      }
     },
     "df09135f6512448ca82626079748b5f8": {
      "model_module": "@jupyter-widgets/controls",
      "model_module_version": "2.0.0",
      "model_name": "ToggleButtonStyleModel",
      "state": {
       "description_width": "",
       "font_family": null,
       "font_size": null,
       "font_style": null,
       "font_variant": null,
       "font_weight": null,
       "text_color": null,
       "text_decoration": null
      }
     },
     "df6cf52a90024507b75a0b26f5edc6ef": {
      "model_module": "@jupyter-widgets/controls",
      "model_module_version": "2.0.0",
      "model_name": "ToggleButtonModel",
      "state": {
       "button_style": "info",
       "disabled": true,
       "layout": "IPY_MODEL_9c61bb957f7c4a25976dcbd6e83798b8",
       "style": "IPY_MODEL_04954aa3c218478ca35d4e565a9fa9d8",
       "tooltip": null
      }
     },
     "dfb3491569264ed0acefca453e27facd": {
      "model_module": "@jupyter-widgets/controls",
      "model_module_version": "2.0.0",
      "model_name": "ToggleButtonModel",
      "state": {
       "button_style": "success",
       "disabled": true,
       "layout": "IPY_MODEL_cbb007f4b9644615acf96a9592fe5eea",
       "style": "IPY_MODEL_0ff25443e0294e57a473fa0e5e301fa7",
       "tooltip": null
      }
     },
     "dfe62645d6524447953a81556df01588": {
      "model_module": "@jupyter-widgets/controls",
      "model_module_version": "2.0.0",
      "model_name": "ToggleButtonModel",
      "state": {
       "button_style": "success",
       "disabled": true,
       "layout": "IPY_MODEL_2d2b7c3a0e0b4e2ea0528a045ba78de4",
       "style": "IPY_MODEL_8db21bc5081340b09da23413eac0a2eb",
       "tooltip": null
      }
     },
     "e059f23677c74ad5b9cd7d318051124e": {
      "model_module": "@jupyter-widgets/controls",
      "model_module_version": "2.0.0",
      "model_name": "ToggleButtonStyleModel",
      "state": {
       "description_width": "",
       "font_family": null,
       "font_size": null,
       "font_style": null,
       "font_variant": null,
       "font_weight": null,
       "text_color": null,
       "text_decoration": null
      }
     },
     "e0876172a5dd4abf87511d5fc88b2374": {
      "model_module": "@jupyter-widgets/controls",
      "model_module_version": "2.0.0",
      "model_name": "ToggleButtonStyleModel",
      "state": {
       "description_width": "",
       "font_family": null,
       "font_size": null,
       "font_style": null,
       "font_variant": null,
       "font_weight": null,
       "text_color": null,
       "text_decoration": null
      }
     },
     "e0a15490752843148ae681896880358b": {
      "model_module": "@jupyter-widgets/controls",
      "model_module_version": "2.0.0",
      "model_name": "ToggleButtonStyleModel",
      "state": {
       "description_width": "",
       "font_family": null,
       "font_size": null,
       "font_style": null,
       "font_variant": null,
       "font_weight": null,
       "text_color": null,
       "text_decoration": null
      }
     },
     "e140bc049cde4036a04af94fee90ccf5": {
      "model_module": "@jupyter-widgets/controls",
      "model_module_version": "2.0.0",
      "model_name": "ToggleButtonModel",
      "state": {
       "button_style": "success",
       "disabled": true,
       "layout": "IPY_MODEL_2d2b7c3a0e0b4e2ea0528a045ba78de4",
       "style": "IPY_MODEL_c39323c037ed4a34b3c25fd403b1a470",
       "tooltip": null
      }
     },
     "e1f2e74965b04ab684e3b7d7dad29233": {
      "model_module": "@jupyter-widgets/controls",
      "model_module_version": "2.0.0",
      "model_name": "ToggleButtonStyleModel",
      "state": {
       "description_width": "",
       "font_family": null,
       "font_size": null,
       "font_style": null,
       "font_variant": null,
       "font_weight": null,
       "text_color": null,
       "text_decoration": null
      }
     },
     "e216524be70948e593a565802616192f": {
      "model_module": "@jupyter-widgets/controls",
      "model_module_version": "2.0.0",
      "model_name": "ToggleButtonStyleModel",
      "state": {
       "description_width": "",
       "font_family": null,
       "font_size": null,
       "font_style": null,
       "font_variant": null,
       "font_weight": null,
       "text_color": null,
       "text_decoration": null
      }
     },
     "e23f4d6f8a0e4971b2472d0be72765c1": {
      "model_module": "@jupyter-widgets/controls",
      "model_module_version": "2.0.0",
      "model_name": "ToggleButtonStyleModel",
      "state": {
       "description_width": "",
       "font_family": null,
       "font_size": null,
       "font_style": null,
       "font_variant": null,
       "font_weight": null,
       "text_color": null,
       "text_decoration": null
      }
     },
     "e25626f7d2314c20a38fa6a17aa5af41": {
      "model_module": "@jupyter-widgets/controls",
      "model_module_version": "2.0.0",
      "model_name": "ToggleButtonStyleModel",
      "state": {
       "description_width": "",
       "font_family": null,
       "font_size": null,
       "font_style": null,
       "font_variant": null,
       "font_weight": null,
       "text_color": null,
       "text_decoration": null
      }
     },
     "e25f6874ff9944bfaf43e5a3e34a749b": {
      "model_module": "@jupyter-widgets/controls",
      "model_module_version": "2.0.0",
      "model_name": "ToggleButtonModel",
      "state": {
       "description": "X",
       "layout": "IPY_MODEL_2d2b7c3a0e0b4e2ea0528a045ba78de4",
       "style": "IPY_MODEL_a431f50ecdcc4530816cf4413c49c76c",
       "tooltip": null
      }
     },
     "e2898c1f092c406a8c234e6c187a14d1": {
      "model_module": "@jupyter-widgets/controls",
      "model_module_version": "2.0.0",
      "model_name": "ToggleButtonModel",
      "state": {
       "button_style": "success",
       "disabled": true,
       "layout": "IPY_MODEL_cbb007f4b9644615acf96a9592fe5eea",
       "style": "IPY_MODEL_65566ea03fb64d3fbc844846f6baa043",
       "tooltip": null
      }
     },
     "e28e9c1398c94d5aa9ce752584b571db": {
      "model_module": "@jupyter-widgets/controls",
      "model_module_version": "2.0.0",
      "model_name": "ToggleButtonModel",
      "state": {
       "button_style": "success",
       "disabled": true,
       "layout": "IPY_MODEL_2d2b7c3a0e0b4e2ea0528a045ba78de4",
       "style": "IPY_MODEL_3669111448ee416aa9b0032a87f67332",
       "tooltip": null
      }
     },
     "e29704a3560f4e05a0692be068df489a": {
      "model_module": "@jupyter-widgets/controls",
      "model_module_version": "2.0.0",
      "model_name": "ToggleButtonModel",
      "state": {
       "button_style": "success",
       "disabled": true,
       "layout": "IPY_MODEL_3831200db05b4a7986a2bfa009c0e327",
       "style": "IPY_MODEL_abd927d459de4c47867e0c9bd7de944d",
       "tooltip": null
      }
     },
     "e2c3dfd10c1e4e08b5ad2d8d9750be82": {
      "model_module": "@jupyter-widgets/controls",
      "model_module_version": "2.0.0",
      "model_name": "ToggleButtonModel",
      "state": {
       "button_style": "success",
       "disabled": true,
       "layout": "IPY_MODEL_cbb007f4b9644615acf96a9592fe5eea",
       "style": "IPY_MODEL_b3fadb16f09b425891897c388b933d58",
       "tooltip": null
      }
     },
     "e2f01006756749889eba4b944e2c1662": {
      "model_module": "@jupyter-widgets/controls",
      "model_module_version": "2.0.0",
      "model_name": "ToggleButtonStyleModel",
      "state": {
       "description_width": "",
       "font_family": null,
       "font_size": null,
       "font_style": null,
       "font_variant": null,
       "font_weight": null,
       "text_color": null,
       "text_decoration": null
      }
     },
     "e32251a74d3c46e9abb72c3793861ae4": {
      "model_module": "@jupyter-widgets/controls",
      "model_module_version": "2.0.0",
      "model_name": "ToggleButtonModel",
      "state": {
       "description": "B",
       "layout": "IPY_MODEL_2d2b7c3a0e0b4e2ea0528a045ba78de4",
       "style": "IPY_MODEL_592d273eea284d21909ac95ae28f2687",
       "tooltip": null
      }
     },
     "e3238ade2aef465c9a658e26cfb18fe3": {
      "model_module": "@jupyter-widgets/controls",
      "model_module_version": "2.0.0",
      "model_name": "ToggleButtonStyleModel",
      "state": {
       "description_width": "",
       "font_family": null,
       "font_size": null,
       "font_style": null,
       "font_variant": null,
       "font_weight": null,
       "text_color": null,
       "text_decoration": null
      }
     },
     "e361966074204796a3313abc6715efe2": {
      "model_module": "@jupyter-widgets/controls",
      "model_module_version": "2.0.0",
      "model_name": "ToggleButtonStyleModel",
      "state": {
       "description_width": "",
       "font_family": null,
       "font_size": null,
       "font_style": null,
       "font_variant": null,
       "font_weight": null,
       "text_color": null,
       "text_decoration": null
      }
     },
     "e3e29f3eda9d4847a956e66beb77e294": {
      "model_module": "@jupyter-widgets/controls",
      "model_module_version": "2.0.0",
      "model_name": "ToggleButtonStyleModel",
      "state": {
       "description_width": "",
       "font_family": null,
       "font_size": null,
       "font_style": null,
       "font_variant": null,
       "font_weight": null,
       "text_color": null,
       "text_decoration": null
      }
     },
     "e3ebd23e215c4449a9cc72da68682679": {
      "model_module": "@jupyter-widgets/base",
      "model_module_version": "2.0.0",
      "model_name": "LayoutModel",
      "state": {}
     },
     "e3ecfb99d52a4baf97cf1a5917569fa3": {
      "model_module": "@jupyter-widgets/controls",
      "model_module_version": "2.0.0",
      "model_name": "ToggleButtonStyleModel",
      "state": {
       "description_width": "",
       "font_family": null,
       "font_size": null,
       "font_style": null,
       "font_variant": null,
       "font_weight": null,
       "text_color": null,
       "text_decoration": null
      }
     },
     "e426227855f8488eafbbcaed190ece43": {
      "model_module": "@jupyter-widgets/controls",
      "model_module_version": "2.0.0",
      "model_name": "ToggleButtonStyleModel",
      "state": {
       "description_width": "",
       "font_family": null,
       "font_size": null,
       "font_style": null,
       "font_variant": null,
       "font_weight": null,
       "text_color": null,
       "text_decoration": null
      }
     },
     "e42c2e4a497242c19f330c77c2715647": {
      "model_module": "@jupyter-widgets/controls",
      "model_module_version": "2.0.0",
      "model_name": "ToggleButtonStyleModel",
      "state": {
       "description_width": "",
       "font_family": null,
       "font_size": null,
       "font_style": null,
       "font_variant": null,
       "font_weight": null,
       "text_color": null,
       "text_decoration": null
      }
     },
     "e43489ec3c214beaae1e64c5a714995a": {
      "model_module": "@jupyter-widgets/controls",
      "model_module_version": "2.0.0",
      "model_name": "ToggleButtonStyleModel",
      "state": {
       "description_width": "",
       "font_family": null,
       "font_size": null,
       "font_style": null,
       "font_variant": null,
       "font_weight": null,
       "text_color": null,
       "text_decoration": null
      }
     },
     "e4379c3639384f868dad12eaecba0adf": {
      "model_module": "@jupyter-widgets/controls",
      "model_module_version": "2.0.0",
      "model_name": "ToggleButtonStyleModel",
      "state": {
       "description_width": "",
       "font_family": null,
       "font_size": null,
       "font_style": null,
       "font_variant": null,
       "font_weight": null,
       "text_color": null,
       "text_decoration": null
      }
     },
     "e4617b8c35374a3aa9a6f187e06d55d7": {
      "model_module": "@jupyter-widgets/controls",
      "model_module_version": "2.0.0",
      "model_name": "ToggleButtonModel",
      "state": {
       "button_style": "success",
       "disabled": true,
       "layout": "IPY_MODEL_9aa0b8d99486437599924f0fdf1f9e8b",
       "style": "IPY_MODEL_f173c56477ef4fecb59029d62a0d64ac",
       "tooltip": null
      }
     },
     "e4815452f2bd4233b9acfa75ca91e93a": {
      "model_module": "@jupyter-widgets/controls",
      "model_module_version": "2.0.0",
      "model_name": "ToggleButtonModel",
      "state": {
       "button_style": "success",
       "disabled": true,
       "layout": "IPY_MODEL_9aa0b8d99486437599924f0fdf1f9e8b",
       "style": "IPY_MODEL_0a29863ccb5a477ab9247945056e520f",
       "tooltip": null
      }
     },
     "e4a1c166104a4da499f80cc23b11c33e": {
      "model_module": "@jupyter-widgets/controls",
      "model_module_version": "2.0.0",
      "model_name": "HBoxModel",
      "state": {
       "children": [
        "IPY_MODEL_3bc585d85f8a4a018a667590957e9e6d",
        "IPY_MODEL_3ff78cb9cd6546b2ac02addcb4f09f59",
        "IPY_MODEL_112a7be1e79243d3b1cea849b93facc6",
        "IPY_MODEL_18c787b34f8849af8f4c3c6e62517ca1",
        "IPY_MODEL_92d360ea86a540ebb397e88bf708dd21",
        "IPY_MODEL_df6cf52a90024507b75a0b26f5edc6ef",
        "IPY_MODEL_6be1311d526b4a0b915cb9b2c93efe40",
        "IPY_MODEL_e60234501bfa4b6b87a876e60c01cb3f",
        "IPY_MODEL_099f1a15dcbd4c9e89c9da21839b726f",
        "IPY_MODEL_4cf297861d874774bebf9124f6575b85",
        "IPY_MODEL_099f1a15dcbd4c9e89c9da21839b726f",
        "IPY_MODEL_099f1a15dcbd4c9e89c9da21839b726f",
        "IPY_MODEL_099f1a15dcbd4c9e89c9da21839b726f",
        "IPY_MODEL_07160e49666e4496b6ca071f50cda9de",
        "IPY_MODEL_099f1a15dcbd4c9e89c9da21839b726f"
       ],
       "layout": "IPY_MODEL_0563703503aa4348809151f7ee430790"
      }
     },
     "e505facd0be7478a84b07aae049156b6": {
      "model_module": "@jupyter-widgets/controls",
      "model_module_version": "2.0.0",
      "model_name": "ToggleButtonStyleModel",
      "state": {
       "description_width": "",
       "font_family": null,
       "font_size": null,
       "font_style": null,
       "font_variant": null,
       "font_weight": null,
       "text_color": null,
       "text_decoration": null
      }
     },
     "e51f9369c43a40b9a9261d1cb29e76a1": {
      "model_module": "@jupyter-widgets/controls",
      "model_module_version": "2.0.0",
      "model_name": "ToggleButtonStyleModel",
      "state": {
       "description_width": "",
       "font_family": null,
       "font_size": null,
       "font_style": null,
       "font_variant": null,
       "font_weight": null,
       "text_color": null,
       "text_decoration": null
      }
     },
     "e5807dad71224c13912738483007fb26": {
      "model_module": "@jupyter-widgets/controls",
      "model_module_version": "2.0.0",
      "model_name": "ToggleButtonStyleModel",
      "state": {
       "description_width": "",
       "font_family": null,
       "font_size": null,
       "font_style": null,
       "font_variant": null,
       "font_weight": null,
       "text_color": null,
       "text_decoration": null
      }
     },
     "e58814c0935a49549e8c4eb0bfb97dad": {
      "model_module": "@jupyter-widgets/base",
      "model_module_version": "2.0.0",
      "model_name": "LayoutModel",
      "state": {}
     },
     "e5db1fc3aec04fdfb65b947ff23508f0": {
      "model_module": "@jupyter-widgets/controls",
      "model_module_version": "2.0.0",
      "model_name": "ToggleButtonStyleModel",
      "state": {
       "description_width": "",
       "font_family": null,
       "font_size": null,
       "font_style": null,
       "font_variant": null,
       "font_weight": null,
       "text_color": null,
       "text_decoration": null
      }
     },
     "e5f5005ee18b4a709edff6f6b7cd5060": {
      "model_module": "@jupyter-widgets/controls",
      "model_module_version": "2.0.0",
      "model_name": "ToggleButtonStyleModel",
      "state": {
       "description_width": "",
       "font_family": null,
       "font_size": null,
       "font_style": null,
       "font_variant": null,
       "font_weight": null,
       "text_color": null,
       "text_decoration": null
      }
     },
     "e5ffb5da12b4414087abf1653c51e841": {
      "model_module": "@jupyter-widgets/controls",
      "model_module_version": "2.0.0",
      "model_name": "ToggleButtonModel",
      "state": {
       "button_style": "success",
       "disabled": true,
       "layout": "IPY_MODEL_58452c5b934e45b59b40dbda05b4d47c",
       "style": "IPY_MODEL_18429a5bcad04028861717159d55aa55",
       "tooltip": null
      }
     },
     "e60234501bfa4b6b87a876e60c01cb3f": {
      "model_module": "@jupyter-widgets/controls",
      "model_module_version": "2.0.0",
      "model_name": "ToggleButtonModel",
      "state": {
       "button_style": "info",
       "disabled": true,
       "layout": "IPY_MODEL_9c61bb957f7c4a25976dcbd6e83798b8",
       "style": "IPY_MODEL_e51f9369c43a40b9a9261d1cb29e76a1",
       "tooltip": null
      }
     },
     "e602941b3f864aca9bc7a6f2b3b6e826": {
      "model_module": "@jupyter-widgets/controls",
      "model_module_version": "2.0.0",
      "model_name": "ToggleButtonModel",
      "state": {
       "button_style": "success",
       "disabled": true,
       "layout": "IPY_MODEL_8d696421995345d1b22a15e63c05a8e0",
       "style": "IPY_MODEL_96222b7d03014db396fbb181810f983f",
       "tooltip": null
      }
     },
     "e61cfc96872b4846bf0d1201968b91ea": {
      "model_module": "@jupyter-widgets/controls",
      "model_module_version": "2.0.0",
      "model_name": "ToggleButtonModel",
      "state": {
       "button_style": "success",
       "disabled": true,
       "layout": "IPY_MODEL_9aa0b8d99486437599924f0fdf1f9e8b",
       "style": "IPY_MODEL_7791764d889f4b5f8c57109e29eab714",
       "tooltip": null
      }
     },
     "e636934d8c2b498aabaa32d8c4e2e9e4": {
      "model_module": "@jupyter-widgets/controls",
      "model_module_version": "2.0.0",
      "model_name": "ToggleButtonStyleModel",
      "state": {
       "description_width": "",
       "font_family": null,
       "font_size": null,
       "font_style": null,
       "font_variant": null,
       "font_weight": null,
       "text_color": null,
       "text_decoration": null
      }
     },
     "e6a403508d5b44e897d70c6a81a9767e": {
      "model_module": "@jupyter-widgets/controls",
      "model_module_version": "2.0.0",
      "model_name": "ToggleButtonModel",
      "state": {
       "button_style": "success",
       "disabled": true,
       "layout": "IPY_MODEL_cbb007f4b9644615acf96a9592fe5eea",
       "style": "IPY_MODEL_eacb9b3150d84facb367b6d170017c61",
       "tooltip": null
      }
     },
     "e6ab5d7fa6a64d0898a9a95990beded8": {
      "model_module": "@jupyter-widgets/controls",
      "model_module_version": "2.0.0",
      "model_name": "ToggleButtonModel",
      "state": {
       "button_style": "success",
       "disabled": true,
       "layout": "IPY_MODEL_3831200db05b4a7986a2bfa009c0e327",
       "style": "IPY_MODEL_c9730a202c7b459aab5360dc97880d22",
       "tooltip": null
      }
     },
     "e6b173fb42924cc99150d81504f9c105": {
      "model_module": "@jupyter-widgets/controls",
      "model_module_version": "2.0.0",
      "model_name": "ToggleButtonStyleModel",
      "state": {
       "description_width": "",
       "font_family": null,
       "font_size": null,
       "font_style": null,
       "font_variant": null,
       "font_weight": null,
       "text_color": null,
       "text_decoration": null
      }
     },
     "e6d42476ce184e5583922d319c30f436": {
      "model_module": "@jupyter-widgets/controls",
      "model_module_version": "2.0.0",
      "model_name": "ToggleButtonStyleModel",
      "state": {
       "description_width": "",
       "font_family": null,
       "font_size": null,
       "font_style": null,
       "font_variant": null,
       "font_weight": null,
       "text_color": null,
       "text_decoration": null
      }
     },
     "e7124edc2fe1457dbde3c6ea9563325d": {
      "model_module": "@jupyter-widgets/controls",
      "model_module_version": "2.0.0",
      "model_name": "ToggleButtonStyleModel",
      "state": {
       "description_width": "",
       "font_family": null,
       "font_size": null,
       "font_style": null,
       "font_variant": null,
       "font_weight": null,
       "text_color": null,
       "text_decoration": null
      }
     },
     "e71842dbf8d84eb4b2da6e1140643b03": {
      "model_module": "@jupyter-widgets/controls",
      "model_module_version": "2.0.0",
      "model_name": "ToggleButtonStyleModel",
      "state": {
       "description_width": "",
       "font_family": null,
       "font_size": null,
       "font_style": null,
       "font_variant": null,
       "font_weight": null,
       "text_color": null,
       "text_decoration": null
      }
     },
     "e719e38396e94791907cf8d0cbcae7a8": {
      "model_module": "@jupyter-widgets/controls",
      "model_module_version": "2.0.0",
      "model_name": "ToggleButtonStyleModel",
      "state": {
       "description_width": "",
       "font_family": null,
       "font_size": null,
       "font_style": null,
       "font_variant": null,
       "font_weight": null,
       "text_color": null,
       "text_decoration": null
      }
     },
     "e757bdebd73b4b00acd491a589763be1": {
      "model_module": "@jupyter-widgets/controls",
      "model_module_version": "2.0.0",
      "model_name": "ToggleButtonStyleModel",
      "state": {
       "description_width": "",
       "font_family": null,
       "font_size": null,
       "font_style": null,
       "font_variant": null,
       "font_weight": null,
       "text_color": null,
       "text_decoration": null
      }
     },
     "e77a04f93162444eae4dbed702a131f3": {
      "model_module": "@jupyter-widgets/base",
      "model_module_version": "2.0.0",
      "model_name": "LayoutModel",
      "state": {}
     },
     "e78c1abd43b94456b227c2d2b40bb2df": {
      "model_module": "@jupyter-widgets/controls",
      "model_module_version": "2.0.0",
      "model_name": "ToggleButtonModel",
      "state": {
       "button_style": "success",
       "disabled": true,
       "layout": "IPY_MODEL_9aa0b8d99486437599924f0fdf1f9e8b",
       "style": "IPY_MODEL_9829bde4a6454ed6926e88a9ade1f3a1",
       "tooltip": null
      }
     },
     "e78eedff89fe4bd6b88dfb76649aa1cd": {
      "model_module": "@jupyter-widgets/controls",
      "model_module_version": "2.0.0",
      "model_name": "ToggleButtonStyleModel",
      "state": {
       "description_width": "",
       "font_family": null,
       "font_size": null,
       "font_style": null,
       "font_variant": null,
       "font_weight": null,
       "text_color": null,
       "text_decoration": null
      }
     },
     "e79251d3dbee4f5498335c06a04caa5f": {
      "model_module": "@jupyter-widgets/controls",
      "model_module_version": "2.0.0",
      "model_name": "ToggleButtonStyleModel",
      "state": {
       "description_width": "",
       "font_family": null,
       "font_size": null,
       "font_style": null,
       "font_variant": null,
       "font_weight": null,
       "text_color": null,
       "text_decoration": null
      }
     },
     "e79ff34863a94e3aa2b9163604352ddf": {
      "model_module": "@jupyter-widgets/controls",
      "model_module_version": "2.0.0",
      "model_name": "ToggleButtonStyleModel",
      "state": {
       "description_width": "",
       "font_family": null,
       "font_size": null,
       "font_style": null,
       "font_variant": null,
       "font_weight": null,
       "text_color": null,
       "text_decoration": null
      }
     },
     "e7a9e1b13b544091814b2b46d3ebf79f": {
      "model_module": "@jupyter-widgets/controls",
      "model_module_version": "2.0.0",
      "model_name": "ToggleButtonStyleModel",
      "state": {
       "description_width": "",
       "font_family": null,
       "font_size": null,
       "font_style": null,
       "font_variant": null,
       "font_weight": null,
       "text_color": null,
       "text_decoration": null
      }
     },
     "e7d4fdbd77704572b9bbbba9e296ab94": {
      "model_module": "@jupyter-widgets/controls",
      "model_module_version": "2.0.0",
      "model_name": "ToggleButtonStyleModel",
      "state": {
       "description_width": "",
       "font_family": null,
       "font_size": null,
       "font_style": null,
       "font_variant": null,
       "font_weight": null,
       "text_color": null,
       "text_decoration": null
      }
     },
     "e835c0c3224b4f27bd8d4a2052b5ce2b": {
      "model_module": "@jupyter-widgets/controls",
      "model_module_version": "2.0.0",
      "model_name": "ToggleButtonModel",
      "state": {
       "button_style": "info",
       "disabled": true,
       "layout": "IPY_MODEL_9c61bb957f7c4a25976dcbd6e83798b8",
       "style": "IPY_MODEL_cc2d55953eba4684b657cd6777db8a8d",
       "tooltip": null
      }
     },
     "e85110c4565e43fbb7b6cec0e162998b": {
      "model_module": "@jupyter-widgets/controls",
      "model_module_version": "2.0.0",
      "model_name": "ToggleButtonModel",
      "state": {
       "button_style": "success",
       "disabled": true,
       "layout": "IPY_MODEL_8d696421995345d1b22a15e63c05a8e0",
       "style": "IPY_MODEL_e5db1fc3aec04fdfb65b947ff23508f0",
       "tooltip": null
      }
     },
     "e87e32619cd843158c9bd91895fa5e96": {
      "model_module": "@jupyter-widgets/controls",
      "model_module_version": "2.0.0",
      "model_name": "ToggleButtonStyleModel",
      "state": {
       "description_width": "",
       "font_family": null,
       "font_size": null,
       "font_style": null,
       "font_variant": null,
       "font_weight": null,
       "text_color": null,
       "text_decoration": null
      }
     },
     "e8a1dd4d18e7481a89413633546e6b25": {
      "model_module": "@jupyter-widgets/controls",
      "model_module_version": "2.0.0",
      "model_name": "ToggleButtonModel",
      "state": {
       "button_style": "success",
       "disabled": true,
       "layout": "IPY_MODEL_cbb007f4b9644615acf96a9592fe5eea",
       "style": "IPY_MODEL_435f6a6271014241b3e62145f274c980",
       "tooltip": null
      }
     },
     "e8b71edd205c468d95e9faf02d482a17": {
      "model_module": "@jupyter-widgets/controls",
      "model_module_version": "2.0.0",
      "model_name": "ToggleButtonModel",
      "state": {
       "button_style": "success",
       "disabled": true,
       "layout": "IPY_MODEL_1984f7edee3c4b9ebcaaf4fd4d1bd535",
       "style": "IPY_MODEL_3273dce846c24328b5ac2702376dec90",
       "tooltip": null
      }
     },
     "e8b9123be91b4d6c897999a103d307ed": {
      "model_module": "@jupyter-widgets/controls",
      "model_module_version": "2.0.0",
      "model_name": "ToggleButtonStyleModel",
      "state": {
       "description_width": "",
       "font_family": null,
       "font_size": null,
       "font_style": null,
       "font_variant": null,
       "font_weight": null,
       "text_color": null,
       "text_decoration": null
      }
     },
     "e8f2b73a248a4f449ee5a91ccad6308d": {
      "model_module": "@jupyter-widgets/controls",
      "model_module_version": "2.0.0",
      "model_name": "ToggleButtonModel",
      "state": {
       "button_style": "success",
       "disabled": true,
       "layout": "IPY_MODEL_9aa0b8d99486437599924f0fdf1f9e8b",
       "style": "IPY_MODEL_fe9454c772be4da6b5249229d91217e1",
       "tooltip": null
      }
     },
     "e9014ba5c57042c4bd92ff2f20beb53f": {
      "model_module": "@jupyter-widgets/controls",
      "model_module_version": "2.0.0",
      "model_name": "ToggleButtonStyleModel",
      "state": {
       "description_width": "",
       "font_family": null,
       "font_size": null,
       "font_style": null,
       "font_variant": null,
       "font_weight": null,
       "text_color": null,
       "text_decoration": null
      }
     },
     "e902d8445ecc4373b59017e291ebc273": {
      "model_module": "@jupyter-widgets/controls",
      "model_module_version": "2.0.0",
      "model_name": "ToggleButtonModel",
      "state": {
       "button_style": "success",
       "disabled": true,
       "layout": "IPY_MODEL_9aa0b8d99486437599924f0fdf1f9e8b",
       "style": "IPY_MODEL_131942e1fd44415a86f28d3133b57885",
       "tooltip": null
      }
     },
     "e9127de3e10e42ce8bff81395b0bee40": {
      "model_module": "@jupyter-widgets/controls",
      "model_module_version": "2.0.0",
      "model_name": "ToggleButtonStyleModel",
      "state": {
       "description_width": "",
       "font_family": null,
       "font_size": null,
       "font_style": null,
       "font_variant": null,
       "font_weight": null,
       "text_color": null,
       "text_decoration": null
      }
     },
     "e938b0aac5074d73b26e37a6661c1501": {
      "model_module": "@jupyter-widgets/controls",
      "model_module_version": "2.0.0",
      "model_name": "ToggleButtonModel",
      "state": {
       "button_style": "success",
       "disabled": true,
       "layout": "IPY_MODEL_3831200db05b4a7986a2bfa009c0e327",
       "style": "IPY_MODEL_e3e29f3eda9d4847a956e66beb77e294",
       "tooltip": null
      }
     },
     "e939f51ade394459b9496fcef3f7276d": {
      "model_module": "@jupyter-widgets/controls",
      "model_module_version": "2.0.0",
      "model_name": "ToggleButtonModel",
      "state": {
       "button_style": "info",
       "disabled": true,
       "layout": "IPY_MODEL_9c61bb957f7c4a25976dcbd6e83798b8",
       "style": "IPY_MODEL_24dcb00eeb914d2f9782eaac785d8f78",
       "tooltip": null
      }
     },
     "e958c684a96744fa82ec5d38a80aa8da": {
      "model_module": "@jupyter-widgets/controls",
      "model_module_version": "2.0.0",
      "model_name": "ToggleButtonStyleModel",
      "state": {
       "description_width": "",
       "font_family": null,
       "font_size": null,
       "font_style": null,
       "font_variant": null,
       "font_weight": null,
       "text_color": null,
       "text_decoration": null
      }
     },
     "e96035d3517b489caca6207531d66736": {
      "model_module": "@jupyter-widgets/controls",
      "model_module_version": "2.0.0",
      "model_name": "ToggleButtonModel",
      "state": {
       "button_style": "success",
       "disabled": true,
       "layout": "IPY_MODEL_58452c5b934e45b59b40dbda05b4d47c",
       "style": "IPY_MODEL_d0a9f8526b024d7496296655166702be",
       "tooltip": null
      }
     },
     "e98fd61ad6f94f51b4dba0181ba95433": {
      "model_module": "@jupyter-widgets/controls",
      "model_module_version": "2.0.0",
      "model_name": "HBoxModel",
      "state": {
       "children": [
        "IPY_MODEL_d56ba38ab48d4cc0a20e2dd04c63fec9",
        "IPY_MODEL_de4cd3a58fe14ed4bdfba7a9dfb1cfa4",
        "IPY_MODEL_7a9783dc1f5641c8b3b40e255c4f60d0",
        "IPY_MODEL_af8d35c60d6b4785bae436c58e87c831",
        "IPY_MODEL_5d91b5c693a740079f906bd6f4253cdf",
        "IPY_MODEL_744666abee7b422cb54f9aea64b779e3",
        "IPY_MODEL_eeb2e66cb8de4bfcb9bcc0ee03b5adb7",
        "IPY_MODEL_f18de8f1369b40f2b76a06ae5558d151",
        "IPY_MODEL_b0c45804905e4dd6aad52e6cc7350412",
        "IPY_MODEL_cee1929035d1433f88a0fd6edb5e22ac",
        "IPY_MODEL_b0c45804905e4dd6aad52e6cc7350412",
        "IPY_MODEL_b0c45804905e4dd6aad52e6cc7350412",
        "IPY_MODEL_b0c45804905e4dd6aad52e6cc7350412",
        "IPY_MODEL_39f8d5ad71d7435fa06288c50fa5627b",
        "IPY_MODEL_b0c45804905e4dd6aad52e6cc7350412"
       ],
       "layout": "IPY_MODEL_69a4c0b0826149a1b772ccc5fab3f22d"
      }
     },
     "ea2d050c4e534b11a69542e18c63effb": {
      "model_module": "@jupyter-widgets/controls",
      "model_module_version": "2.0.0",
      "model_name": "ToggleButtonModel",
      "state": {
       "button_style": "info",
       "disabled": true,
       "layout": "IPY_MODEL_9c61bb957f7c4a25976dcbd6e83798b8",
       "style": "IPY_MODEL_93154107582a4df4b7f985cc81be6dbd",
       "tooltip": null
      }
     },
     "ea7c6fe0906e4a129fc3d740512f7d78": {
      "model_module": "@jupyter-widgets/controls",
      "model_module_version": "2.0.0",
      "model_name": "ToggleButtonModel",
      "state": {
       "button_style": "success",
       "disabled": true,
       "layout": "IPY_MODEL_2d2b7c3a0e0b4e2ea0528a045ba78de4",
       "style": "IPY_MODEL_33726cbd9e0445d8a3d4adf3794e0b6d",
       "tooltip": null
      }
     },
     "ea9468b950db40478dbc75043c1e4058": {
      "model_module": "@jupyter-widgets/controls",
      "model_module_version": "2.0.0",
      "model_name": "ToggleButtonModel",
      "state": {
       "button_style": "danger",
       "disabled": true,
       "layout": "IPY_MODEL_9c61bb957f7c4a25976dcbd6e83798b8",
       "style": "IPY_MODEL_d081d78dd3974c01831c62afb5e6ac11",
       "tooltip": null
      }
     },
     "eab17638bb854a3ab163f679fcd7b0e3": {
      "model_module": "@jupyter-widgets/controls",
      "model_module_version": "2.0.0",
      "model_name": "ToggleButtonModel",
      "state": {
       "button_style": "info",
       "disabled": true,
       "layout": "IPY_MODEL_9c61bb957f7c4a25976dcbd6e83798b8",
       "style": "IPY_MODEL_877c01bf6b3741548889cd83adbda474",
       "tooltip": null
      }
     },
     "eacb71b68ae04d9b86def4a4b9c28648": {
      "model_module": "@jupyter-widgets/controls",
      "model_module_version": "2.0.0",
      "model_name": "ToggleButtonModel",
      "state": {
       "button_style": "success",
       "disabled": true,
       "layout": "IPY_MODEL_9aa0b8d99486437599924f0fdf1f9e8b",
       "style": "IPY_MODEL_cbd9d6c2fb874e7babdfe2976217475f",
       "tooltip": null
      }
     },
     "eacb9b3150d84facb367b6d170017c61": {
      "model_module": "@jupyter-widgets/controls",
      "model_module_version": "2.0.0",
      "model_name": "ToggleButtonStyleModel",
      "state": {
       "description_width": "",
       "font_family": null,
       "font_size": null,
       "font_style": null,
       "font_variant": null,
       "font_weight": null,
       "text_color": null,
       "text_decoration": null
      }
     },
     "eb0187ff49e04c48ad1208259f31b944": {
      "model_module": "@jupyter-widgets/controls",
      "model_module_version": "2.0.0",
      "model_name": "ToggleButtonStyleModel",
      "state": {
       "description_width": "",
       "font_family": null,
       "font_size": null,
       "font_style": null,
       "font_variant": null,
       "font_weight": null,
       "text_color": null,
       "text_decoration": null
      }
     },
     "eb48f4f8f86e417a8796cdc71d381f75": {
      "model_module": "@jupyter-widgets/controls",
      "model_module_version": "2.0.0",
      "model_name": "ToggleButtonStyleModel",
      "state": {
       "description_width": "",
       "font_family": null,
       "font_size": null,
       "font_style": null,
       "font_variant": null,
       "font_weight": null,
       "text_color": null,
       "text_decoration": null
      }
     },
     "eb5810b0a1084ebebad643e138c885cc": {
      "model_module": "@jupyter-widgets/controls",
      "model_module_version": "2.0.0",
      "model_name": "ToggleButtonStyleModel",
      "state": {
       "description_width": "",
       "font_family": null,
       "font_size": null,
       "font_style": null,
       "font_variant": null,
       "font_weight": null,
       "text_color": null,
       "text_decoration": null
      }
     },
     "eb6c55ea524a4530b5a79654c655ad9b": {
      "model_module": "@jupyter-widgets/controls",
      "model_module_version": "2.0.0",
      "model_name": "HBoxModel",
      "state": {
       "children": [
        "IPY_MODEL_1e8df5e7c85f4359a32aed2b36dd455e",
        "IPY_MODEL_c662ebb4a957480ca75ee2e9ff8bd0f3",
        "IPY_MODEL_20ea062b73a14afea5d6edfdc85e298b",
        "IPY_MODEL_511cb6da3e5741698dd5b697586c3d7e",
        "IPY_MODEL_5f406836c4d64bd195e07048653a614a",
        "IPY_MODEL_060f1837b786483facac64288ba74adb",
        "IPY_MODEL_19d852347ca744ada88698cb37bd9017",
        "IPY_MODEL_56833bd0768b4ee09479687ff8e9cd65",
        "IPY_MODEL_0e57a4a24e114ca1baa7de7f050eeb47",
        "IPY_MODEL_80a6678ec6cb461ab33e346213108cf2",
        "IPY_MODEL_0e57a4a24e114ca1baa7de7f050eeb47",
        "IPY_MODEL_0e57a4a24e114ca1baa7de7f050eeb47",
        "IPY_MODEL_0e57a4a24e114ca1baa7de7f050eeb47",
        "IPY_MODEL_67e83f6bdfe64fd7af23596046fb4265",
        "IPY_MODEL_0e57a4a24e114ca1baa7de7f050eeb47"
       ],
       "layout": "IPY_MODEL_fc1f6eea2955471e9ceda72360f8f400"
      }
     },
     "eb72bb6d123f4faf9f111a6f04634e64": {
      "model_module": "@jupyter-widgets/controls",
      "model_module_version": "2.0.0",
      "model_name": "ToggleButtonModel",
      "state": {
       "button_style": "success",
       "disabled": true,
       "layout": "IPY_MODEL_58452c5b934e45b59b40dbda05b4d47c",
       "style": "IPY_MODEL_2ed6406c653247969db3b8a8627035e2",
       "tooltip": null
      }
     },
     "ebd8a4d5e59044d2835660227a95e266": {
      "model_module": "@jupyter-widgets/controls",
      "model_module_version": "2.0.0",
      "model_name": "ToggleButtonModel",
      "state": {
       "button_style": "success",
       "disabled": true,
       "layout": "IPY_MODEL_58452c5b934e45b59b40dbda05b4d47c",
       "style": "IPY_MODEL_b9e51b8bb5414f739ec68cef55b5b241",
       "tooltip": null
      }
     },
     "ec2752c5b4ec4434a54ec8fe76ac5a23": {
      "model_module": "@jupyter-widgets/controls",
      "model_module_version": "2.0.0",
      "model_name": "ToggleButtonModel",
      "state": {
       "description": "B",
       "layout": "IPY_MODEL_8d696421995345d1b22a15e63c05a8e0",
       "style": "IPY_MODEL_fb2d21f9d5db475fa6bfd555f8bd0339",
       "tooltip": null
      }
     },
     "ec57339ded204953997db8d6d5d8cab1": {
      "model_module": "@jupyter-widgets/controls",
      "model_module_version": "2.0.0",
      "model_name": "ToggleButtonStyleModel",
      "state": {
       "description_width": "",
       "font_family": null,
       "font_size": null,
       "font_style": null,
       "font_variant": null,
       "font_weight": null,
       "text_color": null,
       "text_decoration": null
      }
     },
     "ec7a188e2c5a4f86b9c8e6cd6d02d219": {
      "model_module": "@jupyter-widgets/controls",
      "model_module_version": "2.0.0",
      "model_name": "ToggleButtonStyleModel",
      "state": {
       "description_width": "",
       "font_family": null,
       "font_size": null,
       "font_style": null,
       "font_variant": null,
       "font_weight": null,
       "text_color": null,
       "text_decoration": null
      }
     },
     "ec85e606bae747399f8d749d02955b92": {
      "model_module": "@jupyter-widgets/controls",
      "model_module_version": "2.0.0",
      "model_name": "ToggleButtonStyleModel",
      "state": {
       "description_width": "",
       "font_family": null,
       "font_size": null,
       "font_style": null,
       "font_variant": null,
       "font_weight": null,
       "text_color": null,
       "text_decoration": null
      }
     },
     "ec8bcaea8b9643d2be7ea86bff785dd4": {
      "model_module": "@jupyter-widgets/base",
      "model_module_version": "2.0.0",
      "model_name": "LayoutModel",
      "state": {}
     },
     "ecc905e872774611a6f4e44e80567ecc": {
      "model_module": "@jupyter-widgets/controls",
      "model_module_version": "2.0.0",
      "model_name": "HBoxModel",
      "state": {
       "children": [
        "IPY_MODEL_fed400f9d53a4081a6cc279c5d57310e",
        "IPY_MODEL_5797d4843bd744a1b7440c1f9d734d4c",
        "IPY_MODEL_f484f40a7a774c77832b3095806d6c43",
        "IPY_MODEL_29b958ba9cd14598b6a4b32c9c8f4a8c",
        "IPY_MODEL_1a9dcd61ae37435c8565485c01ad04eb",
        "IPY_MODEL_bdb48adb2bae4fbf9875384278b0657a",
        "IPY_MODEL_923d651feef043409f11b29dbf5df126",
        "IPY_MODEL_f1f68c4a29e348138ee7b6093fb0ef5f",
        "IPY_MODEL_aa0f88d2318c418696b3ae03eae6cb0d"
       ],
       "layout": "IPY_MODEL_b328a42b6dfe43eaa9be11cf887e25b0"
      }
     },
     "ecd4eaf12ae34700bce7927b7ee0b5bd": {
      "model_module": "@jupyter-widgets/controls",
      "model_module_version": "2.0.0",
      "model_name": "ToggleButtonStyleModel",
      "state": {
       "description_width": "",
       "font_family": null,
       "font_size": null,
       "font_style": null,
       "font_variant": null,
       "font_weight": null,
       "text_color": null,
       "text_decoration": null
      }
     },
     "ed05f95011cd4d30bc6e2d57d3823165": {
      "model_module": "@jupyter-widgets/controls",
      "model_module_version": "2.0.0",
      "model_name": "ToggleButtonStyleModel",
      "state": {
       "description_width": "",
       "font_family": null,
       "font_size": null,
       "font_style": null,
       "font_variant": null,
       "font_weight": null,
       "text_color": null,
       "text_decoration": null
      }
     },
     "ed44d147f35d429485254e2a3548aa9e": {
      "model_module": "@jupyter-widgets/controls",
      "model_module_version": "2.0.0",
      "model_name": "ToggleButtonStyleModel",
      "state": {
       "description_width": "",
       "font_family": null,
       "font_size": null,
       "font_style": null,
       "font_variant": null,
       "font_weight": null,
       "text_color": null,
       "text_decoration": null
      }
     },
     "ed9bc52f6b97413cbb57c092ae0a06b9": {
      "model_module": "@jupyter-widgets/controls",
      "model_module_version": "2.0.0",
      "model_name": "ToggleButtonModel",
      "state": {
       "description": "▼",
       "layout": "IPY_MODEL_1984f7edee3c4b9ebcaaf4fd4d1bd535",
       "style": "IPY_MODEL_dc9ef6f175334693b976d652a78f0ae7",
       "tooltip": null
      }
     },
     "edbf777290d7459bbf7bddf732717e69": {
      "model_module": "@jupyter-widgets/controls",
      "model_module_version": "2.0.0",
      "model_name": "ToggleButtonStyleModel",
      "state": {
       "description_width": "",
       "font_family": null,
       "font_size": null,
       "font_style": null,
       "font_variant": null,
       "font_weight": null,
       "text_color": null,
       "text_decoration": null
      }
     },
     "edef17ae333c4b2ea16dea139fe6123b": {
      "model_module": "@jupyter-widgets/controls",
      "model_module_version": "2.0.0",
      "model_name": "ToggleButtonModel",
      "state": {
       "button_style": "success",
       "disabled": true,
       "layout": "IPY_MODEL_cbb007f4b9644615acf96a9592fe5eea",
       "style": "IPY_MODEL_41962664bf8d4994968e9264819b96fb",
       "tooltip": null
      }
     },
     "ee0582178e654bab8aa5868cadec2e5f": {
      "model_module": "@jupyter-widgets/controls",
      "model_module_version": "2.0.0",
      "model_name": "ToggleButtonStyleModel",
      "state": {
       "description_width": "",
       "font_family": null,
       "font_size": null,
       "font_style": null,
       "font_variant": null,
       "font_weight": null,
       "text_color": null,
       "text_decoration": null
      }
     },
     "ee069df586954004ac2be22d29f982ea": {
      "model_module": "@jupyter-widgets/controls",
      "model_module_version": "2.0.0",
      "model_name": "ToggleButtonStyleModel",
      "state": {
       "description_width": "",
       "font_family": null,
       "font_size": null,
       "font_style": null,
       "font_variant": null,
       "font_weight": null,
       "text_color": null,
       "text_decoration": null
      }
     },
     "ee15d16258da4e1bb8661378c4ef80f3": {
      "model_module": "@jupyter-widgets/controls",
      "model_module_version": "2.0.0",
      "model_name": "HTMLModel",
      "state": {
       "layout": "IPY_MODEL_97aed59ab5f4405ba4a7cca75ed2489c",
       "style": "IPY_MODEL_de989b312c5441eaa5f6200186418aeb",
       "value": "<h5>Backend</h5>"
      }
     },
     "ee1b359adcdd476f806062a762344e1d": {
      "model_module": "@jupyter-widgets/controls",
      "model_module_version": "2.0.0",
      "model_name": "ToggleButtonStyleModel",
      "state": {
       "description_width": "",
       "font_family": null,
       "font_size": null,
       "font_style": null,
       "font_variant": null,
       "font_weight": null,
       "text_color": null,
       "text_decoration": null
      }
     },
     "ee559040941047c3afba86058d81e3c7": {
      "model_module": "@jupyter-widgets/controls",
      "model_module_version": "2.0.0",
      "model_name": "ToggleButtonModel",
      "state": {
       "button_style": "success",
       "disabled": true,
       "layout": "IPY_MODEL_3831200db05b4a7986a2bfa009c0e327",
       "style": "IPY_MODEL_cbb6c2b9425a4b2890e261d7b4e8f702",
       "tooltip": null
      }
     },
     "ee5a870e614a4737a0878b67ab806b53": {
      "model_module": "@jupyter-widgets/controls",
      "model_module_version": "2.0.0",
      "model_name": "ToggleButtonModel",
      "state": {
       "button_style": "success",
       "disabled": true,
       "layout": "IPY_MODEL_2d2b7c3a0e0b4e2ea0528a045ba78de4",
       "style": "IPY_MODEL_b0d4902e65024c888622f33e8391652c",
       "tooltip": null
      }
     },
     "ee64b1ac9f514f47977f72a0c536b1aa": {
      "model_module": "@jupyter-widgets/controls",
      "model_module_version": "2.0.0",
      "model_name": "ToggleButtonModel",
      "state": {
       "button_style": "success",
       "disabled": true,
       "layout": "IPY_MODEL_9aa0b8d99486437599924f0fdf1f9e8b",
       "style": "IPY_MODEL_72e0f9587a04424a8138f181224ddb01",
       "tooltip": null
      }
     },
     "eeab119fb64244238b0e24353f289cca": {
      "model_module": "@jupyter-widgets/controls",
      "model_module_version": "2.0.0",
      "model_name": "ToggleButtonModel",
      "state": {
       "button_style": "success",
       "disabled": true,
       "layout": "IPY_MODEL_9aa0b8d99486437599924f0fdf1f9e8b",
       "style": "IPY_MODEL_9fab736a918f41209bfe6a5646140990",
       "tooltip": null
      }
     },
     "eeb2e66cb8de4bfcb9bcc0ee03b5adb7": {
      "model_module": "@jupyter-widgets/controls",
      "model_module_version": "2.0.0",
      "model_name": "ToggleButtonModel",
      "state": {
       "button_style": "success",
       "disabled": true,
       "layout": "IPY_MODEL_58452c5b934e45b59b40dbda05b4d47c",
       "style": "IPY_MODEL_e78eedff89fe4bd6b88dfb76649aa1cd",
       "tooltip": null
      }
     },
     "ef19620255aa4085bf56761d3db7544e": {
      "model_module": "@jupyter-widgets/base",
      "model_module_version": "2.0.0",
      "model_name": "LayoutModel",
      "state": {}
     },
     "ef3bb8cf9e7846fb92e4e867222b1113": {
      "model_module": "@jupyter-widgets/controls",
      "model_module_version": "2.0.0",
      "model_name": "ToggleButtonStyleModel",
      "state": {
       "description_width": "",
       "font_family": null,
       "font_size": null,
       "font_style": null,
       "font_variant": null,
       "font_weight": null,
       "text_color": null,
       "text_decoration": null
      }
     },
     "ef46be4a19ca43dcb4fcfadcaa13564d": {
      "model_module": "@jupyter-widgets/controls",
      "model_module_version": "2.0.0",
      "model_name": "ToggleButtonStyleModel",
      "state": {
       "description_width": "",
       "font_family": null,
       "font_size": null,
       "font_style": null,
       "font_variant": null,
       "font_weight": null,
       "text_color": null,
       "text_decoration": null
      }
     },
     "ef4c9ddea4424a88818e5d5bcc463824": {
      "model_module": "@jupyter-widgets/controls",
      "model_module_version": "2.0.0",
      "model_name": "HBoxModel",
      "state": {
       "children": [
        "IPY_MODEL_34fa545439eb4bfd8e9beb8b457cf783",
        "IPY_MODEL_26dfb50a5bf545ed8b8bfd3136bec195",
        "IPY_MODEL_45dea969a96140669defad1186a9fba1",
        "IPY_MODEL_1e72cadab97045af93b121255029c582",
        "IPY_MODEL_826cf18701c6413396c0ad0a4c9bc34d",
        "IPY_MODEL_261645839d5c450b80982a8028d2d9fa",
        "IPY_MODEL_bb6cab904fd44ec58aa09cb581018e0b",
        "IPY_MODEL_b660b8ddd22349de8683692b9513e679",
        "IPY_MODEL_6763f83c47eb4b16a89ad251b7e6ac53",
        "IPY_MODEL_f62a0aaa595a409d9b2add36383c4017",
        "IPY_MODEL_518bc9a11a464e7ca5511c6ad627bc1e",
        "IPY_MODEL_f62a0aaa595a409d9b2add36383c4017",
        "IPY_MODEL_c1555a575f364c59978759207dca4417",
        "IPY_MODEL_f62a0aaa595a409d9b2add36383c4017",
        "IPY_MODEL_890046cf2e564441adf64c46a2244d88"
       ],
       "layout": "IPY_MODEL_7d8d77bf817d474a86f0e1d0256a7e97"
      }
     },
     "ef586316b949476da85cfc5622a89fff": {
      "model_module": "@jupyter-widgets/base",
      "model_module_version": "2.0.0",
      "model_name": "LayoutModel",
      "state": {
       "height": "50px",
       "width": "428px"
      }
     },
     "ef80da5e974d44679dd9fba04ce2ccbd": {
      "model_module": "@jupyter-widgets/controls",
      "model_module_version": "2.0.0",
      "model_name": "ToggleButtonModel",
      "state": {
       "button_style": "success",
       "disabled": true,
       "layout": "IPY_MODEL_1984f7edee3c4b9ebcaaf4fd4d1bd535",
       "style": "IPY_MODEL_d090df71b2124442bafc515f21911df7",
       "tooltip": null
      }
     },
     "ef969bdd13474260aa3f6633fab7e0cb": {
      "model_module": "@jupyter-widgets/controls",
      "model_module_version": "2.0.0",
      "model_name": "ToggleButtonModel",
      "state": {
       "button_style": "success",
       "disabled": true,
       "layout": "IPY_MODEL_1984f7edee3c4b9ebcaaf4fd4d1bd535",
       "style": "IPY_MODEL_22701cd6214b40f490a6acf174e323ef",
       "tooltip": null
      }
     },
     "f01fd04611584302a130c2e6c4b23626": {
      "model_module": "@jupyter-widgets/controls",
      "model_module_version": "2.0.0",
      "model_name": "ToggleButtonStyleModel",
      "state": {
       "description_width": "",
       "font_family": null,
       "font_size": null,
       "font_style": null,
       "font_variant": null,
       "font_weight": null,
       "text_color": null,
       "text_decoration": null
      }
     },
     "f0f9282280cd45829a221f650c419a3d": {
      "model_module": "@jupyter-widgets/controls",
      "model_module_version": "2.0.0",
      "model_name": "ToggleButtonModel",
      "state": {
       "button_style": "success",
       "disabled": true,
       "layout": "IPY_MODEL_9aa0b8d99486437599924f0fdf1f9e8b",
       "style": "IPY_MODEL_7acca9b246154fe78d9d784607bec1ab",
       "tooltip": null
      }
     },
     "f149ebd410a94f07bfb1cd3f800d941e": {
      "model_module": "@jupyter-widgets/controls",
      "model_module_version": "2.0.0",
      "model_name": "ToggleButtonModel",
      "state": {
       "button_style": "success",
       "disabled": true,
       "layout": "IPY_MODEL_9aa0b8d99486437599924f0fdf1f9e8b",
       "style": "IPY_MODEL_f01fd04611584302a130c2e6c4b23626",
       "tooltip": null
      }
     },
     "f15fd0ea4ff048d789121e750fa4e61e": {
      "model_module": "@jupyter-widgets/base",
      "model_module_version": "2.0.0",
      "model_name": "LayoutModel",
      "state": {}
     },
     "f1645fac60554e63aab8b76e9a8e9aa4": {
      "model_module": "@jupyter-widgets/controls",
      "model_module_version": "2.0.0",
      "model_name": "ToggleButtonModel",
      "state": {
       "button_style": "success",
       "disabled": true,
       "layout": "IPY_MODEL_58452c5b934e45b59b40dbda05b4d47c",
       "style": "IPY_MODEL_2a106094509242909573d79b4ee8d69c",
       "tooltip": null
      }
     },
     "f173c56477ef4fecb59029d62a0d64ac": {
      "model_module": "@jupyter-widgets/controls",
      "model_module_version": "2.0.0",
      "model_name": "ToggleButtonStyleModel",
      "state": {
       "description_width": "",
       "font_family": null,
       "font_size": null,
       "font_style": null,
       "font_variant": null,
       "font_weight": null,
       "text_color": null,
       "text_decoration": null
      }
     },
     "f189c957f1bd4c0ab7c2a08d8e03d23b": {
      "model_module": "@jupyter-widgets/controls",
      "model_module_version": "2.0.0",
      "model_name": "ToggleButtonModel",
      "state": {
       "description": "Next",
       "layout": "IPY_MODEL_0d9dfaa7fb6b4697b1ba252f925a84c9",
       "style": "IPY_MODEL_0ea5e4cc76da4e4cab90cdfb33944b26",
       "tooltip": null
      }
     },
     "f18de8f1369b40f2b76a06ae5558d151": {
      "model_module": "@jupyter-widgets/controls",
      "model_module_version": "2.0.0",
      "model_name": "ToggleButtonModel",
      "state": {
       "button_style": "success",
       "disabled": true,
       "layout": "IPY_MODEL_58452c5b934e45b59b40dbda05b4d47c",
       "style": "IPY_MODEL_4b91aab471c54cbd8714880ca9f93365",
       "tooltip": null
      }
     },
     "f1b13411cf074fdaa831c68d78989df4": {
      "model_module": "@jupyter-widgets/controls",
      "model_module_version": "2.0.0",
      "model_name": "ToggleButtonModel",
      "state": {
       "button_style": "success",
       "disabled": true,
       "layout": "IPY_MODEL_58452c5b934e45b59b40dbda05b4d47c",
       "style": "IPY_MODEL_1bd70dc62d2b41218fb28407c32f290f",
       "tooltip": null
      }
     },
     "f1d1309e75764dc3a099e7128d6f58f8": {
      "model_module": "@jupyter-widgets/controls",
      "model_module_version": "2.0.0",
      "model_name": "ToggleButtonModel",
      "state": {
       "button_style": "danger",
       "disabled": true,
       "layout": "IPY_MODEL_3831200db05b4a7986a2bfa009c0e327",
       "style": "IPY_MODEL_441799f58c7840589ca14c242d62ea9e",
       "tooltip": null
      }
     },
     "f1f68c4a29e348138ee7b6093fb0ef5f": {
      "model_module": "@jupyter-widgets/controls",
      "model_module_version": "2.0.0",
      "model_name": "ToggleButtonModel",
      "state": {
       "button_style": "success",
       "disabled": true,
       "layout": "IPY_MODEL_3831200db05b4a7986a2bfa009c0e327",
       "style": "IPY_MODEL_94ace8e4e7d24429bb89e400bd898a62",
       "tooltip": null
      }
     },
     "f201f20f7454440897a3e4c7de36007f": {
      "model_module": "@jupyter-widgets/controls",
      "model_module_version": "2.0.0",
      "model_name": "ToggleButtonModel",
      "state": {
       "button_style": "success",
       "disabled": true,
       "layout": "IPY_MODEL_8d696421995345d1b22a15e63c05a8e0",
       "style": "IPY_MODEL_b4c034f0ab99401f85dfd3c2ef8b228e",
       "tooltip": null
      }
     },
     "f2025c6b35e84a16976a313ed993a45c": {
      "model_module": "@jupyter-widgets/controls",
      "model_module_version": "2.0.0",
      "model_name": "ToggleButtonModel",
      "state": {
       "button_style": "success",
       "disabled": true,
       "layout": "IPY_MODEL_9aa0b8d99486437599924f0fdf1f9e8b",
       "style": "IPY_MODEL_f8cd8207f0a54cbdb34893e5cce76cb8",
       "tooltip": null
      }
     },
     "f211d368b21049a89429d1fd6cc84c51": {
      "model_module": "@jupyter-widgets/controls",
      "model_module_version": "2.0.0",
      "model_name": "ToggleButtonModel",
      "state": {
       "button_style": "success",
       "disabled": true,
       "layout": "IPY_MODEL_8d696421995345d1b22a15e63c05a8e0",
       "style": "IPY_MODEL_44e30179fc9045b797dedc02804a7132",
       "tooltip": null
      }
     },
     "f246ee2d6e6045edbf8edd5c91d5138c": {
      "model_module": "@jupyter-widgets/controls",
      "model_module_version": "2.0.0",
      "model_name": "ToggleButtonStyleModel",
      "state": {
       "description_width": "",
       "font_family": null,
       "font_size": null,
       "font_style": null,
       "font_variant": null,
       "font_weight": null,
       "text_color": null,
       "text_decoration": null
      }
     },
     "f272882edd104e55881b66b4f899968a": {
      "model_module": "@jupyter-widgets/controls",
      "model_module_version": "2.0.0",
      "model_name": "ToggleButtonStyleModel",
      "state": {
       "description_width": "",
       "font_family": null,
       "font_size": null,
       "font_style": null,
       "font_variant": null,
       "font_weight": null,
       "text_color": null,
       "text_decoration": null
      }
     },
     "f282ed32261e412ab5d5fd186fff82e9": {
      "model_module": "@jupyter-widgets/controls",
      "model_module_version": "2.0.0",
      "model_name": "ToggleButtonModel",
      "state": {
       "button_style": "success",
       "disabled": true,
       "layout": "IPY_MODEL_2d2b7c3a0e0b4e2ea0528a045ba78de4",
       "style": "IPY_MODEL_c246638bb62b4cad9f3ea1622a846af7",
       "tooltip": null
      }
     },
     "f2c489affacd40eaa360379c3602182f": {
      "model_module": "@jupyter-widgets/controls",
      "model_module_version": "2.0.0",
      "model_name": "HBoxModel",
      "state": {
       "children": [
        "IPY_MODEL_169078845c0a4e96a34d438ec10a2e27",
        "IPY_MODEL_18f1822bd6c243309e59085845521786",
        "IPY_MODEL_a2e681da861d4f40b30d769f511980fd",
        "IPY_MODEL_0c127b405e504b4db970e18aa5823541",
        "IPY_MODEL_d1950115bb9740248e5c3b926ecd91f6",
        "IPY_MODEL_1e98a0cf13384299ad73f388de53a78b",
        "IPY_MODEL_db8e7a9387b549d88217d755ea5ccd48",
        "IPY_MODEL_55dca64794a44ffd9d84ce9b6bd8b262"
       ],
       "layout": "IPY_MODEL_3a62194ee87842ad8d539f77cdf67192"
      }
     },
     "f30880f22edd4e159736c42b507c070c": {
      "model_module": "@jupyter-widgets/base",
      "model_module_version": "2.0.0",
      "model_name": "LayoutModel",
      "state": {
       "grid_area": "right",
       "padding": "0px 0px 0px 0px",
       "width": "70px"
      }
     },
     "f36f68f1b82d49988a644e5bb4dc5f8e": {
      "model_module": "@jupyter-widgets/controls",
      "model_module_version": "2.0.0",
      "model_name": "ToggleButtonModel",
      "state": {
       "button_style": "success",
       "disabled": true,
       "layout": "IPY_MODEL_3831200db05b4a7986a2bfa009c0e327",
       "style": "IPY_MODEL_e1f2e74965b04ab684e3b7d7dad29233",
       "tooltip": null
      }
     },
     "f3711bff82944ae5a78b4e27c2f2bfcb": {
      "model_module": "@jupyter-widgets/controls",
      "model_module_version": "2.0.0",
      "model_name": "ToggleButtonStyleModel",
      "state": {
       "description_width": "",
       "font_family": null,
       "font_size": null,
       "font_style": null,
       "font_variant": null,
       "font_weight": null,
       "text_color": null,
       "text_decoration": null
      }
     },
     "f3e7c4b261dc42ba9ed0fda90f0cae2e": {
      "model_module": "@jupyter-widgets/controls",
      "model_module_version": "2.0.0",
      "model_name": "ToggleButtonModel",
      "state": {
       "button_style": "success",
       "disabled": true,
       "layout": "IPY_MODEL_cbb007f4b9644615acf96a9592fe5eea",
       "style": "IPY_MODEL_ed05f95011cd4d30bc6e2d57d3823165",
       "tooltip": null
      }
     },
     "f479cf09c37d43a792b43c627131130c": {
      "model_module": "@jupyter-widgets/controls",
      "model_module_version": "2.0.0",
      "model_name": "ToggleButtonStyleModel",
      "state": {
       "description_width": "",
       "font_family": null,
       "font_size": null,
       "font_style": null,
       "font_variant": null,
       "font_weight": null,
       "text_color": null,
       "text_decoration": null
      }
     },
     "f484f40a7a774c77832b3095806d6c43": {
      "model_module": "@jupyter-widgets/controls",
      "model_module_version": "2.0.0",
      "model_name": "ToggleButtonModel",
      "state": {
       "button_style": "success",
       "disabled": true,
       "layout": "IPY_MODEL_3831200db05b4a7986a2bfa009c0e327",
       "style": "IPY_MODEL_3d92e67672c944d9b0993f1e66cc5847",
       "tooltip": null
      }
     },
     "f51f8b6967a242c2a3debdaf46380a83": {
      "model_module": "@jupyter-widgets/controls",
      "model_module_version": "2.0.0",
      "model_name": "ToggleButtonStyleModel",
      "state": {
       "description_width": "",
       "font_family": null,
       "font_size": null,
       "font_style": null,
       "font_variant": null,
       "font_weight": null,
       "text_color": null,
       "text_decoration": null
      }
     },
     "f52621c5f8ce4012a369511e1ec82a16": {
      "model_module": "@jupyter-widgets/controls",
      "model_module_version": "2.0.0",
      "model_name": "ToggleButtonStyleModel",
      "state": {
       "description_width": "",
       "font_family": null,
       "font_size": null,
       "font_style": null,
       "font_variant": null,
       "font_weight": null,
       "text_color": null,
       "text_decoration": null
      }
     },
     "f59e21baffac463291025f262b3bc442": {
      "model_module": "@jupyter-widgets/controls",
      "model_module_version": "2.0.0",
      "model_name": "ToggleButtonModel",
      "state": {
       "button_style": "success",
       "disabled": true,
       "layout": "IPY_MODEL_1984f7edee3c4b9ebcaaf4fd4d1bd535",
       "style": "IPY_MODEL_bd1f4a7e0f4c4c28934897667742fdfe",
       "tooltip": null
      }
     },
     "f5a256d1494c4c24a7bc23daa953b1c4": {
      "model_module": "@jupyter-widgets/controls",
      "model_module_version": "2.0.0",
      "model_name": "ToggleButtonStyleModel",
      "state": {
       "description_width": "",
       "font_family": null,
       "font_size": null,
       "font_style": null,
       "font_variant": null,
       "font_weight": null,
       "text_color": null,
       "text_decoration": null
      }
     },
     "f62a0aaa595a409d9b2add36383c4017": {
      "model_module": "@jupyter-widgets/controls",
      "model_module_version": "2.0.0",
      "model_name": "ToggleButtonModel",
      "state": {
       "layout": "IPY_MODEL_2d2b7c3a0e0b4e2ea0528a045ba78de4",
       "style": "IPY_MODEL_1201c6cf8d414b14a4e87876b63bb47e",
       "tooltip": null
      }
     },
     "f69f17c789f54ae39be9988eb5763b99": {
      "model_module": "@jupyter-widgets/base",
      "model_module_version": "2.0.0",
      "model_name": "LayoutModel",
      "state": {
       "width": "95px"
      }
     },
     "f6d4a251fba440b6be2533f047e8ef7a": {
      "model_module": "@jupyter-widgets/controls",
      "model_module_version": "2.0.0",
      "model_name": "ToggleButtonStyleModel",
      "state": {
       "description_width": "",
       "font_family": null,
       "font_size": null,
       "font_style": null,
       "font_variant": null,
       "font_weight": null,
       "text_color": null,
       "text_decoration": null
      }
     },
     "f6eabd9f90df43d7aae25360884cafd5": {
      "model_module": "@jupyter-widgets/controls",
      "model_module_version": "2.0.0",
      "model_name": "ToggleButtonStyleModel",
      "state": {
       "description_width": "",
       "font_family": null,
       "font_size": null,
       "font_style": null,
       "font_variant": null,
       "font_weight": null,
       "text_color": null,
       "text_decoration": null
      }
     },
     "f70dd1ef0f5d4e939fbc524d35539d07": {
      "model_module": "@jupyter-widgets/base",
      "model_module_version": "2.0.0",
      "model_name": "LayoutModel",
      "state": {
       "height": "50px",
       "width": "374px"
      }
     },
     "f78001c0caaa465b86db30602ee58cda": {
      "model_module": "@jupyter-widgets/controls",
      "model_module_version": "2.0.0",
      "model_name": "ToggleButtonModel",
      "state": {
       "button_style": "success",
       "disabled": true,
       "layout": "IPY_MODEL_9aa0b8d99486437599924f0fdf1f9e8b",
       "style": "IPY_MODEL_67691161700f43c8848238a0144e0199",
       "tooltip": null
      }
     },
     "f78dff72ba924041b6674b2e2546a353": {
      "model_module": "@jupyter-widgets/controls",
      "model_module_version": "2.0.0",
      "model_name": "ToggleButtonStyleModel",
      "state": {
       "description_width": "",
       "font_family": null,
       "font_size": null,
       "font_style": null,
       "font_variant": null,
       "font_weight": null,
       "text_color": null,
       "text_decoration": null
      }
     },
     "f78f09c37af9478e88b3665fbd71fdd4": {
      "model_module": "@jupyter-widgets/controls",
      "model_module_version": "2.0.0",
      "model_name": "ToggleButtonStyleModel",
      "state": {
       "description_width": "",
       "font_family": null,
       "font_size": null,
       "font_style": null,
       "font_variant": null,
       "font_weight": null,
       "text_color": null,
       "text_decoration": null
      }
     },
     "f797326134074eaf8253b90f1ee72cc6": {
      "model_module": "@jupyter-widgets/controls",
      "model_module_version": "2.0.0",
      "model_name": "ToggleButtonModel",
      "state": {
       "button_style": "success",
       "disabled": true,
       "layout": "IPY_MODEL_cbb007f4b9644615acf96a9592fe5eea",
       "style": "IPY_MODEL_2ec9c109b1354774b29b264d1cacb49c",
       "tooltip": null
      }
     },
     "f797867d15da46e39acbee9b8eb18d86": {
      "model_module": "@jupyter-widgets/controls",
      "model_module_version": "2.0.0",
      "model_name": "ToggleButtonStyleModel",
      "state": {
       "description_width": "",
       "font_family": null,
       "font_size": null,
       "font_style": null,
       "font_variant": null,
       "font_weight": null,
       "text_color": null,
       "text_decoration": null
      }
     },
     "f7c3998c402c4c3299900f1de576425f": {
      "model_module": "@jupyter-widgets/controls",
      "model_module_version": "2.0.0",
      "model_name": "ToggleButtonModel",
      "state": {
       "button_style": "info",
       "disabled": true,
       "layout": "IPY_MODEL_9c61bb957f7c4a25976dcbd6e83798b8",
       "style": "IPY_MODEL_698069da321148ac81cea4115335f0fa",
       "tooltip": null
      }
     },
     "f804fd1ec45740ddbd6a28852c9e80be": {
      "model_module": "@jupyter-widgets/controls",
      "model_module_version": "2.0.0",
      "model_name": "ToggleButtonStyleModel",
      "state": {
       "description_width": "",
       "font_family": null,
       "font_size": null,
       "font_style": null,
       "font_variant": null,
       "font_weight": null,
       "text_color": null,
       "text_decoration": null
      }
     },
     "f80c9e64b8264c2d84d043cb33b1fd49": {
      "model_module": "@jupyter-widgets/controls",
      "model_module_version": "2.0.0",
      "model_name": "ToggleButtonModel",
      "state": {
       "button_style": "success",
       "disabled": true,
       "layout": "IPY_MODEL_9aa0b8d99486437599924f0fdf1f9e8b",
       "style": "IPY_MODEL_f479cf09c37d43a792b43c627131130c",
       "tooltip": null
      }
     },
     "f811806d57dd437eaa9aaaee5f37cc36": {
      "model_module": "@jupyter-widgets/controls",
      "model_module_version": "2.0.0",
      "model_name": "ToggleButtonStyleModel",
      "state": {
       "description_width": "",
       "font_family": null,
       "font_size": null,
       "font_style": null,
       "font_variant": null,
       "font_weight": null,
       "text_color": null,
       "text_decoration": null
      }
     },
     "f81d54eec29a48e1990164026f466d28": {
      "model_module": "@jupyter-widgets/controls",
      "model_module_version": "2.0.0",
      "model_name": "ToggleButtonModel",
      "state": {
       "button_style": "info",
       "disabled": true,
       "layout": "IPY_MODEL_9c61bb957f7c4a25976dcbd6e83798b8",
       "style": "IPY_MODEL_c908da19a729482688f301d20649d9ef",
       "tooltip": null
      }
     },
     "f82297d58f1a42b2a94ab5f9dedf188a": {
      "model_module": "@jupyter-widgets/controls",
      "model_module_version": "2.0.0",
      "model_name": "ToggleButtonModel",
      "state": {
       "description": "▲",
       "layout": "IPY_MODEL_8d696421995345d1b22a15e63c05a8e0",
       "style": "IPY_MODEL_b606f898084545efa0f15a8023ac7e57",
       "tooltip": null
      }
     },
     "f824edf896df4211a7f194729f7b143d": {
      "model_module": "@jupyter-widgets/controls",
      "model_module_version": "2.0.0",
      "model_name": "ToggleButtonModel",
      "state": {
       "button_style": "success",
       "disabled": true,
       "layout": "IPY_MODEL_3831200db05b4a7986a2bfa009c0e327",
       "style": "IPY_MODEL_0763252bee5c474f970c0089bf576b76",
       "tooltip": null
      }
     },
     "f83816eb917b4e9c98a2accd232b8c05": {
      "model_module": "@jupyter-widgets/controls",
      "model_module_version": "2.0.0",
      "model_name": "ToggleButtonStyleModel",
      "state": {
       "description_width": "",
       "font_family": null,
       "font_size": null,
       "font_style": null,
       "font_variant": null,
       "font_weight": null,
       "text_color": null,
       "text_decoration": null
      }
     },
     "f874368dd7c14ded903482c20cccce78": {
      "model_module": "@jupyter-widgets/controls",
      "model_module_version": "2.0.0",
      "model_name": "ToggleButtonStyleModel",
      "state": {
       "description_width": "",
       "font_family": null,
       "font_size": null,
       "font_style": null,
       "font_variant": null,
       "font_weight": null,
       "text_color": null,
       "text_decoration": null
      }
     },
     "f88eefbc6f8e448cb96b07e886ae690d": {
      "model_module": "@jupyter-widgets/controls",
      "model_module_version": "2.0.0",
      "model_name": "ToggleButtonStyleModel",
      "state": {
       "description_width": "",
       "font_family": null,
       "font_size": null,
       "font_style": null,
       "font_variant": null,
       "font_weight": null,
       "text_color": null,
       "text_decoration": null
      }
     },
     "f8a85c2a229c4613981484c102706335": {
      "model_module": "@jupyter-widgets/controls",
      "model_module_version": "2.0.0",
      "model_name": "ToggleButtonModel",
      "state": {
       "button_style": "success",
       "disabled": true,
       "layout": "IPY_MODEL_1984f7edee3c4b9ebcaaf4fd4d1bd535",
       "style": "IPY_MODEL_f272882edd104e55881b66b4f899968a",
       "tooltip": null
      }
     },
     "f8cd8207f0a54cbdb34893e5cce76cb8": {
      "model_module": "@jupyter-widgets/controls",
      "model_module_version": "2.0.0",
      "model_name": "ToggleButtonStyleModel",
      "state": {
       "description_width": "",
       "font_family": null,
       "font_size": null,
       "font_style": null,
       "font_variant": null,
       "font_weight": null,
       "text_color": null,
       "text_decoration": null
      }
     },
     "f8e9e9adbfbb480c9af1cb872f9d1efb": {
      "model_module": "@jupyter-widgets/controls",
      "model_module_version": "2.0.0",
      "model_name": "ToggleButtonModel",
      "state": {
       "button_style": "success",
       "disabled": true,
       "layout": "IPY_MODEL_2d2b7c3a0e0b4e2ea0528a045ba78de4",
       "style": "IPY_MODEL_56c92b034b874876b0fdc1df8934104c",
       "tooltip": null
      }
     },
     "f8f47e80d26c4145b59ffee87600ff4c": {
      "model_module": "@jupyter-widgets/controls",
      "model_module_version": "2.0.0",
      "model_name": "ToggleButtonModel",
      "state": {
       "button_style": "success",
       "disabled": true,
       "layout": "IPY_MODEL_8d696421995345d1b22a15e63c05a8e0",
       "style": "IPY_MODEL_2780be73440345ef8538a52540f303e9",
       "tooltip": null
      }
     },
     "f96d546af7234375ae1620d92224c713": {
      "model_module": "@jupyter-widgets/controls",
      "model_module_version": "2.0.0",
      "model_name": "ToggleButtonStyleModel",
      "state": {
       "description_width": "",
       "font_family": null,
       "font_size": null,
       "font_style": null,
       "font_variant": null,
       "font_weight": null,
       "text_color": null,
       "text_decoration": null
      }
     },
     "f9df4e220ebc4a7d85b8c2b1193eddaa": {
      "model_module": "@jupyter-widgets/controls",
      "model_module_version": "2.0.0",
      "model_name": "ToggleButtonStyleModel",
      "state": {
       "description_width": "",
       "font_family": null,
       "font_size": null,
       "font_style": null,
       "font_variant": null,
       "font_weight": null,
       "text_color": null,
       "text_decoration": null
      }
     },
     "f9e88f7bd32c4d06aadde0ae3e64775b": {
      "model_module": "@jupyter-widgets/controls",
      "model_module_version": "2.0.0",
      "model_name": "ToggleButtonModel",
      "state": {
       "description": "◀︎",
       "layout": "IPY_MODEL_cbb007f4b9644615acf96a9592fe5eea",
       "style": "IPY_MODEL_f804fd1ec45740ddbd6a28852c9e80be",
       "tooltip": null
      }
     },
     "fad07c5718f04e90b48d41b2d6c19530": {
      "model_module": "@jupyter-widgets/base",
      "model_module_version": "2.0.0",
      "model_name": "LayoutModel",
      "state": {}
     },
     "fb09a48e8c344dcea89bb2c24ef820c5": {
      "model_module": "@jupyter-widgets/controls",
      "model_module_version": "2.0.0",
      "model_name": "ToggleButtonModel",
      "state": {
       "button_style": "success",
       "disabled": true,
       "layout": "IPY_MODEL_58452c5b934e45b59b40dbda05b4d47c",
       "style": "IPY_MODEL_2dd3d4c08a4f42d380d76c2c8b10ee05",
       "tooltip": null
      }
     },
     "fb0a7754353e43f3b925282a9914eb4c": {
      "model_module": "@jupyter-widgets/controls",
      "model_module_version": "2.0.0",
      "model_name": "ToggleButtonModel",
      "state": {
       "button_style": "success",
       "disabled": true,
       "layout": "IPY_MODEL_cbb007f4b9644615acf96a9592fe5eea",
       "style": "IPY_MODEL_bbffcd56cac44adca3803014ffc7809e",
       "tooltip": null
      }
     },
     "fb21381bb46a4fd8bf1d58e892fe8c0f": {
      "model_module": "@jupyter-widgets/controls",
      "model_module_version": "2.0.0",
      "model_name": "ToggleButtonStyleModel",
      "state": {
       "description_width": "",
       "font_family": null,
       "font_size": null,
       "font_style": null,
       "font_variant": null,
       "font_weight": null,
       "text_color": null,
       "text_decoration": null
      }
     },
     "fb2d21f9d5db475fa6bfd555f8bd0339": {
      "model_module": "@jupyter-widgets/controls",
      "model_module_version": "2.0.0",
      "model_name": "ToggleButtonStyleModel",
      "state": {
       "description_width": "",
       "font_family": null,
       "font_size": null,
       "font_style": null,
       "font_variant": null,
       "font_weight": null,
       "text_color": null,
       "text_decoration": null
      }
     },
     "fb9baa4b82d947f29357173f12b35ad3": {
      "model_module": "@jupyter-widgets/controls",
      "model_module_version": "2.0.0",
      "model_name": "ToggleButtonModel",
      "state": {
       "button_style": "success",
       "disabled": true,
       "layout": "IPY_MODEL_3831200db05b4a7986a2bfa009c0e327",
       "style": "IPY_MODEL_d606d797dbc84b6889ecf2404c93c127",
       "tooltip": null
      }
     },
     "fba15836b9574ad4b06c7063c3d851d7": {
      "model_module": "@jupyter-widgets/controls",
      "model_module_version": "2.0.0",
      "model_name": "HTMLStyleModel",
      "state": {
       "description_width": "",
       "font_size": null,
       "text_color": null
      }
     },
     "fbb2cac477da4b1eb55e785bbf36d551": {
      "model_module": "@jupyter-widgets/controls",
      "model_module_version": "2.0.0",
      "model_name": "HBoxModel",
      "state": {
       "children": [
        "IPY_MODEL_87fdb70c8bf248bfa2c49113369ffd6c",
        "IPY_MODEL_02f97a3f2ca549a9b6365b45bdf733a7",
        "IPY_MODEL_d9ca33434b9348238caf73eadee426e3",
        "IPY_MODEL_257892cee5e74a1b8d6494629c395ed7",
        "IPY_MODEL_30f81428726a436685e251554bcccefa",
        "IPY_MODEL_3a3a28025fcc460997c066f130fe029a",
        "IPY_MODEL_6cfbd6b02acb481faa30075b52f666a3",
        "IPY_MODEL_3b43ff4564a3475c9f23b77e2f6d5257",
        "IPY_MODEL_8b99b7da0f35438cb60ce715c51ba0fe",
        "IPY_MODEL_b0c45804905e4dd6aad52e6cc7350412",
        "IPY_MODEL_694705ee210642099046c7cb86810a6f",
        "IPY_MODEL_b0c45804905e4dd6aad52e6cc7350412",
        "IPY_MODEL_8c715d129aac4c6882787fbd66e41d89",
        "IPY_MODEL_b0c45804905e4dd6aad52e6cc7350412",
        "IPY_MODEL_7ef5997044dd40eda201940ff7541353"
       ],
       "layout": "IPY_MODEL_5519445a1c0d47279d45633918682211"
      }
     },
     "fc1f6eea2955471e9ceda72360f8f400": {
      "model_module": "@jupyter-widgets/base",
      "model_module_version": "2.0.0",
      "model_name": "LayoutModel",
      "state": {}
     },
     "fc3df57c86cf443fa4c41f882d98fa5e": {
      "model_module": "@jupyter-widgets/controls",
      "model_module_version": "2.0.0",
      "model_name": "ToggleButtonModel",
      "state": {
       "description": "◀︎",
       "layout": "IPY_MODEL_9c61bb957f7c4a25976dcbd6e83798b8",
       "style": "IPY_MODEL_e059f23677c74ad5b9cd7d318051124e",
       "tooltip": null
      }
     },
     "fc6b06d905144dce88cd10467c4da358": {
      "model_module": "@jupyter-widgets/controls",
      "model_module_version": "2.0.0",
      "model_name": "ToggleButtonModel",
      "state": {
       "description": "A",
       "layout": "IPY_MODEL_9c61bb957f7c4a25976dcbd6e83798b8",
       "style": "IPY_MODEL_34f9bfd458d74757b74a5da754d25e5c",
       "tooltip": null
      }
     },
     "fc7e295de0974b9193d46374eca6eac3": {
      "model_module": "@jupyter-widgets/base",
      "model_module_version": "2.0.0",
      "model_name": "LayoutModel",
      "state": {}
     },
     "fca7431f5d1940bab13845e45dd4ca14": {
      "model_module": "@jupyter-widgets/controls",
      "model_module_version": "2.0.0",
      "model_name": "ToggleButtonModel",
      "state": {
       "button_style": "success",
       "disabled": true,
       "layout": "IPY_MODEL_1984f7edee3c4b9ebcaaf4fd4d1bd535",
       "style": "IPY_MODEL_e216524be70948e593a565802616192f",
       "tooltip": null
      }
     },
     "fcf18bf96e7642a28b5fd599a8a0394c": {
      "model_module": "@jupyter-widgets/controls",
      "model_module_version": "2.0.0",
      "model_name": "ToggleButtonModel",
      "state": {
       "button_style": "success",
       "disabled": true,
       "layout": "IPY_MODEL_cbb007f4b9644615acf96a9592fe5eea",
       "style": "IPY_MODEL_c478adcd2a0544fba4a2e295358b6b83",
       "tooltip": null
      }
     },
     "fd1dfb0107cc472a9b5b5c41bc268018": {
      "model_module": "@jupyter-widgets/controls",
      "model_module_version": "2.0.0",
      "model_name": "ToggleButtonModel",
      "state": {
       "button_style": "success",
       "disabled": true,
       "layout": "IPY_MODEL_58452c5b934e45b59b40dbda05b4d47c",
       "style": "IPY_MODEL_07a1bc3b057e40298c0fda9ef26ecf66",
       "tooltip": null
      }
     },
     "fd8a8bda4fe44f19a8b82f4f7a8290c9": {
      "model_module": "@jupyter-widgets/controls",
      "model_module_version": "2.0.0",
      "model_name": "ToggleButtonStyleModel",
      "state": {
       "description_width": "",
       "font_family": null,
       "font_size": null,
       "font_style": null,
       "font_variant": null,
       "font_weight": null,
       "text_color": null,
       "text_decoration": null
      }
     },
     "fddfd52b02b940e1aae3ad567a994b3e": {
      "model_module": "@jupyter-widgets/controls",
      "model_module_version": "2.0.0",
      "model_name": "ToggleButtonModel",
      "state": {
       "button_style": "success",
       "disabled": true,
       "layout": "IPY_MODEL_9aa0b8d99486437599924f0fdf1f9e8b",
       "style": "IPY_MODEL_08356b335ebb437e9e599bb9c140c4a8",
       "tooltip": null
      }
     },
     "fe4aea0f20be4fb4bc7721abd86c6aec": {
      "model_module": "@jupyter-widgets/controls",
      "model_module_version": "2.0.0",
      "model_name": "ToggleButtonStyleModel",
      "state": {
       "description_width": "",
       "font_family": null,
       "font_size": null,
       "font_style": null,
       "font_variant": null,
       "font_weight": null,
       "text_color": null,
       "text_decoration": null
      }
     },
     "fe9454c772be4da6b5249229d91217e1": {
      "model_module": "@jupyter-widgets/controls",
      "model_module_version": "2.0.0",
      "model_name": "ToggleButtonStyleModel",
      "state": {
       "description_width": "",
       "font_family": null,
       "font_size": null,
       "font_style": null,
       "font_variant": null,
       "font_weight": null,
       "text_color": null,
       "text_decoration": null
      }
     },
     "fed400f9d53a4081a6cc279c5d57310e": {
      "model_module": "@jupyter-widgets/controls",
      "model_module_version": "2.0.0",
      "model_name": "ToggleButtonModel",
      "state": {
       "button_style": "success",
       "disabled": true,
       "layout": "IPY_MODEL_3831200db05b4a7986a2bfa009c0e327",
       "style": "IPY_MODEL_2179de3c7b204ef3a8804de48797070b",
       "tooltip": null
      }
     },
     "fee75b71397847238c6da9e712aa47c3": {
      "model_module": "@jupyter-widgets/controls",
      "model_module_version": "2.0.0",
      "model_name": "ToggleButtonModel",
      "state": {
       "button_style": "info",
       "disabled": true,
       "layout": "IPY_MODEL_9c61bb957f7c4a25976dcbd6e83798b8",
       "style": "IPY_MODEL_7a867935924a4a2f869cbb5753c63379",
       "tooltip": null
      }
     },
     "ff4dfa8d0d83410d8ae3730f2cc33aa5": {
      "model_module": "@jupyter-widgets/controls",
      "model_module_version": "2.0.0",
      "model_name": "ToggleButtonStyleModel",
      "state": {
       "description_width": "",
       "font_family": null,
       "font_size": null,
       "font_style": null,
       "font_variant": null,
       "font_weight": null,
       "text_color": null,
       "text_decoration": null
      }
     },
     "ffa485a0f7eb4c1a8ac0bb7d5320833e": {
      "model_module": "@jupyter-widgets/controls",
      "model_module_version": "2.0.0",
      "model_name": "ToggleButtonStyleModel",
      "state": {
       "description_width": "",
       "font_family": null,
       "font_size": null,
       "font_style": null,
       "font_variant": null,
       "font_weight": null,
       "text_color": null,
       "text_decoration": null
      }
     },
     "ffa5e7a9dfb048488cfc3797c880d6b4": {
      "model_module": "@jupyter-widgets/controls",
      "model_module_version": "2.0.0",
      "model_name": "ToggleButtonStyleModel",
      "state": {
       "description_width": "",
       "font_family": null,
       "font_size": null,
       "font_style": null,
       "font_variant": null,
       "font_weight": null,
       "text_color": null,
       "text_decoration": null
      }
     },
     "ffb3d20029e84cfcb2ebf232a3be7479": {
      "model_module": "@jupyter-widgets/controls",
      "model_module_version": "2.0.0",
      "model_name": "ToggleButtonStyleModel",
      "state": {
       "description_width": "",
       "font_family": null,
       "font_size": null,
       "font_style": null,
       "font_variant": null,
       "font_weight": null,
       "text_color": null,
       "text_decoration": null
      }
     }
    },
    "version_major": 2,
    "version_minor": 0
   }
  }
 },
 "nbformat": 4,
 "nbformat_minor": 5
}
